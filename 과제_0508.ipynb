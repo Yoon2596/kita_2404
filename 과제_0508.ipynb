{
  "nbformat": 4,
  "nbformat_minor": 0,
  "metadata": {
    "colab": {
      "provenance": [],
      "authorship_tag": "ABX9TyM0muqEgoGmRiS88/3Sm3XV",
      "include_colab_link": true
    },
    "kernelspec": {
      "name": "python3",
      "display_name": "Python 3"
    },
    "language_info": {
      "name": "python"
    }
  },
  "cells": [
    {
      "cell_type": "markdown",
      "metadata": {
        "id": "view-in-github",
        "colab_type": "text"
      },
      "source": [
        "<a href=\"https://colab.research.google.com/github/Yoon2596/kita_2404/blob/main/%EA%B3%BC%EC%A0%9C_0508.ipynb\" target=\"_parent\"><img src=\"https://colab.research.google.com/assets/colab-badge.svg\" alt=\"Open In Colab\"/></a>"
      ]
    },
    {
      "cell_type": "code",
      "execution_count": 7,
      "metadata": {
        "colab": {
          "base_uri": "https://localhost:8080/"
        },
        "id": "j39i0qeFDEs1",
        "outputId": "80b72504-eb90-41c2-92fd-e8f48a765d18"
      },
      "outputs": [
        {
          "output_type": "stream",
          "name": "stdout",
          "text": [
            "이름을 영어로 입력하세요 : hong gil dong\n",
            "당신의 이름은 Hong Gil Dong입니다\n"
          ]
        }
      ],
      "source": [
        "# Task1_0508. title() 함수를 사용하지 않고 동일한 결과를 출력하세요.\n",
        "\n",
        "#Q 영어이름을 적으면 앞에 글자를 대문자로 바꾸어 주는 프로그램\n",
        "# 단 중간에 한칸씩 띄어주어야함 ex)hong gil dong -> Hong Gil Dong\n",
        "wiyname = input('이름을 영어로 입력하세요 : ')\n",
        "# txt = wiyname.title()\n",
        "# print(f'당신의 이름은 {txt}입니다')\n",
        "cap_name = []\n",
        "for i in wiyname.split():\n",
        "    # print(i)\n",
        "    cap_name.append(i.capitalize())\n",
        "name = ' '.join(cap_name)\n",
        "print(f'당신의 이름은 {name}입니다')"
      ]
    },
    {
      "cell_type": "code",
      "source": [
        "# Task2_0507. join 함수를 이용해서 ['a','b','c']을 아래와 같이 출력하세요.\n",
        "\n",
        "# a::b::c\n",
        "\n",
        "list1 = ['a','b','c']\n",
        "result = '::'.join(list1)\n",
        "print(result)"
      ],
      "metadata": {
        "colab": {
          "base_uri": "https://localhost:8080/"
        },
        "id": "XEXzzPkmJhXy",
        "outputId": "7c206096-db22-46da-f84e-6cc3e80a0866"
      },
      "execution_count": 8,
      "outputs": [
        {
          "output_type": "stream",
          "name": "stdout",
          "text": [
            "a::b::c\n"
          ]
        }
      ]
    },
    {
      "cell_type": "code",
      "source": [
        "# Task3_0508. 다음을 수행하세요.\n",
        "# - 사용자로부터 문자열을 입력받습니다.\n",
        "# - 입력받은 문자열이 숫자로만 이루어져 있는지 확인합니다.\n",
        "# - 만약 숫자로만 이루어져 있다면, 그 숫자를 정수로 변환하여 100을 더한 결과를 출력합니다.\n",
        "# - 숫자가 아닌 문자가 포함되어 있다면, 사용자에게 숫자만 입력하라는 메시지를 출력합니다.\n",
        "# - 연산이 수행이 완료될 때까지 반복하고 수행이 완료되면 break 합니다.\n",
        "\n",
        "while True:\n",
        "    num = input('숫자를 입력해주세요 : ')\n",
        "    # num = '12341234'\n",
        "    if num.isdigit() == True:\n",
        "        f_num = int(num) + 100\n",
        "        print(f_num)\n",
        "        break\n",
        "    else:\n",
        "        print('숫자만 입력해주세요')\n"
      ],
      "metadata": {
        "colab": {
          "base_uri": "https://localhost:8080/"
        },
        "id": "f4SPeVjvOjOj",
        "outputId": "699625d0-14a8-4bc8-89df-8c16041951ff"
      },
      "execution_count": 40,
      "outputs": [
        {
          "output_type": "stream",
          "name": "stdout",
          "text": [
            "숫자를 입력해주세요 : asdrf3\n",
            "숫자만 입력해주세요\n",
            "숫자를 입력해주세요 : 324da\n",
            "숫자만 입력해주세요\n",
            "숫자를 입력해주세요 : 245\n",
            "345\n"
          ]
        }
      ]
    },
    {
      "cell_type": "code",
      "source": [
        "# Task4_0508. 문자와 숫자로만 구성된 아이디만 유효한 규칙을 만들려고 한다. 아래 사항을 참조하여 프로그램을 작성하세요.\n",
        "# 사용자로부터 문자열을 입력받습니다.\n",
        "# 입력받은 문자열이 알파벳과 숫자로만 이루어져 있는지 확인합니다.\n",
        "# 만약 조건을 만족한다면 \"유효한 아이디입니다\"라고 출력합니다.\n",
        "# 그렇지 않다면, \"아이디는 알파벳과 숫자만 포함할 수 있습니다\"라고 메시지를 출력합니다.\n",
        "# 계속 수행이 완료 될 때까지 반복\n",
        "\n",
        "while True:\n",
        "    id = input('알파벳과 숫자로 된 아이디를 입력해주세요 : ')\n",
        "    # id = 'reqr1243'\n",
        "    if id.isalnum() == True:\n",
        "        print(f'아이디 ({id})는 유효한 아이디입니다')\n",
        "        break\n",
        "    else:\n",
        "        print('아이디는 알파벳과 숫자만 포함할 수 있습니다')"
      ],
      "metadata": {
        "colab": {
          "base_uri": "https://localhost:8080/"
        },
        "id": "5xqhOO-GQFCo",
        "outputId": "bc7e66d8-6181-4e86-8206-763a2576e599"
      },
      "execution_count": 38,
      "outputs": [
        {
          "output_type": "stream",
          "name": "stdout",
          "text": [
            "알파벳과 숫자로 된 아이디를 입력해주세요 : 132!d\n",
            "아이디는 알파벳과 숫자만 포함할 수 있습니다\n",
            "알파벳과 숫자로 된 아이디를 입력해주세요 : df32;\n",
            "아이디는 알파벳과 숫자만 포함할 수 있습니다\n",
            "알파벳과 숫자로 된 아이디를 입력해주세요 : qwr0\n",
            "아이디 (qwr0)는 유효한 아이디입니다\n"
          ]
        }
      ]
    },
    {
      "cell_type": "code",
      "source": [
        "# Task5_0508. 코딩을 한줄로 작성해서 동일한 결과를 출력하세요.\n",
        "list1 = []\n",
        "for i in range(0,20,2):\n",
        "    list1.append(i*i)\n",
        "print(list1)\n",
        "\n",
        "print('')\n",
        "\n",
        "print([i*i for i in range(0, 20, 2)])"
      ],
      "metadata": {
        "colab": {
          "base_uri": "https://localhost:8080/"
        },
        "id": "p-6n4pvJUGeN",
        "outputId": "280c2f72-a96b-4511-a484-1f30d57fae09"
      },
      "execution_count": 33,
      "outputs": [
        {
          "output_type": "stream",
          "name": "stdout",
          "text": [
            "[0, 4, 16, 36, 64, 100, 144, 196, 256, 324]\n",
            "\n",
            "[0, 4, 16, 36, 64, 100, 144, 196, 256, 324]\n"
          ]
        }
      ]
    },
    {
      "cell_type": "code",
      "source": [
        "# Task6_0508. 유닉스 타임스탬프를 받아서 해당 시간을 datetime.datetime 객체로 변환하고, 그 결과를 출력하는 사용자 함수를 작성하여 임의의 타임스탬프를 입력하여 결과를 출력하세요.\n",
        "import time\n",
        "from datetime import datetime\n",
        "\n",
        "# t = time.time()\n",
        "# print(t, type(t))\n",
        "\n",
        "def convert_timestamp(unix):\n",
        "    d = datetime.fromtimestamp(unix)\n",
        "    # print(d, type(d))\n",
        "    # user_t = d.strftime('%Y-%m-%d %H:%M:%S')\n",
        "    return print(d, type(d))\n",
        "\n",
        "convert_timestamp(193052345)"
      ],
      "metadata": {
        "colab": {
          "base_uri": "https://localhost:8080/"
        },
        "id": "OmlWADdK5AzV",
        "outputId": "a04bf751-3cbd-4a69-d425-234b128af8de"
      },
      "execution_count": 5,
      "outputs": [
        {
          "output_type": "stream",
          "name": "stdout",
          "text": [
            "1976-02-13 09:39:05 <class 'datetime.datetime'>\n"
          ]
        }
      ]
    },
    {
      "cell_type": "code",
      "source": [
        "# Task7_0508. datetime 객체를 문자열로 변환하는 사용자 함수를 작성하여 datetime 객체를 \"YYYY-MM-DD HH:MM:SS\" 형식의 문자열로 변환하고 출력하세요.\n",
        "import time\n",
        "import datetime\n",
        "\n",
        "def today_datetimeToStr():\n",
        "    today = datetime.datetime.now()\n",
        "    str_t = today.strftime('%Y-%m-%d %H:%M:%S')\n",
        "    return print(str_t, type(str_t))\n",
        "\n",
        "today_datetimeToStr()"
      ],
      "metadata": {
        "colab": {
          "base_uri": "https://localhost:8080/"
        },
        "id": "1afcRYYM6GcR",
        "outputId": "0b83a17a-d26a-47db-a56a-ad8fb56b1531"
      },
      "execution_count": 56,
      "outputs": [
        {
          "output_type": "stream",
          "name": "stdout",
          "text": [
            "2024-05-08 07:39:49 <class 'str'>\n"
          ]
        }
      ]
    },
    {
      "cell_type": "code",
      "source": [
        "# Task8_0508. 올해 경과된 날짜수 계산하세요.\n",
        "import time\n",
        "# from datetime import datetime\n",
        "\n",
        "t = time.time()\n",
        "print(time.localtime(t))\n",
        "j = time.strftime('%j', time.localtime(t))\n",
        "print(f'{j}일 경과')"
      ],
      "metadata": {
        "colab": {
          "base_uri": "https://localhost:8080/"
        },
        "id": "voGPITGK9tTE",
        "outputId": "079a3b26-18ee-40e9-c39e-cd47aa287354"
      },
      "execution_count": 2,
      "outputs": [
        {
          "output_type": "stream",
          "name": "stdout",
          "text": [
            "time.struct_time(tm_year=2024, tm_mon=5, tm_mday=8, tm_hour=8, tm_min=16, tm_sec=21, tm_wday=2, tm_yday=129, tm_isdst=0)\n",
            "129일 경과\n"
          ]
        }
      ]
    },
    {
      "cell_type": "code",
      "source": [
        "# Task9_0508. 현재 요일을 \"2021-6-26 오늘은 토요일입니다.\"와 같은 형식으로 출력하세요.\n",
        "import time\n",
        "from datetime import datetime\n",
        "\n",
        "days = {'Mon':'월요일', 'Wed':'수요일'}\n",
        "\n",
        "# timestamp -> datetime -> str\n",
        "t = time.time()\n",
        "# print(t, type(t))\n",
        "d = datetime.fromtimestamp(t)\n",
        "# print(d, type(d))\n",
        "d = datetime.strftime(d, '%Y-%m-%d 오늘은 %A 입니다')\n",
        "\n",
        "print(d)\n"
      ],
      "metadata": {
        "colab": {
          "base_uri": "https://localhost:8080/"
        },
        "id": "YTol7NYJ9uJR",
        "outputId": "451a3174-56ce-42d8-c8cf-b9f0a452483b"
      },
      "execution_count": 14,
      "outputs": [
        {
          "output_type": "stream",
          "name": "stdout",
          "text": [
            "2024-05-08 오늘은 Wednesday 입니다\n"
          ]
        }
      ]
    },
    {
      "cell_type": "code",
      "source": [
        "# Task10_0508. 1에서 백만까지 더하는데 걸리는 프로그램 실행 시간을 밀리초(ms) 단위로 구하세요.(1ms=0.001초)\n",
        "\n",
        "import time\n",
        "import datetime\n",
        "\n",
        "total = 0\n",
        "t1 = time.time()\n",
        "\n",
        "print(t1, type(t1))\n",
        "\n",
        "for i in range(1, 1000000):\n",
        "    total += i\n",
        "\n",
        "t2 = time.time()\n",
        "print(t2, type(t2))\n",
        "\n",
        "result_t = t2 - t1\n",
        "print(f'{round(result_t*1000, 2)} m/s')"
      ],
      "metadata": {
        "colab": {
          "base_uri": "https://localhost:8080/"
        },
        "id": "23_7pPOd9t_4",
        "outputId": "1ac74e90-b853-4666-a0ea-09e07c4cb7de"
      },
      "execution_count": 1,
      "outputs": [
        {
          "output_type": "stream",
          "name": "stdout",
          "text": [
            "1715156152.6582842 <class 'float'>\n",
            "1715156152.9060178 <class 'float'>\n",
            "247.73 m/s\n"
          ]
        }
      ]
    },
    {
      "cell_type": "code",
      "source": [],
      "metadata": {
        "id": "3TkuEIaqQ5TD"
      },
      "execution_count": null,
      "outputs": []
    }
  ]
}