{
  "nbformat": 4,
  "nbformat_minor": 0,
  "metadata": {
    "colab": {
      "provenance": [],
      "authorship_tag": "ABX9TyPtO8dWKTs7NwA1iagOG7Eg",
      "include_colab_link": true
    },
    "kernelspec": {
      "name": "python3",
      "display_name": "Python 3"
    },
    "language_info": {
      "name": "python"
    }
  },
  "cells": [
    {
      "cell_type": "markdown",
      "metadata": {
        "id": "view-in-github",
        "colab_type": "text"
      },
      "source": [
        "<a href=\"https://colab.research.google.com/github/Yoon2596/kita_2404/blob/main/m3_%EB%B6%84%EC%84%9D_%EB%9D%BC%EC%9D%B4%EB%B8%8C%EB%9F%AC%EB%A6%AC/%EA%B3%BC%EC%A0%9C/%EA%B3%BC%EC%A0%9C_0610.ipynb\" target=\"_parent\"><img src=\"https://colab.research.google.com/assets/colab-badge.svg\" alt=\"Open In Colab\"/></a>"
      ]
    },
    {
      "cell_type": "markdown",
      "source": [
        "Task1_0610. 주어진 두 배열 arr1과 arr2에서, arr2의 요소가 10보다 큰 위치의 arr1 요소들을 선택하세요.\n",
        "\n",
        "arr1 = np.array([10, 20, 30, 40, 50])<br>\n",
        "arr2 = np.array([5, 15, 25, 10, 35])"
      ],
      "metadata": {
        "id": "Vc2w2gyt7RcA"
      }
    },
    {
      "cell_type": "code",
      "source": [
        "import numpy as np\n",
        "\n",
        "arr1 = np.array([10, 20, 30, 40, 50])\n",
        "arr2 = np.array([5, 15, 25, 10, 35])\n",
        "m1 = arr2 > 10\n",
        "print(m1)\n",
        "result = arr1[m1]\n",
        "print(result)"
      ],
      "metadata": {
        "colab": {
          "base_uri": "https://localhost:8080/"
        },
        "id": "tfV1b29rCDxB",
        "outputId": "c48ddd74-dc91-4181-c08c-3e71923be7d4"
      },
      "execution_count": 17,
      "outputs": [
        {
          "output_type": "stream",
          "name": "stdout",
          "text": [
            "[False  True  True False  True]\n",
            "[20 30 50]\n"
          ]
        }
      ]
    },
    {
      "cell_type": "markdown",
      "source": [
        "Task2_0610. 주어진 배열에서 짝수 인덱스에 있는 요소들을 선택하세요.\n",
        "\n",
        "arr = np.array([5, 10, 15, 20, 25, 30, 35, 40])"
      ],
      "metadata": {
        "id": "4-w4eYI37RZi"
      }
    },
    {
      "cell_type": "code",
      "source": [
        "arr = np.array([5, 10, 15, 20, 25, 30, 35, 40])\n",
        "result = arr[arr % 2 ==  0]\n",
        "print(result)"
      ],
      "metadata": {
        "colab": {
          "base_uri": "https://localhost:8080/"
        },
        "id": "h9LcgAg8CEIS",
        "outputId": "99b62444-987d-447a-bed9-c37c90003d97"
      },
      "execution_count": 9,
      "outputs": [
        {
          "output_type": "stream",
          "name": "stdout",
          "text": [
            "[10 20 30 40]\n"
          ]
        }
      ]
    },
    {
      "cell_type": "markdown",
      "source": [
        "Task3_0610. 주어진 배열에서 20보다 작은 요소들의 값을 0으로 변경하세요.\n",
        "\n",
        "arr = np.array([10, 25, 30, 15, 40, 5])"
      ],
      "metadata": {
        "id": "VEl7QpH27RWi"
      }
    },
    {
      "cell_type": "code",
      "execution_count": 11,
      "metadata": {
        "colab": {
          "base_uri": "https://localhost:8080/"
        },
        "id": "3Va5iKWY7OPo",
        "outputId": "95c71825-dfe3-4b91-ea24-bbcaa9500eff"
      },
      "outputs": [
        {
          "output_type": "stream",
          "name": "stdout",
          "text": [
            "[ 0 25 30  0 40  0]\n"
          ]
        }
      ],
      "source": [
        "arr = np.array([10, 25, 30, 15, 40, 5])\n",
        "result = np.where(arr < 20, 0, arr)\n",
        "print(result)"
      ]
    }
  ]
}