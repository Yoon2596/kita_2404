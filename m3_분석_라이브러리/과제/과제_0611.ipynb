{
  "nbformat": 4,
  "nbformat_minor": 0,
  "metadata": {
    "colab": {
      "provenance": [],
      "authorship_tag": "ABX9TyNQeZ6aUX/z8do7eWF0CoPi",
      "include_colab_link": true
    },
    "kernelspec": {
      "name": "python3",
      "display_name": "Python 3"
    },
    "language_info": {
      "name": "python"
    }
  },
  "cells": [
    {
      "cell_type": "markdown",
      "metadata": {
        "id": "view-in-github",
        "colab_type": "text"
      },
      "source": [
        "<a href=\"https://colab.research.google.com/github/Yoon2596/kita_2404/blob/main/m3_%EB%B6%84%EC%84%9D_%EB%9D%BC%EC%9D%B4%EB%B8%8C%EB%9F%AC%EB%A6%AC/%EA%B3%BC%EC%A0%9C/%EA%B3%BC%EC%A0%9C_0611.ipynb\" target=\"_parent\"><img src=\"https://colab.research.google.com/assets/colab-badge.svg\" alt=\"Open In Colab\"/></a>"
      ]
    },
    {
      "cell_type": "markdown",
      "source": [
        "Task1_0611. 주어진 대각 행렬의 역행렬을 구하고, 역행렬이 맞는지 확인하세요.\n",
        "\n",
        "D = np.diag([1, 2, 3])"
      ],
      "metadata": {
        "id": "m-rfa_utsH--"
      }
    },
    {
      "cell_type": "code",
      "execution_count": 2,
      "metadata": {
        "colab": {
          "base_uri": "https://localhost:8080/"
        },
        "id": "6nO_Dx05sDZN",
        "outputId": "4387460e-e519-46e2-be83-991000b71e78"
      },
      "outputs": [
        {
          "output_type": "stream",
          "name": "stdout",
          "text": [
            "[[1 0 0]\n",
            " [0 2 0]\n",
            " [0 0 3]] \n",
            "\n",
            "[[1.         0.         0.        ]\n",
            " [0.         0.5        0.        ]\n",
            " [0.         0.         0.33333333]] \n",
            "\n",
            "[[1. 0. 0.]\n",
            " [0. 1. 0.]\n",
            " [0. 0. 1.]]\n"
          ]
        }
      ],
      "source": [
        "import numpy as np\n",
        "D = np.diag([1, 2, 3])\n",
        "print(D, '\\n')\n",
        "inverse_D = np.linalg.inv(D)\n",
        "print(inverse_D, '\\n')\n",
        "\n",
        "check_D = np.dot(D, inverse_D)\n",
        "print(check_D)  # 단일행렬로 역행렬 확인"
      ]
    },
    {
      "cell_type": "markdown",
      "source": [
        "Task2_0611. 임의의 상삼각 행렬을 생성하고, 그 행렬로 부터 하삼각 행렬을 구하여 출력하세요."
      ],
      "metadata": {
        "id": "1hBSA-6YsI6p"
      }
    },
    {
      "cell_type": "code",
      "source": [
        "t2 = np.random.randint(1, 9, size=(4,4))\n",
        "print(t2, '\\n')\n",
        "\n",
        "upper_t2 = np.triu(t2)\n",
        "lower_ct2 = np.tril(t2)\n",
        "print(upper_t2, '\\n')\n",
        "\n",
        "lower_t2  = upper_t2.T\n",
        "print(lower_t2, '\\n')\n",
        "print(lower_ct2)"
      ],
      "metadata": {
        "colab": {
          "base_uri": "https://localhost:8080/"
        },
        "id": "1IklXQMeIYsz",
        "outputId": "570dda36-2a8e-427d-8634-c5977ba9fc02"
      },
      "execution_count": 7,
      "outputs": [
        {
          "output_type": "stream",
          "name": "stdout",
          "text": [
            "[[2 1 5 5]\n",
            " [1 2 2 6]\n",
            " [3 7 8 8]\n",
            " [2 2 7 4]] \n",
            "\n",
            "[[2 1 5 5]\n",
            " [0 2 2 6]\n",
            " [0 0 8 8]\n",
            " [0 0 0 4]] \n",
            "\n",
            "[[2 0 0 0]\n",
            " [1 2 0 0]\n",
            " [5 2 8 0]\n",
            " [5 6 8 4]] \n",
            "\n",
            "[[2 0 0 0]\n",
            " [1 2 0 0]\n",
            " [3 7 8 0]\n",
            " [2 2 7 4]]\n"
          ]
        }
      ]
    },
    {
      "cell_type": "markdown",
      "source": [
        "Task3_0611. 주어진 행렬의 역행렬을 구하고, 역행렬이 맞는지 확인하세요.\n",
        "\n",
        "A = np.array([[4, 7], [2, 6]])"
      ],
      "metadata": {
        "id": "fEzzJNxpsJir"
      }
    },
    {
      "cell_type": "code",
      "source": [
        "A = np.array([[4, 7], [2, 6]])\n",
        "print(A, '\\n')\n",
        "\n",
        "inverse_A = np.linalg.inv(A)\n",
        "print(inverse_A, '\\n')\n",
        "\n",
        "check_A = A @ inverse_A\n",
        "print(check_A, '\\n')\n",
        "\n",
        "# 단위 행렬\n",
        "I = np.eye(2)\n",
        "\n",
        "# 단위행렬로 같은지 확인\n",
        "print(np.allclose(check_A, I))"
      ],
      "metadata": {
        "colab": {
          "base_uri": "https://localhost:8080/"
        },
        "id": "EaSfOLSv-glN",
        "outputId": "773d5d90-a3d4-42ee-ecf0-d3dd7c82e1e0"
      },
      "execution_count": 10,
      "outputs": [
        {
          "output_type": "stream",
          "name": "stdout",
          "text": [
            "[[4 7]\n",
            " [2 6]] \n",
            "\n",
            "[[ 0.6 -0.7]\n",
            " [-0.2  0.4]] \n",
            "\n",
            "[[ 1.00000000e+00 -1.11022302e-16]\n",
            " [ 1.11022302e-16  1.00000000e+00]] \n",
            "\n",
            "True\n"
          ]
        }
      ]
    },
    {
      "cell_type": "markdown",
      "source": [
        "Task4_0611. 주어진 데이터 포인트와 모델 파라미터를 사용하여 선형 회귀 모델의 예측값을 계산하세요.\n",
        "\n",
        "X = np.array([1, 2, 3])\n",
        "\n",
        "- 1단계 : 주어진 입력 데이터 포인트 X와 모델 파라미터 θ를 정의.\n",
        "- 2단계 : 행렬 곱을 사용하여 예측값 y를 계산."
      ],
      "metadata": {
        "id": "5Yh47PYQ-HHL"
      }
    },
    {
      "cell_type": "code",
      "source": [
        "X = np.array([1, 2, 3])\n",
        "print(X, '\\n')\n",
        "theta = 32\n",
        "# np.dot(X, Y) = theta\n",
        "# Y1 + 2Y2 + 3Y3 = 32\n",
        "# 임의의 해 4, 5, 6 = 4 + 10 + 18 = 32\n",
        "# 임의의 해 7, 8, 3 = 7 + 16 + 9 = 32\n",
        "# 해당 해 확인\n",
        "Y1 = np.array([4, 5, 6])\n",
        "Y2 = np.array([7, 8, 3])\n",
        "\n",
        "check_t1= np.dot(X, Y1)\n",
        "check_t2= np.dot(X, Y2)\n",
        "print(check_t1) #값이 같으므로 Y 벡터 확인\n",
        "print(check_t2) #값이 같으므로 Y 벡터 확인"
      ],
      "metadata": {
        "colab": {
          "base_uri": "https://localhost:8080/"
        },
        "id": "eVuArKBR-dRb",
        "outputId": "792e3f9c-15b7-4cb8-98be-69438d235c99"
      },
      "execution_count": null,
      "outputs": [
        {
          "output_type": "stream",
          "name": "stdout",
          "text": [
            "[1 2 3] \n",
            "\n",
            "32\n",
            "32\n"
          ]
        }
      ]
    },
    {
      "cell_type": "code",
      "source": [
        "# 강사님 버전 문제4\n",
        "\n",
        "# 입력 데이터 포인트 (1, x1, x2)\n",
        "X = np.array([1, 2, 3])\n",
        "\n",
        "# 모델 파라미터 (bias, w1, w2)\n",
        "theta = np.array([0.5, 1.5, -2])\n",
        "\n",
        "# 선형 회귀 모델의 예측값 계산\n",
        "y_pred = np.dot(X, theta)\n",
        "\n",
        "print('Input Data Point X : ', X)\n",
        "print('Model Parameters theta :', theta)\n",
        "print('Predicted Value y :', y_pred)"
      ],
      "metadata": {
        "colab": {
          "base_uri": "https://localhost:8080/"
        },
        "id": "S7-f77qH4xPt",
        "outputId": "1a4ea42a-9406-43cd-e2ce-1479870453fd"
      },
      "execution_count": 11,
      "outputs": [
        {
          "output_type": "stream",
          "name": "stdout",
          "text": [
            "Input Data Point X :  [1 2 3]\n",
            "Model Parameters theta : [ 0.5  1.5 -2. ]\n",
            "Predicted Value y : -2.5\n"
          ]
        }
      ]
    },
    {
      "cell_type": "markdown",
      "source": [
        "Task5_0611. 주어진 입력 벡터와 가중치 행렬을 사용하여 신경망의 단일 계층 출력을 계산하세요.\n",
        "\n",
        "X = np.array([0.5, 1.0, -1.5])\n",
        "\n",
        "- 1단계: 입력 벡터 X와 가중치 행렬 W를 정의.\n",
        "- 2단계: 행렬 곱을 사용하여 계층의 출력을 계산."
      ],
      "metadata": {
        "id": "HrB6WgzI-HDQ"
      }
    },
    {
      "cell_type": "code",
      "source": [
        "X = np.array([0.5, 1.0, -1.5])\n",
        "# W1 = np.array([0.01, 0.5, 0.7])\n",
        "# W2 = np.array([0.1, 0.5, 0.7])\n",
        "# W3 = np.array([0.6, 0.2, 0.01])\n",
        "\n",
        "# V = X @ W\n",
        "# V1 = np.matmul(X, W1)\n",
        "# V2 = np.matmul(X, W2)\n",
        "# V3 = np.matmul(X, W3)\n",
        "# print(V1)\n",
        "# print(V2)\n",
        "# print(V3)\n",
        "\n",
        "# 가중치 행렬 W 정의\n",
        "W = np.array([\n",
        "    [0.01, 0.5, 0.7],\n",
        "    [0.1, 0.5, 0.7],\n",
        "    [0.6, 0.2, 0.01]\n",
        "])\n",
        "# 계층의 출력 계산\n",
        "V = np.matmul(W, X)\n",
        "print(V)"
      ],
      "metadata": {
        "colab": {
          "base_uri": "https://localhost:8080/"
        },
        "id": "MTLdYe3k-dte",
        "outputId": "2f9ef46e-aca2-4a92-e58b-c29828d7d57b"
      },
      "execution_count": 15,
      "outputs": [
        {
          "output_type": "stream",
          "name": "stdout",
          "text": [
            "[-0.545 -0.5    0.485]\n"
          ]
        }
      ]
    },
    {
      "cell_type": "code",
      "source": [
        "# 강사님 버전 문제5\n",
        "# W는 가중치 행렬, X는 입력 벡터이고 일반적인 표기방법은 WX\n",
        "# 입력 백터 (x1, x2, x3)\n",
        "X = np.array([0.5, 1.0, -1.5])\n",
        "\n",
        "# 가중치 행렬 (각 행이 뉴런의 가중치를 나타냄)\n",
        "W = np.array([\n",
        "    [0.2, -0.3, 0.5],\n",
        "    [0.4, 0.1, -0.2],\n",
        "    [-0.5, 0.4, 0.3]\n",
        "])\n",
        "\n",
        "# 신경망의 단일 계층 출력 계산\n",
        "output = np.dot(W, X)\n",
        "\n",
        "print('Input Vector X : ', X)\n",
        "print('Weight Matrix W :\\n', W)\n",
        "print('Layer Output :\\n', output)"
      ],
      "metadata": {
        "colab": {
          "base_uri": "https://localhost:8080/"
        },
        "id": "hc3evIJK60xq",
        "outputId": "2f0e9b04-d325-4436-c799-c3dfdd5d91bd"
      },
      "execution_count": 14,
      "outputs": [
        {
          "output_type": "stream",
          "name": "stdout",
          "text": [
            "Input Vector X :  [ 0.5  1.  -1.5]\n",
            "Weight Matrix W :\n",
            " [[ 0.2 -0.3  0.5]\n",
            " [ 0.4  0.1 -0.2]\n",
            " [-0.5  0.4  0.3]]\n",
            "Layer Output :\n",
            " [ 1.25 -0.65 -0.4 ]\n"
          ]
        }
      ]
    },
    {
      "cell_type": "markdown",
      "source": [
        "Task6_0611. 주어진 입력 벡터에 대해 신경망의 활성화 함수(ReLU, 시그모이드)를 적용하여 출력을 계산하세요.\n",
        "\n",
        "X = np.array([1, -2, 3])\n",
        "\n",
        "- 1단계: 입력 벡터 X를 정의.\n",
        "- 2단계: 가중치 행렬 W와 편향 벡터 b를 정의.\n",
        "- 3단계: 활성화 함수(ReLU, 시그모이드)를 적용하여 출력을 계산\n",
        "활성화 함수 적용<br>\n",
        "output_relu = relu(Z)<br>\n",
        "output_sigmoid = sigmoid(Z)"
      ],
      "metadata": {
        "id": "M-EcvTKN-GqT"
      }
    },
    {
      "cell_type": "code",
      "source": [
        "X = np.array([1, -2, 3])\n",
        "# print(X, '\\n')\n",
        "\n",
        "def relu(x):\n",
        "    return np.maximum(0, x)\n",
        "\n",
        "\n",
        "def sigmoid(x):\n",
        "    return 1/(1+np.exp(-x))\n",
        "\n",
        "# 가중치 행렬 W 정의\n",
        "W = np.array([\n",
        "    [0.01, 0.5, 0.7],\n",
        "    [0.1, 0.5, 0.7],\n",
        "    [0.6, 0.2, 0.01]\n",
        "])\n",
        "\n",
        "b = .7\n",
        "\n",
        "Z = np.dot(X, W) + b\n",
        "\n",
        "\n",
        "\n",
        "output_relu = relu(Z)\n",
        "print(output_relu)\n",
        "output_sigmoid = sigmoid(Z)\n",
        "print(output_sigmoid)"
      ],
      "metadata": {
        "colab": {
          "base_uri": "https://localhost:8080/"
        },
        "id": "38VXaqic-GUH",
        "outputId": "420444c4-fa0f-4148-c948-1eaaf7955603"
      },
      "execution_count": null,
      "outputs": [
        {
          "output_type": "stream",
          "name": "stdout",
          "text": [
            "[2.31 0.8  0.03]\n",
            "[0.90970186 0.68997448 0.50749944]\n"
          ]
        }
      ]
    },
    {
      "cell_type": "code",
      "source": [
        "# 강사님 문제6\n",
        "\n",
        "# 활성화 함수 정의\n",
        "def relu(x):\n",
        "    return np.maximum(0, x)\n",
        "\n",
        "\n",
        "def sigmoid(x):\n",
        "    return 1/(1+np.exp(-x))\n",
        "\n",
        "# 입력 벡터 정의\n",
        "X = np.array([1, -2, 3])\n",
        "\n",
        "# 가중치 행렬과 편향 벡터 정의\n",
        "#(Weight Matrix W / Bias Vector b)\n",
        "W = np.array([\n",
        "    [0.2, -0.5, 0.3],\n",
        "    [0.4, 0.1, -0.2],\n",
        "    [-0.3, 0.4, 0.6]\n",
        "])\n",
        "\n",
        "b = np.array([0.1, -0.2, 0.3])\n",
        "\n",
        "# 신경망의 선형 변환 계산\n",
        "Z = np.dot(W, X) + b\n",
        "\n",
        "# 활성화 함수 적용\n",
        "output_relu = relu(Z)\n",
        "output_sigmoid = sigmoid(Z)\n",
        "\n",
        "\n",
        "print('Linear Transformation Z :', Z, '\\n')\n",
        "print(output_relu, '\\n')\n",
        "print(output_sigmoid)"
      ],
      "metadata": {
        "colab": {
          "base_uri": "https://localhost:8080/"
        },
        "id": "DsN4mmT1-OBR",
        "outputId": "c2553f0a-0c0f-4b7c-d611-3122d0ad6d2a"
      },
      "execution_count": 17,
      "outputs": [
        {
          "output_type": "stream",
          "name": "stdout",
          "text": [
            "Linear Transformation Z : [ 2.2 -0.6  1. ] \n",
            "\n",
            "[2.2 0.  1. ] \n",
            "\n",
            "[0.90024951 0.35434369 0.73105858]\n"
          ]
        }
      ]
    },
    {
      "cell_type": "markdown",
      "source": [
        "Task7_0611. 주어진 선형 방정식을 행렬 형태로 나타내고, 역행렬을 사용하여\n",
        "x와 y를 구하세요.\n",
        "\n",
        "$\\begin{cases}\n",
        "3x + 4y = 10 \\\\\n",
        "2x + y = 5\n",
        "\\end{cases}$\n",
        "\n",
        "단계:\n",
        "1. 계수 행렬 A와 결과 벡터 b를 정의.\n",
        "2. 행렬 A의 역행렬을 구한다.\n",
        "3. 역행렬을 사용하여 변수 x를 구한다."
      ],
      "metadata": {
        "id": "lcQNhQD5GXYl"
      }
    },
    {
      "cell_type": "code",
      "source": [
        "from sympy import symbols, solve\n",
        "\n",
        "x, y = symbols('x, y')\n",
        "print(solve([\n",
        "    3*x + 4*y - 10,\n",
        "    2*x + y - 5\n",
        "]), '\\n')\n",
        "\n",
        "# [[3, 4], [2, 1]] dot [x, y] = [10, 5]\n",
        "# [x, y] = [10, 5] dot inv.[[3, 4], [2, 1]]\n",
        "A = np.array([[3, 4], [2, 1]])\n",
        "print(A, '\\n')\n",
        "inv_A = np.linalg.inv(A)\n",
        "B = np.array([10, 5])\n",
        "print(inv_A, '\\n')\n",
        "result = np.dot(inv_A, B)\n",
        "print(result)"
      ],
      "metadata": {
        "colab": {
          "base_uri": "https://localhost:8080/"
        },
        "id": "x7BDHJtGGYUH",
        "outputId": "eca44e65-447f-490c-c2b6-8380d6822010"
      },
      "execution_count": null,
      "outputs": [
        {
          "output_type": "stream",
          "name": "stdout",
          "text": [
            "{x: 2, y: 1} \n",
            "\n",
            "[[3 4]\n",
            " [2 1]] \n",
            "\n",
            "[[-0.2  0.8]\n",
            " [ 0.4 -0.6]] \n",
            "\n",
            "[2. 1.]\n"
          ]
        }
      ]
    },
    {
      "cell_type": "markdown",
      "source": [
        "[풀이]\n",
        "주어진 선형방정식을 행렬 형태로 나타내면 다음과 같다: \\\\\n",
        "$A\\mathbf{x} = \\mathbf{b}$ \\\\\n",
        "여기서 \\\\\n",
        "$A = \\begin{bmatrix}3 & 4 \\\\2 & 1\\end{bmatrix}$,\n",
        "\n",
        "$\\mathbf{x} = \\begin{bmatrix}x \\\\y\\end{bmatrix}$,\n",
        "\n",
        "$\\mathbf{b} = \\begin{bmatrix}10 \\\\5\\end{bmatrix}$\n",
        "\n",
        "$\\mathbf{x} = A^{-1} \\mathbf{b}$"
      ],
      "metadata": {
        "id": "yNy10TTSCxMx"
      }
    },
    {
      "cell_type": "code",
      "source": [
        "# 강사님 버전 문제7\n",
        "\n",
        "# 계수 행렬 A와 결과 벡터 B\n",
        "A = np.array([[3, 4], [2, 1]])\n",
        "B = np.array([10, 5])\n",
        "\n",
        "# 역 행렬 계산\n",
        "inv_A = np.linalg.inv(A)\n",
        "\n",
        "# 해 계산\n",
        "x = np.dot(inv_A, B)\n",
        "\n",
        "print('Coefficient Matrix A :\\n', A, '\\n')\n",
        "print('Result Vector B : ', B, '\\n')\n",
        "print('Inverse of A (inv_A) :\\n', inv_A, '\\n')\n",
        "print('Solution Vector x : ', x, '\\n')"
      ],
      "metadata": {
        "colab": {
          "base_uri": "https://localhost:8080/"
        },
        "id": "iV79z7HCCyCk",
        "outputId": "f918b98c-f127-4a90-bc88-63c731a76de9"
      },
      "execution_count": 21,
      "outputs": [
        {
          "output_type": "stream",
          "name": "stdout",
          "text": [
            "Coefficient Matrix A :\n",
            " [[3 4]\n",
            " [2 1]] \n",
            "\n",
            "Result Vector B :  [10  5] \n",
            "\n",
            "Inverse of A (inv_A) :\n",
            " [[-0.2  0.8]\n",
            " [ 0.4 -0.6]] \n",
            "\n",
            "Solution Vector x :  [2. 1.] \n",
            "\n"
          ]
        }
      ]
    },
    {
      "cell_type": "markdown",
      "source": [
        "Task8_0611. 주어진 2D 평면의 점을 특정 변환 행렬을 사용하여 변환한 후, 변환된 좌표를 원래 좌표로 되돌리세요.\n",
        "\n",
        "원래 점의 좌표 p와 변환 행렬 T 정의<br>\n",
        "p = np.array([1, 2])<br>\n",
        "T = np.array([[2, 0], [0, 3]])\n",
        "\n",
        "단계\n",
        "1. 원래 점의 좌표 p와 변환 행렬 T를 정의.\n",
        "2. 변환 행렬 T를 사용하여 새로운 좌표 p'를 계산.\n",
        "3. 변환 행렬 T의 역행렬을 사용하여 새로운 좌표 p에서 원래 좌표 p를 복원."
      ],
      "metadata": {
        "id": "sCci0PjwHaYi"
      }
    },
    {
      "cell_type": "code",
      "source": [
        "p = np.array([1, 2])\n",
        "T = np.array([[2, 0], [0, 3]])\n",
        "\n",
        "# 새로운 좌표 계산\n",
        "new_v = np.dot(p, T)\n",
        "print(new_v, '\\n')\n",
        "\n",
        "# T의 역행렬 사용\n",
        "inv_T = np.linalg.inv(T)\n",
        "origin_p = np.dot(inv_T, new_v)\n",
        "# origin_p = np.dot(new_v, inv_T)\n",
        "print(origin_p)"
      ],
      "metadata": {
        "colab": {
          "base_uri": "https://localhost:8080/"
        },
        "id": "3_wfNiLBHbhp",
        "outputId": "6ffcd189-44fc-4c5f-e045-15a95ed596d7"
      },
      "execution_count": null,
      "outputs": [
        {
          "output_type": "stream",
          "name": "stdout",
          "text": [
            "[2 6] \n",
            "\n",
            "[1. 2.]\n"
          ]
        }
      ]
    },
    {
      "cell_type": "code",
      "source": [
        "# 강사님 버전 문제8\n",
        "\n",
        "# 원래 점의 좌표 p의 변환 행렬 T 정의\n",
        "p = np.array([1, 2])\n",
        "T = np.array([[2, 0], [0, 3]])\n",
        "\n",
        "# 새로운 좌표 p' 계산\n",
        "p_prime = np.dot(T, p)\n",
        "\n",
        "# 변환 행렬 T의 역행렬 계산\n",
        "inv_T = np.linalg.inv(T)\n",
        "\n",
        "# 원래 좌표 p 복원\n",
        "p_restored = np.dot(inv_T, p_prime)\n",
        "\n",
        "print('Original Point p :', p, '\\n')\n",
        "print('Transformation Matrix T :\\n', T, '\\n')\n",
        "print('Transformed Point p prime : ', p_prime, '\\n')\n",
        "print('Inverse of T (inv_T) :\\n', inv_T, '\\n')\n",
        "print('Restored Point p : ', p_restored, '\\n')"
      ],
      "metadata": {
        "colab": {
          "base_uri": "https://localhost:8080/"
        },
        "id": "C_oR8qvcEAOU",
        "outputId": "3f9d5833-6581-4689-9614-1fa89924aec9"
      },
      "execution_count": 23,
      "outputs": [
        {
          "output_type": "stream",
          "name": "stdout",
          "text": [
            "Original Point p : [1 2] \n",
            "\n",
            "Transformation Matrix T :\n",
            " [[2 0]\n",
            " [0 3]] \n",
            "\n",
            "Transformed Point p prime :  [2 6] \n",
            "\n",
            "Inverse of T (inv_T) :\n",
            " [[0.5        0.        ]\n",
            " [0.         0.33333333]] \n",
            "\n",
            "Restored Point p :  [1. 2.] \n",
            "\n"
          ]
        }
      ]
    },
    {
      "cell_type": "code",
      "source": [
        "from sympy import symbols, solve\n",
        "\n",
        "x, y = symbols('x, y')\n",
        "print(solve([\n",
        "    2*x + 3*y - 5,\n",
        "    4*x + y - 6\n",
        "]), '\\n')"
      ],
      "metadata": {
        "colab": {
          "base_uri": "https://localhost:8080/"
        },
        "id": "3PjYEkjjb3oz",
        "outputId": "471a2741-85f9-40c9-9e3a-6c8ce225c82a"
      },
      "execution_count": null,
      "outputs": [
        {
          "output_type": "stream",
          "name": "stdout",
          "text": [
            "{x: 13/10, y: 4/5} \n",
            "\n"
          ]
        }
      ]
    }
  ]
}