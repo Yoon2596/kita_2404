{
 "cells": [
  {
   "cell_type": "markdown",
   "metadata": {},
   "source": [
    "Task1_0625. 다음 Selenium execute_script 메서드에 사용할 수 있는 JavaScript 명령어를 이용한 사례를 작성해서 실행 결과를 확인하세요.\n",
    "[과제]\n",
    "- document.getElementById(id) : 특정 ID를 가진 요소를 선택합니다.\n",
    "- document.getElementsByClassName(className) : 특정 클래스 이름을 가진 요소를 선택합니다.\n",
    "- document.getElementsByTagName(tagName) : 특정 태그 이름을 가진 요소를 선택합니다.\n",
    "- document.querySelector(selector) : CSS 선택자를 사용하여 첫 번째 일치하는 요소를 선택합니다.\n",
    "- document.querySelectorAll(selector) : CSS 선택자를 사용하여 일치하는 모든 요소를 선택합니다.\n",
    "\n",
    "[참고]\n",
    "- element.innerText : 요소의 텍스트 콘텐츠를 설정하거나 가져옵니다.\n",
    "- element.innerHTML : 요소의 HTML 콘텐츠를 설정하거나 가져옵니다.\n",
    "- element.value : 입력 필드의 값을 설정하거나 가져옵니다.\n",
    "- element.style.property : 요소의 CSS 스타일 속성을 설정합니다.\n",
    "- element.click() : 요소를 클릭합니다.\n",
    "- element.focus() : 요소에 포커스를 설정합니다.\n",
    "- element.blur() : 요소에서 포커스를 제거합니다.\n",
    "- window.scrollTo(x, y) : 페이지를 지정된 좌표로 스크롤합니다.\n",
    "- window.scrollBy(x, y) : 현재 위치에서 지정된 거리만큼 페이지를 스크롤합니다.\n",
    "- alert(message) : 경고창을 표시합니다.\n",
    "- confirm(message) : 확인창을 표시하고 사용자의 응답을 반환합니다.\n",
    "- prompt(message, default) : 입력창을 표시하고 사용자의 입력을 반환합니다.\n",
    "- form.submit() : 폼을 제출합니다.\n",
    "- form.reset() : 폼을 초기화합니다."
   ]
  },
  {
   "cell_type": "code",
   "execution_count": 1,
   "metadata": {},
   "outputs": [
    {
     "name": "stdout",
     "output_type": "stream",
     "text": [
      "Changed title :  New Title\n"
     ]
    }
   ],
   "source": [
    "from selenium import webdriver\n",
    "from selenium.webdriver.common.by import By\n",
    "import time\n",
    "\n",
    "# 웹 드라이버 인스턴스 생성 (여기서는 Chrome을 예로 사용)\n",
    "driver = webdriver.Chrome()\n",
    "\n",
    "# 로컬 HTML 파일 경로\n",
    "file_path = 'http://127.0.0.1:5501/file_task1.html'  # 실제 파일 경로로 변경\n",
    "\n",
    "# HTML 파일 열기\n",
    "driver.get(file_path)\n",
    "\n",
    "# 2초 대기 (웹 페이지가 완전히 로드되도록)\n",
    "time.sleep(2)\n",
    "\n",
    "# ID가 title인 요소의 텍스트를 변경하여 출력\n",
    "driver.execute_script(\"document.getElementById('title').innerText = 'New Title';\")\n",
    "# script = \"\"\"\n",
    "\n",
    "# 변경 된 텍스트 가져오기\n",
    "new_title = driver.execute_script(\"return document.getElementById('title').innerText;\")\n",
    "print('Changed title : ', new_title)\n",
    "time.sleep(2)\n",
    "driver.quit()\n"
   ]
  }
 ],
 "metadata": {
  "kernelspec": {
   "display_name": "myenv",
   "language": "python",
   "name": "python3"
  },
  "language_info": {
   "codemirror_mode": {
    "name": "ipython",
    "version": 3
   },
   "file_extension": ".py",
   "mimetype": "text/x-python",
   "name": "python",
   "nbconvert_exporter": "python",
   "pygments_lexer": "ipython3",
   "version": "3.10.11"
  }
 },
 "nbformat": 4,
 "nbformat_minor": 2
}
