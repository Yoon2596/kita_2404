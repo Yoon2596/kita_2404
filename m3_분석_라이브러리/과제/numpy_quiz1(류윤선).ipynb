{
  "cells": [
    {
      "cell_type": "markdown",
      "metadata": {
        "id": "view-in-github",
        "colab_type": "text"
      },
      "source": [
        "<a href=\"https://colab.research.google.com/github/Yoon2596/kita_2404/blob/main/m3_%EB%B6%84%EC%84%9D_%EB%9D%BC%EC%9D%B4%EB%B8%8C%EB%9F%AC%EB%A6%AC/numpy/numpy_quiz1(%EB%A5%98%EC%9C%A4%EC%84%A0).ipynb\" target=\"_parent\"><img src=\"https://colab.research.google.com/assets/colab-badge.svg\" alt=\"Open In Colab\"/></a>"
      ]
    },
    {
      "cell_type": "markdown",
      "source": [
        "## Numpy Quiz1"
      ],
      "metadata": {
        "id": "RoOMFkDduWog"
      }
    },
    {
      "cell_type": "markdown",
      "source": [
        "Q1. arange(), reshape() 이용 1차원 2차원 3차원 배열 생성"
      ],
      "metadata": {
        "id": "A6oIhoWUdNJG"
      }
    },
    {
      "cell_type": "code",
      "source": [
        "import numpy as np\n",
        "arr = np.arange(6).reshape(1, 2, 3)\n",
        "print(arr, '\\n')\n",
        "\n",
        "arr1 = np.arange(8).reshape(-1)\n",
        "print(arr1, '\\n')\n",
        "arr2 = np.arange(8).reshape(-1, 2)\n",
        "arr21 = np.arange(8).reshape(2, -1)\n",
        "print(arr2, '\\n')\n",
        "print(arr21, '\\n')\n",
        "arr3 = np.arange(10).reshape(2, 5, -1)\n",
        "print(arr3, '\\n')"
      ],
      "metadata": {
        "colab": {
          "base_uri": "https://localhost:8080/"
        },
        "id": "X8pyLj8Nwgfc",
        "outputId": "3e09a563-8456-4ee8-94e3-9ffea0635dd0"
      },
      "execution_count": 142,
      "outputs": [
        {
          "output_type": "stream",
          "name": "stdout",
          "text": [
            "[[[0 1 2]\n",
            "  [3 4 5]]] \n",
            "\n",
            "[0 1 2 3 4 5 6 7] \n",
            "\n",
            "[[0 1]\n",
            " [2 3]\n",
            " [4 5]\n",
            " [6 7]] \n",
            "\n",
            "[[0 1 2 3]\n",
            " [4 5 6 7]] \n",
            "\n",
            "[[[0]\n",
            "  [1]\n",
            "  [2]\n",
            "  [3]\n",
            "  [4]]\n",
            "\n",
            " [[5]\n",
            "  [6]\n",
            "  [7]\n",
            "  [8]\n",
            "  [9]]] \n",
            "\n"
          ]
        }
      ]
    },
    {
      "cell_type": "markdown",
      "source": [
        "Q2. reshape(-1,-1)을 이용 1차원을 2차원, 3차원으로 2차원을 1차원 3차원으로 3차원을 1차원 2차원으로 변환"
      ],
      "metadata": {
        "id": "761tjFT9dZg5"
      }
    },
    {
      "cell_type": "code",
      "source": [
        "# 1차원을 2차원, 3차원\n",
        "ar1 = np.arange(10).reshape(-1)\n",
        "ar12 = ar1.reshape(2, -1)\n",
        "print(ar12, '\\n')\n",
        "ar13 = ar1.reshape(-1, 2, 5)\n",
        "print(ar13, '\\n')\n",
        "\n",
        "# 2차원을 1차원, 3차원\n",
        "ar2 = np.arange(10).reshape(5 , 2)\n",
        "ar21 = ar2.reshape(-1)\n",
        "print(ar21, '\\n')\n",
        "ar23 = ar2.reshape(2, -1, 5)\n",
        "print(ar23, '\\n')\n",
        "\n",
        "# 3차원을 1차원, 2차원\n",
        "ar3 = np.arange(10).reshape(-1, 2, 5)\n",
        "ar31 = ar3.reshape(-1,)\n",
        "print(ar31, '\\n')\n",
        "ar32 = ar3.reshape(5, -1)\n",
        "print(ar32)"
      ],
      "metadata": {
        "colab": {
          "base_uri": "https://localhost:8080/"
        },
        "id": "wl0Xx0qSws8m",
        "outputId": "a209c078-34a9-4079-c4d4-2f2c80e6b817"
      },
      "execution_count": 149,
      "outputs": [
        {
          "output_type": "stream",
          "name": "stdout",
          "text": [
            "[[0 1 2 3 4]\n",
            " [5 6 7 8 9]] \n",
            "\n",
            "[[[0 1 2 3 4]\n",
            "  [5 6 7 8 9]]] \n",
            "\n",
            "[0 1 2 3 4 5 6 7 8 9] \n",
            "\n",
            "[[[0 1 2 3 4]]\n",
            "\n",
            " [[5 6 7 8 9]]] \n",
            "\n",
            "[0 1 2 3 4 5 6 7 8 9] \n",
            "\n",
            "[[0 1]\n",
            " [2 3]\n",
            " [4 5]\n",
            " [6 7]\n",
            " [8 9]]\n"
          ]
        }
      ]
    },
    {
      "cell_type": "markdown",
      "source": [
        "Q3. Q1 1차원 배열을 실수형으로 변환"
      ],
      "metadata": {
        "id": "zSZkXeKydhb0"
      }
    },
    {
      "cell_type": "code",
      "source": [
        "arr = np.arange(6)\n",
        "f_arr = arr.astype('float64')\n",
        "print(f_arr, f_arr.dtype)"
      ],
      "metadata": {
        "colab": {
          "base_uri": "https://localhost:8080/"
        },
        "id": "oxaoFqmzxGJ6",
        "outputId": "35aae8ef-d1de-4280-db64-f6745fe1e052"
      },
      "execution_count": 150,
      "outputs": [
        {
          "output_type": "stream",
          "name": "stdout",
          "text": [
            "[0. 1. 2. 3. 4. 5.] float64\n"
          ]
        }
      ]
    },
    {
      "cell_type": "markdown",
      "source": [
        "Q4. Q1 1차원 배열의 dtype을 확인"
      ],
      "metadata": {
        "id": "Rm-fFE20ds8N"
      }
    },
    {
      "cell_type": "code",
      "source": [
        "print(arr.dtype)"
      ],
      "metadata": {
        "colab": {
          "base_uri": "https://localhost:8080/"
        },
        "id": "H2m1Ek01xLH7",
        "outputId": "36834265-8a8c-434b-aa08-fae2a3fed1ab"
      },
      "execution_count": 11,
      "outputs": [
        {
          "output_type": "stream",
          "name": "stdout",
          "text": [
            "int64\n"
          ]
        }
      ]
    },
    {
      "cell_type": "markdown",
      "source": [
        "Q5. 주어진 배열에서 음수 값을 모두 0으로 변경하세요.\n",
        "\n",
        "arr = np.array([-5, -3, -1, 0, 1, 3, 5])"
      ],
      "metadata": {
        "id": "nMX4Xp7Md3_1"
      }
    },
    {
      "cell_type": "code",
      "source": [
        "arr = np.array([-5, -3, -1, 0, 1, 3, 5])\n",
        "pos_arr = np.where(arr < 0, 0, arr)\n",
        "print(pos_arr)"
      ],
      "metadata": {
        "colab": {
          "base_uri": "https://localhost:8080/"
        },
        "id": "j75As-CsxZ_O",
        "outputId": "c7cb0111-1157-436c-d253-6684fa38d6a3"
      },
      "execution_count": 18,
      "outputs": [
        {
          "output_type": "stream",
          "name": "stdout",
          "text": [
            "[0 0 0 0 1 3 5]\n"
          ]
        }
      ]
    },
    {
      "cell_type": "markdown",
      "source": [
        "Q6. 1 ~ 100 까지 배열에서 3의 배수인 것만을 출력"
      ],
      "metadata": {
        "id": "NMOy9R4Cd_3v"
      }
    },
    {
      "cell_type": "code",
      "source": [
        "a6 = np.arange(1, 101)\n",
        "# print(a6)\n",
        "mask = a6 % 3 == 0\n",
        "# print(mask, '\\n')\n",
        "print(a6[mask])"
      ],
      "metadata": {
        "colab": {
          "base_uri": "https://localhost:8080/"
        },
        "id": "MWEa4x42x69M",
        "outputId": "7735c602-cf36-410e-c84f-4ef6919f97dc"
      },
      "execution_count": 152,
      "outputs": [
        {
          "output_type": "stream",
          "name": "stdout",
          "text": [
            "[ 3  6  9 12 15 18 21 24 27 30 33 36 39 42 45 48 51 54 57 60 63 66 69 72\n",
            " 75 78 81 84 87 90 93 96 99]\n"
          ]
        }
      ]
    },
    {
      "cell_type": "markdown",
      "source": [
        "Q7. 1 ~ 100 까지 배열에서 5의 배수이면서 2의 배수인 것만을 출력"
      ],
      "metadata": {
        "id": "reO7jBwqeX1W"
      }
    },
    {
      "cell_type": "code",
      "source": [
        "a7 = np.arange(1, 101)\n",
        "q7 = []\n",
        "for i in a7:\n",
        "    if (i % 5 == 0) & (i % 2 == 0):\n",
        "        q7.append(i)\n",
        "print(q7)\n",
        "\n",
        "arr7 = a7[(a7 % 5 == 0) & (a7 % 2 == 0)]\n",
        "arr7"
      ],
      "metadata": {
        "colab": {
          "base_uri": "https://localhost:8080/"
        },
        "id": "54wsiFP2yM0P",
        "outputId": "511d219e-b91c-43a0-8a67-9664620e4da5"
      },
      "execution_count": 154,
      "outputs": [
        {
          "output_type": "stream",
          "name": "stdout",
          "text": [
            "[10, 20, 30, 40, 50, 60, 70, 80, 90, 100]\n"
          ]
        },
        {
          "output_type": "execute_result",
          "data": {
            "text/plain": [
              "array([ 10,  20,  30,  40,  50,  60,  70,  80,  90, 100])"
            ]
          },
          "metadata": {},
          "execution_count": 154
        }
      ]
    },
    {
      "cell_type": "markdown",
      "source": [
        "Q8. 1 ~ 100 까지 배열에서 3의 배수이거나 5의 배수인 것만을 출력"
      ],
      "metadata": {
        "id": "Gg-SJytKefVU"
      }
    },
    {
      "cell_type": "code",
      "source": [
        "a8 = np.arange(1, 101)\n",
        "q8 = []\n",
        "for i in a8:\n",
        "    if (i % 5 == 0) | (i % 3 == 0):\n",
        "        q8.append(i)\n",
        "print(q8)"
      ],
      "metadata": {
        "colab": {
          "base_uri": "https://localhost:8080/"
        },
        "id": "gFYoX-Tvym0R",
        "outputId": "b1102db0-db80-4249-ea8e-6e515756f4e4"
      },
      "execution_count": 24,
      "outputs": [
        {
          "output_type": "stream",
          "name": "stdout",
          "text": [
            "[3, 5, 6, 9, 10, 12, 15, 18, 20, 21, 24, 25, 27, 30, 33, 35, 36, 39, 40, 42, 45, 48, 50, 51, 54, 55, 57, 60, 63, 65, 66, 69, 70, 72, 75, 78, 80, 81, 84, 85, 87, 90, 93, 95, 96, 99, 100]\n"
          ]
        }
      ]
    },
    {
      "cell_type": "markdown",
      "source": [
        "Q9. 101 ~ 150 사이의 정수를 랜덤하게 추출, 2행 5열 다차원 배열을 생성 후 전치하세요"
      ],
      "metadata": {
        "id": "Skud3jRrfJ2z"
      }
    },
    {
      "cell_type": "code",
      "source": [
        "a = np.random.choice(np.arange(101, 151), 10)\n",
        "b = np.random.randint(101, 151, size=(2, 5))\n",
        "\n",
        "print(a, '\\n')\n",
        "print(b, '\\n')\n",
        "# ar9 = np.random.randint(101, 151)\n",
        "# print(ar9)\n",
        "q9 = np.array([a]).reshape(2, 5)\n",
        "print(q9, '\\n')\n",
        "t_q9 = q9.T\n",
        "print(t_q9)\n",
        "# print(sort(q9))\n",
        "# print(sorted(q9))"
      ],
      "metadata": {
        "colab": {
          "base_uri": "https://localhost:8080/"
        },
        "id": "Iybv4K7GyvtV",
        "outputId": "24280512-9167-4396-ca52-fe188a0f5ecd"
      },
      "execution_count": 157,
      "outputs": [
        {
          "output_type": "stream",
          "name": "stdout",
          "text": [
            "[101 144 127 103 144 107 122 103 129 143] \n",
            "\n",
            "[[127 108 130 147 111]\n",
            " [119 105 130 140 108]] \n",
            "\n",
            "[[101 144 127 103 144]\n",
            " [107 122 103 129 143]] \n",
            "\n",
            "[[101 107]\n",
            " [144 122]\n",
            " [127 103]\n",
            " [103 129]\n",
            " [144 143]]\n"
          ]
        }
      ]
    },
    {
      "cell_type": "markdown",
      "source": [
        "Q10. 표준정규분포로 구성된 5행 5열 다차원 배열을 생성하세요."
      ],
      "metadata": {
        "id": "CD2vUOIofTBW"
      }
    },
    {
      "cell_type": "code",
      "source": [
        "a10 = np.random.randn(5, 5)\n",
        "print(a10)"
      ],
      "metadata": {
        "colab": {
          "base_uri": "https://localhost:8080/"
        },
        "id": "j6cLdnOpzdyT",
        "outputId": "69b44374-86c1-4858-d21f-6bc24891e357"
      },
      "execution_count": 62,
      "outputs": [
        {
          "output_type": "stream",
          "name": "stdout",
          "text": [
            "[[ 1.13941604 -0.75416381  0.75407155 -0.97238922 -0.78828881]\n",
            " [ 0.84499472  2.06618287 -0.75854749  0.75308928  0.5837779 ]\n",
            " [ 0.27296061 -0.26671621 -0.75707694  1.7126685   1.23495247]\n",
            " [-0.37766362 -0.52637618 -0.17572355 -0.81059924  1.08270105]\n",
            " [-0.35205272  0.87513271 -0.57209832 -0.19720417 -0.29701824]]\n"
          ]
        }
      ]
    },
    {
      "cell_type": "markdown",
      "source": [
        "Q11. original_array를 1차원 배열로 변환하여 출력하세요."
      ],
      "metadata": {
        "id": "bXiDz5anfs5o"
      }
    },
    {
      "cell_type": "code",
      "source": [
        "original_array = np.array([[1, 2, 3], [4, 5, 6]])\n",
        "print(original_array, '\\n')\n",
        "array_1d = original_array.reshape(-1)\n",
        "flatten = original_array.flatten()\n",
        "print(array_1d, '\\n')\n",
        "print(flatten)"
      ],
      "metadata": {
        "id": "YmDWSLzkftkJ",
        "colab": {
          "base_uri": "https://localhost:8080/"
        },
        "outputId": "4cb1f278-5402-4824-e2cf-3225469a29ad"
      },
      "execution_count": 160,
      "outputs": [
        {
          "output_type": "stream",
          "name": "stdout",
          "text": [
            "[[1 2 3]\n",
            " [4 5 6]] \n",
            "\n",
            "[1 2 3 4 5 6] \n",
            "\n",
            "[1 2 3 4 5 6]\n"
          ]
        }
      ]
    },
    {
      "cell_type": "markdown",
      "source": [
        "Q12. 주어진 2차원 배열에서 첫 번째 행을 view로 생성하고, 이 view를 수정하여 원본 배열에 반영되도록 하세요.\n",
        "\n",
        "original_array = np.array([[1, 2, 3], [4, 5, 6]])"
      ],
      "metadata": {
        "id": "0Nep-d7VgFSW"
      }
    },
    {
      "cell_type": "code",
      "source": [
        "original_array = np.array([[1, 2, 3], [4, 5, 6]])\n",
        "print(original_array, '\\n')\n",
        "v_array = original_array[0, :]\n",
        "print(v_array, '\\n')\n",
        "v_array[1] = 100\n",
        "print(v_array, '\\n')\n",
        "print(original_array, '\\n')"
      ],
      "metadata": {
        "colab": {
          "base_uri": "https://localhost:8080/"
        },
        "id": "k2J5vC8y2LF9",
        "outputId": "2fe1a116-d477-4abf-febe-2ba766ed58df"
      },
      "execution_count": 170,
      "outputs": [
        {
          "output_type": "stream",
          "name": "stdout",
          "text": [
            "[[1 2 3]\n",
            " [4 5 6]] \n",
            "\n",
            "[1 2 3] \n",
            "\n",
            "[  1 100   3] \n",
            "\n",
            "[[  1 100   3]\n",
            " [  4   5   6]] \n",
            "\n"
          ]
        }
      ]
    },
    {
      "cell_type": "markdown",
      "source": [
        "Q13. 주어진 3차원 배열에서 첫 번째 2차원 배열을 view로 생성하고, 이 view를 수정하여 원본 배열에 반영되도록 하세요.\n",
        "\n",
        "original_array = np.array([[[1, 2, 3], [4, 5, 6]], [[7, 8, 9], [10, 11, 12]]])"
      ],
      "metadata": {
        "id": "Lsou3ZeIgS__"
      }
    },
    {
      "cell_type": "code",
      "source": [
        "original_array = np.array([[[1, 2, 3], [4, 5, 6]], [[7, 8, 9], [10, 11, 12]]])\n",
        "print(original_array, '\\n')\n",
        "\n",
        "slice_view = original_array[0, :, :]\n",
        "print(slice_view, '\\n')\n",
        "\n",
        "slice_view[1][1] = 20\n",
        "slice_view[0, 0] = 10\n",
        "print(slice_view, '\\n')\n",
        "\n",
        "print(original_array)"
      ],
      "metadata": {
        "colab": {
          "base_uri": "https://localhost:8080/"
        },
        "id": "9nqeljAd_R5d",
        "outputId": "c7ccef6a-6fad-45b9-c547-0cefce345767"
      },
      "execution_count": 176,
      "outputs": [
        {
          "output_type": "stream",
          "name": "stdout",
          "text": [
            "[[[ 1  2  3]\n",
            "  [ 4  5  6]]\n",
            "\n",
            " [[ 7  8  9]\n",
            "  [10 11 12]]] \n",
            "\n",
            "[[1 2 3]\n",
            " [4 5 6]] \n",
            "\n",
            "[[10  2  3]\n",
            " [ 4 20  6]] \n",
            "\n",
            "[[[10  2  3]\n",
            "  [ 4 20  6]]\n",
            "\n",
            " [[ 7  8  9]\n",
            "  [10 11 12]]]\n"
          ]
        }
      ]
    },
    {
      "cell_type": "markdown",
      "source": [
        "Q14. 주어진 2차원 배열을 1차원 배열 view로 reshape하고, 이 view를 수정하여 원본 배열에 반영되도록 하세요.\n",
        "\n",
        "original_array = np.array([[1, 2, 3], [4, 5, 6]])"
      ],
      "metadata": {
        "id": "Jd8VaOGmgjhx"
      }
    },
    {
      "cell_type": "code",
      "source": [
        "original_array = np.array([[1, 2, 3], [4, 5, 6]])\n",
        "\n",
        "print(original_array, '\\n')\n",
        "new_array = original_array.reshape(-1)\n",
        "print(new_array, '\\n')\n",
        "new_array[0] = 99\n",
        "print(new_array, '\\n')\n",
        "print(original_array)"
      ],
      "metadata": {
        "colab": {
          "base_uri": "https://localhost:8080/"
        },
        "id": "Jnh1btlA_SKj",
        "outputId": "a410c739-0c24-4100-a4db-d6b183519970"
      },
      "execution_count": 179,
      "outputs": [
        {
          "output_type": "stream",
          "name": "stdout",
          "text": [
            "[[1 2 3]\n",
            " [4 5 6]] \n",
            "\n",
            "[1 2 3 4 5 6] \n",
            "\n",
            "[99  2  3  4  5  6] \n",
            "\n",
            "[[99  2  3]\n",
            " [ 4  5  6]]\n"
          ]
        }
      ]
    },
    {
      "cell_type": "markdown",
      "source": [
        "Q15. np.ones((10,10))을 아래와 같이 출력하세요.\n",
        "```\n",
        "[[1. 1. 1. 1. 1. 1. 1. 1. 1. 1.]\n",
        " [1. 0. 0. 0. 0. 0. 0. 0. 0. 1.]\n",
        " [1. 0. 0. 0. 0. 0. 0. 0. 0. 1.]\n",
        " [1. 0. 0. 0. 0. 0. 0. 0. 0. 1.]\n",
        " [1. 0. 0. 0. 0. 0. 0. 0. 0. 1.]\n",
        " [1. 0. 0. 0. 0. 0. 0. 0. 0. 1.]\n",
        " [1. 0. 0. 0. 0. 0. 0. 0. 0. 1.]\n",
        " [1. 0. 0. 0. 0. 0. 0. 0. 0. 1.]\n",
        " [1. 0. 0. 0. 0. 0. 0. 0. 0. 1.]\n",
        " [1. 1. 1. 1. 1. 1. 1. 1. 1. 1.]]\n",
        " ```"
      ],
      "metadata": {
        "id": "-MLdPdHGpxFv"
      }
    },
    {
      "cell_type": "code",
      "source": [
        "a15 = np.ones((10, 10))\n",
        "print(a15)\n",
        "a15[1:9, 1:9] = 0\n",
        "print()\n",
        "print(a15)"
      ],
      "metadata": {
        "colab": {
          "base_uri": "https://localhost:8080/"
        },
        "id": "9NcixBws2ZJg",
        "outputId": "26278b18-0a8a-4a42-a970-58f22b94bfd0"
      },
      "execution_count": 80,
      "outputs": [
        {
          "output_type": "stream",
          "name": "stdout",
          "text": [
            "[[1. 1. 1. 1. 1. 1. 1. 1. 1. 1.]\n",
            " [1. 1. 1. 1. 1. 1. 1. 1. 1. 1.]\n",
            " [1. 1. 1. 1. 1. 1. 1. 1. 1. 1.]\n",
            " [1. 1. 1. 1. 1. 1. 1. 1. 1. 1.]\n",
            " [1. 1. 1. 1. 1. 1. 1. 1. 1. 1.]\n",
            " [1. 1. 1. 1. 1. 1. 1. 1. 1. 1.]\n",
            " [1. 1. 1. 1. 1. 1. 1. 1. 1. 1.]\n",
            " [1. 1. 1. 1. 1. 1. 1. 1. 1. 1.]\n",
            " [1. 1. 1. 1. 1. 1. 1. 1. 1. 1.]\n",
            " [1. 1. 1. 1. 1. 1. 1. 1. 1. 1.]]\n",
            "\n",
            "[[1. 1. 1. 1. 1. 1. 1. 1. 1. 1.]\n",
            " [1. 0. 0. 0. 0. 0. 0. 0. 0. 1.]\n",
            " [1. 0. 0. 0. 0. 0. 0. 0. 0. 1.]\n",
            " [1. 0. 0. 0. 0. 0. 0. 0. 0. 1.]\n",
            " [1. 0. 0. 0. 0. 0. 0. 0. 0. 1.]\n",
            " [1. 0. 0. 0. 0. 0. 0. 0. 0. 1.]\n",
            " [1. 0. 0. 0. 0. 0. 0. 0. 0. 1.]\n",
            " [1. 0. 0. 0. 0. 0. 0. 0. 0. 1.]\n",
            " [1. 0. 0. 0. 0. 0. 0. 0. 0. 1.]\n",
            " [1. 1. 1. 1. 1. 1. 1. 1. 1. 1.]]\n"
          ]
        }
      ]
    },
    {
      "cell_type": "markdown",
      "source": [
        "Q16. Q. 1 ~ 100을 아래와 같이 출력하세요.\n",
        "\n",
        "```\n",
        "[[  1   2   3   4   5   6   7   8   9  10]\n",
        " [ 20  19  18  17  16  15  14  13  12  11]\n",
        " [ 21  22  23  24  25  26  27  28  29  30]\n",
        " [ 40  39  38  37  36  35  34  33  32  31]\n",
        " [ 41  42  43  44  45  46  47  48  49  50]\n",
        " [ 60  59  58  57  56  55  54  53  52  51]\n",
        " [ 61  62  63  64  65  66  67  68  69  70]\n",
        " [ 80  79  78  77  76  75  74  73  72  71]\n",
        " [ 81  82  83  84  85  86  87  88  89  90]\n",
        " [100  99  98  97  96  95  94  93  92  91]]\n",
        " ```"
      ],
      "metadata": {
        "id": "bF2o4HI6p7yS"
      }
    },
    {
      "cell_type": "code",
      "source": [
        "a16 = np.arange(1, 101).reshape(10, 10)\n",
        "ar16 = np.arange(1, 101).reshape(10, 10)\n",
        "print(a16)\n",
        "print()\n",
        "\n",
        "for i in range(10):\n",
        "    if i % 2 == 1:\n",
        "        reverse = a16[i][::-1]\n",
        "        # print(a)\n",
        "        a16[i] = reverse\n",
        "    else:\n",
        "        a16[i]\n",
        "\n",
        "ar = []\n",
        "for i in range(10):\n",
        "    if i % 2 == 1:\n",
        "        ar16[i] = ar16[i][::-1]\n",
        "        ar.append(a16[i])\n",
        "    else:\n",
        "        ar.append(a16[i])\n",
        "\n",
        "print(a16, '\\n')\n",
        "print(np.array(ar))"
      ],
      "metadata": {
        "colab": {
          "base_uri": "https://localhost:8080/"
        },
        "id": "vdFtNuvU2upl",
        "outputId": "4c0d578b-2774-4ce3-d672-44c810f6138b"
      },
      "execution_count": 200,
      "outputs": [
        {
          "output_type": "stream",
          "name": "stdout",
          "text": [
            "[[  1   2   3   4   5   6   7   8   9  10]\n",
            " [ 11  12  13  14  15  16  17  18  19  20]\n",
            " [ 21  22  23  24  25  26  27  28  29  30]\n",
            " [ 31  32  33  34  35  36  37  38  39  40]\n",
            " [ 41  42  43  44  45  46  47  48  49  50]\n",
            " [ 51  52  53  54  55  56  57  58  59  60]\n",
            " [ 61  62  63  64  65  66  67  68  69  70]\n",
            " [ 71  72  73  74  75  76  77  78  79  80]\n",
            " [ 81  82  83  84  85  86  87  88  89  90]\n",
            " [ 91  92  93  94  95  96  97  98  99 100]]\n",
            "\n",
            "[[  1   2   3   4   5   6   7   8   9  10]\n",
            " [ 20  19  18  17  16  15  14  13  12  11]\n",
            " [ 21  22  23  24  25  26  27  28  29  30]\n",
            " [ 40  39  38  37  36  35  34  33  32  31]\n",
            " [ 41  42  43  44  45  46  47  48  49  50]\n",
            " [ 60  59  58  57  56  55  54  53  52  51]\n",
            " [ 61  62  63  64  65  66  67  68  69  70]\n",
            " [ 80  79  78  77  76  75  74  73  72  71]\n",
            " [ 81  82  83  84  85  86  87  88  89  90]\n",
            " [100  99  98  97  96  95  94  93  92  91]] \n",
            "\n",
            "[[  1   2   3   4   5   6   7   8   9  10]\n",
            " [ 20  19  18  17  16  15  14  13  12  11]\n",
            " [ 21  22  23  24  25  26  27  28  29  30]\n",
            " [ 40  39  38  37  36  35  34  33  32  31]\n",
            " [ 41  42  43  44  45  46  47  48  49  50]\n",
            " [ 60  59  58  57  56  55  54  53  52  51]\n",
            " [ 61  62  63  64  65  66  67  68  69  70]\n",
            " [ 80  79  78  77  76  75  74  73  72  71]\n",
            " [ 81  82  83  84  85  86  87  88  89  90]\n",
            " [100  99  98  97  96  95  94  93  92  91]]\n"
          ]
        }
      ]
    },
    {
      "cell_type": "markdown",
      "source": [
        "Q17. np.ones((5,5))을 아래와 같이 출력하세요.\n",
        "```\n",
        "[[0., 0., 0., 0., 0., 0., 0., 0., 0.],\n",
        "       [0., 0., 0., 0., 0., 0., 0., 0., 0.],\n",
        "       [0., 0., 1., 1., 1., 1., 1., 0., 0.],\n",
        "       [0., 0., 1., 1., 1., 1., 1., 0., 0.],\n",
        "       [0., 0., 1., 1., 1., 1., 1., 0., 0.],\n",
        "       [0., 0., 1., 1., 1., 1., 1., 0., 0.],\n",
        "       [0., 0., 1., 1., 1., 1., 1., 0., 0.],\n",
        "       [0., 0., 0., 0., 0., 0., 0., 0., 0.],\n",
        "       [0., 0., 0., 0., 0., 0., 0., 0., 0.]]\n",
        "```"
      ],
      "metadata": {
        "id": "8XTX6_u2qI2p"
      }
    },
    {
      "cell_type": "code",
      "source": [
        "a17 = np.ones((5, 5))\n",
        "print(a17)\n",
        "print()\n",
        "# b17 = np.zeros((10, 10))\n",
        "# c = a17.union(b17)\n",
        "# print(c)\n",
        "\n",
        "\n",
        "\n",
        "\n",
        "\n",
        "q17 = np.zeros((10, 10))\n",
        "# print(q17)\n",
        "q17[2:8, 2:8] = 1\n",
        "print()\n",
        "print(q17)"
      ],
      "metadata": {
        "colab": {
          "base_uri": "https://localhost:8080/"
        },
        "id": "6zIZWwLv3Y0B",
        "outputId": "1079d2ba-cfc0-44fd-c5c2-41538dfdff60"
      },
      "execution_count": 105,
      "outputs": [
        {
          "output_type": "stream",
          "name": "stdout",
          "text": [
            "[[1. 1. 1. 1. 1.]\n",
            " [1. 1. 1. 1. 1.]\n",
            " [1. 1. 1. 1. 1.]\n",
            " [1. 1. 1. 1. 1.]\n",
            " [1. 1. 1. 1. 1.]]\n",
            "\n",
            "\n",
            "[[0. 0. 0. 0. 0. 0. 0. 0. 0. 0.]\n",
            " [0. 0. 0. 0. 0. 0. 0. 0. 0. 0.]\n",
            " [0. 0. 1. 1. 1. 1. 1. 1. 0. 0.]\n",
            " [0. 0. 1. 1. 1. 1. 1. 1. 0. 0.]\n",
            " [0. 0. 1. 1. 1. 1. 1. 1. 0. 0.]\n",
            " [0. 0. 1. 1. 1. 1. 1. 1. 0. 0.]\n",
            " [0. 0. 1. 1. 1. 1. 1. 1. 0. 0.]\n",
            " [0. 0. 1. 1. 1. 1. 1. 1. 0. 0.]\n",
            " [0. 0. 0. 0. 0. 0. 0. 0. 0. 0.]\n",
            " [0. 0. 0. 0. 0. 0. 0. 0. 0. 0.]]\n"
          ]
        }
      ]
    },
    {
      "cell_type": "code",
      "source": [
        "a17 = np.ones((5, 5))\n",
        "np.pad(a17, pad_width=2, mode='constant', constant_values=0)"
      ],
      "metadata": {
        "colab": {
          "base_uri": "https://localhost:8080/"
        },
        "id": "HaFOldCzOe8h",
        "outputId": "9c4b80de-b51f-4194-c797-867ec3141b1c"
      },
      "execution_count": 202,
      "outputs": [
        {
          "output_type": "execute_result",
          "data": {
            "text/plain": [
              "array([[0., 0., 0., 0., 0., 0., 0., 0., 0.],\n",
              "       [0., 0., 0., 0., 0., 0., 0., 0., 0.],\n",
              "       [0., 0., 1., 1., 1., 1., 1., 0., 0.],\n",
              "       [0., 0., 1., 1., 1., 1., 1., 0., 0.],\n",
              "       [0., 0., 1., 1., 1., 1., 1., 0., 0.],\n",
              "       [0., 0., 1., 1., 1., 1., 1., 0., 0.],\n",
              "       [0., 0., 1., 1., 1., 1., 1., 0., 0.],\n",
              "       [0., 0., 0., 0., 0., 0., 0., 0., 0.],\n",
              "       [0., 0., 0., 0., 0., 0., 0., 0., 0.]])"
            ]
          },
          "metadata": {},
          "execution_count": 202
        }
      ]
    },
    {
      "cell_type": "markdown",
      "source": [
        "Q18. np.arange(4)을 이용해서 아래와 같이 출력하세요.\n",
        "```\n",
        "[[0, 0, 0, 0, 0],\n",
        " [1, 0, 0, 0, 0],\n",
        " [0, 2, 0, 0, 0],\n",
        " [0, 0, 3, 0, 0],\n",
        " [0, 0, 0, 4, 0]]\n",
        "```"
      ],
      "metadata": {
        "id": "a0ydxK-RqWS9"
      }
    },
    {
      "cell_type": "code",
      "source": [
        "a18 = np.arange(4)+1\n",
        "print(a18)\n",
        "q18 = np.zeros((5, 5))\n",
        "# print(q18)\n",
        "print()\n",
        "q18[1][0] = a18[0]\n",
        "q18[2][1] = a18[1]\n",
        "q18[3][2] = a18[2]\n",
        "q18[4][3] = a18[3]\n",
        "print(q18)\n",
        "\n"
      ],
      "metadata": {
        "colab": {
          "base_uri": "https://localhost:8080/"
        },
        "id": "nMQ9dElp4l4f",
        "outputId": "0f04201c-6279-4f35-c283-51c3cbd4f12d"
      },
      "execution_count": 99,
      "outputs": [
        {
          "output_type": "stream",
          "name": "stdout",
          "text": [
            "[1 2 3 4]\n",
            "\n",
            "[[0. 0. 0. 0. 0.]\n",
            " [1. 0. 0. 0. 0.]\n",
            " [0. 2. 0. 0. 0.]\n",
            " [0. 0. 3. 0. 0.]\n",
            " [0. 0. 0. 4. 0.]]\n"
          ]
        }
      ]
    },
    {
      "cell_type": "code",
      "source": [
        "np.diag(np.arange(4)+1, k=-1)"
      ],
      "metadata": {
        "colab": {
          "base_uri": "https://localhost:8080/"
        },
        "id": "KPeEyzjAOmqt",
        "outputId": "a615223c-a543-44c6-b8aa-feddb4d9c41e"
      },
      "execution_count": 212,
      "outputs": [
        {
          "output_type": "execute_result",
          "data": {
            "text/plain": [
              "array([[0, 0, 0, 0, 0],\n",
              "       [1, 0, 0, 0, 0],\n",
              "       [0, 2, 0, 0, 0],\n",
              "       [0, 0, 3, 0, 0],\n",
              "       [0, 0, 0, 4, 0]])"
            ]
          },
          "metadata": {},
          "execution_count": 212
        }
      ]
    },
    {
      "cell_type": "markdown",
      "source": [
        "Q19. Q. np.zeros((8,8))을 이용해서 아래와 같이 출력하세요(두가지 방식:인덱싱, tile 함수)\n",
        "```\n",
        "[[0, 1, 0, 1, 0, 1, 0, 1],\n",
        "[1, 0, 1, 0, 1, 0, 1, 0],\n",
        "[0, 1, 0, 1, 0, 1, 0, 1],\n",
        "[1, 0, 1, 0, 1, 0, 1, 0],\n",
        "[0, 1, 0, 1, 0, 1, 0, 1],\n",
        "[1, 0, 1, 0, 1, 0, 1, 0],\n",
        "[0, 1, 0, 1, 0, 1, 0, 1],\n",
        "[1, 0, 1, 0, 1, 0, 1, 0]]\n",
        "```"
      ],
      "metadata": {
        "id": "HeOK3cm3qr1U"
      }
    },
    {
      "cell_type": "code",
      "source": [
        "a19 = np.zeros((8, 8))\n",
        "\n",
        "a19[1::2, ::2] = 1\n",
        "a19[::2, 1::2] = 1\n",
        "print(a19)"
      ],
      "metadata": {
        "colab": {
          "base_uri": "https://localhost:8080/"
        },
        "id": "GAb4sGIJ3ky9",
        "outputId": "9f751f2d-c959-46ce-ac2a-450ebe25d829"
      },
      "execution_count": 214,
      "outputs": [
        {
          "output_type": "stream",
          "name": "stdout",
          "text": [
            "[[0. 0. 0. 0. 0. 0. 0. 0.]\n",
            " [1. 0. 1. 0. 1. 0. 1. 0.]\n",
            " [0. 0. 0. 0. 0. 0. 0. 0.]\n",
            " [1. 0. 1. 0. 1. 0. 1. 0.]\n",
            " [0. 0. 0. 0. 0. 0. 0. 0.]\n",
            " [1. 0. 1. 0. 1. 0. 1. 0.]\n",
            " [0. 0. 0. 0. 0. 0. 0. 0.]\n",
            " [1. 0. 1. 0. 1. 0. 1. 0.]]\n"
          ]
        }
      ]
    },
    {
      "cell_type": "markdown",
      "source": [
        "Q20. np.arange(336).reshape(6,7,8)에서 100번째 요소의 인덱스를 구하세요."
      ],
      "metadata": {
        "id": "8CSHIUxPrzmE"
      }
    },
    {
      "cell_type": "code",
      "source": [
        "a20 = np.arange(336).reshape(6, 7, 8)\n",
        "print(a20, '\\n')\n",
        "\n",
        "index_100 = np.unravel_index(99, a20.shape)\n",
        "index_100"
      ],
      "metadata": {
        "colab": {
          "base_uri": "https://localhost:8080/"
        },
        "id": "lXhWQYI4BMog",
        "outputId": "5d734128-3ae4-4a69-87b2-4454f18b143e"
      },
      "execution_count": 216,
      "outputs": [
        {
          "output_type": "stream",
          "name": "stdout",
          "text": [
            "[[[  0   1   2   3   4   5   6   7]\n",
            "  [  8   9  10  11  12  13  14  15]\n",
            "  [ 16  17  18  19  20  21  22  23]\n",
            "  [ 24  25  26  27  28  29  30  31]\n",
            "  [ 32  33  34  35  36  37  38  39]\n",
            "  [ 40  41  42  43  44  45  46  47]\n",
            "  [ 48  49  50  51  52  53  54  55]]\n",
            "\n",
            " [[ 56  57  58  59  60  61  62  63]\n",
            "  [ 64  65  66  67  68  69  70  71]\n",
            "  [ 72  73  74  75  76  77  78  79]\n",
            "  [ 80  81  82  83  84  85  86  87]\n",
            "  [ 88  89  90  91  92  93  94  95]\n",
            "  [ 96  97  98  99 100 101 102 103]\n",
            "  [104 105 106 107 108 109 110 111]]\n",
            "\n",
            " [[112 113 114 115 116 117 118 119]\n",
            "  [120 121 122 123 124 125 126 127]\n",
            "  [128 129 130 131 132 133 134 135]\n",
            "  [136 137 138 139 140 141 142 143]\n",
            "  [144 145 146 147 148 149 150 151]\n",
            "  [152 153 154 155 156 157 158 159]\n",
            "  [160 161 162 163 164 165 166 167]]\n",
            "\n",
            " [[168 169 170 171 172 173 174 175]\n",
            "  [176 177 178 179 180 181 182 183]\n",
            "  [184 185 186 187 188 189 190 191]\n",
            "  [192 193 194 195 196 197 198 199]\n",
            "  [200 201 202 203 204 205 206 207]\n",
            "  [208 209 210 211 212 213 214 215]\n",
            "  [216 217 218 219 220 221 222 223]]\n",
            "\n",
            " [[224 225 226 227 228 229 230 231]\n",
            "  [232 233 234 235 236 237 238 239]\n",
            "  [240 241 242 243 244 245 246 247]\n",
            "  [248 249 250 251 252 253 254 255]\n",
            "  [256 257 258 259 260 261 262 263]\n",
            "  [264 265 266 267 268 269 270 271]\n",
            "  [272 273 274 275 276 277 278 279]]\n",
            "\n",
            " [[280 281 282 283 284 285 286 287]\n",
            "  [288 289 290 291 292 293 294 295]\n",
            "  [296 297 298 299 300 301 302 303]\n",
            "  [304 305 306 307 308 309 310 311]\n",
            "  [312 313 314 315 316 317 318 319]\n",
            "  [320 321 322 323 324 325 326 327]\n",
            "  [328 329 330 331 332 333 334 335]]] \n",
            "\n"
          ]
        },
        {
          "output_type": "execute_result",
          "data": {
            "text/plain": [
              "(1, 5, 3)"
            ]
          },
          "metadata": {},
          "execution_count": 216
        }
      ]
    }
  ],
  "metadata": {
    "kernelspec": {
      "display_name": "Python 3 (ipykernel)",
      "language": "python",
      "name": "python3"
    },
    "language_info": {
      "codemirror_mode": {
        "name": "ipython",
        "version": 3
      },
      "file_extension": ".py",
      "mimetype": "text/x-python",
      "name": "python",
      "nbconvert_exporter": "python",
      "pygments_lexer": "ipython3",
      "version": "3.8.13"
    },
    "colab": {
      "provenance": [],
      "include_colab_link": true
    }
  },
  "nbformat": 4,
  "nbformat_minor": 0
}
