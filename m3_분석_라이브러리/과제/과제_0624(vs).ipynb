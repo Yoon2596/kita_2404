{
 "cells": [
  {
   "cell_type": "markdown",
   "metadata": {},
   "source": [
    "Task1_0624. 네이버 로그인한 후 않읽은 메일의 개수를 가져와서 출력하세요"
   ]
  },
  {
   "cell_type": "code",
   "execution_count": 2,
   "metadata": {},
   "outputs": [],
   "source": [
    "from selenium import webdriver\n",
    "from selenium.webdriver.common.by import By\n",
    "from selenium.webdriver.common.keys import Keys\n",
    "from selenium.webdriver.support.ui import WebDriverWait\n",
    "from selenium.webdriver.support import expected_conditions as EC\n",
    "import time\n",
    "\n",
    "# 크롬 드라이버 경로 설정 (크롬 드라이버의 경로를 지정하세요)\n",
    "driver = webdriver.Chrome()\n",
    "\n",
    "driver.get('https://www.naver.com')\n",
    "element = driver.find_element(By.CLASS_NAME, 'MyView-module__link_login___HpHMW').click()\n",
    "\n",
    "id  = 'rys2596'\n",
    "pw = 'Dbstjs92!'\n",
    "driver.execute_script(\"document.getElementById('id').value=\\'\" + id + \"\\'\") \n",
    "time.sleep(1)\n",
    "driver.execute_script(\"document.getElementById('pw').value=\\'\" + pw + \"\\'\")\n",
    "time.sleep(1)\n",
    "\n",
    "element = driver.find_element(By.CLASS_NAME, 'btn_login')\n",
    "element.click()\n",
    "time.sleep(1)\n"
   ]
  },
  {
   "cell_type": "code",
   "execution_count": null,
   "metadata": {},
   "outputs": [],
   "source": [
    "# 네이버 메일 페이지 열기\n",
    "driver.get('https://mail.naver.com/v2/folders/0/all')\n",
    "\n",
    "# 페이지가 완전히 로드될 시간을 줌\n",
    "time.sleep(5)\n",
    "\n",
    "# 페이지 소스 가져오기\n",
    "page_source = driver.page_source\n"
   ]
  },
  {
   "cell_type": "code",
   "execution_count": null,
   "metadata": {},
   "outputs": [],
   "source": [
    "# BeautifulSoup로 HTML 파싱\n",
    "from bs4 import BeautifulSoup\n",
    "soup = BeautifulSoup(page_source, 'html.parser')\n",
    "\n",
    "# 'class=\"count\"' 요소 찾기\n",
    "unread_mail_count = soup.select_one('.unread_mail .count')\n",
    "\n",
    "if unread_mail_count:\n",
    "    print(\"Unread mail count:\", unread_mail_count.text)\n",
    "else:\n",
    "    print(\"Unread mail count not found\")\n",
    "    \n",
    "# 드라이버 종료\n",
    "driver.quit()"
   ]
  }
 ],
 "metadata": {
  "kernelspec": {
   "display_name": "myenv",
   "language": "python",
   "name": "python3"
  },
  "language_info": {
   "codemirror_mode": {
    "name": "ipython",
    "version": 3
   },
   "file_extension": ".py",
   "mimetype": "text/x-python",
   "name": "python",
   "nbconvert_exporter": "python",
   "pygments_lexer": "ipython3",
   "version": "3.10.11"
  }
 },
 "nbformat": 4,
 "nbformat_minor": 2
}
