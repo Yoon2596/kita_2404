{
 "cells": [
  {
   "cell_type": "markdown",
   "metadata": {},
   "source": [
    "### 0. 웹크롤링 (웨이팅)"
   ]
  },
  {
   "cell_type": "code",
   "execution_count": null,
   "metadata": {},
   "outputs": [],
   "source": [
    "from selenium import webdriver\n",
    "from selenium.webdriver.common.by import By\n",
    "import time\n",
    "from bs4 import BeautifulSoup\n",
    "import pandas as pd\n",
    "\n",
    "# 페이지 로드\n",
    "url = 'https://app.catchtable.co.kr/ct/map/COMMON?showTabs=true&serviceType=WAITING&isInitSearch=0&bottomSheetHeightType=FULL_LIST&isShowListLabelExpanded=1&zoomLevel=10&isNewSearchInMap=1&isShowMapSearchButton=0&centerBoundsLat=37.23713118204578&centerBoundsLng=126.9765592842115&location=CAT011_CAT011001_CAT011002_CAT011003_CAT011004_CAT011005_CAT011006_CAT011007_CAT011008_CAT011009_CAT011010_CAT011_CAT011001_CAT011002_CAT011003_CAT011004_CAT011005_CAT011006_CAT011007_CAT011008_CAT011009_CAT011010&isSearchedInMap=0&uniqueListId=1719466746787'\n",
    "driver = webdriver.Chrome()\n",
    "driver.get(url)\n",
    "time.sleep(5)\n",
    "\n",
    "data = []\n",
    "\n",
    "# 모달 창의 스크롤 가능한 영역을 선택\n",
    "modal_scroll_element = driver.find_element(By.CSS_SELECTOR, '#root > div > div > div > div._53lcbm0._53lcbm1 > div')\n",
    "\n",
    "# 스크롤하여 모든 데이터를 가져오기\n",
    "previous_height = driver.execute_script(\"return arguments[0].scrollHeight\", modal_scroll_element)\n",
    "while True:\n",
    "    # 페이지 소스 가져오기\n",
    "    html = driver.page_source\n",
    "    soup = BeautifulSoup(html, 'html.parser')\n",
    "    items = soup.select('.restaurant-info')\n",
    "\n",
    "    for item in items:\n",
    "        if item is not None:\n",
    "            name = item.select_one(\"h4.name\").text.strip() if item.select_one(\"h4.name\") else 'NA'\n",
    "            cat_loc = item.select_one(\"span.tags\").text.strip() if item.select_one(\"span.tags\") else 'NA'     \n",
    "            rating = item.select_one(\"span._1xnbt316._1ltqxco1d\").text.strip() if item.select_one(\"span._1xnbt316._1ltqxco1d\") else 'NA'\n",
    "            review = item.select_one(\"span._1xnbt317._1ltqxco1g\").text.strip() if item.select_one(\"span._1xnbt317._1ltqxco1g\") else 'NA'\n",
    "            description = item.select_one(\"p.excerpt\").text.strip() if item.select_one(\"p.excerpt\") else 'NA'\n",
    "            price_range = item.select_one(\"span.price\").text.strip() if item.select_one(\"span.price\") else 'NA'\n",
    "\n",
    "            data.append([name, cat_loc, rating, review, description, price_range])\n",
    "            print(name, cat_loc)\n",
    "\n",
    "        else:\n",
    "            data.append(['NA', 'NA', 'NA', 'NA', 'NA', 'NA'])\n",
    "\n",
    "    # 데이터 개수 출력\n",
    "    print(f\"현재까지 수집된 데이터 개수: {len(data)}\")\n",
    "\n",
    "    # 모달 창 내부를 스크롤\n",
    "    driver.execute_script('arguments[0].scrollTop = arguments[0].scrollHeight', modal_scroll_element)\n",
    "    time.sleep(3)  # 페이지가 로드될 시간을 줍니다\n",
    "\n",
    "    # 새로운 높이를 확인하고 이전 높이와 비교\n",
    "    new_height = driver.execute_script(\"return arguments[0].scrollHeight\", modal_scroll_element)\n",
    "    if new_height == previous_height:\n",
    "        break  # 더 이상 새로운 데이터가 로드되지 않으면 루프 종료\n",
    "    previous_height = new_height\n",
    "\n",
    "driver.quit()\n",
    "\n",
    "# 데이터프레임으로 변환\n",
    "columns = ['Name', 'Cat_loc', 'Rating', 'Review', 'Description', 'Price_Range']\n",
    "df = pd.DataFrame(data, columns=columns)\n",
    "\n",
    "# CSV 파일로 저장\n",
    "df.to_csv('catchtable_waiting_data3.csv', index=False)\n",
    "\n",
    "# 데이터 출력\n",
    "print(df.head())"
   ]
  },
  {
   "cell_type": "markdown",
   "metadata": {},
   "source": [
    "### 1. 전처리 "
   ]
  },
  {
   "cell_type": "markdown",
   "metadata": {},
   "source": [
    "##### Location_1 수정 "
   ]
  },
  {
   "cell_type": "code",
   "execution_count": null,
   "metadata": {},
   "outputs": [],
   "source": [
    "# 데이터 불러오기 \n",
    "df=pd.read_csv('combined_review_reservation_data.csv')\n",
    "df.head()"
   ]
  },
  {
   "cell_type": "code",
   "execution_count": null,
   "metadata": {},
   "outputs": [],
   "source": [
    "# 위치 데이터 데이팅 및 수정 \n",
    "# << Location_1 >>\n",
    "\n",
    "# 삭제 데이터: \n",
    "# 1. 글렌알라키 인 서울 : 삭제. 4월에 일시적으로 진행된 팝업행사였음 \n",
    "# 2. df['Name']=='난로 인사이트 2024' ==> 식당이 아닌 것 같아 삭제 대상. 강연 같음 \n",
    "df.drop(df[df['Name']=='글렌알라키 인 서울'].index, inplace=True)\n",
    "df.drop(df[df['Name']=='난로 인사이트 2024'].index, inplace=True)\n",
    "\n",
    "#  Location Null값인 하기 데이터 아래와 같이 수정 (구 기준으로 먼저, 이후 동 기준 데이터 추가)\n",
    "# df['Name']=='솔솥 경의선숲길점' ==> 마포구 염리동\n",
    "# df['Name']=='토리키치 압구정로데오점' ==> 강남구 신사동\n",
    "# df['Name']=='숙성주당' ==> 영등포 문래동\n",
    "# df['Name']=='상록회관 연탄구이 신림역점' ==> 관악구 신림동\n",
    "df.loc[df['Name'] == '솔솥 경의선숲길점', 'Location'] = '마포'\n",
    "df.loc[df['Name'] == '토리키치 압구정로데오점', 'Location'] = '강남'\n",
    "df.loc[df['Name'] == '숙성주당', 'Location'] = '영등포'\n",
    "df.loc[df['Name'] == '상록회관 연탄구이 신림역점', 'Location'] = '관악'"
   ]
  },
  {
   "cell_type": "code",
   "execution_count": null,
   "metadata": {},
   "outputs": [],
   "source": [
    "# 위치 카테고리 대분류 정리 (Location_1 열 생성하여 추가할 내용)\n",
    "location_c={\n",
    "    '강남구': ['도산공원','압구정로데오','강남','신사','삼성','청담','가로수길','역삼','압구정','논현','대치','개포','도곡','선릉','매봉','강남구청','선정릉',\n",
    "                '삼성동', '일원','수서','가로수','개포동'],\n",
    "    '강동구': ['성내','천호','명일','암사','길동','고덕','둔촌동','상일'],\n",
    "    '강북구': ['수유','강북','미아','우이동'],\n",
    "    '강서구': ['마곡', '등촌','방화','강서','장승배기','발산','등촌동','김포공항'],\n",
    "    '관악구': ['서울대입구','샤로수길','신림','관악','봉천','서울대학교','낙성대'],\n",
    "    '광진구': ['군자','건대','광장동','구의','중곡','자양','뚝섬'],\n",
    "    '구로구': ['구로','신도림','구로디지털단지','고척','개봉'],\n",
    "    '금천구': ['금천','가산디지털단지','독산', '가산','시흥'],\n",
    "    '노원구': ['공릉','하계','상계','월계','중계','노원'],\n",
    "    '도봉구': ['창동','쌍문','도봉'],\n",
    "    '동대문구': ['청량리','회기','장안','이문','신설동','동대문','전농','답십리'],\n",
    "    '동작구': ['사당','노량진','상도','보라매','신대방','이수','동작','흑석'],\n",
    "    '마포구': ['합정','연남','상수','망원','마포','홍대','공덕','상암','이대','서교','도화','연','신수'],\n",
    "    '서대문구': ['신촌','연희','충정로','서대문','독립문'],\n",
    "    '서초구': ['반포','서초','방배','교대','양재','서래마을','잠원', '반포동','솔빛섬','청계산'],\n",
    "    '성동구': ['서울숲','성수','왕십리','옥수','상왕십리','금호','하왕십리', '행당','마장','서울'],\n",
    "    '성북구': ['성신여대','보문','하월곡','정릉','동소문','성북','안암','동선','장위', '고려대','석관'],\n",
    "    '송파구': ['잠실','석촌','송파','문정','방이','가락','잠실새내','송리단길', '올림픽공원'],\n",
    "    '양천구': ['목동','오금','신정'],\n",
    "    '영등포구': ['영등포','여의도','문래','신길','선유도','당산','양평'],\n",
    "    '용산구': ['삼각지','서울역','남영','신용산','한남','용산','이태원','해방촌','이촌','후암','경리단길'],\n",
    "    '은평구': ['은평','연신내','응암','녹번'],\n",
    "    '종로구': ['안국','삼청','혜화','광화문','북촌','종로','서촌','익선','종로3가','인사동','종각','대학로', '와룡','평창동'],\n",
    "    '중구': ['을지로', '약수', '회현', '명동','장충동','충무로','신당', '시청', '충무'],\n",
    "    '중랑구':['중랑','면목','중화']}"
   ]
  },
  {
   "cell_type": "code",
   "execution_count": null,
   "metadata": {},
   "outputs": [],
   "source": [
    "# location 값을 location_c를 참고하여 location_1 열에 추가 :\n",
    "# 1. 사용자 함수\n",
    "def location_list(location):\n",
    "    for key, values in location_c.items():\n",
    "        if any(value in location for value in values):\n",
    "            return key\n",
    "    return ''\n",
    "\n",
    "df['Location_1']=df['Location'].apply(location_list)\n",
    "df"
   ]
  },
  {
   "cell_type": "code",
   "execution_count": null,
   "metadata": {},
   "outputs": [],
   "source": [
    "# \"서울역\" location_1 수정 \n",
    "df.loc[df['Location']=='서울역', 'Location_1']='용산구'\n",
    "\n",
    "# \"연신내\" location_1 수정\n",
    "df.loc[df['Location']=='연신내', 'Location_1']='은평구' "
   ]
  },
  {
   "cell_type": "markdown",
   "metadata": {},
   "source": [
    "##### Location_2 생성/에디팅"
   ]
  },
  {
   "cell_type": "code",
   "execution_count": null,
   "metadata": {},
   "outputs": [],
   "source": [
    "# 주요 9개 지역구의 세부 지역 디테일 정리를 위해 column 추가 (기존 location과 동일하게 데이터 복사한 후 에디팅 진행)\n",
    "df['Location_2']=df['Location']"
   ]
  },
  {
   "cell_type": "code",
   "execution_count": null,
   "metadata": {},
   "outputs": [],
   "source": [
    "# << Location_2 >>\n",
    "# 주요 9개 지역구의 세부 지역 디테일 확인을 위한 Location 데이터 에디팅:\n",
    "df.loc[df['Location']=='충무', 'Location_2']='충무로'\n",
    "df.loc[df['Location']=='개포동', 'Location_2']='개포'\n",
    "df.loc[df['Location']=='삼성동', 'Location_2']='삼성'\n",
    "df.loc[df['Location']=='서울', 'Location_2']='성수'\n",
    "df.loc[df['Location']=='대학로', 'Location_2']='혜화'\n",
    "df.loc[df['Location']=='신길', 'Location_2']='영등포'\n",
    "df.loc[df['Location']=='올림픽공원', 'Location_2']='방이'\n",
    "df.loc[df['Location']=='동작', 'Location_2']='노량진'\n",
    "df.loc[df['Location']=='이촌', 'Location_2']='신용산/이촌'\n",
    "df.loc[df['Location']=='신용산', 'Location_2']='신용산/이촌'\n",
    "df.loc[df['Location']=='연', 'Location_2']='연남'\n",
    "df.loc[df['Location']=='가로수', 'Location_2']='가로수길'\n",
    "df.loc[df['Location']=='솔빛섬', 'Location_2']='반포'\n",
    "df.loc[df['Location']=='서교', 'Location_2']='홍대'\n",
    "\n",
    "# 강남구 추가 수정: \n",
    "df.loc[df['Location']=='선정릉', 'Location_2']='선릉/선정릉'\n",
    "df.loc[df['Location']=='선릉', 'Location_2']='선릉/선정릉'\n",
    "df.loc[df['Location']=='개포', 'Location_2']='도곡'\n",
    "df.loc[df['Location']=='개포동', 'Location_2']='기타'\n",
    "df.loc[df['Location']=='수서', 'Location_2']='기타'\n",
    "\n",
    "# 마포구 추가 수정 : \n",
    "df.loc[df['Location']=='상왕십리', 'Location_2']='왕십리/상왕십리'\n",
    "df.loc[df['Location']=='왕십리', 'Location_2']='왕십리/상왕십리'\n",
    "\n",
    "# 송파구 추가 수정:\n",
    "df.loc[df['Location']=='송리단길', 'Location_2']='석촌'"
   ]
  },
  {
   "cell_type": "markdown",
   "metadata": {},
   "source": [
    "##### 3. 음식 카테고리 에디팅"
   ]
  },
  {
   "cell_type": "code",
   "execution_count": null,
   "metadata": {},
   "outputs": [],
   "source": [
    "# 음식 카테고리 불량 데이터 에디팅 \n",
    "# Category 이상 데이터 하기와 같이 수정\n",
    "df.loc[df['Category']=='장안', 'Category']='육류'\n",
    "df.loc[df['Category']=='여의도', 'Category']='육류' \n",
    "df.loc[df['Category']=='이태원', 'Category']='와인바' \n",
    "df.loc[df['Category']=='노원', 'Category']='이자카야' \n",
    "df.loc[df['Category']=='역삼', 'Category']='육류'\n",
    "df.loc[df['Category']=='성신여대', 'Category']='이자카야' \n",
    "df.loc[df['Category']=='신사', 'Category']='한식'\n",
    "df.loc[df['Category']=='연남', 'Category']='위스키바'\n",
    "df.loc[df['Category']=='용산', 'Category']='위스키바'\n",
    "df.loc[df['Category']=='신림', 'Category']='육류' \n",
    "df.loc[df['Category']=='마포', 'Category']='한식' \n",
    "df.loc[df['Name']=='토리키치 압구정로데오점','Category']='이자카야'\n",
    "df.loc[df['Name']=='청국장과보리밥 수서점','Category']='한식' \n",
    "df.loc[df['Name']=='꼬따 cotta','Category']='이탈리아 음식' \n",
    "df.loc[df['Name']=='선수촌가든','Category']='육류' \n",
    "df.loc[df['Name']=='레인보우포차 동대문점','Category']='요리주점'\n",
    "df.loc[df['Name']=='진가와 여의도점','Category']='일식'\n",
    "df.loc[df['Name']=='진가와 광화문점','Category']='일식' \n",
    "df.loc[df['Name']=='강남쪽갈비 논현역점','Category']='육류'\n",
    "df.loc[df['Name']=='프렌밀리','Category']='와인바'\n",
    "df.loc[df['Name']=='재즈라운지','Category']='와인바'\n",
    "df.loc[df['Name']=='플랫다이닝카페','Category']='브런치'\n",
    "df.loc[df['Name']=='강호연파 성수 숲속산장점','Category']='샤브샤브' \n",
    "df.loc[df['Name']=='올나잇','Category']='맥주,호프'\n",
    "df.loc[df['Name']=='토리키치 압구정로데오점','Category']='이자카야'\n",
    "df.loc[df['Name']=='토리키치 청담점','Category']='이자카야'\n",
    "df.loc[df['Name']=='야키토리 이크','Category']='이자카야' \n",
    "df.loc[df['Name']=='키친485','Category']='이탈리아 음식'\n",
    "df.loc[df['Name']=='신사만장어','Category']='장어 전문' \n",
    "df.loc[df['Name']=='블루메쯔 노들섬','Category']='유러피안음식' \n",
    "df.loc[df['Name']=='카키바움','Category']='유러피안음식' \n",
    "df.loc[df['Name']=='Rirr','Category']='이탈리아 음식' \n",
    "df.drop(df[df['Name']=='가히 쿠킹클래스'].index, inplace=True) # 삭제 대상. 체험 액티비티임 \n",
    "df.drop(df[df['Name']=='알로소 윈터리빙룸'].index, inplace=True) # 삭제 대상. 정식 식당이 아닌 이벤트성 팝업으로 보임"
   ]
  },
  {
   "cell_type": "markdown",
   "metadata": {},
   "source": [
    "### 2. 분석 및 시각화"
   ]
  },
  {
   "cell_type": "code",
   "execution_count": null,
   "metadata": {},
   "outputs": [],
   "source": [
    "# 주요 9개 지역 별로 세부 지역 밀도 수정 후 재확인:\n",
    "# 식당 밀도 높은 지역 중 세부 지역만 따로 빼기\n",
    "high_density_locations=['강남구','마포구','용산구','성동구','종로구','송파구','중구','영등포구','서초구']\n",
    "df_hdl=df[df['Location_1'].isin(high_density_locations)]\n",
    "df_hdl"
   ]
  },
  {
   "cell_type": "code",
   "execution_count": null,
   "metadata": {},
   "outputs": [],
   "source": [
    "# 주요 9개 지역 개별로 세부 지역 변수화 + 시각화\n",
    "# high_density_locations=['강남구','마포구','용산구','성동구','종로구','송파구','중구','영등포구','서초구']\n",
    "hdl_gangnam=df[df['Location_1']=='강남구']\n",
    "hdl_mapo=df[df['Location_1']=='마포구']\n",
    "hdl_yongsan=df[df['Location_1']=='용산구']\n",
    "hdl_sungdong=df[df['Location_1']=='성동구']\n",
    "hdl_jongro=df[df['Location_1']=='종로구']\n",
    "hdl_songpa=df[df['Location_1']=='송파구']\n",
    "hdl_jonggu=df[df['Location_1']=='중구']\n",
    "hdl_youngdeungpo=df[df['Location_1']=='영등포구']\n",
    "hdl_seocho=df[df['Location_1']=='서초구']"
   ]
  },
  {
   "cell_type": "markdown",
   "metadata": {},
   "source": [
    "##### 주요 9개 지역별 식당 별점"
   ]
  },
  {
   "cell_type": "code",
   "execution_count": null,
   "metadata": {},
   "outputs": [],
   "source": [
    "# 주요 9개 지역별 식당 별점 분포 (박스플롯)\n",
    "df_hdl['Location_1'].unique()\n",
    "\n",
    "# fig, axes=plt.subplots(2,5, figsize=(10,8))\n",
    "# high_density_locations=['강남구','마포구','용산구','성동구','종로구','송파구','중구','영등포구','서초구']\n",
    "order=['강남구','마포구','용산구','성동구','종로구','송파구','중구','영등포구','서초구']\n",
    "\n",
    "plt.figure(figsize=(16,8))\n",
    "plt.title('주요 9개 지역별 식당 별점', fontsize=18)\n",
    "\n",
    "sns.boxplot(x='Location_1', y='Rating', data=df_hdl, order=order, palette='cool')\n",
    "plt.ylabel('별점', fontsize=14)\n",
    "plt.xlabel('지역구', fontsize=14)\n",
    "\n",
    "plt.tight_layout()\n",
    "plt.show()"
   ]
  },
  {
   "cell_type": "code",
   "execution_count": null,
   "metadata": {},
   "outputs": [],
   "source": [
    "# 주요 9개 지역 리뷰수 평균\n",
    "print(df_hdl['Review'].mean().round(1))"
   ]
  },
  {
   "cell_type": "markdown",
   "metadata": {},
   "source": [
    "##### 주요 9개 지역별 식당 평균 리뷰 수"
   ]
  },
  {
   "cell_type": "code",
   "execution_count": null,
   "metadata": {},
   "outputs": [],
   "source": [
    "# 주요 9개 지역별 식당 평균 리뷰 수 (표)\n",
    "df_hdl_average_review=df_hdl.groupby('Location_1')['Review'].mean().round(1).reset_index(name='count')\n",
    "df_hdl_average_review.sort_values(by='count', ascending=False)\n",
    "\n",
    "# 주요 9개 지역별 식당 평균 리뷰 수 (그래프)\n",
    "df_hdl['Location_1'].unique()\n",
    "\n",
    "# fig, axes=plt.subplots(2,5, figsize=(10,8))\n",
    "# high_density_locations=['강남구','마포구','용산구','성동구','종로구','송파구','중구','영등포구','서초구']\n",
    "order=['강남구','마포구','용산구','성동구','종로구','송파구','중구','영등포구','서초구']\n",
    "\n",
    "plt.figure(figsize=(16,8))\n",
    "plt.title('주요 9개 지역별 식당 리뷰 수', fontsize=18)\n",
    "\n",
    "sns.barplot(x='Location_1', y='count', data=df_hdl_average_review, order=order, palette='cool')\n",
    "plt.ylabel('평균 리뷰 수', fontsize=14)\n",
    "plt.xlabel('지역구', fontsize=14)\n",
    "\n",
    "plt.tight_layout()\n",
    "plt.show()"
   ]
  },
  {
   "cell_type": "markdown",
   "metadata": {},
   "source": [
    "##### Top4 지역구 음식 카테고리"
   ]
  },
  {
   "cell_type": "code",
   "execution_count": null,
   "metadata": {},
   "outputs": [],
   "source": [
    "# 주요 지역 4개만 (식당수로 top4 지역)\n",
    "hdl_rating_varied=['강남구', '마포구', '용산구', '성동구']\n",
    "df_hdl_top4=df[df['Location_1'].isin(hdl_rating_varied)]\n",
    "df_hdl_top4.head()"
   ]
  },
  {
   "cell_type": "code",
   "execution_count": null,
   "metadata": {},
   "outputs": [],
   "source": [
    "# top4 지역별 식당의 음식 카테고리 비중 (count로)\n",
    "df_hdl_top4_piv=df_hdl_top4.groupby(['Location_1','Category_1'])['Category'].count().unstack()\n",
    "df_hdl_top4_piv=df_hdl_top4_piv[df_hdl_top4_piv.sum().sort_values(ascending=False).index]\n",
    "\n",
    "location_order=df_hdl_top4_piv.sum(axis=1).sort_values(ascending=False).index\n",
    "df_hdl_top4_piv=df_hdl_top4_piv.loc[location_order]\n",
    "\n",
    "df_hdl_top4_piv"
   ]
  },
  {
   "cell_type": "code",
   "execution_count": null,
   "metadata": {},
   "outputs": [],
   "source": [
    "# top4 지역별 식당의 음식 카테고리 비중 (%)\n",
    "# 데이터프레임 재구성: 각 지역구에서의 음식 카테고리 비율 계산\n",
    "df_hdl_top4_piv_percent = df_hdl_top4_piv.div(df_hdl_top4_piv.sum(axis=1), axis=0) * 100\n",
    "\n",
    "# 비율이 0인 경우 NaN이 되므로 결측치를 0으로 채우기\n",
    "df_hdl_top4_piv_percent = df_hdl_top4_piv_percent.fillna(0)\n",
    "\n",
    "# 정렬: 지역구 크기에 따라 정렬\n",
    "location_order = df_hdl_top4_piv.sum(axis=1).sort_values(ascending=False).index\n",
    "df_hdl_top4_piv_percent = df_hdl_top4_piv_percent.loc[location_order]\n",
    "\n",
    "# 결과 확인\n",
    "print(df_hdl_top4_piv_percent.round(1))"
   ]
  },
  {
   "cell_type": "code",
   "execution_count": null,
   "metadata": {},
   "outputs": [],
   "source": [
    "# top4 지역별 식당의 음식 카테고리 비중 (%) 히트맵\n",
    "df_hdl_top4_piv_filled = df_hdl_top4_piv.fillna(0)\n",
    "\n",
    "# 그래프 크기 설정\n",
    "plt.figure(figsize=(12, 8))\n",
    "\n",
    "# 히트맵 그리기\n",
    "sns.heatmap(df_hdl_top4_piv_filled, cmap='coolwarm', annot=True, fmt='.0f')\n",
    "\n",
    "# 제목과 축 라벨 설정\n",
    "plt.title('Top 4 지역구의 음식 카테고리별 카테고리 개수', fontsize=16)\n",
    "plt.xlabel('음식 카테고리', fontsize=14)\n",
    "plt.ylabel('Location_1', fontsize=14)\n",
    "\n",
    "# 그래프 표시\n",
    "plt.show()"
   ]
  },
  {
   "cell_type": "markdown",
   "metadata": {},
   "source": [
    "##### Top4 지역구 양/한/일식 별점"
   ]
  },
  {
   "cell_type": "code",
   "execution_count": null,
   "metadata": {},
   "outputs": [],
   "source": [
    "# 6. 주요 4개 지역 중 \n",
    "hdl_rating_varied = ['강남구', '마포구', '용산구', '성동구']\n",
    "food_cat = ['양식', '한식', '일식']\n",
    "\n",
    "fig, axes = plt.subplots(1, 4, figsize=(20, 5), sharey=True)\n",
    "plt.suptitle('Top4 지역구의 양식/한식/일식 별점', fontsize=16)\n",
    "\n",
    "for i, loc in enumerate(hdl_rating_varied):\n",
    "    subset = df_hdl[(df_hdl['Location_1'] == loc) & (df_hdl['Category_1'].isin(food_cat))]\n",
    "    sns.boxplot(x='Category_1', y='Rating', data=subset, ax=axes[i], palette='cool')\n",
    "    axes[i].set_title(loc)\n",
    "    axes[i].set_xlabel('음식 카테고리')\n",
    "    axes[i].set_ylabel('별점')\n",
    "\n",
    "plt.tight_layout()\n",
    "plt.show()"
   ]
  },
  {
   "cell_type": "markdown",
   "metadata": {},
   "source": [
    "### 3. 텍스트 분석 "
   ]
  },
  {
   "cell_type": "markdown",
   "metadata": {},
   "source": [
    "현재 진행중. 완료 후 공유 예정"
   ]
  }
 ],
 "metadata": {
  "language_info": {
   "name": "python"
  }
 },
 "nbformat": 4,
 "nbformat_minor": 2
}
