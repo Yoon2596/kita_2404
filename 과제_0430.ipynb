{
  "nbformat": 4,
  "nbformat_minor": 0,
  "metadata": {
    "colab": {
      "provenance": [],
      "authorship_tag": "ABX9TyPvU6Erpj4ZhwaXpPHCCmY/",
      "include_colab_link": true
    },
    "kernelspec": {
      "name": "python3",
      "display_name": "Python 3"
    },
    "language_info": {
      "name": "python"
    }
  },
  "cells": [
    {
      "cell_type": "markdown",
      "metadata": {
        "id": "view-in-github",
        "colab_type": "text"
      },
      "source": [
        "<a href=\"https://colab.research.google.com/github/Yoon2596/kita_2404/blob/main/%EA%B3%BC%EC%A0%9C_0430.ipynb\" target=\"_parent\"><img src=\"https://colab.research.google.com/assets/colab-badge.svg\" alt=\"Open In Colab\"/></a>"
      ]
    },
    {
      "cell_type": "code",
      "execution_count": null,
      "metadata": {
        "id": "a8G4eSiPwlW6",
        "colab": {
          "base_uri": "https://localhost:8080/"
        },
        "outputId": "691564a2-44e6-49d2-e475-7d669b954ef9"
      },
      "outputs": [
        {
          "output_type": "stream",
          "name": "stdout",
          "text": [
            "[('이몽룡', '갑순'), ('철수', '미미'), ('로미오', '줄리엣'), ('갑돌', '성춘향'), ('온돌', '평강')]\n"
          ]
        }
      ],
      "source": [
        "# Task1_0430. 남녀 파트너 정해주기 프로그램(zip)\n",
        "\n",
        "# 같은 수의 남녀 모임에서 파트너를 랜덤하게 정해주는 프로그램을 만들어 보세요\n",
        "\n",
        "male = ['철수','갑돌','로미오','이몽룡','온돌']\n",
        "female = ['미미','갑순','줄리엣','성춘향','평강']\n",
        "\n",
        "import random\n",
        "\n",
        "random.shuffle(male)\n",
        "random.shuffle(female)\n",
        "\n",
        "parter = zip(male,female)\n",
        "print(list(parter))"
      ]
    },
    {
      "cell_type": "code",
      "source": [
        "# Task2_0430. 대문자, 소문자, 숫자를 포함하는 8자리 랜덤 비밀번호를 생성하는 프로그램을 작성하세요.\n",
        "\n",
        "import string, random\n",
        "\n",
        "# 영어 대소문자 모두 포함한 캐릭터 리스트\n",
        "alphabets = list(string.ascii_letters)\n",
        "# print(alphabets)\n",
        "\n",
        "password =[]\n",
        "# random.shuffle(alphabets)\n",
        "# num = random.randint(1,9)\n",
        "# print(alphabets, num)\n",
        "\n",
        "# 모든 영어대소문자와 숫자를 한곳에 넣기\n",
        "for i in range(10):\n",
        "    alphabets.append(i)\n",
        "# print(alphabets)\n",
        "\n",
        "# 캐릭터들 랜덤으로 섞어주기\n",
        "random.shuffle(alphabets)\n",
        "\n",
        "for i in alphabets:\n",
        "    # print(i)\n",
        "    password.append(i)\n",
        "    if len(password) == 8:\n",
        "        break\n",
        "\n",
        "print(password)\n",
        "# print(join(password))"
      ],
      "metadata": {
        "colab": {
          "base_uri": "https://localhost:8080/"
        },
        "id": "CRkfqt_2zEpA",
        "outputId": "b491cba5-f365-40b8-b31c-c071b8078726"
      },
      "execution_count": null,
      "outputs": [
        {
          "output_type": "stream",
          "name": "stdout",
          "text": [
            "['q', 'Q', 'B', 'T', 'G', 'c', 'Y', 'U']\n"
          ]
        }
      ]
    },
    {
      "cell_type": "code",
      "source": [
        "# Task3_0430. 발표자 수를 랜덤하게 출력하는 프로그램을 작성하세요.(발표자 수 입력)\n",
        "\n",
        "kita = ['김성현','황강민','윤호준','류윤선','이상협','박지환','최환욱','서보선','김한결','김도현','김하준',\n",
        "        '김도원','신현진','소지승','이범석','이현석','이명신','박윤경','이도헌','김홍준']\n",
        "\n",
        "import random\n",
        "\n",
        "person = int(input(\"발표자 수를 입력해주세요 : \"))\n",
        "# person = 3\n",
        "\n",
        "# 랜덤한 발표자 섞기\n",
        "random.shuffle(kita)\n",
        "# print(kita)\n",
        "demonst = []\n",
        "# 발표자 수에 따라 랜덤으로 이름 표시\n",
        "for i in range(person):\n",
        "    # print(kita[i])\n",
        "    demonst.append(kita[i])\n",
        "    # print(demonst)\n",
        "print(demonst)"
      ],
      "metadata": {
        "colab": {
          "base_uri": "https://localhost:8080/"
        },
        "id": "P5tvvc9PzGme",
        "outputId": "7e30d4fd-6169-4696-8172-759d6eb6e919"
      },
      "execution_count": null,
      "outputs": [
        {
          "output_type": "stream",
          "name": "stdout",
          "text": [
            "발표자 수를 입력해주세요 : 5\n",
            "['신현진', '김홍준', '김도현', '김한결', '이현석']\n"
          ]
        }
      ]
    },
    {
      "cell_type": "code",
      "source": [
        "# Task4_0430. 사용자로부터 숫자를 입력받아 해당 숫자의 구구단을 출력하는 프로그램을 작성하세요.\n",
        "\n",
        "gugu = int(input('보고 싶은 구구단의 단 숫자를 입력해주세요 :'))\n",
        "# gugu = 2\n",
        "\n",
        "for i in range(1, 10):\n",
        "    print(f'{gugu} * {i} = {gugu * i}')"
      ],
      "metadata": {
        "colab": {
          "base_uri": "https://localhost:8080/"
        },
        "id": "c76971etzJi1",
        "outputId": "2884ade3-3ff6-49cb-eec2-57eff549ee1d"
      },
      "execution_count": null,
      "outputs": [
        {
          "output_type": "stream",
          "name": "stdout",
          "text": [
            "보고 싶은 구구단의 단 숫자를 입력해주세요 :9\n",
            "9 * 1 = 9\n",
            "9 * 2 = 18\n",
            "9 * 3 = 27\n",
            "9 * 4 = 36\n",
            "9 * 5 = 45\n",
            "9 * 6 = 54\n",
            "9 * 7 = 63\n",
            "9 * 8 = 72\n",
            "9 * 9 = 81\n"
          ]
        }
      ]
    },
    {
      "cell_type": "code",
      "source": [
        "# Task5_0430. 사용자로부터 숫자를 입력받아 해당 숫자의 팩토리얼을 계산하세요.\n",
        "#ex) 5! = 5*4*3*2*1= 120\n",
        "\n",
        "facto = int(input('계산하고 싶은 팩토리오 숫자를 입력해주세요 :'))\n",
        "# facto = 5\n",
        "total = 1\n",
        "for i in range(1, facto+1):\n",
        "    total *= i\n",
        "    i += 1\n",
        "    # print(total)\n",
        "print(total)"
      ],
      "metadata": {
        "colab": {
          "base_uri": "https://localhost:8080/"
        },
        "id": "PUI-9DuAzMYh",
        "outputId": "95108a22-61dd-4241-c08a-7c1ccaabe169"
      },
      "execution_count": null,
      "outputs": [
        {
          "output_type": "stream",
          "name": "stdout",
          "text": [
            "계산하고 싶은 팩토리오 숫자를 입력해주세요 :8\n",
            "40320\n"
          ]
        }
      ]
    },
    {
      "cell_type": "code",
      "source": [
        "# Task6_0430. 0부터 20까지의 숫자 중에서 짝수와 홀수를 분리하여 두 개의 리스트에 저장하세요.\n",
        "\n",
        "odd = []\n",
        "even = []\n",
        "\n",
        "for i in range(21):\n",
        "    if i % 2 == 0:\n",
        "        even.append(i)\n",
        "    else:\n",
        "        odd.append(i)\n",
        "\n",
        "print(even)\n",
        "print(odd)\n"
      ],
      "metadata": {
        "colab": {
          "base_uri": "https://localhost:8080/"
        },
        "id": "GR2RkEtozQBe",
        "outputId": "cdffc67c-c3cf-4f0d-e6c8-500f522326a3"
      },
      "execution_count": null,
      "outputs": [
        {
          "output_type": "stream",
          "name": "stdout",
          "text": [
            "[0, 2, 4, 6, 8, 10, 12, 14, 16, 18, 20]\n",
            "[1, 3, 5, 7, 9, 11, 13, 15, 17, 19]\n"
          ]
        }
      ]
    },
    {
      "cell_type": "code",
      "source": [
        "# Task7_0430. 주어진 리스트에서 최대값을 찾아 출력하세요.\n",
        "numbers = [34, 78, 2, 45, 99, 23]\n",
        "\n",
        "# print(max(numbers))\n",
        "max_num = 50\n",
        "for i in range(len(numbers)):\n",
        "    # print(numbers[i])\n",
        "    if max_num < numbers[i]:\n",
        "        max_num = numbers[i]\n",
        "    else:\n",
        "        max_num = max_num\n",
        "\n",
        "print(max_num)"
      ],
      "metadata": {
        "colab": {
          "base_uri": "https://localhost:8080/"
        },
        "id": "Qi-hdMTVzRq9",
        "outputId": "a8ab9ba6-3983-4168-ad6c-75528fd13ba0"
      },
      "execution_count": null,
      "outputs": [
        {
          "output_type": "stream",
          "name": "stdout",
          "text": [
            "99\n"
          ]
        }
      ]
    },
    {
      "cell_type": "code",
      "source": [
        "\n",
        "# Task8_0430.  1부터 10 사이의 임의의 숫자를 맞추는 게임을 만드세요. 사용자가 숫자를 맞출 때까지 입력을 계속 받으며, 정답을 맞추면 게임을 종료하세요.\n",
        "import random\n",
        "\n",
        "\n",
        "while True:\n",
        "    # 랜덤한 1 ~ 9 숫자 중 한개를 정합니다 (정답)\n",
        "    goal = random.randint(1, 9)\n",
        "\n",
        "    # 사용자로 부터 예상 숫자를 받습니다\n",
        "    user_num = int(input('1 ~ 9 중 예상 숫자를 하나 적어주세요 : '))\n",
        "    # user_num = 7\n",
        "\n",
        "    #사용자 숫자가 클 시\n",
        "    if user_num > goal:\n",
        "        print('더 작은 수를 넣어주세요')\n",
        "    #사용자 숫자가 작을 시\n",
        "    elif user_num < goal:\n",
        "        print('더 큰 수를 넣어주세요')\n",
        "    else:\n",
        "        print('정답입니다')\n",
        "        break"
      ],
      "metadata": {
        "colab": {
          "base_uri": "https://localhost:8080/"
        },
        "id": "3TtlqWnizRvx",
        "outputId": "445575c3-3425-480e-9f70-1d858a433442"
      },
      "execution_count": null,
      "outputs": [
        {
          "output_type": "stream",
          "name": "stdout",
          "text": [
            "1 ~ 9 중 예상 숫자를 하나 적어주세요 : 7\n",
            "더 작은 수를 넣어주세요\n",
            "1 ~ 9 중 예상 숫자를 하나 적어주세요 : 4\n",
            "더 큰 수를 넣어주세요\n",
            "1 ~ 9 중 예상 숫자를 하나 적어주세요 : 6\n",
            "정답입니다\n"
          ]
        }
      ]
    },
    {
      "cell_type": "code",
      "source": [
        "# Task9_0430. 태어난 연도를 입력받아 띠를 출력하는 프로그램을 작성하세요.\n",
        "\n",
        "years = int(input('태어난 연도를 입력하면 해당 년도의 띠를 출력합니다 : '))\n",
        "# years = 1992\n",
        "\n",
        "# zodiac = ['쥐띠', '소띠', '호랑이띠', '토끼띠', '용띠', '뱀띠', '말띠', '양띠', '원숭이띠', '닭띠', '개띠', '돼지띠']\n",
        "\n",
        "# 1992를 12로 나눴을 떄 0으로 딱 떨어짐 (해당 년도는 원숭이띠)\n",
        "# i = years % 12\n",
        "# print(i)\n",
        "\n",
        "#원숭이띠를 기준점 0으로 잡음\n",
        "zodiac = ['원숭이띠', '닭띠', '개띠', '돼지띠', '쥐띠', '소띠', '호랑이띠', '토끼띠', '용띠', '뱀띠', '말띠', '양띠']\n",
        "\n",
        "result = years % 12\n",
        "\n",
        "print(f'해당 년도는 {zodiac[result]}입니다')"
      ],
      "metadata": {
        "colab": {
          "base_uri": "https://localhost:8080/"
        },
        "id": "cwX9V8W4zXj2",
        "outputId": "4d37cd9d-6642-4443-ca4b-809db4f8ced4"
      },
      "execution_count": null,
      "outputs": [
        {
          "output_type": "stream",
          "name": "stdout",
          "text": [
            "태어난 연도를 입력하면 해당 년도의 띠를 출력합니다 : 1964\n",
            "해당 년도는 용띠입니다\n"
          ]
        }
      ]
    },
    {
      "cell_type": "code",
      "source": [
        "# Task10_0430. 아래 사항을 반영하여 커피 자판기 프로그램을 작성하세요.\n",
        "# - 시나리오 : 자판기 커피 재고 5잔, 커피 1잔 가격 300원, 재고 범위내에서 300원 이상 돈을 넣으면 거스름돈과 커피를 주고 그렇지 않으면 반환하며 재고가 소진되면 안내멘트 출력\n",
        "# - 각 Case별 멘트 출력은 상황에 맞게 창작\n",
        "# - while, if ~ elif ~ else 제어문을 사용하여 작성\n",
        "\n",
        "stock = 5\n",
        "coffee = 300\n",
        "while True:\n",
        "    try:\n",
        "        money = int(input('투입한 금액을 적어주세요 : '))\n",
        "        # money = 2000\n",
        "        # 돈에 따라 잔 계산\n",
        "        i = money // coffee\n",
        "        if i > 0:\n",
        "\n",
        "            if i <= stock:\n",
        "                print(f'거스름돈 ${money - coffee*i}와 커피 {i}잔입니다')\n",
        "                break\n",
        "            else:\n",
        "                print(f'거스름돈 ${money - coffee*stock}와 커피 {stock}잔입니다')\n",
        "                break\n",
        "        else:\n",
        "            print('잔액이 부족합니다')\n",
        "            break\n",
        "    except ValueError:\n",
        "        print(\"정수를 넣어주세요\")"
      ],
      "metadata": {
        "colab": {
          "base_uri": "https://localhost:8080/"
        },
        "id": "MTrPYJIlzX3E",
        "outputId": "ef6160e7-bc36-49ae-e4d4-e93e3f777467"
      },
      "execution_count": null,
      "outputs": [
        {
          "output_type": "stream",
          "name": "stdout",
          "text": [
            "투입한 금액을 적어주세요 : ㅣㅁㄴㅇㄹ\n",
            "정수를 넣어주세요\n",
            "투입한 금액을 적어주세요 : fsdaf\n",
            "정수를 넣어주세요\n",
            "투입한 금액을 적어주세요 : 16.123\n",
            "정수를 넣어주세요\n",
            "투입한 금액을 적어주세요 : 1230\n",
            "거스름돈 $30와 커피 4잔입니다\n"
          ]
        }
      ]
    }
  ]
}