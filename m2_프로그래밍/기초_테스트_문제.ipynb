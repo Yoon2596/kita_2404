{
  "nbformat": 4,
  "nbformat_minor": 0,
  "metadata": {
    "colab": {
      "provenance": []
    },
    "kernelspec": {
      "name": "python3",
      "display_name": "Python 3"
    },
    "language_info": {
      "name": "python"
    }
  },
  "cells": [
    {
      "cell_type": "code",
      "source": [
        "%pwd"
      ],
      "metadata": {
        "colab": {
          "base_uri": "https://localhost:8080/",
          "height": 35
        },
        "id": "rDdtiKNVm3Pr",
        "outputId": "114807fe-b485-4cc9-9afa-504c3579b1f3"
      },
      "execution_count": null,
      "outputs": [
        {
          "output_type": "execute_result",
          "data": {
            "text/plain": [
              "'/content'"
            ],
            "application/vnd.google.colaboratory.intrinsic+json": {
              "type": "string"
            }
          },
          "metadata": {},
          "execution_count": 2
        }
      ]
    },
    {
      "cell_type": "markdown",
      "source": [
        "Q1. 변수 x에 숫자 10을 할당하고, 변수 y에 문자열 \"hello\"를 할당한 뒤, 두 변수를 출력하세요."
      ],
      "metadata": {
        "id": "pM0D3MuAcbKi"
      }
    },
    {
      "cell_type": "code",
      "source": [
        "# 변수 x 할당\n",
        "x = 10\n",
        "# 변수 y 할당\n",
        "y = 'hello'\n",
        "# 출력\n",
        "print(x, y)"
      ],
      "metadata": {
        "id": "tgX8zUpkeJnB",
        "colab": {
          "base_uri": "https://localhost:8080/"
        },
        "outputId": "f7de6a37-6c02-4da8-e631-1c4a922b57e4"
      },
      "execution_count": null,
      "outputs": [
        {
          "output_type": "stream",
          "name": "stdout",
          "text": [
            "10 hello\n"
          ]
        }
      ]
    },
    {
      "cell_type": "markdown",
      "source": [
        "Q2. 숫자가 양수인지 음수인지를 판별하는 조건문을 작성하세요."
      ],
      "metadata": {
        "id": "FpcciTxrcjCh"
      }
    },
    {
      "cell_type": "code",
      "source": [
        "# 사용자 숫자 넣기\n",
        "num = int(input('숫자를 넣어주세요 :'))\n",
        "# 숫자 확인\n",
        "# print(num)\n",
        "# 양수 판별\n",
        "if num > 0:\n",
        "    print('양수입니다')\n",
        "# 0 일때\n",
        "elif num == 0:\n",
        "    print('0 입니다')\n",
        "# 음수 반별\n",
        "else:\n",
        "    print('음수입니다')"
      ],
      "metadata": {
        "id": "uFeA2YNpeKJY",
        "colab": {
          "base_uri": "https://localhost:8080/"
        },
        "outputId": "18615b0e-3afc-451d-b9c5-f983db891027"
      },
      "execution_count": null,
      "outputs": [
        {
          "output_type": "stream",
          "name": "stdout",
          "text": [
            "숫자를 넣어주세요 :5\n",
            "양수입니다\n"
          ]
        }
      ]
    },
    {
      "cell_type": "markdown",
      "source": [
        "Q3. 리스트 [1, 2, 3, 4, 5]의 각 요소를 출력하는 반복문을 작성하세요.\n"
      ],
      "metadata": {
        "id": "1GFgMet1cvyU"
      }
    },
    {
      "cell_type": "code",
      "source": [
        "# 리스트 1 2 3 4 5 제작\n",
        "li = [1, 2, 3, 4, 5]\n",
        "\n",
        "# 반복문\n",
        "for i in li:\n",
        "    print(i)"
      ],
      "metadata": {
        "id": "rPKSq830eKgu",
        "colab": {
          "base_uri": "https://localhost:8080/"
        },
        "outputId": "acce0ea5-294e-4d8a-c606-bde4ec4c0ba3"
      },
      "execution_count": null,
      "outputs": [
        {
          "output_type": "stream",
          "name": "stdout",
          "text": [
            "1\n",
            "2\n",
            "3\n",
            "4\n",
            "5\n"
          ]
        }
      ]
    },
    {
      "cell_type": "markdown",
      "source": [
        "Q4. 두 숫자를 입력받아 더하는 함수 add를 정의하고 호출하세요."
      ],
      "metadata": {
        "id": "CwYl86gvc6-G"
      }
    },
    {
      "cell_type": "code",
      "source": [
        "# add 함수 정의\n",
        "def add(num1, num2):\n",
        "    return num1 + num2\n",
        "\n",
        "# add함수에 숫자를 2개 넣어 출력\n",
        "print(add(64, 123))"
      ],
      "metadata": {
        "id": "5UVoXCY8eGew",
        "colab": {
          "base_uri": "https://localhost:8080/"
        },
        "outputId": "e40633d9-cb85-4665-ea6d-32b20dff6f0b"
      },
      "execution_count": null,
      "outputs": [
        {
          "output_type": "stream",
          "name": "stdout",
          "text": [
            "187\n"
          ]
        }
      ]
    },
    {
      "cell_type": "markdown",
      "source": [
        "Q5. 문자열 \"hello\"에서 처음 세 문자를 슬라이싱하여 출력하세요."
      ],
      "metadata": {
        "id": "NeWAyeEsdFO-"
      }
    },
    {
      "cell_type": "code",
      "source": [
        "# 문자열 hello 제작\n",
        "string1 = 'hello'\n",
        "\n",
        "# 슬라이싱[start:end:step]\n",
        "print(string1[:3])\n"
      ],
      "metadata": {
        "id": "8wNBnI92eLZn",
        "colab": {
          "base_uri": "https://localhost:8080/"
        },
        "outputId": "32ba8b5f-e88b-47c9-d0c9-2f1e5adf798f"
      },
      "execution_count": null,
      "outputs": [
        {
          "output_type": "stream",
          "name": "stdout",
          "text": [
            "hel\n"
          ]
        }
      ]
    },
    {
      "cell_type": "markdown",
      "source": [
        "Q6. 주어진 정수 리스트에서 가장 자주 등장하는 숫자(최빈값)를 찾아 반환하는 함수를 작성하세요. 만약 최빈값이 여러 개라면, 그 중 가장 작은 숫자를 반환하세요.\n",
        "\n",
        "numbers = [1, 3, 2, 3, 4, 1, 3, 3]"
      ],
      "metadata": {
        "id": "4ZK2lZ8UdTRV"
      }
    },
    {
      "cell_type": "code",
      "source": [
        "# numbers = [1, 3, 2, 3, 4, 1, 3, 3]\n",
        "# lowest = 0\n",
        "# count = 0\n",
        "\n",
        "# def mostNum():\n",
        "#     # 내부 숫자만큼 반복문 돌리기\n",
        "#     for i in 9:\n",
        "#         i += 1\n",
        "#         print(i)\n",
        "\n",
        "\n",
        "def mostNum(numbers):\n",
        "    from collections import Counter\n",
        "    count = Counter(numbers)\n",
        "    max_freq = max(count.values())\n",
        "    frequent_num = [num for num, freq in count.items() if freq == max_freq]\n",
        "    return min(frequent_num)\n",
        "\n",
        "\n",
        "\n",
        "# # 예제\n",
        "numbers = [1, 3, 2, 3, 4, 1, 3, 3]\n",
        "print(mostNum(numbers))"
      ],
      "metadata": {
        "id": "6YnaPjx2eMLg",
        "colab": {
          "base_uri": "https://localhost:8080/"
        },
        "outputId": "af0eb3bf-b4a1-4592-8a54-ff1e2fe80312"
      },
      "execution_count": null,
      "outputs": [
        {
          "output_type": "stream",
          "name": "stdout",
          "text": [
            "3\n"
          ]
        }
      ]
    },
    {
      "cell_type": "markdown",
      "source": [
        "Q7. 딕셔너리 person에서 키 \"name\"의 값을 출력하세요."
      ],
      "metadata": {
        "id": "hM7_9KsMdaKj"
      }
    },
    {
      "cell_type": "code",
      "source": [
        "# dic = {'person' : 'name'}\n",
        "\n",
        "# dic['person']\n",
        "\n",
        "person = {'name' : 'John', 'age' : '30'}\n",
        "print(person['name'])"
      ],
      "metadata": {
        "id": "7BuRcX4ieMqB",
        "colab": {
          "base_uri": "https://localhost:8080/",
          "height": 35
        },
        "outputId": "8690d07d-79f8-47d8-dfe8-fca0f28b26a0"
      },
      "execution_count": null,
      "outputs": [
        {
          "output_type": "execute_result",
          "data": {
            "text/plain": [
              "'John'"
            ],
            "application/vnd.google.colaboratory.intrinsic+json": {
              "type": "string"
            }
          },
          "metadata": {},
          "execution_count": 23
        }
      ]
    },
    {
      "cell_type": "markdown",
      "source": [
        "Q8. 이름과 나이를 입력받아 \"Hello, [name]. You are [age] years old.\" 형식으로 출력하세요."
      ],
      "metadata": {
        "id": "CWt0HW7Jdg7f"
      }
    },
    {
      "cell_type": "code",
      "source": [
        "# 이름 입력\n",
        "name = str(input('이름을 입력해주세요 : '))\n",
        "\n",
        "# 나이 입력\n",
        "age = int(input('나이를 입력해주세요 : '))\n",
        "\n",
        "# 출력1\n",
        "print(f'Hello, {name}. You are {age} years old')\n",
        "\n",
        "# 출력2\n",
        "# print('Hello, {}. You are {} years old'.format(name, age))"
      ],
      "metadata": {
        "id": "mzr1N3AoeNKa",
        "colab": {
          "base_uri": "https://localhost:8080/"
        },
        "outputId": "15d4c7a9-f6b6-4442-b51e-c628375b985d"
      },
      "execution_count": null,
      "outputs": [
        {
          "output_type": "stream",
          "name": "stdout",
          "text": [
            "이름을 입력해주세요 : 윤선\n",
            "나이를 입력해주세요 : 30\n",
            "Hello, 윤선. You are 30 years old\n"
          ]
        }
      ]
    },
    {
      "cell_type": "markdown",
      "source": [
        "Q9. 0부터 9까지 숫자 중에서 홀수만 포함하는 리스트를 리스트 컴프리헨션을 사용하여 생성하세요."
      ],
      "metadata": {
        "id": "02KDybr3dqtW"
      }
    },
    {
      "cell_type": "code",
      "source": [
        "odds = [x for x in range(10) if x % 2 != 0]\n",
        "print(odds)"
      ],
      "metadata": {
        "id": "XymAHmcKeNqc",
        "colab": {
          "base_uri": "https://localhost:8080/"
        },
        "outputId": "2c91f340-4808-44c6-c0f8-d6790c95756e"
      },
      "execution_count": null,
      "outputs": [
        {
          "output_type": "stream",
          "name": "stdout",
          "text": [
            "[1, 3, 5, 7, 9]\n"
          ]
        }
      ]
    },
    {
      "cell_type": "markdown",
      "source": [
        "Q10. 숫자를 0으로 나누려 할 때 발생하는 예외를 처리하는 코드를 작성하세요."
      ],
      "metadata": {
        "id": "KKQXaGGBdyuO"
      }
    },
    {
      "cell_type": "code",
      "source": [
        "try:\n",
        "    result = 10 / 0\n",
        "\n",
        "except ZeroDivisionError:\n",
        "    print('0으로 나눌 수 없습니다')"
      ],
      "metadata": {
        "id": "AMBKeJNkeN_A",
        "colab": {
          "base_uri": "https://localhost:8080/"
        },
        "outputId": "29c87b2e-1044-490a-e9d7-1f1fc48bc392"
      },
      "execution_count": null,
      "outputs": [
        {
          "output_type": "stream",
          "name": "stdout",
          "text": [
            "0으로 나눌 수 없습니다\n"
          ]
        }
      ]
    }
  ]
}