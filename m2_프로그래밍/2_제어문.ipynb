{
  "nbformat": 4,
  "nbformat_minor": 0,
  "metadata": {
    "colab": {
      "provenance": [],
      "toc_visible": true,
      "authorship_tag": "ABX9TyPILOvWJnh657Dp71EFneM7",
      "include_colab_link": true
    },
    "kernelspec": {
      "name": "python3",
      "display_name": "Python 3"
    },
    "language_info": {
      "name": "python"
    }
  },
  "cells": [
    {
      "cell_type": "markdown",
      "metadata": {
        "id": "view-in-github",
        "colab_type": "text"
      },
      "source": [
        "<a href=\"https://colab.research.google.com/github/Yoon2596/kita_2404/blob/main/m2_%ED%94%84%EB%A1%9C%EA%B7%B8%EB%9E%98%EB%B0%8D/2_%EC%A0%9C%EC%96%B4%EB%AC%B8.ipynb\" target=\"_parent\"><img src=\"https://colab.research.google.com/assets/colab-badge.svg\" alt=\"Open In Colab\"/></a>"
      ]
    },
    {
      "cell_type": "markdown",
      "source": [
        "- 조건문 : if, if ~ elif ~ else\n",
        "- 이중 조건문\n",
        "- 반복문 : for, while\n",
        "- 제어문 키워드 : break, continue\n",
        "- 조건 반복 결합\n",
        "- random 모듈 : random, randint, randrange, choice, shuffle, sample, uniform, gauss\n",
        "- 프로그래밍"
      ],
      "metadata": {
        "id": "B_2t0Pvqklss"
      }
    },
    {
      "cell_type": "markdown",
      "source": [
        "제어문(control statement)은 프로그램의 흐름을 제어하는데 사용\n",
        "\n",
        "#### 조건문 (Conditional Statements):\n",
        "- if: 특정 조건이 참(True)일 때 코드 블록을 실행\n",
        "    - 조건은 비교 연산자(==, !=, <, >, <=, >=)와 논리 연산자(and, or, not)를 사용하여 표현할 수 있다\n",
        "- elif: 이전의 if 또는 elif 조건이 거짓(False)일 때 다른 조건을 검사\n",
        "    - elif는 'else if'의 축약형으로, 이전 if 또는 elif 문의 조건이 거짓(False)일 때 다른 조건을 검사\n",
        "    - 여러 elif 문을 사용하여 다양한 조건을 검사할 수 있다\n",
        "- else:\n",
        "    - 이전의 if 또는 elif 문의 조건이 모두 거짓일 때 실행할 코드 블록을 지정"
      ],
      "metadata": {
        "id": "VvXj8ojg8r4K"
      }
    },
    {
      "cell_type": "code",
      "source": [
        "x = 10\n",
        "if x > 5:\n",
        "    print('x는 5보다 큽니다')\n",
        "elif x == 5:\n",
        "    print('x는 5입니다')\n",
        "else:\n",
        "    print('x는 5보다 작습니다')\n",
        "\n",
        "if x >+ 5:\n",
        "    print('x는 5보다 크거나 작습니다')\n",
        "else:\n",
        "    print('x는 5보다 작습니다')"
      ],
      "metadata": {
        "colab": {
          "base_uri": "https://localhost:8080/"
        },
        "id": "-CEWYuGG8tlH",
        "outputId": "514976fa-f7c2-40ff-b4d3-fb2cd30a9bd9"
      },
      "execution_count": null,
      "outputs": [
        {
          "output_type": "stream",
          "name": "stdout",
          "text": [
            "x는 5보다 큽니다\n",
            "x는 5보다 크거나 작습니다\n"
          ]
        }
      ]
    },
    {
      "cell_type": "code",
      "source": [
        "# 각 조건이 서로 독립적일때 if문을 연속해서 사용\n",
        "\n",
        "x = 10\n",
        "y = 5\n",
        "\n",
        "if x > 5:\n",
        "    print(\"x는 5보다 큽니다\")\n",
        "if y < 10:\n",
        "    print(\"y는 10보다 작습니다\")\n",
        "if x > y:\n",
        "    print('x는 y보다 큽니다')"
      ],
      "metadata": {
        "colab": {
          "base_uri": "https://localhost:8080/"
        },
        "id": "NU3BV4HoR3Ck",
        "outputId": "acee1233-d193-482e-ab68-c642b42fdeaa"
      },
      "execution_count": null,
      "outputs": [
        {
          "output_type": "stream",
          "name": "stdout",
          "text": [
            "x는 5보다 큽니다\n",
            "y는 10보다 작습니다\n",
            "x는 y보다 큽니다\n"
          ]
        }
      ]
    },
    {
      "cell_type": "code",
      "source": [
        "x = 10\n",
        "y = 5\n",
        "\n",
        "if x > 5:\n",
        "    if y >= 3:\n",
        "        print(\"x는 5보다 크고 y는 3보다 크거나 같습니다\")\n",
        "    else:\n",
        "        print(\"x는 5보다 크고 y는 3보다 작습니다\")\n",
        "else:\n",
        "    print('x는 5보다 작거나 같습니다')"
      ],
      "metadata": {
        "id": "FS3w535UTXGQ"
      },
      "execution_count": null,
      "outputs": []
    },
    {
      "cell_type": "code",
      "source": [
        "#Q 이중 조건문을 사용하여 코드를 작성하세요 (조건 내용은 자유, 단 if문, if~elif문~else 복수로 사용)\n",
        "\n",
        "사람1 = 10\n",
        "사람2 = 5\n",
        "사람3 = 3\n",
        "# print('사람1')\n",
        "\n",
        "if 사람1 > 사람2:\n",
        "    print(\"사람1이 더 빠르다\")\n",
        "    if 사람2 > 사람3:\n",
        "        print('사람3이 가장 느리다')\n",
        "    elif 사람2 < 사람3:\n",
        "        print('사람2가 가장 느리다')\n",
        "    else:\n",
        "        print('사람1이 가장 빠르다')\n",
        "\n",
        "\n",
        "score = int(input(\"점수를 입력하세요 : \"))\n",
        "\n",
        "if score < 70:\n",
        "    print('채점을 진행하지 않습니다')\n",
        "else:\n",
        "    if score >= 90:\n",
        "        print('A')\n",
        "    elif score >= 80:\n",
        "        print('B')\n",
        "    else:\n",
        "        print('C')"
      ],
      "metadata": {
        "colab": {
          "base_uri": "https://localhost:8080/"
        },
        "id": "np_lSEj3UCDc",
        "outputId": "0215e162-4ec1-4f51-d7ff-90f9689fa652"
      },
      "execution_count": null,
      "outputs": [
        {
          "output_type": "stream",
          "name": "stdout",
          "text": [
            "사람1이 더 빠르다\n",
            "사람3이 가장 느리다\n",
            "점수를 입력하세요 : 74\n",
            "C\n"
          ]
        }
      ]
    },
    {
      "cell_type": "code",
      "source": [
        "#Q listdata = ['a', 'b', 'c]에서 조건문을 이용해서 아래와 같이 출력하세요\n",
        "\n",
        "# a가 listdata에 있습니다\n",
        "# b가 listdata에 있습니다\n",
        "# c가 listdata에 있습니다\n",
        "\n",
        "listdata = ['a', 'b', 'c']\n",
        "\n",
        "if 'a'in listdata:\n",
        "    print('a가 listdata에 있습니다')\n",
        "if 'b'in listdata:\n",
        "    print('b가 listdata에 있습니다')\n",
        "if 'c'in listdata:\n",
        "    print('c가 listdata에 있습니다')\n",
        "\n",
        "print('\\n')\n",
        "\n",
        "for i in listdata:\n",
        "    if i in listdata:\n",
        "        print(f'{i}가 listdata에 있습니다')\n",
        "\n"
      ],
      "metadata": {
        "colab": {
          "base_uri": "https://localhost:8080/"
        },
        "id": "hckkYPBFYSAS",
        "outputId": "089d13cf-f8db-4d56-a23f-fa1b3b4c8076"
      },
      "execution_count": null,
      "outputs": [
        {
          "output_type": "stream",
          "name": "stdout",
          "text": [
            "a가 listdata에 있습니다\n",
            "b가 listdata에 있습니다\n",
            "c가 listdata에 있습니다\n",
            "\n",
            "\n",
            "a가 listdata에 있습니다\n",
            "b가 listdata에 있습니다\n",
            "c가 listdata에 있습니다\n"
          ]
        }
      ]
    },
    {
      "cell_type": "code",
      "source": [
        "#Q \"돈이 있으면 택시를 타고, 돈이 없으면 걸어 간다\"를 만족하는 조건문을 작성하세요\n",
        "\n",
        "mes1 = \"수중에 있는 돈 액수를 적어주세요 : \"\n",
        "\n",
        "money = int(input(mes1))\n",
        "\n",
        "# 수중에 돈이 10000원 이상이면 택시\n",
        "if money >= 10000:\n",
        "    print(\"택시를 탄다\")\n",
        "else:\n",
        "    print(\"걸어간다\")\n",
        "\n",
        "# 10000원 이하면 걸어간다"
      ],
      "metadata": {
        "colab": {
          "base_uri": "https://localhost:8080/"
        },
        "id": "3HgJzAG7aDsz",
        "outputId": "14c19596-e29b-42e5-ad80-3e44451f2b5d"
      },
      "execution_count": null,
      "outputs": [
        {
          "output_type": "stream",
          "name": "stdout",
          "text": [
            "수중에 있는 돈 액수를 적어주세요 : 132412\n",
            "택시를 탄다\n"
          ]
        }
      ]
    },
    {
      "cell_type": "code",
      "source": [
        "#Q 조건부 표현식을 한줄의 조건문으로 작성하세요\n",
        "\n",
        "score = 70\n",
        "\n",
        "\n",
        "if score >= 60:\n",
        "    message = 'Success'\n",
        "else:\n",
        "    message = \"Failure\"\n",
        "\n",
        "print(message)\n",
        "\n",
        "\n",
        "['sucess' if score >= 60 else 'failure']"
      ],
      "metadata": {
        "colab": {
          "base_uri": "https://localhost:8080/"
        },
        "id": "eDQNWFmVfVPY",
        "outputId": "5a9f8750-f67e-4323-9dad-e030f965d964"
      },
      "execution_count": null,
      "outputs": [
        {
          "output_type": "stream",
          "name": "stdout",
          "text": [
            "Success\n"
          ]
        },
        {
          "output_type": "execute_result",
          "data": {
            "text/plain": [
              "['sucess']"
            ]
          },
          "metadata": {},
          "execution_count": 120
        }
      ]
    },
    {
      "cell_type": "code",
      "source": [
        "#Q 수입과 지출금액을 비교해서 수입이 많으면 저축 증가, 반대면 빚이 증가\" 프로그램 작성\n",
        "# 수입 지출 입력\n",
        "\n",
        "income = int(input(\"수입 금액을 적어주세요 : \"))\n",
        "spend = int(input(\"지출 금액을 적어주세요 : \"))\n",
        "\n",
        "if income > spend:\n",
        "    print(f'{income - spend}만큼 저축 증가')\n",
        "elif income == spend:\n",
        "    print('변화 없습니다')\n",
        "else:\n",
        "    print(f'{spend - income}만큼 빚 증가')"
      ],
      "metadata": {
        "colab": {
          "base_uri": "https://localhost:8080/"
        },
        "id": "bGEkr4g2gDS2",
        "outputId": "37b8028c-17e5-49f9-b18f-e449c9e63301"
      },
      "execution_count": null,
      "outputs": [
        {
          "output_type": "stream",
          "name": "stdout",
          "text": [
            "수입 금액을 적어주세요 : 20000\n",
            "지출 금액을 적어주세요 : 65000\n",
            "45000만큼 빚 증가\n"
          ]
        }
      ]
    },
    {
      "cell_type": "markdown",
      "source": [
        "#### 반복문 (Loop Statements):\n",
        "- for: 시퀀스(리스트, 튜플, 문자열 등)의 아이템을 순회하면서 코드 블록을 실행\n",
        "- while: 특정 조건이 참인 동안 코드 블록을 반복하여 실행"
      ],
      "metadata": {
        "id": "iaWwtSeuheH4"
      }
    },
    {
      "cell_type": "code",
      "source": [
        "# for 루프는 시퀸스(리스트, 튜플, 문자열 등)나 반복 가능한 객체(iterable)으; 요쇼를 순회\n",
        "\n",
        "for i in range(5):\n",
        "    print(i, end=' ')\n",
        "\n",
        "print('\\n')\n",
        "\n",
        "count = 0\n",
        "\n",
        "while count < 5:\n",
        "    print(count)\n",
        "    count += 1\n",
        "\n"
      ],
      "metadata": {
        "colab": {
          "base_uri": "https://localhost:8080/"
        },
        "id": "TNpdYbelhe0c",
        "outputId": "ad599ead-9f29-470a-b01f-3889d977d9f1"
      },
      "execution_count": null,
      "outputs": [
        {
          "output_type": "stream",
          "name": "stdout",
          "text": [
            "0 1 2 3 4 \n",
            "\n",
            "0\n",
            "1\n",
            "2\n",
            "3\n",
            "4\n"
          ]
        }
      ]
    },
    {
      "cell_type": "code",
      "source": [
        "# 리스트를 순회하는 예\n",
        "for i in [1, 2, 3, 4, 5]:\n",
        "    print(i, end=' ')\n",
        "\n",
        "print('\\n')\n",
        "\n",
        "# 문자열을 순회하는 예\n",
        "for char in 'hello':\n",
        "    print(char, end=' ')\n"
      ],
      "metadata": {
        "colab": {
          "base_uri": "https://localhost:8080/"
        },
        "id": "qKb3Efp5k4uS",
        "outputId": "75ecd0dd-f331-4994-ab12-17fe921e9f51"
      },
      "execution_count": null,
      "outputs": [
        {
          "output_type": "stream",
          "name": "stdout",
          "text": [
            "1 2 3 4 5 \n",
            "\n",
            "h e l l o "
          ]
        }
      ]
    },
    {
      "cell_type": "code",
      "source": [
        "# while 루프는 주어진 조건이 참(True)인 동 안 코드 블록을 반복\n",
        "# 조건이 거짓(False)가 되면 루프가 종료\n",
        "\n",
        "count = 0\n",
        "sum = 0\n",
        "while count < 5:\n",
        "    sum += count\n",
        "    print(sum, end=' ')\n",
        "    count += 1"
      ],
      "metadata": {
        "id": "WZKLQKXelaHn",
        "colab": {
          "base_uri": "https://localhost:8080/"
        },
        "outputId": "b66ff6a2-409b-4e0c-ade8-f53c25a9dc6d"
      },
      "execution_count": null,
      "outputs": [
        {
          "output_type": "stream",
          "name": "stdout",
          "text": [
            "0 1 3 6 10 "
          ]
        }
      ]
    },
    {
      "cell_type": "code",
      "source": [
        "#Q d에서 반복문을 사용하여 97, 98, 99를 출력하세요\n",
        "d = {'a' : 97, 'b':98, 'c':99}\n",
        "\n",
        "for i in d.values():\n",
        "    print(i, end=' ')\n",
        "    print(type(i))\n",
        "\n",
        "print('\\n')\n",
        "\n",
        "for i in d:\n",
        "    print(d[i], end=' ')\n",
        "    print(type(d[i]))"
      ],
      "metadata": {
        "colab": {
          "base_uri": "https://localhost:8080/"
        },
        "id": "i4_El2BLlxeO",
        "outputId": "1370e15a-a751-40c3-e3fd-9b42e22ce477"
      },
      "execution_count": null,
      "outputs": [
        {
          "output_type": "stream",
          "name": "stdout",
          "text": [
            "97 <class 'int'>\n",
            "98 <class 'int'>\n",
            "99 <class 'int'>\n",
            "\n",
            "\n",
            "97 <class 'int'>\n",
            "98 <class 'int'>\n",
            "99 <class 'int'>\n"
          ]
        }
      ]
    },
    {
      "cell_type": "markdown",
      "source": [
        "dict_values 클래스의 이해:\n",
        "- 클래스 정의: 파이썬에서 클래스는 객체를 생성하는 데 사용되는 템플릿. dict_values는 딕셔너리의 값을 보여주는 *뷰 객체*를 생성하는 특별한 내장 클래스.\n",
        "- 뷰 객체: dict_values 객체는 딕셔너리의 값에 대한 동적인 뷰를 제공. \"뷰(view)\"란 원본 딕셔너리 객체의 값이 변하면 그 변화가 dict_values 객체에도 반영되는, 원본 데이터의 실시간 반영본을 의미. 이는 딕셔너리의 값들이 수정, 추가, 삭제될 때 dict_values 객체가 자동으로 업데이트된다는 의미.\n",
        "- 객체 인스턴스: dict_values 객체는 dict_values 클래스의 인스턴스. 이 클래스는 파이썬의 다른 모든 클래스처럼 특정 데이터 구조와 메서드를 가진다. 예를 들어, dict_values 객체는 순회 가능하며 (iterable), 딕셔너리의 모든 값을 순차적으로 접근할 수 있는 메서드를 제공."
      ],
      "metadata": {
        "id": "A7ZMGVOnxnPl"
      }
    },
    {
      "cell_type": "code",
      "source": [
        "d['b'] = 100\n",
        "print(d)\n",
        "print(d.values())"
      ],
      "metadata": {
        "colab": {
          "base_uri": "https://localhost:8080/"
        },
        "id": "j9v4qRMZxqaK",
        "outputId": "0a1ecab2-e038-4b4a-bb3b-642aaf512655"
      },
      "execution_count": null,
      "outputs": [
        {
          "output_type": "stream",
          "name": "stdout",
          "text": [
            "{'a': 97, 'b': 100, 'c': 99}\n",
            "dict_values([97, 100, 99])\n"
          ]
        }
      ]
    },
    {
      "cell_type": "markdown",
      "source": [
        "#### 제어문 관련 키워드:\n",
        "- break: 현재의 반복문을 중단하고, 반복문 바깥의 코드를 실행\n",
        "- continue: 반복문의 나머지 부분을 건너뛰고, 다음 반복을 시작"
      ],
      "metadata": {
        "id": "uzySXwwcyov-"
      }
    },
    {
      "cell_type": "code",
      "source": [
        "for i in range(5):\n",
        "    if i == 3:\n",
        "        break\n",
        "    print(i, end=' ')\n",
        "\n",
        "print('\\n')\n",
        "\n",
        "for i in range(5):\n",
        "    if i == 3:\n",
        "        continue\n",
        "    print(i, end=' ')\n"
      ],
      "metadata": {
        "colab": {
          "base_uri": "https://localhost:8080/"
        },
        "id": "f14Sxe4VynDV",
        "outputId": "c4721924-cca9-4468-bbdd-e484a0f12ee1"
      },
      "execution_count": null,
      "outputs": [
        {
          "output_type": "stream",
          "name": "stdout",
          "text": [
            "0 1 2 \n",
            "\n",
            "0 1 2 4 "
          ]
        }
      ]
    },
    {
      "cell_type": "code",
      "source": [
        "for i in range(10):\n",
        "    if i == 5:\n",
        "        break       # i가 5일 때 루프를 종료합니다\n",
        "    print(i, end=' ')\n",
        "\n",
        "print('\\n')\n",
        "\n",
        "for i in range(10):\n",
        "    if i % 2 == 0:\n",
        "        continue    # i가 짝수 일 때 나머지 부분을 건너뛰고 다음 반복을 시작합니다\n",
        "    print(i, end=' ')\n"
      ],
      "metadata": {
        "colab": {
          "base_uri": "https://localhost:8080/"
        },
        "id": "Lqi9J3KG0mZK",
        "outputId": "2e74056e-b525-445b-8694-eaf42e1f2a0e"
      },
      "execution_count": null,
      "outputs": [
        {
          "output_type": "stream",
          "name": "stdout",
          "text": [
            "0 1 2 3 4 \n",
            "\n",
            "1 3 5 7 9 "
          ]
        }
      ]
    },
    {
      "cell_type": "code",
      "source": [
        "# for 또는 while 루프에 else 절을 사용하면, 루프가 정상적으로 완료 된 후에 실행된다\n",
        "\n",
        "for i in range(5):\n",
        "    print(i, end=' ')\n",
        "else:\n",
        "    print('루프가 완료되었습니다', '\\n')\n",
        "\n",
        "count = 0\n",
        "while count < 5:\n",
        "    print(count, end=' ')\n",
        "    count += 1\n",
        "else:\n",
        "    print(\"루프가 완료되었습니다\")\n"
      ],
      "metadata": {
        "colab": {
          "base_uri": "https://localhost:8080/"
        },
        "id": "CToUAlCc2RfZ",
        "outputId": "48daa0da-bdec-4a25-e783-4e948bee7f50"
      },
      "execution_count": null,
      "outputs": [
        {
          "output_type": "stream",
          "name": "stdout",
          "text": [
            "0 1 2 3 4 루프가 완료되었습니다 \n",
            "\n",
            "0 1 2 3 4 루프가 완료되었습니다\n"
          ]
        }
      ]
    },
    {
      "cell_type": "code",
      "source": [
        "# break 문을 사용하여 루프를 중단하면 else 절은 실행되지 않음\n",
        "\n",
        "for i in range(5):\n",
        "    if i == 3:\n",
        "        print(f'{i}에서 루프를 중단합니다')\n",
        "        break\n",
        "else:\n",
        "    print('루프가 정상적으로 완료되었습니다')"
      ],
      "metadata": {
        "colab": {
          "base_uri": "https://localhost:8080/"
        },
        "id": "xZLSzSPL3QnN",
        "outputId": "23b6ac5b-933d-441f-bd66-f5bdd8bd15bf"
      },
      "execution_count": null,
      "outputs": [
        {
          "output_type": "stream",
          "name": "stdout",
          "text": [
            "3에서 루프를 중단합니다\n"
          ]
        }
      ]
    },
    {
      "cell_type": "markdown",
      "source": [
        "####조건과 반복을 결합"
      ],
      "metadata": {
        "id": "9MfRW0FE37cW"
      }
    },
    {
      "cell_type": "code",
      "source": [
        "# 홀수만 출력\n",
        "for i in range(10):\n",
        "    if i % 2 != 0:\n",
        "        print(i, end=' ')\n",
        "\n",
        "print('\\n')\n",
        "\n",
        "for i in range(10):\n",
        "    if i % 2 == 1:\n",
        "        print(i, end=' ')"
      ],
      "metadata": {
        "colab": {
          "base_uri": "https://localhost:8080/"
        },
        "id": "hlUa6hK039Kd",
        "outputId": "2147960e-d0ec-4328-fe95-27603fb61964"
      },
      "execution_count": null,
      "outputs": [
        {
          "output_type": "stream",
          "name": "stdout",
          "text": [
            "1 3 5 7 9 \n",
            "\n",
            "1 3 5 7 9 "
          ]
        }
      ]
    },
    {
      "cell_type": "code",
      "source": [
        "#Q 1~10 범위의 정수에서 1부터 5까지만 출력하세요\n",
        "\n",
        "for i in range(10):\n",
        "    if i > 4:\n",
        "        break\n",
        "    print(i+1, end=' ')\n",
        "\n",
        "print('\\n')\n",
        "\n",
        "for i in range(1, 10):\n",
        "    if i > 5:\n",
        "        break\n",
        "    print(i, end=' ')"
      ],
      "metadata": {
        "colab": {
          "base_uri": "https://localhost:8080/"
        },
        "id": "wGdkTru34fCv",
        "outputId": "5b551059-2013-40e0-e0b6-3339887a66a7"
      },
      "execution_count": null,
      "outputs": [
        {
          "output_type": "stream",
          "name": "stdout",
          "text": [
            "1 2 3 4 5 \n",
            "\n",
            "1 2 3 4 5 "
          ]
        }
      ]
    },
    {
      "cell_type": "code",
      "source": [
        "#Q  numbers 리스트에서 15, 20, 25를 출력하세요 (for문, if조건 사용 필수)\n",
        "\n",
        "numbers = [5, 15, 6, 20, 7, 25]\n",
        "\n",
        "#1\n",
        "for i in numbers:\n",
        "    if i > 10:\n",
        "        print(i, end=' ')\n",
        "\n",
        "print('\\n')\n",
        "#2\n",
        "for i in numbers:\n",
        "    if (i > 10) and (i % 5 == 0):\n",
        "        print(i, end=' ')\n",
        "\n",
        "print('\\n')\n",
        "#3\n",
        "for i in range(len(numbers)):\n",
        "    if i % 2 == 1:\n",
        "        print(numbers[i], end=' ')"
      ],
      "metadata": {
        "colab": {
          "base_uri": "https://localhost:8080/"
        },
        "id": "K9FovXFo5bCM",
        "outputId": "5db985b6-2a90-4ae8-e26a-e0c82e7e25e7"
      },
      "execution_count": null,
      "outputs": [
        {
          "output_type": "stream",
          "name": "stdout",
          "text": [
            "15 20 25 \n",
            "\n",
            "15 20 25 \n",
            "\n",
            "15 20 25 "
          ]
        }
      ]
    },
    {
      "cell_type": "code",
      "source": [
        "# 특정 조건을 만족할 때까지 반복\n",
        "\n",
        "count = 0\n",
        "\n",
        "while 1:\n",
        "    count += 1\n",
        "    if count > 5:\n",
        "        break       # count가 5보다 클 때 루프를 종료합니다\n",
        "    print(count)\n",
        "print('루프가 종료됨')"
      ],
      "metadata": {
        "colab": {
          "base_uri": "https://localhost:8080/"
        },
        "id": "cyqSA3Bg6Xu4",
        "outputId": "afb45c62-1451-4820-f5fe-edb672a6ef3e"
      },
      "execution_count": null,
      "outputs": [
        {
          "output_type": "stream",
          "name": "stdout",
          "text": [
            "1\n",
            "2\n",
            "3\n",
            "4\n",
            "5\n",
            "루프가 종료됨\n"
          ]
        }
      ]
    },
    {
      "cell_type": "code",
      "source": [
        "#Q 리스트에서 특정값 찾기\n",
        "numbers = [1, 2, 3, 4, 5]\n",
        "\n",
        "target = 3\n",
        "\n",
        "for i in numbers:\n",
        "    if i == target:\n",
        "        print(f'타겟 {i}을 찾았습니다')\n",
        "        break\n",
        "else:\n",
        "    print(f'타겟 {i}을 찾지 못했습니다')"
      ],
      "metadata": {
        "colab": {
          "base_uri": "https://localhost:8080/"
        },
        "id": "vbbFQWjR-3_B",
        "outputId": "013fb0fc-2272-4f05-8a82-87a5e74f8506"
      },
      "execution_count": null,
      "outputs": [
        {
          "output_type": "stream",
          "name": "stdout",
          "text": [
            "타겟 3을 찾았습니다\n"
          ]
        }
      ]
    },
    {
      "cell_type": "code",
      "source": [
        "#Q 1 ~ 20 사이의 정수에서 10보다 작은 홀수만 출력\n",
        "\n",
        "for i in range(1, 21):\n",
        "    if i < 10 and i % 2 == 1:\n",
        "        print(i, end=' ')"
      ],
      "metadata": {
        "colab": {
          "base_uri": "https://localhost:8080/"
        },
        "id": "c70kgxUYCCqO",
        "outputId": "83288f0a-3145-4a58-b966-740fc17d16c1"
      },
      "execution_count": null,
      "outputs": [
        {
          "output_type": "stream",
          "name": "stdout",
          "text": [
            "1 3 5 7 9 "
          ]
        }
      ]
    },
    {
      "cell_type": "code",
      "source": [
        "# while ~ continue ~ break\n",
        "# 20 보다 작은 점수에서 1 3 5 7 9 만을 출력\n",
        "\n",
        "a = 0\n",
        "while a < 20:\n",
        "    a += 1\n",
        "    if a % 2 == 0:\n",
        "        continue\n",
        "    if a >= 10:\n",
        "        break\n",
        "    print(a, end=' ')"
      ],
      "metadata": {
        "colab": {
          "base_uri": "https://localhost:8080/"
        },
        "id": "LwaexOgjEUkI",
        "outputId": "5ef5caf3-aa80-4148-dee4-a2b4c3d8293a"
      },
      "execution_count": null,
      "outputs": [
        {
          "output_type": "stream",
          "name": "stdout",
          "text": [
            "1 3 5 7 9 "
          ]
        }
      ]
    },
    {
      "cell_type": "code",
      "source": [
        "#Q 정수 1부터 n까지 더할 때 그 합이 1000보다 커지게 되는 n과 합을 구하세요 (while ~ break)\n",
        "\n",
        "num = 1\n",
        "count = 0\n",
        "total_num = 0\n",
        "\n",
        "while 1:\n",
        "\n",
        "    if total_num > 1000:\n",
        "        print(count)\n",
        "        print(total_num)\n",
        "        break\n",
        "    total_num += num\n",
        "    num += 1\n",
        "    count += 1\n",
        "    # print(total_num)\n"
      ],
      "metadata": {
        "colab": {
          "base_uri": "https://localhost:8080/"
        },
        "id": "kQsnQhFRFydT",
        "outputId": "5192910e-e054-4ff7-f510-efaf627be862"
      },
      "execution_count": null,
      "outputs": [
        {
          "output_type": "stream",
          "name": "stdout",
          "text": [
            "45\n",
            "1035\n"
          ]
        }
      ]
    },
    {
      "cell_type": "code",
      "source": [
        "# 강사님 버전\n",
        "x = 1\n",
        "sum = 0\n",
        "\n",
        "while 1:\n",
        "    sum = sum + x\n",
        "    if sum > 1000:\n",
        "        print(x)\n",
        "        print(sum)\n",
        "        break\n",
        "    x += 1"
      ],
      "metadata": {
        "colab": {
          "base_uri": "https://localhost:8080/"
        },
        "id": "LKr-W4o3YlVS",
        "outputId": "83725ec9-0d3f-4481-b36e-2aa43bce2f35"
      },
      "execution_count": null,
      "outputs": [
        {
          "output_type": "stream",
          "name": "stdout",
          "text": [
            "45\n",
            "1035\n"
          ]
        }
      ]
    },
    {
      "cell_type": "code",
      "source": [
        "# 강사님 버전2 (더욱 심플한 버전)\n",
        "x = 0\n",
        "sum = 0\n",
        "while sum < 1000:\n",
        "    x += 1\n",
        "    sum += x\n",
        "print(x)\n",
        "print(sum)"
      ],
      "metadata": {
        "colab": {
          "base_uri": "https://localhost:8080/"
        },
        "id": "8VX6pGmkbpQh",
        "outputId": "892ceab7-68f7-46c9-9e2a-d1c1a520301f"
      },
      "execution_count": null,
      "outputs": [
        {
          "output_type": "stream",
          "name": "stdout",
          "text": [
            "45\n",
            "1035\n"
          ]
        }
      ]
    },
    {
      "cell_type": "code",
      "source": [
        "#Q while문을 사용해 1부터 1000까지의 정수 중 3의 배수의 합을 구해보세요\n",
        "num_3 = 1\n",
        "total_sum = 0\n",
        "\n",
        "while num_3 < 1001:\n",
        "    if num_3 % 3 == 0:\n",
        "        total_sum += num_3\n",
        "        # print(total_sum)\n",
        "    num_3 += 1\n",
        "print(total_sum)\n"
      ],
      "metadata": {
        "colab": {
          "base_uri": "https://localhost:8080/"
        },
        "id": "DKZqssrtF5Vg",
        "outputId": "200160c9-5210-41fb-9dea-207bd6652584"
      },
      "execution_count": null,
      "outputs": [
        {
          "output_type": "stream",
          "name": "stdout",
          "text": [
            "166833\n"
          ]
        }
      ]
    },
    {
      "cell_type": "code",
      "source": [
        "# 강사님 버전\n",
        "count = 1\n",
        "multiple_sum = 0\n",
        "while count < 1000:\n",
        "    if count % 3 == 0:\n",
        "        multiple_sum += count\n",
        "    count += 1\n",
        "print(multiple_sum)"
      ],
      "metadata": {
        "colab": {
          "base_uri": "https://localhost:8080/"
        },
        "id": "NGjtKftCc8RC",
        "outputId": "aba6eb97-5920-4064-8308-db16ee879c32"
      },
      "execution_count": null,
      "outputs": [
        {
          "output_type": "stream",
          "name": "stdout",
          "text": [
            "166833\n"
          ]
        }
      ]
    },
    {
      "cell_type": "code",
      "source": [
        "total_num = 0\n",
        "count = 0\n",
        "while count < 1000:\n",
        "    total_num += count\n",
        "    if count % 3 != 0:\n",
        "        total_num -= count\n",
        "    count += 1\n",
        "print(total_num)"
      ],
      "metadata": {
        "colab": {
          "base_uri": "https://localhost:8080/"
        },
        "id": "d4K-CPs3d33d",
        "outputId": "8c6da00f-2b03-425b-d724-2dd1d13689a2"
      },
      "execution_count": null,
      "outputs": [
        {
          "output_type": "stream",
          "name": "stdout",
          "text": [
            "166833\n"
          ]
        }
      ]
    },
    {
      "cell_type": "code",
      "source": [
        "n = 3\n",
        "sum = 0\n",
        "while n < 1000:\n",
        "    sum += n\n",
        "    n += 3\n",
        "print(sum)"
      ],
      "metadata": {
        "colab": {
          "base_uri": "https://localhost:8080/"
        },
        "id": "gkFll6GUfSVf",
        "outputId": "d1a70605-dca1-445c-cd7a-c5e93739ea25"
      },
      "execution_count": null,
      "outputs": [
        {
          "output_type": "stream",
          "name": "stdout",
          "text": [
            "166833\n"
          ]
        }
      ]
    },
    {
      "cell_type": "code",
      "source": [
        "#Q 정수를 입력하면 홀수 짝수를 판별하는 프로그램을 작성\n",
        "\n",
        "def even_odd(num):\n",
        "    # num = int(input('정수를 넣어주세요 : '))\n",
        "    # if str.isdigit(num) == False:\n",
        "    #     return print('올바른 정수를 넣어주세요')\n",
        "\n",
        "    if num % 2 == 0:\n",
        "        return print('이 숫자는 짝수입니다')\n",
        "    elif num % 2 != 0:\n",
        "        return print('이 숫자는 홀수입니다')\n",
        "    else:\n",
        "        return print('올바른 정수를 넣어주세요')\n",
        "\n",
        "\n",
        "\n",
        "num = int(input('정수를 넣어주세요 : '))\n",
        "\n",
        "\n",
        "even_odd(num)"
      ],
      "metadata": {
        "colab": {
          "base_uri": "https://localhost:8080/"
        },
        "id": "BAY4l_kbF5j2",
        "outputId": "fdf163b2-e2ee-4a72-987b-82861551fa71"
      },
      "execution_count": null,
      "outputs": [
        {
          "output_type": "stream",
          "name": "stdout",
          "text": [
            "정수를 넣어주세요 : 54\n",
            "이 숫자는 짝수입니다\n"
          ]
        }
      ]
    },
    {
      "cell_type": "code",
      "source": [
        "# 강사님 버전\n",
        "\n",
        "while True:\n",
        "    try:\n",
        "        num = int(input('정수를 넣어주세요 : '))\n",
        "\n",
        "        if num % 2 == 0:\n",
        "            print('이 숫자는 짝수입니다')\n",
        "        else:\n",
        "            print('이 숫자는 홀수입니다')\n",
        "        break   #정수를 입력 시 while 루프를 탈출\n",
        "    except ValueError:\n",
        "        print('올바른 정수를 넣어주세요')"
      ],
      "metadata": {
        "colab": {
          "base_uri": "https://localhost:8080/"
        },
        "id": "vTlY1GPmgmvp",
        "outputId": "dfa879fc-1cef-4f0b-cc0e-a305efbf61ef"
      },
      "execution_count": null,
      "outputs": [
        {
          "output_type": "stream",
          "name": "stdout",
          "text": [
            "정수를 넣어주세요 : ㅁㄴㄹ이ㅏㅓ\n",
            "올바른 정수를 넣어주세요\n",
            "정수를 넣어주세요 : fdsaf\n",
            "올바른 정수를 넣어주세요\n",
            "정수를 넣어주세요 : 234,ㅇ\n",
            "올바른 정수를 넣어주세요\n",
            "정수를 넣어주세요 : 32\n",
            "이 숫자는 짝수입니다\n"
          ]
        }
      ]
    },
    {
      "cell_type": "code",
      "source": [
        "#Q 입력받은 문자열의 각 문자를 그 다음 문자로 변경하여 출력하세요 (ABC -> BCA)\n",
        "\n",
        "word = input(\"문자를 입력해주세요 : \")\n",
        "# word = 'ABC'\n",
        "\n",
        "for i in range(len(word)):\n",
        "    if i == 0:\n",
        "        continue\n",
        "    print(word[i], end=' ')\n",
        "else:\n",
        "    print(word[0])\n"
      ],
      "metadata": {
        "colab": {
          "base_uri": "https://localhost:8080/"
        },
        "id": "1moHwRovjLne",
        "outputId": "5e0d1fed-90d9-4aab-fe6d-a61948f128c5"
      },
      "execution_count": null,
      "outputs": [
        {
          "output_type": "stream",
          "name": "stdout",
          "text": [
            "문자를 입력해주세요 : adc\n",
            "d c a\n"
          ]
        }
      ]
    },
    {
      "cell_type": "markdown",
      "source": [
        "zip() 함수\n",
        "- 여러 개의 이터러블(리스트, 튜플 등)을 인자로 받아, 동일한 인덱스에 있는 요소들을 하나의 튜플로 묶어서 이터레이터를 반환\n",
        "- 데이터를 병렬로 처리할 때 유용"
      ],
      "metadata": {
        "id": "MvlfGE6VnIDj"
      }
    },
    {
      "cell_type": "code",
      "source": [
        "list1 = [1, 2, 3, 4]\n",
        "list2 = ['a', 'b', 'c', 'd']\n",
        "zipped = zip(list1, list2)\n",
        "print(zipped)\n",
        "print(list(zipped))"
      ],
      "metadata": {
        "colab": {
          "base_uri": "https://localhost:8080/"
        },
        "id": "sPq0Tp0gl_8g",
        "outputId": "933d9df9-cfa9-4d9f-f927-827d97528e76"
      },
      "execution_count": null,
      "outputs": [
        {
          "output_type": "stream",
          "name": "stdout",
          "text": [
            "<zip object at 0x7a6aa6a8be80>\n",
            "[(1, 'a'), (2, 'b'), (3, 'c'), (4, 'd')]\n"
          ]
        }
      ]
    },
    {
      "cell_type": "code",
      "source": [
        "#Q 두 개의 리스트(이름과 성)을 사용하여 각 사람의 전체 이름을 생성하세요\n",
        "first_name = ['John', 'Jane', 'Corey', 'Traivs']\n",
        "last_name = ['Doe', 'Smith', 'Turner', 'Williams']\n",
        "\n",
        "# zipped = zip(first_name, last_name)\n",
        "# print(list(zipped))\n",
        "\n",
        "# full_names = first + ' ' + last for first, last in list(zipped)\n",
        "full_names = [first + ' ' + last for first, last in zip(first_name, last_name)]\n",
        "print(full_names)"
      ],
      "metadata": {
        "colab": {
          "base_uri": "https://localhost:8080/"
        },
        "id": "uY0uGg7Xn0QU",
        "outputId": "5e418f18-1db7-43be-ccce-926d66ea9bd5"
      },
      "execution_count": null,
      "outputs": [
        {
          "output_type": "stream",
          "name": "stdout",
          "text": [
            "['John Doe', 'Jane Smith', 'Corey Turner', 'Traivs Williams']\n"
          ]
        }
      ]
    },
    {
      "cell_type": "code",
      "source": [
        "#Q 학생들의 수학과 영어 점수를 각각의 리스트로 받아 평균 점수를 계산하세요\n",
        "math_scores = [88, 92, 79, 92, 85]\n",
        "english_scores = [90, 91, 85, 88, 86]\n",
        "\n",
        "scores = zip(math_scores, english_scores)\n",
        "# print(list(zipped))\n",
        "\n",
        "# total_scores = 0\n",
        "# for math, english in scores:\n",
        "#     total_scores  math, english\n",
        "#     avg = total_scores / len(scores)\n",
        "# print(avg)\n",
        "\n",
        "average_scores = [(math + english) / 2 for math, english in scores]\n",
        "print(average_scores)"
      ],
      "metadata": {
        "colab": {
          "base_uri": "https://localhost:8080/"
        },
        "id": "WY2L4vFEoX-b",
        "outputId": "ce96c106-aa94-4658-abd6-3b6d00a20fdb"
      },
      "execution_count": null,
      "outputs": [
        {
          "output_type": "stream",
          "name": "stdout",
          "text": [
            "[89.0, 91.5, 82.0, 90.0, 85.5]\n"
          ]
        }
      ]
    },
    {
      "cell_type": "code",
      "source": [
        "math_scores = [88, 92, 79, 92, 85]\n",
        "english_scores = [90, 91, 85, 88, 86]\n",
        "\n",
        "scores = zip(math_scores, english_scores)\n",
        "print(list(scores))\n",
        "bucket = []\n",
        "total_scores = 0\n",
        "for math, english in scores:\n",
        "    total_scores = math + english\n",
        "    avg = total_scores / 2\n",
        "\n",
        "    # print(avg)\n",
        "    bucket.append(avg)\n",
        "\n",
        "print(bucket)\n"
      ],
      "metadata": {
        "colab": {
          "base_uri": "https://localhost:8080/"
        },
        "id": "r72P31uyqejD",
        "outputId": "e3fdc491-c47d-4e6a-a8d1-ba8110d5e0ea"
      },
      "execution_count": null,
      "outputs": [
        {
          "output_type": "stream",
          "name": "stdout",
          "text": [
            "[(88, 90), (92, 91), (79, 85), (92, 88), (85, 86)]\n",
            "[]\n"
          ]
        }
      ]
    },
    {
      "cell_type": "code",
      "source": [
        "#Q 상품의 이름과 가격이 각각 다른 리스트에 저장되어 있을 때, 상품명과 가격을 튜플로 묶어 출력하세요\\\n",
        "product = ['apple', 'banana', 'cherry']\n",
        "prices = [1.2, 0.5, 2.5]\n",
        "\n",
        "for product, price in zip(product, prices):\n",
        "    print(f'Product: {product}. Prices : ${price}')"
      ],
      "metadata": {
        "colab": {
          "base_uri": "https://localhost:8080/"
        },
        "id": "SYJtZPPVoYJU",
        "outputId": "57fe95c2-9b4a-4d99-e785-c8e9dbd1d449"
      },
      "execution_count": null,
      "outputs": [
        {
          "output_type": "stream",
          "name": "stdout",
          "text": [
            "Product: apple. Prices : $1.2\n",
            "Product: banana. Prices : $0.5\n",
            "Product: cherry. Prices : $2.5\n"
          ]
        }
      ]
    },
    {
      "cell_type": "markdown",
      "source": [
        "#### 파이썬의 random 모듈\n",
        "난수를 생성하기 위한 다양한 함수를 제공\n",
        "- 기본 난수 생성:\n",
        "  - random.random(): 0과 1 사이의 무작위 부동소수점 숫자를 반환.\n",
        "- 범위 지정 난수 생성:\n",
        "  - random.randint(a, b): a와 b 사이의 무작위 정수를 반환(b 포함).\n",
        "  - random.randrange(start, stop[, step]): 지정된 범위에서 무작위 정수를 반환. step을 설정하여 수의 간격을 조정할 수 있다.\n",
        "- 시퀀스용 함수:\n",
        "  - random.choice(sequence): 주어진 시퀀스(리스트, 튜플 등)에서 무작위로 아이템을 선택하여 반환.\n",
        "  - random.shuffle(x[, random]): 리스트의 항목들을 무작위로 섞는다. random은 섞기를 위한 함수를 커스텀할 때 사용.\n",
        "  - random.sample(population, k): 주어진 시퀀스에서 무작위로 k개의 항목을 뽑아 새 리스트로 반환.\n",
        "- 분포 기반 난수 생성:\n",
        "  - random.uniform(a, b): a와 b 사이의 무작위 부동소수점 숫자를 균등 분포로 반환.\n",
        "  - random.gauss(mu, sigma): 평균 mu와 표준편차 sigma를 가지는 정규 분포에서 난수를 반환."
      ],
      "metadata": {
        "id": "RbM94f_trgqH"
      }
    },
    {
      "cell_type": "code",
      "source": [
        "# random\n",
        "import random\n",
        "\n",
        "# 0과 1사이의 난수 생성\n",
        "print(random.random())\n",
        "\n",
        "# 1에서 10사이의 정수 반환(10 포함)\n",
        "print(random.randint(1, 10))\n",
        "\n",
        "# 리스트에서 무작위로 하나의 원소 선택\n",
        "items = [1, 2, 3, 4, 5]\n",
        "print(random.choice(items))\n",
        "\n",
        "# 리스트의 원소를 무작위로 섞기\n",
        "random.shuffle(items)\n",
        "print(items)\n",
        "\n",
        "# 정규분포 난수 생성\n",
        "mean = 0\n",
        "std_dev = 1\n",
        "print(random.gauss(mean, std_dev))"
      ],
      "metadata": {
        "colab": {
          "base_uri": "https://localhost:8080/"
        },
        "id": "_oB1lZbQuOHw",
        "outputId": "da342719-d9d7-436a-e825-340dcf5ae597"
      },
      "execution_count": null,
      "outputs": [
        {
          "output_type": "stream",
          "name": "stdout",
          "text": [
            "0.9876868500323395\n",
            "2\n",
            "3\n",
            "[4, 1, 3, 2, 5]\n",
            "-0.14356478895263514\n"
          ]
        }
      ]
    },
    {
      "cell_type": "code",
      "source": [
        "import random\n",
        "male = ['철수', '갑돌', '로미오', '이몽룡',  '온돌']\n",
        "random.shuffle(male)\n",
        "print(male)\n",
        "\n"
      ],
      "metadata": {
        "colab": {
          "base_uri": "https://localhost:8080/"
        },
        "id": "EnoXz4JBvlv2",
        "outputId": "69fc9cc1-5130-4f45-b682-d106f818816f"
      },
      "execution_count": null,
      "outputs": [
        {
          "output_type": "stream",
          "name": "stdout",
          "text": [
            "['갑돌', '온돌', '철수', '로미오', '이몽룡']\n"
          ]
        }
      ]
    },
    {
      "cell_type": "code",
      "source": [
        "from random import shuffle\n",
        "male = ['철수', '갑돌', '로미오', '이몽룡',  '온돌']\n",
        "random.shuffle(male)\n",
        "print(male)"
      ],
      "metadata": {
        "colab": {
          "base_uri": "https://localhost:8080/"
        },
        "id": "vRnIGHfEwRuw",
        "outputId": "aabd19da-7b2c-4f14-c010-fc7c1d125a05"
      },
      "execution_count": null,
      "outputs": [
        {
          "output_type": "stream",
          "name": "stdout",
          "text": [
            "['이몽룡', '철수', '로미오', '온돌', '갑돌']\n"
          ]
        }
      ]
    },
    {
      "cell_type": "markdown",
      "source": [
        "####표현식(Expression)\n",
        "- 하나 이상의 값, 변수, 연산자, 함수 호출 등을 조합하여 평가(evaluate)될 때 값을 생성하거나 반환하는 코드\n",
        "- 표현식은 계산되어 값이 되는 모든 것을 의미\n",
        "\n",
        "표현식의 예시:\n",
        "- 수치 계산: 2 + 3는 5라는 값을 반환\n",
        "- 문자열 조합: \"Hello \" + \"World\"는 \"Hello World\"라는 문자열을 생성\n",
        "- 논리 연산: x > 5는 x의 값에 따라 True 또는 False를 반환\n",
        "- 함수 호출: sum([1, 2, 3])은 리스트의 합인 6을 반환\n",
        "- 조건식: x if x > 0 else -x는 x가 양수면 x를, 음수면 -x를 반환"
      ],
      "metadata": {
        "id": "8C7zTD0vGdl9"
      }
    },
    {
      "cell_type": "code",
      "source": [
        "# Q 로또 번호 6개를 6세트 출력하는 코드를 작성하세요 (숫자 중복 안됨)\n",
        "import random\n",
        "import string\n",
        "\n",
        "\n",
        "lotto = []\n",
        "# num = []\n",
        "# check = []\n",
        "# 숫자는 총 45개 중 6개\n",
        "for i in range(6):\n",
        "\n",
        "    num = []    #숫자 6개 담을 빈 그릇\n",
        "    for j in range(6):\n",
        "        # 랜덤한 1~45 숫자 만들기\n",
        "        r = random.randint(1, 45)\n",
        "        # 중복 체크 후\n",
        "        while r in num:\n",
        "            r = random.randint(1, 45)\n",
        "        # 중복 없으면 빈 리스트에 숫자 넣기\n",
        "        num.append(r)\n",
        "\n",
        "    # 정렬된 숫자로 각 세트에 넣기\n",
        "    lotto.append(sorted(num))\n",
        "    # print(num)\n",
        "\n",
        "# print(lotto)\n",
        "l1, l2, l3, l4, l5, l6 = lotto\n",
        "print(f'1세트 : {l1}')\n",
        "print(f'2세트 : {l2}')\n",
        "print(f'3세트 : {l3}')\n",
        "print(f'4세트 : {l4}')\n",
        "print(f'5세트 : {l5}')\n",
        "print(f'6세트 : {l6}')"
      ],
      "metadata": {
        "id": "qGHxnAAMRx3e",
        "colab": {
          "base_uri": "https://localhost:8080/"
        },
        "outputId": "d46c7d61-1d0d-4b88-d520-62036c5ae371"
      },
      "execution_count": null,
      "outputs": [
        {
          "output_type": "stream",
          "name": "stdout",
          "text": [
            "1세트 : [3, 10, 11, 23, 33, 38]\n",
            "2세트 : [7, 8, 15, 17, 21, 32]\n",
            "3세트 : [2, 3, 9, 13, 16, 33]\n",
            "4세트 : [2, 18, 33, 35, 39, 45]\n",
            "5세트 : [16, 24, 30, 32, 42, 45]\n",
            "6세트 : [3, 20, 22, 27, 39, 44]\n"
          ]
        }
      ]
    },
    {
      "cell_type": "code",
      "source": [
        "# 강사님 버전 1\n",
        "import random\n",
        "r = list(range(1, 46))\n",
        "\n",
        "for i in range(6):\n",
        "    lotto = random.sample(r, 6)     #sample 중복 안되게 해줌\n",
        "    print(sorted(lotto))"
      ],
      "metadata": {
        "colab": {
          "base_uri": "https://localhost:8080/"
        },
        "id": "VEgxNusqr9bO",
        "outputId": "a89a14f9-e764-45d7-f1fa-2dfd41b63aaa"
      },
      "execution_count": null,
      "outputs": [
        {
          "output_type": "stream",
          "name": "stdout",
          "text": [
            "[6, 10, 13, 30, 36, 39]\n",
            "[1, 7, 12, 28, 33, 41]\n",
            "[2, 7, 22, 28, 33, 40]\n",
            "[4, 20, 22, 35, 38, 43]\n",
            "[2, 7, 13, 22, 38, 42]\n",
            "[5, 10, 20, 31, 36, 44]\n"
          ]
        }
      ]
    },
    {
      "cell_type": "code",
      "source": [
        "# Q n개의 그룹으로 분류하는 코드를 작성하세요\n",
        "import random\n",
        "\n",
        "kita = ['김성현','황강민','윤호준','류윤선','이상협','박지환','최환욱','서보선','김한결','김도현','김하준',\n",
        "        '김도원','신현진','소지승','이범석','이현석','이명신','박윤경','이도헌','김홍준']\n",
        "\n",
        "# group = int(input('원하시는 그룹 숫자를 입력하세요 : '))\n",
        "# group = 10\n",
        "\n",
        "enter = random.sample(kita, int(len(kita)/group))\n",
        "# print(enter)\n",
        "\n",
        "# random.shuffle(kita)\n",
        "# for i in range(group):\n",
        "#     r_p = []\n",
        "#     for j in\n",
        "#     while\n",
        "# for idx, g in enumerate(groups):\n",
        "#     print(f'그룹 {idx + 1} : {g}')"
      ],
      "metadata": {
        "id": "nRSuFzk4upVX"
      },
      "execution_count": null,
      "outputs": []
    },
    {
      "cell_type": "code",
      "source": [
        "# 강사님 버전 문제2\n",
        "import random\n",
        "\n",
        "kita = ['김성현','황강민','윤호준','류윤선','이상협','박지환','최환욱','서보선','김한결','김도현','김하준',\n",
        "        '김도원','신현진','소지승','이범석','이현석','이명신','박윤경','이도헌','김홍준']\n",
        "\n",
        "group = int(input('원하시는 그룹 숫자를 입력하세요 : '))\n",
        "# group = 10\n",
        "\n",
        "# enter = random.sample(kita, int(len(kita)/group))\n",
        "# print(enter)\n",
        "\n",
        "random.shuffle(kita)\n",
        "groups = [kita[i::group] for i in range(group)]\n",
        "# print(groups)\n",
        "for idx, g in enumerate(groups):\n",
        "    print(f'그룹 {idx + 1} : {g}')"
      ],
      "metadata": {
        "id": "PK5VwihTTeZp",
        "colab": {
          "base_uri": "https://localhost:8080/"
        },
        "outputId": "60e0b0ce-177e-495f-ab7d-6d0aa59833ca"
      },
      "execution_count": null,
      "outputs": [
        {
          "output_type": "stream",
          "name": "stdout",
          "text": [
            "원하시는 그룹 숫자를 입력하세요 : 5\n",
            "[['김한결', '김도원', '최환욱', '신현진'], ['이상협', '김성현', '이명신', '이도헌'], ['소지승', '이현석', '김하준', '황강민'], ['박지환', '김홍준', '박윤경', '서보선'], ['김도현', '윤호준', '이범석', '류윤선']]\n",
            "그룹 1 : ['김한결', '김도원', '최환욱', '신현진']\n",
            "그룹 2 : ['이상협', '김성현', '이명신', '이도헌']\n",
            "그룹 3 : ['소지승', '이현석', '김하준', '황강민']\n",
            "그룹 4 : ['박지환', '김홍준', '박윤경', '서보선']\n",
            "그룹 5 : ['김도현', '윤호준', '이범석', '류윤선']\n"
          ]
        }
      ]
    },
    {
      "cell_type": "code",
      "source": [
        "# Q 1부터 100까지의 정수 중 5에서 95까지의 합을 구하세요\n",
        "total = 0\n",
        "for i in range(1, 100):\n",
        "    if 4 < i < 96:          #i >= 5 and i <= 95\n",
        "        total += i\n",
        "    # print(total)\n",
        "print(total)"
      ],
      "metadata": {
        "id": "6IzB9cAnTeqS",
        "colab": {
          "base_uri": "https://localhost:8080/"
        },
        "outputId": "7e9661e6-1f4f-4c98-cbaf-f679af768fbe"
      },
      "execution_count": null,
      "outputs": [
        {
          "output_type": "stream",
          "name": "stdout",
          "text": [
            "4550\n"
          ]
        }
      ]
    },
    {
      "cell_type": "code",
      "source": [
        "# 강사님 버전 문제 3\n",
        "sum1 = 0\n",
        "i = 1\n",
        "while i <= 100:\n",
        "    if i >= 5 and i <= 95:\n",
        "        sum1 += i\n",
        "    i += 1\n",
        "print(sum1)"
      ],
      "metadata": {
        "colab": {
          "base_uri": "https://localhost:8080/"
        },
        "id": "2S5n38aJvedq",
        "outputId": "e3084c52-f866-499b-d079-9a7f6144ca81"
      },
      "execution_count": null,
      "outputs": [
        {
          "output_type": "stream",
          "name": "stdout",
          "text": [
            "4550\n"
          ]
        }
      ]
    },
    {
      "cell_type": "code",
      "source": [
        "# Q while문을 사용해 1부터 1000까지의 정수 중 3과 5의 공배수의 합을 구해보세요\n",
        "total = 0\n",
        "for i in range(1, 1000):\n",
        "    if i % 3 == 0 and i % 5 == 0:\n",
        "        total += i\n",
        "    # print(total)\n",
        "print(total)"
      ],
      "metadata": {
        "id": "bLHghR0wTe0g",
        "colab": {
          "base_uri": "https://localhost:8080/"
        },
        "outputId": "ce7c93ac-936d-4b60-f830-6789d309920a"
      },
      "execution_count": null,
      "outputs": [
        {
          "output_type": "stream",
          "name": "stdout",
          "text": [
            "33165\n"
          ]
        }
      ]
    },
    {
      "cell_type": "code",
      "source": [
        "# 강사님 버전 문제 4\n",
        "sum1 = 0\n",
        "i = 1\n",
        "while i <= 1000:\n",
        "    if i % 3 == 0 and i % 5 == 0:\n",
        "        sum1 += i\n",
        "    i += 1\n",
        "print(sum1)"
      ],
      "metadata": {
        "colab": {
          "base_uri": "https://localhost:8080/"
        },
        "id": "gfHNqCeKwdFd",
        "outputId": "ad17c5d0-f328-45cd-e930-e928b70a33ed"
      },
      "execution_count": null,
      "outputs": [
        {
          "output_type": "stream",
          "name": "stdout",
          "text": [
            "33165\n"
          ]
        }
      ]
    },
    {
      "cell_type": "code",
      "source": [
        "# Q 현재 시각을 오전과 오후로 구분하는 프로그램을 작성하세요\n",
        "import datetime\n",
        "import pytz\n",
        "\n",
        "tz = pytz.timezone('Asia/Seoul')\n",
        "now = datetime.datetime.now(tz)\n",
        "now_time = now.hour\n",
        "now_time    #현재시간\n",
        "if now_time >= 12:\n",
        "    print('오후입니다')\n",
        "else:\n",
        "    print('오전입니다')"
      ],
      "metadata": {
        "id": "rWq1Y2AMTe9k",
        "colab": {
          "base_uri": "https://localhost:8080/"
        },
        "outputId": "64d69d07-d16a-411f-c1a1-10a282c2a98a"
      },
      "execution_count": null,
      "outputs": [
        {
          "output_type": "stream",
          "name": "stdout",
          "text": [
            "오후입니다\n"
          ]
        }
      ]
    },
    {
      "cell_type": "code",
      "source": [
        "# 다양한 오류 입력에 대한 해결 방안 추가 필요\n",
        "time = input(\"현재 시간을 입력하세요(ex. 15시 30분, 15시)\")\n",
        "\n",
        "if '시' not in time:   # <= if time[2] != '시':\n",
        "    print('형식에 맞춰 작성해주세요')\n",
        "elif int(time.split('시')[0]) >= 0 and int(time.split('시')[0]) < 12:\n",
        "    print('오전입니다')\n",
        "elif int(time.split('시')[0]) >= 12 and int(time.split('시')[0]) < 24:\n",
        "    print('오후입니다')\n",
        "else:\n",
        "    print('시간을 다시 입력해주세요')"
      ],
      "metadata": {
        "colab": {
          "base_uri": "https://localhost:8080/"
        },
        "id": "ioS_wDely1PR",
        "outputId": "9e90c081-16ec-4738-eaf6-6e94d8f1b9a8"
      },
      "execution_count": null,
      "outputs": [
        {
          "output_type": "stream",
          "name": "stdout",
          "text": [
            "현재 시간을 입력하세요(ex. 15시 30분, 15시)30시\n",
            "시간을 다시 입력해주세요\n"
          ]
        }
      ]
    },
    {
      "cell_type": "markdown",
      "source": [
        "####pop() 함수\n",
        "- 리스트와 같은 자료 구조에서 주로 사용되는 함수\n",
        "- 이 함수는 특정 인덱스에 위치한 요소를 리스트에서 제거하고 해당 요소를 반환\n"
      ],
      "metadata": {
        "id": "gdFsHzTq2v9K"
      }
    },
    {
      "cell_type": "code",
      "source": [
        "fruits = ['apple', 'banana', 'cherry', 'date']\n",
        "\n",
        "#인덱스 2의 요소 (cherry)를 제거하고 반환\n",
        "removed_fruit = fruits.pop(2)\n",
        "print(removed_fruit)\n",
        "print(fruits)\n",
        "\n",
        "#리스트의 마지막 요소 (date)를 제거하고 반환\n",
        "last_fruit = fruits.pop()\n",
        "print(last_fruit)\n",
        "print(fruits)"
      ],
      "metadata": {
        "colab": {
          "base_uri": "https://localhost:8080/"
        },
        "id": "jk4FAOKa2vni",
        "outputId": "1eb654e0-3856-4132-c461-28e6dfa0f7b3"
      },
      "execution_count": null,
      "outputs": [
        {
          "output_type": "stream",
          "name": "stdout",
          "text": [
            "cherry\n",
            "['apple', 'banana', 'date']\n",
            "date\n",
            "['apple', 'banana']\n"
          ]
        }
      ]
    },
    {
      "cell_type": "code",
      "source": [
        "# Q 컴퓨터와 가위, 바위, 보 게임을 코딩으로 프로그래밍하세요\n",
        "import random\n",
        "\n",
        "p_win = 0\n",
        "c_win = 0\n",
        "# p_loss = 0\n",
        "# c_loss = 0\n",
        "draw = 0\n",
        "\n",
        "ways = ['가위', '바위', '보']\n",
        "\n",
        "# round = int(input('게임 라운드를 지정해주세요 : '))\n",
        "round = 2\n",
        "\n",
        "# 컴퓨터 픽\n",
        "computer = random.choice(ways)\n",
        "# print(computer)\n",
        "i = 0\n",
        "while i < round:\n",
        "\n",
        "    player = input('가위 바위 보! :')\n",
        "\n",
        "    if player != computer:\n",
        "        if player == '가위' and computer == '바위':\n",
        "            print(computer)\n",
        "            print('coumputer win')\n",
        "            c_win += 1\n",
        "            print(f'score : player : {p_win}, computer : {c_win}, draw : {draw}')\n",
        "        elif player == '가위' and computer == '보':\n",
        "            print(computer)\n",
        "            print('player win')\n",
        "            p_win += 1\n",
        "            print(f'score : player : {p_win}, computer : {c_win}, draw : {draw}')\n",
        "        elif player == '바위' and computer == '보':\n",
        "            print(computer)\n",
        "            print('coumputer win')\n",
        "            c_win += 1\n",
        "            print(f'score : player : {p_win}, computer : {c_win}, draw : {draw}')\n",
        "        elif player == '바위' and computer == '가위':\n",
        "            print(computer)\n",
        "            print('player win')\n",
        "            p_win += 1\n",
        "            print(f'score : player : {p_win}, computer : {c_win}, draw : {draw}')\n",
        "        elif player == '보' and computer == '가위':\n",
        "            print(computer)\n",
        "            print('coumputer win')\n",
        "            c_win += 1\n",
        "            print(f'score : player : {p_win}, computer : {c_win}, draw : {draw}')\n",
        "        elif player == '보' and computer == '바위':\n",
        "            print(computer)\n",
        "            print('player win')\n",
        "            p_win += 1\n",
        "            print(f'score : player : {p_win}, computer : {c_win}, draw : {draw}')\n",
        "    else:\n",
        "        print(computer)\n",
        "        print('무승부')\n",
        "        draw += 1\n",
        "        print(f'score : player : {p_win}, computer : {c_win}, draw : {draw}')\n",
        "    # print('a')\n",
        "    i += 1"
      ],
      "metadata": {
        "colab": {
          "base_uri": "https://localhost:8080/"
        },
        "id": "6M3BSCRp2tRq",
        "outputId": "07369644-51e2-427a-89e8-9957b52e5f1a"
      },
      "execution_count": null,
      "outputs": [
        {
          "output_type": "stream",
          "name": "stdout",
          "text": [
            "가위 바위 보! :가위\n",
            "가위\n",
            "무승부\n",
            "score : player : 0, computer : 0, draw : 1\n",
            "가위 바위 보! :보\n",
            "가위\n",
            "coumputer win\n",
            "score : player : 0, computer : 1, draw : 1\n"
          ]
        }
      ]
    },
    {
      "cell_type": "code",
      "source": [
        "import random\n",
        "\n",
        "cpu = ['가위', '바위', '보']\n",
        "\n",
        "win = [('가위', '바위'),('바위', '보'),('보', '가위')]\n",
        "\n",
        "while 1:\n",
        "    cpu_select = random.choice(cpu)\n",
        "    human = input(\"무엇을 내시겠습니까? :\")\n",
        "    if cpu_select == human:\n",
        "        print(\"비겼습니다.\")\n",
        "    elif (cpu_select, human) in win:\n",
        "        print(\"이겼습니다.\")\n",
        "    else:\n",
        "        print(\"졌습니다.\")"
      ],
      "metadata": {
        "id": "egFOnsPGCF7q"
      },
      "execution_count": null,
      "outputs": []
    },
    {
      "cell_type": "code",
      "source": [
        "import random\n",
        "\n",
        "com_hand = ['가위', '바위', '보']\n",
        "win_case = {'가위':'바위', '바위':'보', '보':'가위'}\n",
        "win_number = 0\n",
        "\n",
        "while True:\n",
        "    com_select = com_hand[random.randint(0,2)]\n",
        "    hum_select = input('가위/바위/보 입력')\n",
        "    print(f'컴퓨터는 {com_select}입니다')\n",
        "    if win_case[com_select] == hum_select:\n",
        "        win_number += 1\n",
        "        print(f'이겼습니다. 현재 {win_number}승 입니다')\n",
        "    else:\n",
        "        if com_select == hum_select:\n",
        "            print('비겼습니다')\n",
        "        else:\n",
        "            print('졌습니다')\n",
        "    if win_number == 2:\n",
        "        print('3승을 달성하여 게임을 종료합니다')\n",
        "        break"
      ],
      "metadata": {
        "colab": {
          "base_uri": "https://localhost:8080/"
        },
        "id": "oWw3gMFFCU2G",
        "outputId": "d02aaae4-221c-4304-e8a5-52dba6666350"
      },
      "execution_count": null,
      "outputs": [
        {
          "output_type": "stream",
          "name": "stdout",
          "text": [
            "가위/바위/보 입력가위\n",
            "컴퓨터는 보입니다\n",
            "이겼습니다. 현재 1승 입니다\n",
            "가위/바위/보 입력보\n",
            "컴퓨터는 가위입니다\n",
            "졌습니다\n",
            "가위/바위/보 입력보\n",
            "컴퓨터는 가위입니다\n",
            "졌습니다\n",
            "가위/바위/보 입력바위\n",
            "컴퓨터는 보입니다\n",
            "졌습니다\n",
            "가위/바위/보 입력기으;\n",
            "컴퓨터는 바위입니다\n",
            "졌습니다\n",
            "가위/바위/보 입력가위\n",
            "컴퓨터는 가위입니다\n",
            "비겼습니다\n",
            "가위/바위/보 입력보\n",
            "컴퓨터는 보입니다\n",
            "비겼습니다\n",
            "가위/바위/보 입력보\n",
            "컴퓨터는 바위입니다\n",
            "이겼습니다. 현재 2승 입니다\n"
          ]
        }
      ]
    },
    {
      "cell_type": "code",
      "execution_count": null,
      "metadata": {
        "colab": {
          "base_uri": "https://localhost:8080/"
        },
        "id": "5YBPgLf2PXd9",
        "outputId": "e73b499a-3999-4fb2-a8ef-137526fe4bcb"
      },
      "outputs": [
        {
          "output_type": "stream",
          "name": "stdout",
          "text": [
            "비빔밥 메뉴를 선택해 주세요 1, 2, 3 >>> 3\n",
            "세트 주문을 하시겠습니까? 3,000원 추가. y, n >>> y\n",
            "총 금액은 13000원 입니다\n"
          ]
        }
      ],
      "source": [
        "# 예시\n",
        "'''\n",
        "KITA 식당에 오신 것을 환영합니다\n",
        "\n",
        "========================================\n",
        "\n",
        "          - 메  뉴 -\n",
        "    1. 불고기 비빔밥 : 12,000원\n",
        "    2. 야채 비빔밥 : 8,000원\n",
        "    3. 전주 비빔밥 : 10,000원\n",
        "\n",
        "    세트 주문시 : 3000원 추가\n",
        "    (세트는 밥과 반찬이 추가됩니다.)\n",
        "\n",
        "========================================\n",
        "\n",
        "비빔밥 메뉴를 선택해 주세요. 1, 2, 3 >>> 2\n",
        "세트 주문을 하시겠습니까? 3,000원 추가. y, n >>> y\n",
        "총 금액은 11000원 입니다.\n",
        "'''\n",
        "total = 0\n",
        "\n",
        "mes1 = int(input('비빔밥 메뉴를 선택해 주세요 1, 2, 3 >>> '))\n",
        "\n",
        "if mes1 == 1:\n",
        "    total += 12000\n",
        "    mes2 = input('세트 주문을 하시겠습니까? 3,000원 추가. y, n >>> ')\n",
        "    if mes2 == 'y':\n",
        "        total += 3000\n",
        "        mes3 = f'총 금액은 {total}원 입니다'\n",
        "        print(mes3)\n",
        "    else:\n",
        "        mes3 = f'총 금액은 {total}원 입니다'\n",
        "        print(mes3)\n",
        "\n",
        "elif mes1 == 2:\n",
        "    total += 8000\n",
        "    mes2 = input('세트 주문을 하시겠습니까? 3,000원 추가. y, n >>> ')\n",
        "    if mes2 == 'y':\n",
        "        total += 3000\n",
        "        mes3 = f'총 금액은 {total}원 입니다'\n",
        "        print(mes3)\n",
        "    else:\n",
        "        mes3 = f'총 금액은 {total}원 입니다'\n",
        "        print(mes3)\n",
        "\n",
        "elif mes1 == 3:\n",
        "    total += 10000\n",
        "    mes2 = input('세트 주문을 하시겠습니까? 3,000원 추가. y, n >>> ')\n",
        "    if mes2 == 'y':\n",
        "        total += 3000\n",
        "        mes3 = f'총 금액은 {total}원 입니다'\n",
        "        print(mes3)\n",
        "    else:\n",
        "        mes3 = f'총 금액은 {total}원 입니다'\n",
        "        print(mes3)\n"
      ]
    },
    {
      "cell_type": "code",
      "source": [
        "# 좀 더 컴팩트한 버전\n",
        "\n",
        "def set_mes(number, total):\n",
        "    mes2 = input('세트 주문을 하시겠습니까? 3,000원 추가. y, n >>> ')\n",
        "    if mes2 == 'y':\n",
        "        total += 3000\n",
        "        mes3 = f'총 금액은 {total}원 입니다'\n",
        "        print(mes3)\n",
        "    else:\n",
        "        mes3 = f'총 금액은 {total}원 입니다'\n",
        "        print(mes3)\n",
        "\n",
        "\n",
        "total = 0\n",
        "mes1 = int(input('비빔밥 메뉴를 선택해 주세요 1, 2, 3 >>> '))\n",
        "\n",
        "if mes1 == 1:\n",
        "    set_mes(mes1, 12000)\n",
        "elif mes1 == 2:\n",
        "    set_mes(mes1, 8000)\n",
        "elif mes1 == 3:\n",
        "    set_mes(mes1, 10000)"
      ],
      "metadata": {
        "colab": {
          "base_uri": "https://localhost:8080/"
        },
        "id": "0EpWOYnmSRl3",
        "outputId": "1c44e7ac-7b82-4b28-a5d1-1e425358d89a"
      },
      "execution_count": null,
      "outputs": [
        {
          "output_type": "stream",
          "name": "stdout",
          "text": [
            "비빔밥 메뉴를 선택해 주세요 1, 2, 3 >>> 3\n",
            "세트 주문을 하시겠습니까? 3,000원 추가. y, n >>> 2\n",
            "총 금액은 10000원 입니다\n"
          ]
        }
      ]
    },
    {
      "cell_type": "code",
      "source": [
        "#강사님 버전\n",
        "\n",
        "def main():\n",
        "    print(\"KITA 식당에 오신 것을 환영합니다\")\n",
        "    print(\"\\n\" + \"=\" * 40)\n",
        "    print(\"\\n          - 메  뉴 -\")\n",
        "    print(\"    1. 불고기 비빔밥 : 12,000원\")\n",
        "    print(\"    2. 야채 비빔밥 : 8,000원\")\n",
        "    print(\"    3. 전주 비빔밥 : 10,000원\")\n",
        "    print(\"\\n    세트 주문시 : 3,000원 추가\")\n",
        "    print(\"    (세트는 밥과 반찬이 추가됩니다.)\")\n",
        "    print(\"\\n\" + \"=\" * 40)\n",
        "\n",
        "    # 사용자로부터 메뉴 선택을 받는다.\n",
        "    menu_choice = int(input(\"\\n비빔밥 메뉴를 선택해 주세요. 1, 2, 3 >>> \"))\n",
        "\n",
        "    # 메뉴별 가격을 설정한다.\n",
        "    prices = {1: 12000, 2: 8000, 3: 10000}\n",
        "\n",
        "    # 사용자가 선택한 메뉴의 가격을 가져온다.\n",
        "    total_price = prices.get(menu_choice, 0)\n",
        "\n",
        "    # 세트 주문 여부를 확인한다.\n",
        "    set_order = input(\"세트 주문을 하시겠습니까? 3,000원 추가. y, n >>> \").lower()\n",
        "    if set_order == 'y':\n",
        "        total_price += 3000\n",
        "\n",
        "    print(f\"총 금액은 {total_price}원 입니다.\")\n",
        "\n",
        "if __name__ == \"__main__\":\n",
        "    main()"
      ],
      "metadata": {
        "colab": {
          "base_uri": "https://localhost:8080/"
        },
        "id": "XejqZyMcSuKV",
        "outputId": "f07a5c8b-a108-4862-9f4a-3eb9d36dbf62"
      },
      "execution_count": null,
      "outputs": [
        {
          "output_type": "stream",
          "name": "stdout",
          "text": [
            "KITA 식당에 오신 것을 환영합니다\n",
            "\n",
            "========================================\n",
            "\n",
            "          - 메  뉴 -\n",
            "    1. 불고기 비빔밥 : 12,000원\n",
            "    2. 야채 비빔밥 : 8,000원\n",
            "    3. 전주 비빔밥 : 10,000원\n",
            "\n",
            "    세트 주문시 : 3,000원 추가\n",
            "    (세트는 밥과 반찬이 추가됩니다.)\n",
            "\n",
            "========================================\n",
            "\n",
            "비빔밥 메뉴를 선택해 주세요. 1, 2, 3 >>> 2\n",
            "세트 주문을 하시겠습니까? 3,000원 추가. y, n >>> y\n",
            "총 금액은 11000원 입니다.\n"
          ]
        }
      ]
    },
    {
      "cell_type": "markdown",
      "source": [
        "if name==\"main\":구문: 스크립트 직접 실행 시 main() 함수 호출, 모듈로 임포트 시 자동 실행 방지"
      ],
      "metadata": {
        "id": "w96HJgoMfJys"
      }
    },
    {
      "cell_type": "code",
      "source": [
        "#강사님 버전 + 계속 주문 추가\n",
        "\n",
        "def main(person):\n",
        "    i = 0\n",
        "    while True:\n",
        "\n",
        "        print(\"KITA 식당에 오신 것을 환영합니다\")\n",
        "        print(\"\\n\" + \"=\" * 40)\n",
        "        print(\"\\n          - 메  뉴 -\")\n",
        "        print(\"    1. 불고기 비빔밥 : 12,000원\")\n",
        "        print(\"    2. 야채 비빔밥 : 8,000원\")\n",
        "        print(\"    3. 전주 비빔밥 : 10,000원\")\n",
        "        print(\"\\n    세트 주문시 : 3,000원 추가\")\n",
        "        print(\"    (세트는 밥과 반찬이 추가됩니다.)\")\n",
        "        print(\"\\n\" + \"=\" * 40)\n",
        "\n",
        "        # 사용자로부터 메뉴 선택을 받는다.\n",
        "        menu_choice = int(input(\"\\n비빔밥 메뉴를 선택해 주세요. 1, 2, 3 >>> \"))\n",
        "\n",
        "        # 메뉴별 가격을 설정한다.\n",
        "        prices = {1: 12000, 2: 8000, 3: 10000}\n",
        "\n",
        "        # 사용자가 선택한 메뉴의 가격을 가져온다.\n",
        "        total_price = prices.get(menu_choice, 0)\n",
        "\n",
        "        # 세트 주문 여부를 확인한다.\n",
        "        set_order = input(\"세트 주문을 하시겠습니까? 3,000원 추가. y, n >>> \").lower()\n",
        "        if set_order == 'y':\n",
        "            total_price += 3000\n",
        "\n",
        "        print(f\"총 금액은 {total_price}원 입니다.\")\n",
        "\n",
        "        print()\n",
        "        i += 1\n",
        "        if i == person:\n",
        "            break\n",
        "\n",
        "if __name__ == \"__main__\":\n",
        "    main(3)"
      ],
      "metadata": {
        "colab": {
          "base_uri": "https://localhost:8080/"
        },
        "id": "FPaoDjEFdwSi",
        "outputId": "2bc26731-1859-4c45-fc82-33c7d13628b1"
      },
      "execution_count": null,
      "outputs": [
        {
          "output_type": "stream",
          "name": "stdout",
          "text": [
            "KITA 식당에 오신 것을 환영합니다\n",
            "\n",
            "========================================\n",
            "\n",
            "          - 메  뉴 -\n",
            "    1. 불고기 비빔밥 : 12,000원\n",
            "    2. 야채 비빔밥 : 8,000원\n",
            "    3. 전주 비빔밥 : 10,000원\n",
            "\n",
            "    세트 주문시 : 3,000원 추가\n",
            "    (세트는 밥과 반찬이 추가됩니다.)\n",
            "\n",
            "========================================\n",
            "\n",
            "비빔밥 메뉴를 선택해 주세요. 1, 2, 3 >>> 1\n",
            "세트 주문을 하시겠습니까? 3,000원 추가. y, n >>> y\n",
            "총 금액은 15000원 입니다.\n",
            "\n",
            "KITA 식당에 오신 것을 환영합니다\n",
            "\n",
            "========================================\n",
            "\n",
            "          - 메  뉴 -\n",
            "    1. 불고기 비빔밥 : 12,000원\n",
            "    2. 야채 비빔밥 : 8,000원\n",
            "    3. 전주 비빔밥 : 10,000원\n",
            "\n",
            "    세트 주문시 : 3,000원 추가\n",
            "    (세트는 밥과 반찬이 추가됩니다.)\n",
            "\n",
            "========================================\n",
            "\n",
            "비빔밥 메뉴를 선택해 주세요. 1, 2, 3 >>> 3\n",
            "세트 주문을 하시겠습니까? 3,000원 추가. y, n >>> y\n",
            "총 금액은 13000원 입니다.\n",
            "\n",
            "KITA 식당에 오신 것을 환영합니다\n",
            "\n",
            "========================================\n",
            "\n",
            "          - 메  뉴 -\n",
            "    1. 불고기 비빔밥 : 12,000원\n",
            "    2. 야채 비빔밥 : 8,000원\n",
            "    3. 전주 비빔밥 : 10,000원\n",
            "\n",
            "    세트 주문시 : 3,000원 추가\n",
            "    (세트는 밥과 반찬이 추가됩니다.)\n",
            "\n",
            "========================================\n",
            "\n",
            "비빔밥 메뉴를 선택해 주세요. 1, 2, 3 >>> 2\n",
            "세트 주문을 하시겠습니까? 3,000원 추가. y, n >>> y\n",
            "총 금액은 11000원 입니다.\n",
            "\n"
          ]
        }
      ]
    },
    {
      "cell_type": "code",
      "source": [
        "#강사님 버전 + 계속 주문 추가\n",
        "\n",
        "def display_menu():\n",
        "        print(\"KITA 식당에 오신 것을 환영합니다\")\n",
        "        print(\"\\n\" + \"=\" * 40)\n",
        "        print(\"\\n          - 메  뉴 -\")\n",
        "        print(\"    1. 불고기 비빔밥 : 12,000원\")\n",
        "        print(\"    2. 야채 비빔밥 : 8,000원\")\n",
        "        print(\"    3. 전주 비빔밥 : 10,000원\")\n",
        "        print(\"\\n    세트 주문시 : 3,000원 추가\")\n",
        "        print(\"    (세트는 밥과 반찬이 추가됩니다.)\")\n",
        "        print(\"\\n\" + \"=\" * 40)\n",
        "\n",
        "def order():\n",
        "    # 사용자로부터 메뉴 선택을 받는다.\n",
        "    menu_choice = int(input(\"\\n비빔밥 메뉴를 선택해 주세요. 1, 2, 3 >>> \"))\n",
        "\n",
        "    # 메뉴별 가격을 설정한다.\n",
        "    prices = {1: 12000, 2: 8000, 3: 10000}\n",
        "\n",
        "    # 사용자가 선택한 메뉴의 가격을 가져온다.\n",
        "    total_price = prices.get(menu_choice, 0)\n",
        "\n",
        "    # 세트 주문 여부를 확인한다.\n",
        "    set_order = input(\"세트 주문을 하시겠습니까? 3,000원 추가. y, n >>> \").lower()\n",
        "    if set_order == 'y':\n",
        "        total_price += 3000\n",
        "    print(f\"총 금액은 {total_price}원 입니다.\")\n",
        "\n",
        "def main():\n",
        "    while True:\n",
        "        display_menu()\n",
        "        order()\n",
        "\n",
        "        #계속 주문하거나 종료 여부를 확인한다\n",
        "        continue_ordering = input('\\n다시 주문하시겠습니까? (주문: enter / 종료: exit) >>>')\n",
        "        if continue_ordering == 'exit':\n",
        "            break\n",
        "\n",
        "    print('\\n감사합니다! 다음에 또 주문해주세요')\n",
        "\n",
        "\n",
        "if __name__ == \"__main__\":\n",
        "    main()"
      ],
      "metadata": {
        "colab": {
          "base_uri": "https://localhost:8080/"
        },
        "id": "RNqp7fivh55A",
        "outputId": "58d55eec-a41a-48c5-cd42-96c79f2d408c"
      },
      "execution_count": null,
      "outputs": [
        {
          "output_type": "stream",
          "name": "stdout",
          "text": [
            "KITA 식당에 오신 것을 환영합니다\n",
            "\n",
            "========================================\n",
            "\n",
            "          - 메  뉴 -\n",
            "    1. 불고기 비빔밥 : 12,000원\n",
            "    2. 야채 비빔밥 : 8,000원\n",
            "    3. 전주 비빔밥 : 10,000원\n",
            "\n",
            "    세트 주문시 : 3,000원 추가\n",
            "    (세트는 밥과 반찬이 추가됩니다.)\n",
            "\n",
            "========================================\n",
            "\n",
            "비빔밥 메뉴를 선택해 주세요. 1, 2, 3 >>> 2\n",
            "세트 주문을 하시겠습니까? 3,000원 추가. y, n >>> n\n",
            "총 금액은 8000원 입니다.\n",
            "\n",
            "다시 주문하시겠습니까? (주문: enter / 종료: exit) >>>exot\n",
            "KITA 식당에 오신 것을 환영합니다\n",
            "\n",
            "========================================\n",
            "\n",
            "          - 메  뉴 -\n",
            "    1. 불고기 비빔밥 : 12,000원\n",
            "    2. 야채 비빔밥 : 8,000원\n",
            "    3. 전주 비빔밥 : 10,000원\n",
            "\n",
            "    세트 주문시 : 3,000원 추가\n",
            "    (세트는 밥과 반찬이 추가됩니다.)\n",
            "\n",
            "========================================\n",
            "\n",
            "비빔밥 메뉴를 선택해 주세요. 1, 2, 3 >>> 3\n",
            "세트 주문을 하시겠습니까? 3,000원 추가. y, n >>> 1\n",
            "총 금액은 10000원 입니다.\n",
            "\n",
            "다시 주문하시겠습니까? (주문: enter / 종료: exit) >>>emter\n",
            "KITA 식당에 오신 것을 환영합니다\n",
            "\n",
            "========================================\n",
            "\n",
            "          - 메  뉴 -\n",
            "    1. 불고기 비빔밥 : 12,000원\n",
            "    2. 야채 비빔밥 : 8,000원\n",
            "    3. 전주 비빔밥 : 10,000원\n",
            "\n",
            "    세트 주문시 : 3,000원 추가\n",
            "    (세트는 밥과 반찬이 추가됩니다.)\n",
            "\n",
            "========================================\n",
            "\n",
            "비빔밥 메뉴를 선택해 주세요. 1, 2, 3 >>> 4\n",
            "세트 주문을 하시겠습니까? 3,000원 추가. y, n >>> n\n",
            "총 금액은 0원 입니다.\n",
            "\n",
            "다시 주문하시겠습니까? (주문: enter / 종료: exit) >>>exit\n",
            "\n",
            "감사합니다! 다음에 또 주문해주세요\n"
          ]
        }
      ]
    },
    {
      "cell_type": "code",
      "source": [
        "# 여러개의 음식을 동시에 주문 할 수 있는 주문 시스템을 작성하세요(구조지향)\n",
        "# 강사님 버전 + 계속 주문 추가\n",
        "\n",
        "def display_menu():\n",
        "        print(\"KITA 식당에 오신 것을 환영합니다\")\n",
        "        print(\"\\n\" + \"=\" * 40)\n",
        "        print(\"\\n          - 메  뉴 -\")\n",
        "        print(\"    1. 불고기 비빔밥 : 12,000원\")\n",
        "        print(\"    2. 야채 비빔밥 : 8,000원\")\n",
        "        print(\"    3. 전주 비빔밥 : 10,000원\")\n",
        "        print(\"\\n    세트 주문시 : 3,000원 추가\")\n",
        "        print(\"    (세트는 밥과 반찬이 추가됩니다.)\")\n",
        "        print(\"\\n\" + \"=\" * 40)\n",
        "\n",
        "\n",
        "\n",
        "\n",
        "def order():\n",
        "    # 사용자로부터 메뉴 선택을 받는다.\n",
        "    menu_choice = input(\"\\n비빔밥 메뉴를 선택해 주세요. 1, 2, 3 >>> \" ).split()\n",
        "    print(menu_choice)\n",
        "\n",
        "    # 메뉴별 가격을 설정한다.\n",
        "    # prices = {1: 12000, 2: 8000, 3: 10000}\n",
        "    menu_items = {\n",
        "    '1':('불고기 비빔밥', 12000),\n",
        "    '2':('야채 비빔밥', 8000),\n",
        "    '3':('전주 비빔밥', 10000)\n",
        "}\n",
        "\n",
        "    # 사용자가 선택한 메뉴의 가격을 가져온다.\n",
        "    # total_price = prices.get(menu_choice, 0)\n",
        "    total_price = menu_items(menu_choice)\n",
        "    print(total_price)\n",
        "\n",
        "\n",
        "    # 세트 주문 여부를 확인한다.\n",
        "    set_order = input(\"세트 주문을 하시겠습니까? 3,000원 추가. y, n >>> \").lower()\n",
        "    if set_order == 'y':\n",
        "        total_price += 3000\n",
        "    print(f\"총 금액은 {total_price}원 입니다.\")\n",
        "\n",
        "def main():\n",
        "    while True:\n",
        "        display_menu()\n",
        "        order()\n",
        "\n",
        "        #계속 주문하거나 종료 여부를 확인한다\n",
        "        continue_ordering = input('\\n다시 주문하시겠습니까? (주문: enter / 종료: exit) >>>')\n",
        "        if continue_ordering == 'exit':\n",
        "            break\n",
        "\n",
        "    print('\\n감사합니다! 다음에 또 주문해주세요')\n",
        "\n",
        "\n",
        "if __name__ == \"__main__\":\n",
        "    main()"
      ],
      "metadata": {
        "colab": {
          "base_uri": "https://localhost:8080/",
          "height": 630
        },
        "id": "mgViLw615udK",
        "outputId": "1e4cc209-e902-439f-f51c-d7ffdff15cd4"
      },
      "execution_count": null,
      "outputs": [
        {
          "output_type": "stream",
          "name": "stdout",
          "text": [
            "KITA 식당에 오신 것을 환영합니다\n",
            "\n",
            "========================================\n",
            "\n",
            "          - 메  뉴 -\n",
            "    1. 불고기 비빔밥 : 12,000원\n",
            "    2. 야채 비빔밥 : 8,000원\n",
            "    3. 전주 비빔밥 : 10,000원\n",
            "\n",
            "    세트 주문시 : 3,000원 추가\n",
            "    (세트는 밥과 반찬이 추가됩니다.)\n",
            "\n",
            "========================================\n",
            "\n",
            "비빔밥 메뉴를 선택해 주세요. 1, 2, 3 >>> 1, 3\n",
            "['1,', '3']\n"
          ]
        },
        {
          "output_type": "error",
          "ename": "TypeError",
          "evalue": "unhashable type: 'list'",
          "traceback": [
            "\u001b[0;31m---------------------------------------------------------------------------\u001b[0m",
            "\u001b[0;31mTypeError\u001b[0m                                 Traceback (most recent call last)",
            "\u001b[0;32m<ipython-input-60-fd2c331f4b60>\u001b[0m in \u001b[0;36m<cell line: 52>\u001b[0;34m()\u001b[0m\n\u001b[1;32m     51\u001b[0m \u001b[0;34m\u001b[0m\u001b[0m\n\u001b[1;32m     52\u001b[0m \u001b[0;32mif\u001b[0m \u001b[0m__name__\u001b[0m \u001b[0;34m==\u001b[0m \u001b[0;34m\"__main__\"\u001b[0m\u001b[0;34m:\u001b[0m\u001b[0;34m\u001b[0m\u001b[0;34m\u001b[0m\u001b[0m\n\u001b[0;32m---> 53\u001b[0;31m     \u001b[0mmain\u001b[0m\u001b[0;34m(\u001b[0m\u001b[0;34m)\u001b[0m\u001b[0;34m\u001b[0m\u001b[0;34m\u001b[0m\u001b[0m\n\u001b[0m",
            "\u001b[0;32m<ipython-input-60-fd2c331f4b60>\u001b[0m in \u001b[0;36mmain\u001b[0;34m()\u001b[0m\n\u001b[1;32m     40\u001b[0m     \u001b[0;32mwhile\u001b[0m \u001b[0;32mTrue\u001b[0m\u001b[0;34m:\u001b[0m\u001b[0;34m\u001b[0m\u001b[0;34m\u001b[0m\u001b[0m\n\u001b[1;32m     41\u001b[0m         \u001b[0mdisplay_menu\u001b[0m\u001b[0;34m(\u001b[0m\u001b[0;34m)\u001b[0m\u001b[0;34m\u001b[0m\u001b[0;34m\u001b[0m\u001b[0m\n\u001b[0;32m---> 42\u001b[0;31m         \u001b[0morder\u001b[0m\u001b[0;34m(\u001b[0m\u001b[0;34m)\u001b[0m\u001b[0;34m\u001b[0m\u001b[0;34m\u001b[0m\u001b[0m\n\u001b[0m\u001b[1;32m     43\u001b[0m \u001b[0;34m\u001b[0m\u001b[0m\n\u001b[1;32m     44\u001b[0m         \u001b[0;31m#계속 주문하거나 종료 여부를 확인한다\u001b[0m\u001b[0;34m\u001b[0m\u001b[0;34m\u001b[0m\u001b[0m\n",
            "\u001b[0;32m<ipython-input-60-fd2c331f4b60>\u001b[0m in \u001b[0;36morder\u001b[0;34m()\u001b[0m\n\u001b[1;32m     29\u001b[0m     \u001b[0;31m# 사용자가 선택한 메뉴의 가격을 가져온다.\u001b[0m\u001b[0;34m\u001b[0m\u001b[0;34m\u001b[0m\u001b[0m\n\u001b[1;32m     30\u001b[0m     \u001b[0;31m# total_price = prices.get(menu_choice, 0)\u001b[0m\u001b[0;34m\u001b[0m\u001b[0;34m\u001b[0m\u001b[0m\n\u001b[0;32m---> 31\u001b[0;31m     \u001b[0mtotal_price\u001b[0m \u001b[0;34m=\u001b[0m \u001b[0mmenu_items\u001b[0m\u001b[0;34m[\u001b[0m\u001b[0mmenu_choice\u001b[0m\u001b[0;34m]\u001b[0m\u001b[0;34m\u001b[0m\u001b[0;34m\u001b[0m\u001b[0m\n\u001b[0m\u001b[1;32m     32\u001b[0m     \u001b[0mprint\u001b[0m\u001b[0;34m(\u001b[0m\u001b[0mtotal_price\u001b[0m\u001b[0;34m)\u001b[0m\u001b[0;34m\u001b[0m\u001b[0;34m\u001b[0m\u001b[0m\n\u001b[1;32m     33\u001b[0m     \u001b[0;31m# 세트 주문 여부를 확인한다.\u001b[0m\u001b[0;34m\u001b[0m\u001b[0;34m\u001b[0m\u001b[0m\n",
            "\u001b[0;31mTypeError\u001b[0m: unhashable type: 'list'"
          ]
        }
      ]
    },
    {
      "cell_type": "markdown",
      "source": [
        "#if __name__ == \"__main__\":\n",
        "\n",
        "- 현재 모듈이 직접 실행되는지 또는 다른 파일에 의해 임포트되어 사용되는지를 판단할 때 사용.\n",
        "- 만약 모듈이 직접 실행되면 __name__ 변수의 값은 \"__main__\"이 되고, 모듈이 다른 파일에서 임포트되어 사용될 경우 __name__은 모듈의 이름이 된다."
      ],
      "metadata": {
        "id": "n7qGFHSe4u_K"
      }
    },
    {
      "cell_type": "code",
      "source": [
        "# mymodule.py 파일의 내용을 문자열로 정의합니다.\n",
        "module_content = \"\"\"\n",
        "def print_hello():\n",
        "    print(\"Hello from mymodule!\")\n",
        "\n",
        "def print_goodbye():\n",
        "    print(\"Goodbye from mymodule!\")\n",
        "\n",
        "print_hello()\n",
        "print_goodbye()\n",
        "\"\"\"\n",
        "\n",
        "# 파일을 쓰기 모드로 열고, 내용을 작성한 뒤 파일을 닫습니다.\n",
        "with open(\"mymodule.py\", \"w\") as file:\n",
        "    file.write(module_content)\n",
        "\n",
        "# 파일이 저장된 위치 확인 (일반적으로 Colab의 현재 작업 디렉토리)\n",
        "!ls"
      ],
      "metadata": {
        "colab": {
          "base_uri": "https://localhost:8080/"
        },
        "id": "ji-2F49_2jBH",
        "outputId": "1f0d5118-9ce6-4c22-bbac-ecf16655c24e"
      },
      "execution_count": null,
      "outputs": [
        {
          "output_type": "stream",
          "name": "stdout",
          "text": [
            "mymodule.py  sample_data\n"
          ]
        }
      ]
    },
    {
      "cell_type": "code",
      "source": [
        "# mymodule.py 파일의 내용을 문자열로 정의합니다.\n",
        "#if __name__ == \"__main__\": 는 직접 실행할 경우만 True, 모듈 임포트 경우는 False\n",
        "module_content = \"\"\"\n",
        "def print_hello():\n",
        "    print(\"Hello from mymodule!\")\n",
        "\n",
        "def print_goodbye():\n",
        "    print(\"Goodbye from mymodule!\")\n",
        "\n",
        "print_hello()\n",
        "print_goodbye()\n",
        "\n",
        "if __name__==\"__main__\":\n",
        "    print(\"This code runs only when mymodule.py is executed directly.\")\n",
        "    print_hello()\n",
        "    print_goodbye()\n",
        "\"\"\"\n",
        "\n",
        "# 파일을 쓰기 모드로 열고, 내용을 작성한 뒤 파일을 닫습니다.\n",
        "with open(\"mymodule.py\", \"w\") as file:\n",
        "    file.write(module_content)\n",
        "\n",
        "# 파일이 저장된 위치 확인 (일반적으로 Colab의 현재 작업 디렉토리)\n",
        "!ls"
      ],
      "metadata": {
        "colab": {
          "base_uri": "https://localhost:8080/"
        },
        "id": "AG4YB6mN4Tut",
        "outputId": "bc83318c-482e-4397-aa50-c0472e110571"
      },
      "execution_count": null,
      "outputs": [
        {
          "output_type": "stream",
          "name": "stdout",
          "text": [
            "mymodule.py  sample_data\n"
          ]
        }
      ]
    },
    {
      "cell_type": "code",
      "source": [
        "!cat mymodule.py"
      ],
      "metadata": {
        "colab": {
          "base_uri": "https://localhost:8080/"
        },
        "id": "WVkfSW8s3en3",
        "outputId": "41a94fd9-4c5b-4e46-c995-d240202a6d27"
      },
      "execution_count": null,
      "outputs": [
        {
          "output_type": "stream",
          "name": "stdout",
          "text": [
            "\n",
            "def print_hello():\n",
            "    print(\"Hello from mymodule!\")\n",
            "\n",
            "def print_goodbye():\n",
            "    print(\"Goodbye from mymodule!\")\n",
            "\n",
            "print_hello()\n",
            "print_goodbye()\n",
            "\n",
            "if __name__==\"__main__\":\n",
            "    print(\"This code runs only when mymodule.py is executed directly.\")\n",
            "    print_hello()\n",
            "    print_goodbye()\n"
          ]
        }
      ]
    },
    {
      "cell_type": "code",
      "source": [],
      "metadata": {
        "id": "maU3fimn5rf0"
      },
      "execution_count": null,
      "outputs": []
    }
  ]
}