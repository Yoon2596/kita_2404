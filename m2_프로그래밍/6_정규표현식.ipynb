{
  "nbformat": 4,
  "nbformat_minor": 0,
  "metadata": {
    "colab": {
      "provenance": [],
      "toc_visible": true,
      "authorship_tag": "ABX9TyML6by3Wl5paZAKUSA03UqY",
      "include_colab_link": true
    },
    "kernelspec": {
      "name": "python3",
      "display_name": "Python 3"
    },
    "language_info": {
      "name": "python"
    }
  },
  "cells": [
    {
      "cell_type": "markdown",
      "metadata": {
        "id": "view-in-github",
        "colab_type": "text"
      },
      "source": [
        "<a href=\"https://colab.research.google.com/github/Yoon2596/kita_2404/blob/main/m2_%ED%94%84%EB%A1%9C%EA%B7%B8%EB%9E%98%EB%B0%8D/6_%EC%A0%95%EA%B7%9C%ED%91%9C%ED%98%84%EC%8B%9D.ipynb\" target=\"_parent\"><img src=\"https://colab.research.google.com/assets/colab-badge.svg\" alt=\"Open In Colab\"/></a>"
      ]
    },
    {
      "cell_type": "markdown",
      "source": [
        "#### 정규표현식\n",
        "\n",
        "파이썬에서 정규 표현식(Regular Expressions)은 문자열을 처리할 때 매우 강력하고 유연한 도구\n",
        "\n",
        "기본 개념:\n",
        "- 패턴 매칭 (Pattern Matching): 특정 패턴이 문자열에 존재하는지 확인. 예를 들어, 이메일 주소나 전화번호와 같은 특정 형식을 갖는 문자열을 찾을 때 사용\n",
        "\n",
        "- 메타 문자 (Meta Characters): 정규 표현식의 핵심 요소로, 특별한 의미를 가진 문자들. 예를 들어, ^, $, *, +, ?, {}, [], \\, |, () 등이 있습니다.\n",
        "\n",
        "- 리터럴 (Literal): 일반 텍스트 문자. 특별한 의미 없이 문자 그대로를 의미\n",
        "\n",
        "re 모듈 : 파이썬은 정규표현식을 지원하기 위해 기본으로 제공\n",
        "- re.compile의 결과로 리턴되는 객체를 이용하여 그 이후 작업 수행\n",
        "\n",
        "주요 기능:\n",
        "- re.match(pattern, string): 문자열 내에서 시작 부분부터 정규표현식과 일치하는지 확인\n",
        "- re.search(pattern, string): 문자열 전체를 검색하여 주어진 정규표현식과 일치하는 첫번째 위치를 확인\n",
        "- re.findall(pattern, string): 문자열 내에서 주어진 패턴과 일치하는 모든 부분을 찾아 리스트로 반환\n",
        "- re.finditer(): 정규식과 매치되는 모든 문자열을 반복 가능한 객체로 리턴\n",
        "- re.sub(pattern, repl, string): 문자열 내에서 주어진 패턴과 일치하는 부분을 다른 문자열로 대체\n",
        "- re.compile(pattern): 주어진 패턴을 컴파일하여 재사용 가능한 정규 표현식 객체를 생성"
      ],
      "metadata": {
        "id": "TLi_CQB8v6a-"
      }
    },
    {
      "cell_type": "markdown",
      "source": [
        "re.match에서 반환되는 match 객체는 클래스의 인스턴스\n",
        "- Python의 re 모듈에서 match 객체는 re.Match 클래스의 인스턴스로, 정규 표현식과의 일치에 대한 정보를 담고 있다.\n",
        "\n",
        "- re.Match 클래스의 인스턴스는 다음과 같은 중요한 메소드와 속성을 가지고 있다:\n",
        "  - group(): 일치하는 문자열을 반환. group(0) 또는 group()은 전체 일치를 반환\n",
        "  - start() 및 end(): 일치하는 부분의 시작과 끝 인덱스를 반환.\n",
        "  - span(): 일치하는 부분의 시작과 끝 인덱스를 포함하는 튜플을 반환.\n",
        "  \n",
        "re.match() 함수의 작동원리\n",
        "- 입력: re.match() 함수는 두 가지 주요 인자를 받는다:\n",
        "    - pattern: 검사할 정규 표현식 패턴. 이 패턴은 문자열에서 찾고자 하는 문자의 시퀀스를 정의.\n",
        "    - string: 검사할 전체 문자열입니다.\n",
        "- 패턴 일치 검사: 함수는 주어진 string의 시작 부분부터 pattern에 정의된 정규 표현식과 일치하는지 확인. 여기서 \"시작 부분\"이 중요한데, 이는 함수가 문자열의 처음부터 패턴과 일치하는 부분을 찾는다는 것을 의미.\n",
        "\n",
        "- 결과 반환:\n",
        "    - 일치하는 경우: 패턴이 문자열의 시작 부분과 일치하는 경우, 함수는 re.Match 객체를 반환. 이 객체는 일치에 대한 상세한 정보(예: 일치하는 문자열, 시작 및 끝 인덱스, 캡처된 그룹 등)를 포함.\n",
        "    - 일치하지 않는 경우: 패턴이 문자열의 시작 부분과 일치하지 않으면, 함수는 None을 반환."
      ],
      "metadata": {
        "id": "LaA5JhISyZc9"
      }
    },
    {
      "cell_type": "code",
      "source": [
        "import re\n",
        "\n",
        "pattern = r'\\d+'\n",
        "string = '123 apple'\n",
        "match = re.match(pattern, string)\n",
        "\n",
        "if match:\n",
        "    print(match.group())\n",
        "    print(match.start())\n",
        "    print(match.end())\n",
        "    print(match.span())\n",
        "else:\n",
        "    print('No match found')"
      ],
      "metadata": {
        "colab": {
          "base_uri": "https://localhost:8080/"
        },
        "id": "ZHaDHvGgsmXT",
        "outputId": "0eef30c8-114e-44f7-dab2-2c8c174dd081"
      },
      "execution_count": null,
      "outputs": [
        {
          "output_type": "stream",
          "name": "stdout",
          "text": [
            "123\n",
            "0\n",
            "3\n",
            "(0, 3)\n"
          ]
        }
      ]
    },
    {
      "cell_type": "code",
      "execution_count": null,
      "metadata": {
        "id": "pWqRSk1MvzCU",
        "colab": {
          "base_uri": "https://localhost:8080/"
        },
        "outputId": "623159b3-6a25-4211-9653-f1f44dd9a840"
      },
      "outputs": [
        {
          "output_type": "stream",
          "name": "stdout",
          "text": [
            "apple\n",
            "apple\n",
            "0\n",
            "5\n",
            "(0, 5)\n"
          ]
        }
      ],
      "source": [
        "import re\n",
        "\n",
        "# match 는 시작 부분과 한개만 / search는 전체 / findall 은 여러개\n",
        "match = re.match('apple', 'apple pie')\n",
        "print(match.group())\n",
        "print(match.group(0))\n",
        "print(match.start())\n",
        "print(match.end())\n",
        "print(match.span())"
      ]
    },
    {
      "cell_type": "code",
      "source": [
        "# 괄호는 문자열 \"apple\"을 \"캡쳐 그룹\"으로 지정하는 역할\n",
        "p = '(apple) pie'\n",
        "t = 'apple pie'\n",
        "\n",
        "match = re.match(p, t)\n",
        "print(match.group())\n",
        "print(match.group(1))"
      ],
      "metadata": {
        "colab": {
          "base_uri": "https://localhost:8080/"
        },
        "id": "v7QiK5cgzqtX",
        "outputId": "eff2157e-4d58-478b-9f68-6ad834d9c63f"
      },
      "execution_count": null,
      "outputs": [
        {
          "output_type": "stream",
          "name": "stdout",
          "text": [
            "apple pie\n",
            "apple\n"
          ]
        }
      ]
    },
    {
      "cell_type": "code",
      "source": [
        "# ()가 단순한 문자열로 매치되길 원할 때는 이스케이프 처리\n",
        "p = '\\\\(apple\\\\) pie'\n",
        "t = '(apple) pie'\n",
        "\n",
        "match = re.match(p, t)\n",
        "print(match.group())\n",
        "# print(match.group(1))"
      ],
      "metadata": {
        "colab": {
          "base_uri": "https://localhost:8080/"
        },
        "id": "UuI7YNwU0W8u",
        "outputId": "100e55f0-9430-440a-a383-b996299685ae"
      },
      "execution_count": null,
      "outputs": [
        {
          "output_type": "stream",
          "name": "stdout",
          "text": [
            "(apple) pie\n"
          ]
        }
      ]
    },
    {
      "cell_type": "code",
      "source": [
        "# 로우스트링 r'...'을 사용하면, 백슬래시 두 번 연속해서 쓰는 것을 피할 수 있어 코드가 더 깔끔해지고 오류발생 가능성이 줄어든다\n",
        "p = r'\\(apple\\) pie'\n",
        "t = '(apple) pie'\n",
        "\n",
        "match = re.match(p, t)\n",
        "print(match.group())"
      ],
      "metadata": {
        "colab": {
          "base_uri": "https://localhost:8080/"
        },
        "id": "iLuotd4Q07cr",
        "outputId": "78af1a19-9fbb-45fa-f1a2-cdf65b549fc6"
      },
      "execution_count": null,
      "outputs": [
        {
          "output_type": "stream",
          "name": "stdout",
          "text": [
            "(apple) pie\n"
          ]
        }
      ]
    },
    {
      "cell_type": "code",
      "source": [
        "# 그룹\n",
        "\n",
        "p = '(apple) (pie)'\n",
        "t = 'apple pie'\n",
        "\n",
        "match = re.match(p, t)\n",
        "print(match.group())\n",
        "print(match.group(0))\n",
        "print(match.group(1))\n",
        "print(match.group(2))"
      ],
      "metadata": {
        "colab": {
          "base_uri": "https://localhost:8080/"
        },
        "id": "bZpBlAuu1ki-",
        "outputId": "3155bd24-3a05-45ad-a478-21fb0781046e"
      },
      "execution_count": null,
      "outputs": [
        {
          "output_type": "stream",
          "name": "stdout",
          "text": [
            "apple pie\n",
            "apple pie\n",
            "apple\n",
            "pie\n"
          ]
        }
      ]
    },
    {
      "cell_type": "code",
      "source": [
        "# 시작에 있어서 동작을 안함.\n",
        "p = 'apple'\n",
        "t = 'sweet apple pie'\n",
        "\n",
        "match = re.match(p,t)\n",
        "# 작동 안됨 (시작이 아니어서)\n",
        "# print = (match.group)"
      ],
      "metadata": {
        "id": "hPsu3VrJ2aoV"
      },
      "execution_count": null,
      "outputs": []
    },
    {
      "cell_type": "code",
      "source": [
        "search = re.search('apple', 'sweet apple pie')\n",
        "print(search.group())\n",
        "print(search.group(0))\n",
        "print(search.start())\n",
        "print(search.end())\n",
        "print(search.span())"
      ],
      "metadata": {
        "colab": {
          "base_uri": "https://localhost:8080/"
        },
        "id": "iC9Rg4W22TOI",
        "outputId": "912b3ba8-893b-4da5-ae49-45d86199d2fc"
      },
      "execution_count": null,
      "outputs": [
        {
          "output_type": "stream",
          "name": "stdout",
          "text": [
            "apple\n",
            "apple\n",
            "6\n",
            "11\n",
            "(6, 11)\n"
          ]
        }
      ]
    },
    {
      "cell_type": "code",
      "source": [
        "import re\n",
        "# 검색하기\n",
        "if re.search('apple', 'apple pie'):\n",
        "    print('Found an apple!')\n",
        "\n",
        "# 모든 일치 항목 찾기\n",
        "print(re.findall('a.', 'ab, ac, ad')) #  어떤 한 문자와 일치\n",
        "\n",
        "# 문자열 대체하기\n",
        "print(re.sub('blue', 'red', 'blue sky and blue ocean'))\n",
        "\n",
        "# 패턴 컴파일하기\n",
        "pattern = re.compile('[a-e]')\n",
        "print(pattern.findall('hello world'))"
      ],
      "metadata": {
        "colab": {
          "base_uri": "https://localhost:8080/"
        },
        "id": "Xjm4mutAo-LC",
        "outputId": "6af924b7-cd41-4fa8-c1c5-fb3f9c77b802"
      },
      "execution_count": null,
      "outputs": [
        {
          "output_type": "stream",
          "name": "stdout",
          "text": [
            "Found an apple!\n",
            "['ab', 'ac', 'ad']\n",
            "red sky and red ocean\n",
            "['e', 'd']\n"
          ]
        }
      ]
    },
    {
      "cell_type": "markdown",
      "source": [
        "#### 정규 표현식의 기본 구성 요소\n",
        "1. 리터럴(Literals): 일반 텍스트 문자(예: a, b, 1, 2)\n",
        "\n",
        "2. 메타 문자(Meta Characters): 특별한 의미를 지닌 문자들\n",
        "- `.`: 어떤 한 문자와 일치 (\\n 제외)\n",
        "- ^: 문자열의 시작과 일치\n",
        "- $: 문자열의 끝과 일치\n",
        "- *: 0번 이상 반복되는 경우와 일치\n",
        "- +: 1번 이상 반복되는 경우와 일치\n",
        "- ?: 0번 또는 1번 등장하는 경우와 일치\n",
        "- {m,n}: 최소 m번, 최대 n번 반복\n",
        "- []: 문자 집합 중 하나와 일치 (예: [abc]는 a, b, c 중 하나와 일치)\n",
        "- |: OR 조건 (예: a|b는 a 또는 b)\n",
        "- (...): 그룹화\n",
        "\n",
        "3. 특수 시퀀스(Special Sequences):\n",
        "- \\d: 숫자와 일치\n",
        "- \\D: 숫자가 아닌 공백, 문자, 구두점 등 모든 문자와 일치\n",
        "- \\s: 스페이스(' '), 탭('\\t'), 캐리지 리턴('\\r'), 뉴라인('\\n'), 폼 피드('\\f') 등 공백 문자와 일치\n",
        "- \\S: 공백이 아닌 문자, 숫자, 특수 문자 등 모든 것과 일치\n",
        "- \\w: 단어 문자(문자, 숫자, 밑줄)와 일치\n",
        "- \\W: 단어 문자가 아닌 특수 문자, 공백 문자, 구두점 등과 일치"
      ],
      "metadata": {
        "id": "FtRyAHdbta5q"
      }
    },
    {
      "cell_type": "markdown",
      "source": [
        "1. `.` (마침표)\n",
        "- 의미: 어떤 한 문자와 일치(줄바꿈 문자 제외)\n",
        "- 예시:\n",
        "  - 패턴: a.b\n",
        "  - 매칭 예시: \"acb\", \"a*b\", \"a3b\"\n",
        "  - 불일치 예시: \"ab\", \"a\\nb\"\n",
        "2. ^ (캐럿)\n",
        "- 의미: 문자열의 시작과 일치\n",
        "- 예시:\n",
        "  - 패턴: ^Hello\n",
        "  - 매칭 예시: \"Hello world\"\n",
        "  - 불일치 예시: \"world, Hello\"\n",
        "3. \\$ (달러 기호)\n",
        "- 의미: 문자열의 끝과 일치\n",
        "- 예시:\n",
        "  - 패턴: end$\n",
        "  - 매칭 예시: \"It's the end\"\n",
        "  - 불일치 예시: \"end of the story\"\n",
        "4. \\* (별표)\n",
        "- 의미: 앞의 문자가 0번 이상 반복\n",
        "- 예시:\n",
        "  - 패턴: a*b\n",
        "  - 매칭 예시: \"b\", \"ab\", \"aaab\"\n",
        "  - 불일치 예시: \"a\"\n",
        "5. \\+ (플러스)\n",
        "- 의미: 앞의 문자가 1번 이상 반복\n",
        "- 예시:\n",
        "  - 패턴: a+b\n",
        "  - 매칭 예시: \"ab\", \"aaab\"\n",
        "  - 불일치 예시: \"b\", \"a\"\n",
        "6. ? (물음표)\n",
        "- 의미: 앞의 문자가 0번 또는 1번 등장\n",
        "- 예시:\n",
        "  - 패턴: a?b\n",
        "  - 매칭 예시: \"ab\", \"b\"\n",
        "  - 불일치 예시: \"aab\"\n",
        "7. {m,n} (중괄호)\n",
        "- 의미: 앞의 문자가 최소 m번, 최대 n번 반복\n",
        "- 예시:\n",
        "  - 패턴: a{2,3}\n",
        "  - 매칭 예시: \"aa\", \"aaa\"\n",
        "  - 불일치 예시: \"a\", \"aaaa\"\n",
        "8. `[]` (대괄호)\n",
        "- 의미: 대괄호 안의 문자 중 하나와 일치\n",
        "- 예시:\n",
        "  - 패턴: [abc]\n",
        "  - 매칭 예시: \"a\", \"b\", \"c\"\n",
        "  - 불일치 예시: \"d\"\n",
        "9. | (파이프)\n",
        "- 의미: OR 조건\n",
        "- 예시:\n",
        "  - 패턴: a|b\n",
        "  - 매칭 예시: \"a\", \"b\"\n",
        "  - 불일치 예시: \"c\"\n",
        "10. (...) (괄호)\n",
        "- 의미: 그룹화, 캡처 그룹\n",
        "- 예시:\n",
        "  - 패턴: (a|b)c\n",
        "  - 매칭 예시: \"ac\", \"bc\""
      ],
      "metadata": {
        "id": "9v5-RGh0tcxb"
      }
    },
    {
      "cell_type": "markdown",
      "source": [
        "####이스케이프 문자(escape character) vs 이스케이프 시퀀스(escape sequence)\n",
        "\n",
        "이스케이프 문자\n",
        "- 이스케이프 문자는 문자열 내에서 특수한 목적을 가지고 사용되는 문자. 대표적인 예로는 백슬래시(\\\\)가 있다.\n",
        "- 이 문자는 문자열 내에서 다른 문자와 결합하여 다양한 이스케이프 시퀀스를 형성하거나 특정 문자를 리터럴 값으로 표현하는 데 사용.\n",
        "\n",
        "이스케이프 시퀀스\n",
        "- 이스케이프 시퀀스는 이스케이프 문자에 이어지는 하나 또는 그 이상의 문자로 구성된 문자열.\n",
        "- 이스케이프 시퀀스는 일반적으로 출력할 수 없는 특수한 명령이나 문자를 표현하는 데 사용. 예를 들어, \\n은 새 줄(new line)을, \\t는 탭(tab)을 의미. 이스케이프 시퀀스는 이스케이프 문자를 통해 특별한 처리를 필요로 하는 여러 문자를 문자열 안에 포함시킬 수 있게 한다."
      ],
      "metadata": {
        "id": "smNVDD3kxHvm"
      }
    },
    {
      "cell_type": "code",
      "source": [
        "# 이스케이프 문자 사용 예\n",
        "text = 'He said, \\\"Hello.\\\"'\n",
        "print(text)\n",
        "print('')\n",
        "# 이스케이프 시퀸스 사용 예\n",
        "text = \"First Line\\nSecond Line\"\n",
        "print(text)"
      ],
      "metadata": {
        "colab": {
          "base_uri": "https://localhost:8080/"
        },
        "id": "KYlS5Kqmws5e",
        "outputId": "8c7be126-daa3-4b28-983e-e5d06694611b"
      },
      "execution_count": null,
      "outputs": [
        {
          "output_type": "stream",
          "name": "stdout",
          "text": [
            "He said, \"Hello.\"\n",
            "\n",
            "First Line\n",
            "Second Line\n"
          ]
        }
      ]
    },
    {
      "cell_type": "markdown",
      "source": [
        "####Python에서 로우 스트링\n",
        "- 문자열 앞에 r이나 R을 붙여 정의\n",
        "- 주요 목적은 문자열 내에서 백슬래시(\\\\)와 같은 이스케이프 문자를 문자 그대로 처리하여, 특수 문자열을 이스케이프하는 복잡성을 줄인다.\n",
        "- 로우스트링 사용이 필수적인 경우\n",
        "  - 백슬래시 다음에 특정 문자가 오는 경우: 만약 문자열 내에 백슬래시(\\\\) 다음에 특별한 의미를 가지는 문자(n, t, b, r, u, x 등)가 오면, 이들은 각각 줄바꿈(\\n), 탭(\\t), 백스페이스(\\b), 캐리지 리턴(\\r), 유니코드 문자(\\uXXXX), 16진수 문자(\\xXX) 등으로 해석. 이런 경우 로우스트링을 사용하지 않으면 문자열이 의도치 않게 변경될 수 있다.\n",
        "\n",
        "  - 정규 표현식의 메타문자를 이스케이프 해야 할 때: 정규 표현식에서 메타문자(예: *, +, [, ], (, ), {, }, ^, $, ., |, ?, \\\\ 등)를 리터럴 문자로 사용하고 싶다면, 이스케이프 처리(\\\\)를 해야 합니다. 이때 로우스트링을 사용하지 않으면, \\ 자체를 이스케이프해야 하므로 코드가 복잡해질 수 있다."
      ],
      "metadata": {
        "id": "o08U-RlZyF15"
      }
    },
    {
      "cell_type": "code",
      "source": [
        "# 일반 문자열에서 이스케이프 시퀸스 사용\n",
        "path = 'C:\\\\Users\\\\Username\\\\Documents'\n",
        "print(path)     # 출력 : C:\\Users\\Username\\Documents\n",
        "\n",
        "# 로우 스트링 사용\n",
        "raw_path = r'C:\\Users\\Username\\Documents'\n",
        "print(raw_path) # 출력 : C:\\Users\\Username\\Documents"
      ],
      "metadata": {
        "colab": {
          "base_uri": "https://localhost:8080/"
        },
        "id": "FXOqRgayySYD",
        "outputId": "7cfd365a-e236-4384-db11-f45d6a508bfd"
      },
      "execution_count": null,
      "outputs": [
        {
          "output_type": "stream",
          "name": "stdout",
          "text": [
            "C:\\Users\\Username\\Documents\n",
            "C:\\Users\\Username\\Documents\n"
          ]
        }
      ]
    },
    {
      "cell_type": "code",
      "source": [
        "import re\n",
        "\n",
        "pattern = r'(\\d{4})-(\\d{2})-(\\d{2})'\n",
        "text = '오늘의 날씨는 2023-05-14입니다'\n",
        "match = re.search(pattern, text)\n",
        "print('전체날씨: ', match.group())"
      ],
      "metadata": {
        "colab": {
          "base_uri": "https://localhost:8080/"
        },
        "id": "kNJ0WDzQ2ODT",
        "outputId": "3f60a541-724c-4d0c-eefa-ec25840f2c77"
      },
      "execution_count": null,
      "outputs": [
        {
          "output_type": "stream",
          "name": "stdout",
          "text": [
            "전체날씨:  2023-05-14\n"
          ]
        }
      ]
    },
    {
      "cell_type": "code",
      "source": [
        "import re\n",
        "\n",
        "# 정규 표현식 패턴\n",
        "pattern = r'(\\d{4})-(\\d{2})-(\\d{2})'\n",
        "\n",
        "#\n",
        "text = '오늘의 나맀는 2023-05-14입니다'\n",
        "\n",
        "# 패턴 검색\n",
        "match = re.search(pattern, text)\n",
        "\n",
        "# 패턴 결과 확인\n",
        "if match:\n",
        "    print('전체날씨: ', match.group())\n",
        "    print('연도:', match.group(1))\n",
        "    print('월:', match.group(2))\n",
        "    print('일:', match.group(3))\n",
        "else:\n",
        "    print('날짜를 찾을 수 없습니다.')"
      ],
      "metadata": {
        "colab": {
          "base_uri": "https://localhost:8080/"
        },
        "id": "jtJ2IFZu4aiw",
        "outputId": "333c2ecf-1674-444e-e544-c7a5858e5e22"
      },
      "execution_count": null,
      "outputs": [
        {
          "output_type": "stream",
          "name": "stdout",
          "text": [
            "전체날씨:  2023-05-14\n",
            "연도: 2023\n",
            "월: 05\n",
            "일: 14\n"
          ]
        }
      ]
    },
    {
      "cell_type": "code",
      "source": [
        "#Q 문자열 'The cat in the hat'에서 'cat'과 'hat'을 찾으세요\n",
        "import re\n",
        "\n",
        "print(re.findall('[ch]*at', \"The cat in the hat\"))\n",
        "print(re.findall('[ch]at', \"The cat in the hat\"))      #0번이상 반복\n",
        "print(re.findall('[ch]+at', \"The cat in the hat\"))      #1번이상 반복"
      ],
      "metadata": {
        "colab": {
          "base_uri": "https://localhost:8080/"
        },
        "id": "PJ2FiHXR5UU3",
        "outputId": "e6aa4ffd-4b59-49ad-e612-d21d3a0c6e2b"
      },
      "execution_count": null,
      "outputs": [
        {
          "output_type": "stream",
          "name": "stdout",
          "text": [
            "['cat', 'hat']\n",
            "['cat', 'hat']\n",
            "['cat', 'hat']\n"
          ]
        }
      ]
    },
    {
      "cell_type": "code",
      "source": [
        "import re\n",
        "\n",
        "# matches는 리스트 객체 (리스트로 반환되어서)\n",
        "\n",
        "text = 'bat, cat, rat, fat'\n",
        "pattern1 = r'[bcf]at'                    # ['bat', 'cat', 'fat']\n",
        "pattern2 = r'[bcr]at'                    # ['bat', 'cat', 'rat']\n",
        "pattern3 = r'[^f]at'                     # 대괄호에서 ^는 not으로 사용됨\n",
        "matches1 = re.findall(pattern1, text)\n",
        "matches2 = re.findall(pattern2, text)\n",
        "matches3 = re.findall(pattern3, text)\n",
        "print(matches1)\n",
        "print(matches2)\n",
        "print(matches3)"
      ],
      "metadata": {
        "colab": {
          "base_uri": "https://localhost:8080/"
        },
        "id": "ThiTQD466Ydr",
        "outputId": "309284c0-3228-4955-9772-2bac32ac5540"
      },
      "execution_count": null,
      "outputs": [
        {
          "output_type": "stream",
          "name": "stdout",
          "text": [
            "['bat', 'cat', 'fat']\n",
            "['bat', 'cat', 'rat']\n",
            "['bat', 'cat', 'rat']\n"
          ]
        }
      ]
    },
    {
      "cell_type": "code",
      "source": [
        "#Q 문자열 '123abc456'에서 모든 숫자를 찾으세요\n",
        "import re\n",
        "text = '123 abc 456'\n",
        "# pattern = r'[\\d+]'\n",
        "pattern = r'\\d+'\n",
        "matches = re.findall(pattern, text)\n",
        "print(matches)"
      ],
      "metadata": {
        "colab": {
          "base_uri": "https://localhost:8080/"
        },
        "id": "uBaSCcBt7WiS",
        "outputId": "ac4601a1-b441-4b13-b919-25de342e573d"
      },
      "execution_count": null,
      "outputs": [
        {
          "output_type": "stream",
          "name": "stdout",
          "text": [
            "['123', '456']\n"
          ]
        }
      ]
    },
    {
      "cell_type": "code",
      "source": [
        "#Q 문자열 'Hello, my name is John'에서 첫 단어 'hello'를 찾으세요\n",
        "import re\n",
        "text = 'Hello, my name is John'\n",
        "pattern = r'^Hello'\n",
        "matches = re.match(pattern, text)\n",
        "# print(matches.group())\n",
        "\n",
        "if match:\n",
        "    print(matches.group())\n"
      ],
      "metadata": {
        "colab": {
          "base_uri": "https://localhost:8080/"
        },
        "id": "lLukQGcc8fir",
        "outputId": "e9032bff-c988-4084-ebfe-9ae7b2d92164"
      },
      "execution_count": null,
      "outputs": [
        {
          "output_type": "stream",
          "name": "stdout",
          "text": [
            "Hello\n"
          ]
        }
      ]
    },
    {
      "cell_type": "code",
      "source": [
        "#Q 문자열 'The car parked in the garage #42'에서 문장의 마지막 단어 'garage'를 찾으세요\n",
        "\n",
        "print(re.search('garage', 'The car parked in the garage #42').group())"
      ],
      "metadata": {
        "colab": {
          "base_uri": "https://localhost:8080/"
        },
        "id": "u6fq2mRq-VmP",
        "outputId": "2c950cf1-d5e4-4ba4-fcee-d242e58b5d05"
      },
      "execution_count": null,
      "outputs": [
        {
          "output_type": "stream",
          "name": "stdout",
          "text": [
            "garage\n"
          ]
        }
      ]
    },
    {
      "cell_type": "code",
      "source": [
        "# 문자 클래스 : []\n",
        "\n",
        "pattern = re.compile('[a-z]+')\n",
        "p1 = pattern.search('Banker')\n",
        "p2 = pattern.search('banker')\n",
        "print(p1)\n",
        "print(p2)\n",
        "print(p1.group())\n",
        "print(p2.group())\n",
        "print(p2.span())"
      ],
      "metadata": {
        "colab": {
          "base_uri": "https://localhost:8080/"
        },
        "id": "GmJHyPPi-uch",
        "outputId": "0aeed41a-5e52-4956-c03a-adfa65746859"
      },
      "execution_count": null,
      "outputs": [
        {
          "output_type": "stream",
          "name": "stdout",
          "text": [
            "<re.Match object; span=(1, 6), match='anker'>\n",
            "<re.Match object; span=(0, 6), match='banker'>\n",
            "anker\n",
            "banker\n",
            "(0, 6)\n"
          ]
        }
      ]
    },
    {
      "cell_type": "code",
      "source": [
        "#Q 'abc12345Abc'에서 'A' 대문자만 출력하세요\n",
        "import re\n",
        "regex = re.compile('[A-Z]')\n",
        "text = 'abc12345Abc'\n",
        "m = regex.search(text)\n",
        "m.group()\n",
        "\n",
        "\n",
        "# print(regex.findall('abc12345Abc'))"
      ],
      "metadata": {
        "colab": {
          "base_uri": "https://localhost:8080/",
          "height": 54
        },
        "id": "xxbvocY0_vbQ",
        "outputId": "53168fc2-ff69-4c8d-dcda-f3d69c8b8579"
      },
      "execution_count": null,
      "outputs": [
        {
          "output_type": "stream",
          "name": "stdout",
          "text": [
            "['A']\n"
          ]
        },
        {
          "output_type": "execute_result",
          "data": {
            "text/plain": [
              "'A'"
            ],
            "application/vnd.google.colaboratory.intrinsic+json": {
              "type": "string"
            }
          },
          "metadata": {},
          "execution_count": 50
        }
      ]
    },
    {
      "cell_type": "code",
      "source": [
        "#Q. 'KOREA 대한민국'에서 '아'만 출력하세요\n",
        "import re\n",
        "regrex = re.compile('[가-힣]')\n",
        "text = 'KOREA 아대한민국'\n",
        "m = regrex.search(text)\n",
        "m.group()"
      ],
      "metadata": {
        "colab": {
          "base_uri": "https://localhost:8080/",
          "height": 35
        },
        "id": "Y0ZZqcGpAZTf",
        "outputId": "74011c21-1b15-44dc-e80f-dadbffe8f437"
      },
      "execution_count": null,
      "outputs": [
        {
          "output_type": "execute_result",
          "data": {
            "text/plain": [
              "'아'"
            ],
            "application/vnd.google.colaboratory.intrinsic+json": {
              "type": "string"
            }
          },
          "metadata": {},
          "execution_count": 52
        }
      ]
    },
    {
      "cell_type": "code",
      "source": [
        "# search는 문자열 전체를 검색하여 정규식과 매칭되는 패턴을 찾는다\n",
        "# a{2}는  a를 2회 반복하여 사용\n",
        "# Q. '122333c'를 모두 출력하세요\n",
        "\n",
        "import re\n",
        "regrex = re.compile('12{2}3{3}c')\n",
        "text = '122333c'\n",
        "m = regrex.search(text)\n",
        "m.group()"
      ],
      "metadata": {
        "colab": {
          "base_uri": "https://localhost:8080/",
          "height": 35
        },
        "id": "W6tRDAVGDYXU",
        "outputId": "e609254a-54cc-4945-9ad1-676b93151912"
      },
      "execution_count": null,
      "outputs": [
        {
          "output_type": "execute_result",
          "data": {
            "text/plain": [
              "'122333c'"
            ],
            "application/vnd.google.colaboratory.intrinsic+json": {
              "type": "string"
            }
          },
          "metadata": {},
          "execution_count": 53
        }
      ]
    },
    {
      "cell_type": "code",
      "source": [
        "#Q 'aaaaBBBcccDDDeee'를 모두 출력하세요\n",
        "import re\n",
        "regrex = re.compile('a{4}B{3}c{3}D{3}e{3}')\n",
        "text = 'aaaaBBBcccDDDeee'\n",
        "li = regrex.search(text)\n",
        "li.group()"
      ],
      "metadata": {
        "colab": {
          "base_uri": "https://localhost:8080/",
          "height": 35
        },
        "id": "gqq4qy4xD45w",
        "outputId": "aca7b2dc-45c5-437d-d814-225e5404b854"
      },
      "execution_count": null,
      "outputs": [
        {
          "output_type": "execute_result",
          "data": {
            "text/plain": [
              "'aaaaBBBcccDDDeee'"
            ],
            "application/vnd.google.colaboratory.intrinsic+json": {
              "type": "string"
            }
          },
          "metadata": {},
          "execution_count": 57
        }
      ]
    },
    {
      "cell_type": "code",
      "source": [
        "p = re.compile('[a-z]+')\n",
        "result1 = p.findall('life is too short')\n",
        "result2 = p.search('life is too short')          # life\n",
        "print(result1)\n",
        "print(result2.group())"
      ],
      "metadata": {
        "colab": {
          "base_uri": "https://localhost:8080/"
        },
        "id": "50tBAZ7VFCJ3",
        "outputId": "b99b32a2-6c7b-43e1-9a45-814123b2fc0a"
      },
      "execution_count": null,
      "outputs": [
        {
          "output_type": "stream",
          "name": "stdout",
          "text": [
            "['life', 'is', 'too', 'short']\n",
            "life\n"
          ]
        }
      ]
    },
    {
      "cell_type": "code",
      "source": [
        "# finditer는 findall과 동일하지만 그 결과로 반복 가능한 객체(iterator object)를 돌려준다\n",
        "# 반복 가능한 객체가 포함하는 각각의 요소는 match 객체이다\n",
        "p = re.compile('[a-z]+')\n",
        "result = p.finditer('life is too short')\n",
        "\n",
        "print(result)\n",
        "for r in result:print(r.group())"
      ],
      "metadata": {
        "colab": {
          "base_uri": "https://localhost:8080/"
        },
        "id": "vNb5AZa1Fg5S",
        "outputId": "3535113d-298f-42f8-e193-2eb01b45388c"
      },
      "execution_count": null,
      "outputs": [
        {
          "output_type": "stream",
          "name": "stdout",
          "text": [
            "<callable_iterator object at 0x7a532c5d2110>\n",
            "life\n",
            "is\n",
            "too\n",
            "short\n"
          ]
        }
      ]
    },
    {
      "cell_type": "code",
      "source": [
        "#Q '1234a1234'에서 '1', '2', '3', '4'를 모두 출력하세요\n",
        "import re\n",
        "regrex = re.compile('[1234]')\n",
        "text = '1234a1234'\n",
        "regrex.findall(text)\n"
      ],
      "metadata": {
        "colab": {
          "base_uri": "https://localhost:8080/"
        },
        "id": "rx3k0DIqGkwo",
        "outputId": "9295cae8-c5b4-48d3-ddd0-0c3a89fc477f"
      },
      "execution_count": null,
      "outputs": [
        {
          "output_type": "execute_result",
          "data": {
            "text/plain": [
              "['1', '2', '3', '4', '1', '2', '3', '4']"
            ]
          },
          "metadata": {},
          "execution_count": 68
        }
      ]
    },
    {
      "cell_type": "markdown",
      "source": [
        "#### Dot(.)\n",
        "- 메타 문자는 줄바꿈 문자(\\n)를 제외한 모든 문자와 매치"
      ],
      "metadata": {
        "id": "YpTBiCOL2zn7"
      }
    },
    {
      "cell_type": "code",
      "source": [
        "import re\n",
        "p = re.compile('a.+b')\n",
        "m1 = p.match('a\\nb')\n",
        "m2 = p.match('acb')\n",
        "m3 = p.match('a12?Ab')\n",
        "print(m1)\n",
        "print(m2.group())\n",
        "print(m3.group())"
      ],
      "metadata": {
        "colab": {
          "base_uri": "https://localhost:8080/"
        },
        "id": "YNczQpuk2wVa",
        "outputId": "b4f01a9e-1bc0-47d1-eaed-c8815aff1da0"
      },
      "execution_count": null,
      "outputs": [
        {
          "output_type": "stream",
          "name": "stdout",
          "text": [
            "None\n",
            "acb\n",
            "a12?Ab\n"
          ]
        }
      ]
    },
    {
      "cell_type": "markdown",
      "source": [
        "#### re.DOTALL\n",
        "- 이 옵션은 여러 줄로 이루어진 문자열에서 \\n에 상관없이 검색시 사용"
      ],
      "metadata": {
        "id": "e3efpCYg3fKq"
      }
    },
    {
      "cell_type": "code",
      "source": [
        "p = re.compile('a.b', re.DOTALL)           #\\n 개행만 제외\n",
        "m = p.match('a\\nb')\n",
        "print(m.group())"
      ],
      "metadata": {
        "colab": {
          "base_uri": "https://localhost:8080/"
        },
        "id": "YDCCkDvj3mX_",
        "outputId": "1f9cb9ae-65ee-4b82-c46e-80b55b972bb8"
      },
      "execution_count": null,
      "outputs": [
        {
          "output_type": "stream",
          "name": "stdout",
          "text": [
            "a\n",
            "b\n"
          ]
        }
      ]
    },
    {
      "cell_type": "code",
      "source": [
        "# Q. text에서 what are you doing만 출력하세요\n",
        "text = ('what are you doing?\\nit is going to be late for school'\n",
        "'\\nwe need to hurry up')\n",
        "\n",
        "p = re.compile('.*')\n",
        "print(p.search(text).group())\n",
        "\n",
        "print('')\n",
        "\n",
        "# Q. 전체문장 모두 출력하세요\n",
        "# 줄바꿈 문자가 있는  파일의 모든 범위를 매치하려면 compile 메소드에 두번쨰 매개변수를 re.DOTALL 로 지정한다\n",
        "regrex = re.compile('.*', re.DOTALL)\n",
        "print(regrex.search(text).group())"
      ],
      "metadata": {
        "colab": {
          "base_uri": "https://localhost:8080/"
        },
        "id": "uhMf36Nk4DHV",
        "outputId": "64e4f1e1-5651-44d2-9b20-cbe2afe31ec2"
      },
      "execution_count": null,
      "outputs": [
        {
          "output_type": "stream",
          "name": "stdout",
          "text": [
            "what are you doing?\n",
            "\n",
            "what are you doing?\n",
            "it is going to be late for school\n",
            "we need to hurry up\n"
          ]
        }
      ]
    },
    {
      "cell_type": "markdown",
      "source": [
        "#### re.IGNORECASE 또는 re.I 옵션\n",
        "- 대소문자 구분 없이 매치를 수행시 사용"
      ],
      "metadata": {
        "id": "rrPM3wuK4CaG"
      }
    },
    {
      "cell_type": "code",
      "source": [
        "p = re.compile('[a-z]+', re.I)\n",
        "print(p.match('python'))\n",
        "print(p.match('PYTHON'))\n",
        "print(p.match('Python'))"
      ],
      "metadata": {
        "colab": {
          "base_uri": "https://localhost:8080/"
        },
        "id": "duGMx_Bu5irK",
        "outputId": "7f66488f-247e-4827-baee-9ff6f84d7f6d"
      },
      "execution_count": null,
      "outputs": [
        {
          "output_type": "stream",
          "name": "stdout",
          "text": [
            "<re.Match object; span=(0, 6), match='python'>\n",
            "<re.Match object; span=(0, 6), match='PYTHON'>\n",
            "<re.Match object; span=(0, 6), match='Python'>\n"
          ]
        }
      ]
    },
    {
      "cell_type": "code",
      "source": [
        "#Q text에서 대소문자 구분없이 전체문장 모두 출력하세요\n",
        "text = 'Friend fRiend friEnd FRIEND'\n",
        "p = re.compile(r'friend', re.I)\n",
        "print(p.findall(text))"
      ],
      "metadata": {
        "colab": {
          "base_uri": "https://localhost:8080/"
        },
        "id": "BHAv4i9D5yI_",
        "outputId": "061799e6-a4c3-43b3-c8e4-e82fa9467eb6"
      },
      "execution_count": null,
      "outputs": [
        {
          "output_type": "stream",
          "name": "stdout",
          "text": [
            "['Friend', 'fRiend', 'friEnd', 'FRIEND']\n"
          ]
        }
      ]
    },
    {
      "cell_type": "code",
      "source": [
        "# python 이라는 문자열로 시작하고 그 뒤에 whitespace. 그 뒤에 단어가 오는 경우\n",
        "import re\n",
        "p = re.compile('^python\\s\\w+')\n",
        "\n",
        "data = \"\"\"python one\n",
        "life if too short\n",
        "python two\n",
        "you need python\n",
        "python three\"\"\"\n",
        "\n",
        "print(p.findall(data))\n"
      ],
      "metadata": {
        "colab": {
          "base_uri": "https://localhost:8080/"
        },
        "id": "5ZTEXvG_6ZZO",
        "outputId": "2a902cef-713b-44de-fc3e-fcd79c25e47c"
      },
      "execution_count": null,
      "outputs": [
        {
          "output_type": "stream",
          "name": "stdout",
          "text": [
            "['python one']\n"
          ]
        }
      ]
    },
    {
      "cell_type": "code",
      "source": [
        "# re.MULTILINE 또는 re.M옵션으로 ^메타 문자를 각 라인의 처음으로 인식시킴\n",
        "import re\n",
        "p = re.compile('^python\\s\\w+', re.M)\n",
        "\n",
        "data = \"\"\"python one\n",
        "life if too short\n",
        "python two\n",
        "you need python\n",
        "python three\"\"\"\n",
        "\n",
        "print(p.findall(data))"
      ],
      "metadata": {
        "colab": {
          "base_uri": "https://localhost:8080/"
        },
        "id": "QyhcUf437WN-",
        "outputId": "4dda648e-5143-474d-9bee-2f0b19be5121"
      },
      "execution_count": null,
      "outputs": [
        {
          "output_type": "stream",
          "name": "stdout",
          "text": [
            "['python one', 'python two', 'python three']\n"
          ]
        }
      ]
    },
    {
      "cell_type": "code",
      "source": [
        "# r'\\\\sectone'은 로우 스트림을 사용하여 백슬래스를 이스케이프하고, 정규 표현식에서 \\section을 리터럴 매치\n",
        "import re\n",
        "p = re.compile(r'\\\\section')\n",
        "\n",
        "print(p.match(r'\\section'))\n",
        "p.findall('\\section\\section')"
      ],
      "metadata": {
        "colab": {
          "base_uri": "https://localhost:8080/"
        },
        "id": "lM8tjOVr7we9",
        "outputId": "2ddfc728-4be2-4819-b4b3-c15b701d3105"
      },
      "execution_count": null,
      "outputs": [
        {
          "output_type": "stream",
          "name": "stdout",
          "text": [
            "<re.Match object; span=(0, 8), match='\\\\section'>\n"
          ]
        },
        {
          "output_type": "execute_result",
          "data": {
            "text/plain": [
              "['\\\\section', '\\\\section']"
            ]
          },
          "metadata": {},
          "execution_count": 23
        }
      ]
    },
    {
      "cell_type": "markdown",
      "source": [
        "#### 메타 문자"
      ],
      "metadata": {
        "id": "Wtx-brTi88Tu"
      }
    },
    {
      "cell_type": "code",
      "source": [
        "# |(or와 동일한 의미), ^(문자열의 맨처음), $(문자열 끝과 매치)\n",
        "import re\n",
        "p = re.compile('Crow|Servo')\n",
        "m = p.match('CrowHello')\n",
        "print(m)\n",
        "print()\n",
        "print(re.search('^Life', 'Life is too short'))\n",
        "print(re.search('^Life', 'My Life'))\n",
        "print()\n",
        "print(re.search('Life$', 'Life is too short'))\n",
        "print(re.search('Life$', 'My Life'))"
      ],
      "metadata": {
        "colab": {
          "base_uri": "https://localhost:8080/"
        },
        "id": "lqrdYXp287Ha",
        "outputId": "f1727a29-b17f-4b34-f12f-f51203e60ba6"
      },
      "execution_count": null,
      "outputs": [
        {
          "output_type": "stream",
          "name": "stdout",
          "text": [
            "<re.Match object; span=(0, 4), match='Crow'>\n",
            "\n",
            "<re.Match object; span=(0, 4), match='Life'>\n",
            "None\n",
            "\n",
            "None\n",
            "<re.Match object; span=(3, 7), match='Life'>\n"
          ]
        }
      ]
    },
    {
      "cell_type": "code",
      "source": [
        "# \\b whitespace에 의해 구분\n",
        "# \\B whitespace로 구분 된 단어가 아난 경우에만 매치\n",
        "import re\n",
        "p = re.compile(r'\\bclass\\b')\n",
        "print(p.search('no class at all'))\n",
        "print(p.search('the declassified algorithim'))\n",
        "print()\n",
        "q = re.compile(r'\\Bclass\\B')\n",
        "print(q.search('no class at all'))\n",
        "print(q.search('the declassified algorithim'))"
      ],
      "metadata": {
        "colab": {
          "base_uri": "https://localhost:8080/"
        },
        "id": "QVyX5sV7AGtd",
        "outputId": "5fde73c0-15b5-47af-8228-3b09470fa9cd"
      },
      "execution_count": null,
      "outputs": [
        {
          "output_type": "stream",
          "name": "stdout",
          "text": [
            "<re.Match object; span=(3, 8), match='class'>\n",
            "None\n",
            "\n",
            "None\n",
            "<re.Match object; span=(6, 11), match='class'>\n"
          ]
        }
      ]
    },
    {
      "cell_type": "markdown",
      "source": [
        "#### 그룹화\n",
        "괄호 ()는 '그룹화'를 위해 사용 : 주로 여러 문자열 패턴을 하나의 단위로 묶거나, 특정 부분의 문자열을 추출하는 데 사용\n",
        "\n",
        "그룹화의 주요 용도:\n",
        "- 패턴의 일부를 하나의 단위로 묶기 : 괄호는 여러 문자 또는 문자 집합을 하나의 단위로 묶어서, 그 전체에 대해 수량자 (예: *, +, ?, {m,n} 등)를 적용할 수 있게 한다.\n",
        "\n",
        "- 텍스트 캡처 : 괄호로 묶인 부분은 '캡처 그룹'이 되어, 매칭된 텍스트를 나중에 사용하기 위해 저장. 예를 들어, re.search()나 re.match() 등의 함수로 매치 객체를 얻은 후, group() 메서드를 사용하여 이 텍스트를 추출할 수 있다.\n",
        "\n",
        "- 백레퍼런스(backreferences): 정규 표현식 내에서 앞서 정의된 그룹을 다시 참조할 수 있다. 이는 패턴이 이전에 매치된 동일한 텍스트와 일치해야 할 때 유용.\n",
        "\n",
        "- 비캡처 그룹(non-capturing groups): 때로는 괄호를 사용하여 그룹을 만들지만, 매치된 내용을 나중에 사용하고 싶지 않을 때가 있다. 이 경우 (?:...) 형태를 사용하여 그룹을 만든다. 이 그룹은 매칭에는 영향을 주지만, 결과를 저장하지는 않는다."
      ],
      "metadata": {
        "id": "8qS_2fpOBIGY"
      }
    },
    {
      "cell_type": "code",
      "source": [
        "# '(ha)+' 패턴은 'ha' 문자열이 하나 이상 반복되는 부분을 찾는다.\n",
        "import re\n",
        "\n",
        "pattern = r'(ha)+'\n",
        "text = \"hahaha, that's funny!\"\n",
        "\n",
        "match = re.search(pattern, text)\n",
        "\n",
        "if match:\n",
        "    print(match.group())"
      ],
      "metadata": {
        "colab": {
          "base_uri": "https://localhost:8080/"
        },
        "id": "5AhIXqoBBtmW",
        "outputId": "558ece79-3db4-4227-fdf6-21176d5867a3"
      },
      "execution_count": null,
      "outputs": [
        {
          "output_type": "stream",
          "name": "stdout",
          "text": [
            "hahaha\n"
          ]
        }
      ]
    },
    {
      "cell_type": "markdown",
      "source": [
        "- \\1은 첫 번째 캡처 그룹 ((\\b\\w+))을 다시 참조. 이는 앞서 찾은 단어와 정확히 동일한 단어가 연속해서 나타나야 함을 의미\n",
        "- Capturing Group ((\\b\\w+)): 괄호는 캡처 그룹을 만든다.이 경우 \\b\\w+는 단어 경계로 시작하는 하나 이상의 단어 문자로 이루어진 시퀀스를 캡처"
      ],
      "metadata": {
        "id": "-6Cbb1AFCZMs"
      }
    },
    {
      "cell_type": "code",
      "source": [
        "import re\n",
        "\n",
        "pattern = r'(\\b\\w+)\\s+\\1'\n",
        "text = \"이것은 중복 중복 단어입니다\"\n",
        "\n",
        "match = re.search(pattern, text)\n",
        "\n",
        "if match:\n",
        "    print(match.group())"
      ],
      "metadata": {
        "colab": {
          "base_uri": "https://localhost:8080/"
        },
        "id": "Kc5z_xDZCYwt",
        "outputId": "3edd5038-0cd2-4f38-9bf4-e6591fbef473"
      },
      "execution_count": null,
      "outputs": [
        {
          "output_type": "stream",
          "name": "stdout",
          "text": [
            "중복 중복\n"
          ]
        }
      ]
    },
    {
      "cell_type": "code",
      "source": [
        "# 첫 번째 숫자 그룹은 비캡쳐 그룹 (?:\\c{4})로 설정되어 있어, 매치 결과는 저장되지 않고 '월'과 '일'만 캡쳐된다.\n",
        "import re\n",
        "\n",
        "pattern = r'(?:\\d{4})-(\\d{2})-(\\d{2})'\n",
        "text = '오늘의 날씨는 2023-05-14입니다'\n",
        "\n",
        "match = re.search(pattern, text)\n",
        "\n",
        "if match:\n",
        "    print('월: ', match.group(1))\n",
        "    print('일: ', match.group(2))\n",
        "    print('전체날씨: ', match.group())"
      ],
      "metadata": {
        "colab": {
          "base_uri": "https://localhost:8080/"
        },
        "id": "X9JCX4uxDbqL",
        "outputId": "ab2545a9-a401-4365-c663-076e771ac320"
      },
      "execution_count": null,
      "outputs": [
        {
          "output_type": "stream",
          "name": "stdout",
          "text": [
            "월:  05\n",
            "일:  14\n",
            "전체날씨:  2023-05-14\n"
          ]
        }
      ]
    },
    {
      "cell_type": "code",
      "source": [
        "# 그룹이 중첩되어 있는 경우 바깥쪽부터 시작하여 안쪽으로 들어갈수록 인덱스 증가\n",
        "# Q. 정규표현식을 사용하여 'park 010-1234-1234'에서 지역코드만 출력하세요\n",
        "\n",
        "import re\n",
        "\n",
        "p = re.compile(r'(\\w+)\\s+((\\d+)[-](\\d+)[-](\\d+))')\n",
        "m = p.search('park 010-1234-5678')\n",
        "\n",
        "print(m.group())\n",
        "print(m.group(1))\n",
        "print(m.group(2))\n",
        "print(m.group(3))\n",
        "print(m.group(4))\n",
        "print(m.group(5))\n",
        "print(m.group(0))\n"
      ],
      "metadata": {
        "colab": {
          "base_uri": "https://localhost:8080/"
        },
        "id": "M-IEBBSbEvaZ",
        "outputId": "48d0fd6a-144c-4bfd-e433-ceb98f798eff"
      },
      "execution_count": null,
      "outputs": [
        {
          "output_type": "stream",
          "name": "stdout",
          "text": [
            "park 010-1234-5678\n",
            "park\n",
            "010-1234-5678\n",
            "010\n",
            "1234\n",
            "5678\n",
            "park 010-1234-5678\n"
          ]
        }
      ]
    },
    {
      "cell_type": "markdown",
      "source": [
        "그룹화 이름\n",
        "- `(?P<name>\\w+)는 하나 이상의 단어 문자(\\w+)에 일치하며, 이 부분을 'name'이라는 이름으로 그룹화`\n",
        "- `\\s+는 하나 이상의 공백 문자에 일치합니다.`\n",
        "- `(?P<phone>(\\d+)[-]\\d+[-]\\d+)는 전화번호 형식에 일치하는 부분을 찾으며, 이 부분을 'phone'이라는 이름으로 그룹화. 여기서 \\d+는 하나 이상의 숫자에 일치하고, [-]는 리터럴 대시 문자에 일치.`"
      ],
      "metadata": {
        "id": "L6joYQIlFw-b"
      }
    },
    {
      "cell_type": "code",
      "source": [
        "# 그룹핑된 문자열에 이름 붙이기 : 확장 구문 (?P<name>\\w+)\n",
        "\n",
        "p = re.compile(r'(?P<name>\\w+)\\s+((\\d+)[-]\\d+[-]\\d+)')\n",
        "m = p.search('park 010-1234-5678')\n",
        "\n",
        "print(m.group())\n",
        "print(m.group('name'))\n",
        "print(m.group(1))\n",
        "print(m.group(2))\n",
        "print(m.group(3))"
      ],
      "metadata": {
        "colab": {
          "base_uri": "https://localhost:8080/"
        },
        "id": "Lz57jsg6Gpzn",
        "outputId": "21d22e85-df79-439b-f21e-c45a0e16f654"
      },
      "execution_count": null,
      "outputs": [
        {
          "output_type": "stream",
          "name": "stdout",
          "text": [
            "park 010-1234-5678\n",
            "park\n",
            "park\n",
            "010-1234-5678\n",
            "010\n"
          ]
        }
      ]
    },
    {
      "cell_type": "code",
      "source": [
        "# 그룹명을 이용하여 정규식 내에서 재참조\n",
        "p = re.compile(r'(?P<word>\\w+)\\s+(?P=word)')\n",
        "p.search('Paris in the the spring').group()"
      ],
      "metadata": {
        "colab": {
          "base_uri": "https://localhost:8080/",
          "height": 35
        },
        "id": "6dSYnlFZHRuv",
        "outputId": "6fc431f6-d6bb-4980-f4aa-645fc89c3809"
      },
      "execution_count": null,
      "outputs": [
        {
          "output_type": "execute_result",
          "data": {
            "text/plain": [
              "'the the'"
            ],
            "application/vnd.google.colaboratory.intrinsic+json": {
              "type": "string"
            }
          },
          "metadata": {},
          "execution_count": 35
        }
      ]
    },
    {
      "cell_type": "markdown",
      "source": [
        "####정규 표현식에서 전방탐색(Lookahead)\n",
        "- 특정 패턴 뒤에 오는 문자열을 확인하는 방법으로, 긍정 전방탐색과 부정 전방탐색 두 가지 형태가 있다.\n",
        "- 이들은 매칭을 결정하는 조건을 설정하지만, 실제로 해당 문자열을 결과에 포함시키지는 않는다. 즉, 문자열을 '소모(consume)'하지 않는다..\n",
        "\n",
        "- 긍정 전방탐색 (Positive Lookahead)\n",
        "    - 형식: (?=...)\n",
        "    - 설명: 긍정 전방탐색은 ...에 해당하는 정규식 패턴이 일치해야 하지만, 해당 부분은 결과에 포함되지 않는다.\n",
        "    - 예시: X(?=Y)는 'Y'가 뒤따르는 'X'에 일치합니다. 'X'는 결과에 포함되지만, 'Y'는 포함되지 않는다.\n",
        "- 부정 전방탐색 (Negative Lookahead)\n",
        "    - 형식: (?!...)\n",
        "    - 설명: 부정 전방탐색은 ...에 해당하는 정규식 패턴이 일치하지 않아야 합니다. 여기서도 일치하는 부분은 결과에 포함되지 않는다.\n",
        "    - 예시: X(?!Y)는 'Y'가 뒤따르지 않는 'X'에 일치합니다. 'X'는 결과에 포함되지만, 'Y'는 검사 대상이지 결과에 포함되지 않는다."
      ],
      "metadata": {
        "id": "_psWLzEWHp-1"
      }
    },
    {
      "cell_type": "code",
      "source": [
        "# 전방 탐색\n",
        "# 긍정(?=...) ...에 해당되는 정규식과 매치되어야 하며 조건이 통과되어도 문자열이 소모되지 않음\n",
        "# 부정(?!...) ...에 해당되는 정규식과 매치되지 않아야 하면 조건이 통과죄어도 문자열이 소모되지 않음\n",
        "\n",
        "import re\n",
        "\n",
        "p = re.compile(r'.+:')\n",
        "m = p.search('http://google.com')\n",
        "print(m.group())\n",
        "print()\n",
        "\n",
        "p = re.compile(r'.+(?=:)')\n",
        "m = p.search('http://google.com')\n",
        "print(m.group())\n",
        "print()\n",
        "\n",
        "p = re.compile(r'.+(?!:)')\n",
        "m = p.search('http\\n://google.com')     #매치가 안되야만 통과됨\n",
        "print(m.group())"
      ],
      "metadata": {
        "colab": {
          "base_uri": "https://localhost:8080/"
        },
        "id": "9imAHvgEHpp0",
        "outputId": "35128817-4986-4db8-ba3f-447704e11b94"
      },
      "execution_count": null,
      "outputs": [
        {
          "output_type": "stream",
          "name": "stdout",
          "text": [
            "http:\n",
            "\n",
            "http\n",
            "\n",
            "http\n"
          ]
        }
      ]
    },
    {
      "cell_type": "markdown",
      "source": [
        "####긍정적 후방 탐색 (?<=B)A     'A'앞에 'B'가 있는 경우에만 A에 매칭\n",
        "\n",
        "긍정적 후방 탐색은 현재 위치의 앞쪽에 일치하는 패턴이 있을 경우에만 일치를 성공시키는 조건. 이 탐색은 패턴을 찾지만, 결과에는 포함시키지 않는다. 즉, @ 기호는 포함되지 않지만, 이 기호 뒤에 오는 특정 패턴을 검사하는 데 사용.\n",
        "\n",
        "부정적 후방 탐색 (?<!B)A  'A' 앞에 'B'가 없는 경우에만 'A'에 매칭"
      ],
      "metadata": {
        "id": "tiQSp3QIJ-9y"
      }
    },
    {
      "cell_type": "code",
      "source": [
        "# (?<=@) : 이 부분은 후방 긍정 탐색(lookbehind assertion). @ 기호 바로 뒤의 문자들만 검사하도록 지정\n",
        "\n",
        "text2 = \"Contact us at support@company.com, sales@enterprise.com or info@organization.org\"\n",
        "pattern2 = r'(?<=@)[a-zA-Z0-9, -]+(?=\\.com)'        #후방과 전방 합친거\n",
        "matches2 = re.findall(pattern2, text2)\n",
        "print(matches2)"
      ],
      "metadata": {
        "colab": {
          "base_uri": "https://localhost:8080/"
        },
        "id": "FRu60bzWJ8p-",
        "outputId": "a8fda771-8cec-4d4a-9258-1e26edcd4e09"
      },
      "execution_count": null,
      "outputs": [
        {
          "output_type": "stream",
          "name": "stdout",
          "text": [
            "['company', 'enterprise']\n"
          ]
        }
      ]
    },
    {
      "cell_type": "markdown",
      "source": [
        "Greedy (탐욕스러운) 매칭\n",
        "- Greedy 매칭은 가능한 한 많은 문자와 일치하려고 한다. 즉, 주어진 패턴과 일치하는 문자열 중 가장 긴 것을 찾는다.\n",
        "- 예를 들어, 정규 표현식 a.*b는 a로 시작하고 b로 끝나는 가장 긴 문자열 부분과 일치한다.\n",
        "\n",
        "Non-Greedy (비탐욕스러운) 매칭\n",
        "- Non-Greedy 매칭은 가능한 한 적은 문자와 일치하려고 한다. 즉, 주어진 패턴과 일치하는 문자열 중 가장 짧은 것을 찾는다.\n",
        "- 예를 들어, 정규 표현식 a.*?b는 a로 시작하고 b로 끝나는 가장 짧은 문자열 부분과 일치합니다."
      ],
      "metadata": {
        "id": "YBpFLDDANer6"
      }
    },
    {
      "cell_type": "code",
      "source": [
        "# Greedy\n",
        "\n",
        "import re\n",
        "\n",
        "text = \"<div>Hello</div><div>World</div>\"\n",
        "pattern = r'<div>.*</div>'\n",
        "matches = re.findall(pattern, text)\n",
        "print(matches)"
      ],
      "metadata": {
        "colab": {
          "base_uri": "https://localhost:8080/"
        },
        "id": "NeR4B2hUNecR",
        "outputId": "14875e71-2e70-4a02-c930-05729ae44958"
      },
      "execution_count": null,
      "outputs": [
        {
          "output_type": "stream",
          "name": "stdout",
          "text": [
            "['<div>Hello</div><div>World</div>']\n"
          ]
        }
      ]
    },
    {
      "cell_type": "code",
      "source": [
        "# Non-Greedy\n",
        "import re\n",
        "\n",
        "pattern_ng = r'<div>.*?</div>'\n",
        "matches_ng = re.findall(pattern_ng, text)\n",
        "print(matches_ng)"
      ],
      "metadata": {
        "colab": {
          "base_uri": "https://localhost:8080/"
        },
        "id": "tk6aTo1CO37k",
        "outputId": "8356b2db-28ee-4e52-d9bf-79474bd6ccdc"
      },
      "execution_count": null,
      "outputs": [
        {
          "output_type": "stream",
          "name": "stdout",
          "text": [
            "['<div>Hello</div>', '<div>World</div>']\n"
          ]
        }
      ]
    }
  ]
}