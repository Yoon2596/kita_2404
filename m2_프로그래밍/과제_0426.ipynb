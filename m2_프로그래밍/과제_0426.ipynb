{
  "nbformat": 4,
  "nbformat_minor": 0,
  "metadata": {
    "colab": {
      "provenance": []
    },
    "kernelspec": {
      "name": "python3",
      "display_name": "Python 3"
    },
    "language_info": {
      "name": "python"
    }
  },
  "cells": [
    {
      "cell_type": "code",
      "execution_count": null,
      "metadata": {
        "colab": {
          "base_uri": "https://localhost:8080/"
        },
        "id": "9o38uZnh5uUz",
        "outputId": "253cd295-c09b-4ba0-ebaa-2f2ae2c6a6f2"
      },
      "outputs": [
        {
          "output_type": "stream",
          "name": "stdout",
          "text": [
            "고유한 요소의 개수 : 5\n"
          ]
        }
      ],
      "source": [
        "# Task1_0426. 주어진 리스트에서 중복된 요소를 제외하고 고유한 요소의 개수를 세는 프로그램을 작성하세요.\n",
        "\n",
        "data = [1, 2, 2, 3, 4, 4, 4, 5]\n",
        "# data = []\n",
        "\n",
        "def count_unique_number(datas):\n",
        "    if not datas:\n",
        "        return '데이터를 넣어주세요'\n",
        "    s1 = set(datas)\n",
        "    # print(s1)\n",
        "    return len(s1)\n",
        "\n",
        "print(f'고유한 요소의 개수 : {count_unique_number(data)}')\n"
      ]
    },
    {
      "cell_type": "code",
      "source": [
        "\n",
        "# Task2_0426. 두 개의 리스트에서 공통으로 나타나는 요소들을 찾아 리스트로 반환하는 프로그램을 작성하세요.\n",
        "\n",
        "# 예시 입력: list1 = [1, 2, 3, 4, 5], list2 = [4, 5, 6, 7, 8]\n",
        "\n",
        "# 예시 출력: [4, 5]\n",
        "\n",
        "list1 = [1, 2, 3, 4, 5]\n",
        "list2 = [4, 5, 6, 7, 8]\n",
        "\n",
        "\n",
        "def return_union(data1, data2):\n",
        "\n",
        "    # 들어온 리스트 2개중 한 곳에 데이터가 없을 시\n",
        "    if not data1 and data2:\n",
        "        return '데이터를 넣어주세요'\n",
        "\n",
        "    # 두 리스트 모두 세트로 변환\n",
        "    s1 = set(data1)\n",
        "    s2 = set(data2)\n",
        "\n",
        "    # 그 후 공통 된 요소를 교집합으로 확인\n",
        "    inter = s1 & s2\n",
        "\n",
        "    # 교집합으로 나온 요소를 다시 리스트로 변환하여 리턴함\n",
        "    return list(inter)\n",
        "\n",
        "return_union(list1, list2)\n",
        "\n"
      ],
      "metadata": {
        "colab": {
          "base_uri": "https://localhost:8080/"
        },
        "id": "w4VnAAnI6nQU",
        "outputId": "14340cfc-efa0-42e0-e62f-f720d43bc40b"
      },
      "execution_count": null,
      "outputs": [
        {
          "output_type": "execute_result",
          "data": {
            "text/plain": [
              "[4, 5]"
            ]
          },
          "metadata": {},
          "execution_count": 15
        }
      ]
    },
    {
      "cell_type": "code",
      "source": [
        "# Task3_0426. 주어진 숫자 리스트에서 특정 값보다 큰 요소가 하나라도 존재하는지 검사하고, 그 결과를 불 값으로 반환하는 함수를 작성하세요.\n",
        "\n",
        "numbers = [1, 2, 3, 10, 20]\n",
        "threshold = 15\n",
        "\n",
        "def check_overNum(numbers, threshold):\n",
        "\n",
        "    #각 숫자에 특정 값을 비교하여 크면 참으로 반환\n",
        "    for i in range(len(numbers)):\n",
        "        #만약 숫자가 특정값보다 클 시\n",
        "        if numbers[i] > threshold:\n",
        "            #불 값 True 반환\n",
        "            return True\n",
        "    #없으면 불 값 False로 반환\n",
        "    return False\n",
        "\n",
        "check_overNum(numbers, threshold)"
      ],
      "metadata": {
        "colab": {
          "base_uri": "https://localhost:8080/"
        },
        "id": "yAcmzyF8B4_h",
        "outputId": "cd8a01e0-def7-4c95-f429-7024b7235b9f"
      },
      "execution_count": null,
      "outputs": [
        {
          "output_type": "execute_result",
          "data": {
            "text/plain": [
              "True"
            ]
          },
          "metadata": {},
          "execution_count": 154
        }
      ]
    },
    {
      "cell_type": "code",
      "source": [
        "# Task4_0426. 주어진 문자열이 특정 문자열을 포함하는지 확인하고 결과를 불 값으로 반환하는 함수를 작성하세요.\n",
        "\n",
        "text = \"hello world\"\n",
        "substring = \"world\"\n",
        "\n",
        "def check_string(text, substring):\n",
        "\n",
        "    if substring in text:\n",
        "        # print(text, substring)\n",
        "        return True\n",
        "    else:\n",
        "        return False\n",
        "\n",
        "check_string(text, substring)"
      ],
      "metadata": {
        "colab": {
          "base_uri": "https://localhost:8080/"
        },
        "id": "LnI7JeTaB8HE",
        "outputId": "08483bce-7d77-419e-e19a-1e3efd5dbd14"
      },
      "execution_count": null,
      "outputs": [
        {
          "output_type": "execute_result",
          "data": {
            "text/plain": [
              "True"
            ]
          },
          "metadata": {},
          "execution_count": 165
        }
      ]
    },
    {
      "cell_type": "code",
      "source": [
        "# Task5_0426. 주어진 연도가 윤년인지 판별하는 함수를 작성하세요. 윤년은 다음의 조건을 만족해야 합니다:\n",
        "# - 4로 나누어 떨어진다.\n",
        "# - 100으로 나누어 떨어지지 않거나, 400으로 나누어 떨어지면 윤년이다.\n",
        "\n",
        "year = 2020\n",
        "\n",
        "\n",
        "# True\n",
        "\n",
        "def isleapYear(years):\n",
        "    if years % 4 == 0 and (year % 100 != 0 or year % 400 == 0):\n",
        "        return print('윤년입니다', True)\n",
        "    else:\n",
        "        return print('평년입니다', False)\n",
        "\n",
        "isleapYear(year)"
      ],
      "metadata": {
        "colab": {
          "base_uri": "https://localhost:8080/"
        },
        "id": "I-YEDB_VCOpd",
        "outputId": "1e4085df-7b08-4073-a03c-87ec59bf86d4"
      },
      "execution_count": null,
      "outputs": [
        {
          "output_type": "stream",
          "name": "stdout",
          "text": [
            "윤년입니다 True\n"
          ]
        }
      ]
    },
    {
      "cell_type": "code",
      "source": [
        "year = 2020\n",
        "print(year % 100 == True)\n",
        "\n",
        "print(year % 100 != 0)"
      ],
      "metadata": {
        "colab": {
          "base_uri": "https://localhost:8080/"
        },
        "id": "3fUk_4k-b7rc",
        "outputId": "b306dd96-43ae-40d2-e862-4cd77d523491"
      },
      "execution_count": null,
      "outputs": [
        {
          "output_type": "stream",
          "name": "stdout",
          "text": [
            "False\n",
            "True\n"
          ]
        }
      ]
    },
    {
      "cell_type": "code",
      "source": [
        "# Task6_0426. Calculator 클래스를 작성하고 4칙연산을 수행하는 객체 4개를 작성하여 결과를 출력하세요.\n",
        "\n",
        "class Calculator:\n",
        "    def add(self, n1, n2):\n",
        "        return n1 + n2\n",
        "    def mul(self, n1, n2):\n",
        "        return n1 * n2\n",
        "    def sub(self, n1, n2):\n",
        "        return n1 - n2\n",
        "    def div(self, n1, n2):\n",
        "        return n1 / n2\n",
        "\n",
        "obj1 = Calculator()\n",
        "print(obj1.add(1, 1))\n",
        "obj2 = Calculator()\n",
        "print(obj1.mul(3, 2))\n",
        "obj3 = Calculator()\n",
        "print(obj1.sub(12, 15))\n",
        "obj4 = Calculator()\n",
        "print(round(obj1.div(215, 64), 2))"
      ],
      "metadata": {
        "colab": {
          "base_uri": "https://localhost:8080/"
        },
        "id": "eWjQlZAQK4Kv",
        "outputId": "2ac0d4a7-669a-48f9-ec3d-cafeb31cda1c"
      },
      "execution_count": null,
      "outputs": [
        {
          "output_type": "stream",
          "name": "stdout",
          "text": [
            "2\n",
            "6\n",
            "-3\n",
            "3.36\n"
          ]
        }
      ]
    },
    {
      "cell_type": "code",
      "source": [
        "# Task7_0426. 다음 과제를 수행하세요.\n",
        "# - 사용자로 부터 텍스트를 입력 받는다.\n",
        "# - 문자을 단어 단위로 분리 : split()\n",
        "# - 단어의 빈도수를 저장할 딕셔너리를 생성\n",
        "# - 각 단어의 빈도 수를 계산(for 문 / if else문) word = word.lower()\n",
        "# - 결과 출력\n",
        "\n",
        "# [ 예시 ]\n",
        "\n",
        "# 문장을 입력하세요: I love apple. I love orange. Apple is tasty\n",
        "\n",
        "# {'i': 2, 'love': 2, 'apple.': 1, 'orange.': 1, 'apple': 1, 'is': 1, 'tasty': 1}\n",
        "\n",
        "mes1 = input('문장을 입력하세요: ')\n",
        "\n",
        "# 사용자로부터 받은 문자열을 단어로 분리\n",
        "div_word = mes1.lower().split()\n",
        "\n",
        "count_words = {}\n",
        "\n",
        "for i in div_word:\n",
        "    if i in count_words:\n",
        "        count_words[i] += 1\n",
        "    else:\n",
        "        count_words[i] = 1\n",
        "\n",
        "\n",
        "print(count_words)"
      ],
      "metadata": {
        "colab": {
          "base_uri": "https://localhost:8080/"
        },
        "id": "g1C-PejcL90V",
        "outputId": "c40a3767-78f7-4aec-fa7d-d62dfafd25a7"
      },
      "execution_count": null,
      "outputs": [
        {
          "output_type": "stream",
          "name": "stdout",
          "text": [
            "문장을 입력하세요: I love apple. I love orange. Apple is tasty\n",
            "{'i': 2, 'love': 2, 'apple.': 1, 'orange.': 1, 'apple': 1, 'is': 1, 'tasty': 1}\n"
          ]
        }
      ]
    }
  ]
}