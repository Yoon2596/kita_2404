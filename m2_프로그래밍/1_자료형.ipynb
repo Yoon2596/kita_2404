{
  "nbformat": 4,
  "nbformat_minor": 0,
  "metadata": {
    "colab": {
      "provenance": [],
      "toc_visible": true
    },
    "kernelspec": {
      "name": "python3",
      "display_name": "Python 3"
    },
    "language_info": {
      "name": "python"
    }
  },
  "cells": [
    {
      "cell_type": "markdown",
      "source": [
        "#### 파이썬 이란\n",
        "- 1990년 암스테르담의 귀도 반 로섬(Guido Van Rossum)이 개발한 인터프리터 언어\n",
        "- 컴퓨터 프로그래밍 교육을 위해 많이 사용하지만, 기업의 실무를 위해서도 많이 사용하는 언어. 구글에서 만든 소프트웨어의 50%이상이 파이썬으로 작성\n",
        "\n",
        "#### 파이썬의 특징\n",
        "- 파이썬은 인간다운 언어이다\n",
        "- 파이썬은 문법이 쉬워 빠르게 배울 수 있다\n",
        "- 파이썬은 무료이지만 강력하다\n",
        "- 파이썬은 간결하다\n",
        "- 파이썬은 프로그래밍을 즐기게 해준다\n",
        "- 파이썬은 개발 속도가 빠르다\n",
        "\n",
        "#### 파이썬으로 할 수 있는 일\n",
        "- 웹 개발: Django, Flask 등의 프레임워크를 사용하여 웹 애플리케이션을 개발할 수 있습니다.\n",
        "- 데이터 분석: Pandas, NumPy, SciPy와 같은 라이브러리를 사용하여 데이터를 분석하고 처리할 수 있습니다.\n",
        "- 머신 러닝과 인공지능: TensorFlow, PyTorch, Scikit-learn 등의 라이브러리를 활용하여 머신 러닝 모델을 구축하고 훈련시킬 수 있습니다.\n",
        "- 자동화: 파이썬 스크립트를 작성하여 일상적인 작업을 자동화하고, 시스템 관리 작업을 수행할 수 있습니다.\n",
        "- 게임 개발: Pygame과 같은 라이브러리를 사용하여 간단한 게임을 개발할 수 있습니다.\n",
        "- 모바일 애플리케이션 개발: Kivy 또는 BeeWare와 같은 라이브러리를 사용하여 모바일 애플리케이션을 개발할 수 있습니다.\n",
        "- 데스크탑 애플리케이션 개발: PyQt, Tkinter 등의 라이브러리를 활용하여 데스크탑 애플리케이션을 개발할 수 있습니다.\n",
        "- 시스템 스크립팅과 네트워킹: 시스템 유틸리티를 개발하거나 네트워크 프로토콜을 구현할 수 있습니다.\n",
        "- 임베디드 시스템과 하드웨어 제어: 라즈베리 파이와 같은 임베디드 시스템을 제어하고 하드웨어를 프로그래밍할 수 있습니다.\n",
        "- 사이언티픽 컴퓨팅: 과학적 연산과 시뮬레이션을 위해 파이썬을 활용할 수 있습니다.\n",
        "- 교육: 파이썬은 초보자에게 프로그래밍을 가르치는 데 이상적인 언어로 평가받고 있습니다.\n",
        "- 파이썬의 다양한 라이브러리와 프레임워크 덕분에, 이러한 분야에서의 작업이 더욱 쉽고 효율적으로 수행될 수 있습니다."
      ],
      "metadata": {
        "id": "qSbY1Ybq8KQn"
      }
    },
    {
      "cell_type": "code",
      "execution_count": null,
      "metadata": {
        "colab": {
          "base_uri": "https://localhost:8080/"
        },
        "id": "DFZ67hyt8Ec_",
        "outputId": "bc1b0e17-8e18-4c8b-9201-663c0285b6ff"
      },
      "outputs": [
        {
          "output_type": "stream",
          "name": "stdout",
          "text": [
            "Python 3.10.12\n"
          ]
        }
      ],
      "source": [
        "# ! 기호는 Colab 셀에서 Unix/Linux 셀 명령어를 실행\n",
        "!python --version"
      ]
    },
    {
      "cell_type": "code",
      "source": [
        "# % 기호는 !python 환셩(즉, Colab이 포함된 Jupyter 환경)에서 제공하는 매직 명령어를 사용\n",
        "# 라인 매적은 단일 라인에 대해 실행되며 % 하나를 사용하고 셀 매직은 셀 전체에 적용되며 %%을 사용\n",
        "# 현재 작업폴더 확인\n",
        "%pwd"
      ],
      "metadata": {
        "colab": {
          "base_uri": "https://localhost:8080/",
          "height": 35
        },
        "id": "pzz_yCg6CVYY",
        "outputId": "a158951a-d0da-4768-b2ce-e4da7816be83"
      },
      "execution_count": null,
      "outputs": [
        {
          "output_type": "execute_result",
          "data": {
            "text/plain": [
              "'/content'"
            ],
            "application/vnd.google.colaboratory.intrinsic+json": {
              "type": "string"
            }
          },
          "metadata": {},
          "execution_count": 2
        }
      ]
    },
    {
      "cell_type": "code",
      "source": [
        "%%time\n",
        "# 간단한 for 루프를 사용한 계산\n",
        "sum = 0\n",
        "for i in range(10000):\n",
        "    sum += i\n",
        "print(sum)"
      ],
      "metadata": {
        "colab": {
          "base_uri": "https://localhost:8080/"
        },
        "id": "XePr2m2WCz6S",
        "outputId": "fb4e541c-f36e-4bcf-b374-9724a3ff2049"
      },
      "execution_count": null,
      "outputs": [
        {
          "output_type": "stream",
          "name": "stdout",
          "text": [
            "49995000\n",
            "CPU times: user 5.1 ms, sys: 21 µs, total: 5.12 ms\n",
            "Wall time: 7.29 ms\n"
          ]
        }
      ]
    },
    {
      "cell_type": "markdown",
      "source": [
        "#### 용어\n",
        "- 식별자 : 프로그램밍 언어에서 이름을 붙일 때 사용하는 단어. 주로 변수 또는 함수 이름 등으로 사용\n",
        "- 주석 : 프로그램을 설명하기 위해 사용. # 기호로 주석 처리\n",
        "- 연산자 : 스스로 값이 되는 것이 아니고 값과 값 사이에 무언가 기능을 적용할 때 사용\n",
        "- 자료 : 리터럴이라고 하는데 숫자이든 문자이든 어떠한 값 자체를 의미. 1, 10, \"Hello\"\n",
        "- 키워드 : 파이썬이 만들어질 때 이미 사용하겠다고 예약해 놓는 것. False, None, True, ...\n",
        "- 프로그램밍 언어에서 사용자가 이름을 정할 때 키워드는 사용할 수 없음\n",
        "\n",
        "#### 식별자\n",
        "count, user_name, _is_valid, calculate_area, Car, model, year, math 및 m 모두 유효한 식별자. 각각의 식별자는 특정한 데이터 또는 기능에 이름을 부여하여 코드 내에서 해당 데이터나 기능을 참조할 수 있게하며 코드의 가독성과 유지 보수성을 높이는 데 중요한 역할"
      ],
      "metadata": {
        "id": "H5psW3UcEPox"
      }
    },
    {
      "cell_type": "code",
      "source": [
        "# 변수 식별자\n",
        "count = 10\n",
        "user_name = 'Alice'\n",
        "_is_valid =True\n",
        "\n",
        "# 함수 식별자\n",
        "def calculate_area(radius):\n",
        "    return 3.14159 * radius * radius\n",
        "\n",
        "# 클래스 식별자\n",
        "class Car:\n",
        "    def __init__(self, model, year):\n",
        "        self.model = model\n",
        "        self.year = year\n",
        "\n",
        "# 모듈 식별자\n",
        "import math as m"
      ],
      "metadata": {
        "id": "I7849DXpEVf9"
      },
      "execution_count": null,
      "outputs": []
    },
    {
      "cell_type": "markdown",
      "source": [
        "####식별자 기본규칙\n",
        "\n",
        "- 키워드를 사용하면 안된다\n",
        "- 특수문자는 언더 바(_)만 사용\n",
        "- 숫자로 시작하면 안된다\n",
        "- 공백을 포함할 수 없다"
      ],
      "metadata": {
        "id": "-sZ297A_JEqk"
      }
    },
    {
      "cell_type": "code",
      "source": [
        "import keyword\n",
        "print(keyword.kwlist, end='\\n')\n",
        "len(keyword.kwlist)"
      ],
      "metadata": {
        "colab": {
          "base_uri": "https://localhost:8080/"
        },
        "id": "zrnmq5r0JCXt",
        "outputId": "c3cefdfc-0579-4742-9177-0978160b6f24"
      },
      "execution_count": null,
      "outputs": [
        {
          "output_type": "stream",
          "name": "stdout",
          "text": [
            "['False', 'None', 'True', 'and', 'as', 'assert', 'async', 'await', 'break', 'class', 'continue', 'def', 'del', 'elif', 'else', 'except', 'finally', 'for', 'from', 'global', 'if', 'import', 'in', 'is', 'lambda', 'nonlocal', 'not', 'or', 'pass', 'raise', 'return', 'try', 'while', 'with', 'yield']\n"
          ]
        },
        {
          "output_type": "execute_result",
          "data": {
            "text/plain": [
              "35"
            ]
          },
          "metadata": {},
          "execution_count": 5
        }
      ]
    },
    {
      "cell_type": "code",
      "source": [
        "from re import A\n",
        "# alpha         #O\n",
        "# break         #X 키워드    SyntaxError\n",
        "# alpha10       #O\n",
        "# _alpha        #O\n",
        "# 273alpha      #X 숫자 SyntaxError\n",
        "# AlpHa         #O\n",
        "# ALPHA         #O\n",
        "# has space     #X 공백 SyntaxError"
      ],
      "metadata": {
        "id": "WkLSOgatKVAh"
      },
      "execution_count": 5,
      "outputs": []
    },
    {
      "cell_type": "markdown",
      "source": [
        "Q. 주어진 문자열 리스트에서 유효한 Python 변수 이름만을 추출하여 반환하는 함수를 작성하세요."
      ],
      "metadata": {
        "id": "INUddDwaK2U8"
      }
    },
    {
      "cell_type": "code",
      "source": [
        "import keyword\n",
        "\n",
        "\n",
        "\n",
        "\n",
        "# def identifyKey(strings):\n",
        "\n",
        "#     count = 0\n",
        "#     # 키워드 사용 안됨\n",
        "#     for i in range(len(strings)):\n",
        "#         print(i)\n",
        "#         # print(strings[i][0])\n",
        "\n",
        "#         # # 넣은 변수와 키워드 비교 후 없으면 리턴\n",
        "#         # if i not in keyword.kwlist:\n",
        "#         #     print(i)\n",
        "#         # # 있으면\n",
        "\n",
        "#         #     break\n",
        "#         #     print('Not Available')\n",
        "\n",
        "#     # 첫 인덱스에 숫자나 공백 사용 불가)\n",
        "#         #첫 인덱스가 0부터 9인 숫자인 경우 제거\n",
        "#         for j in range(10):\n",
        "#             if strings[i][0] == str(j):\n",
        "#                 # print(strings[i][0])\n",
        "#                 i -= 1\n",
        "#                 # 해당 인덱스 제거\n",
        "#                 strings.pop(i)\n",
        "\n",
        "\n",
        "#         # print('ok')\n",
        "#     # 언더바 외 특수문자와 공백 사용 불가\n",
        "#         # for k in strings:\n",
        "#         #     print(strings[i][k])\n",
        "#         #     count += 1\n",
        "#             # print(k[i])\n",
        "#             # print(strings[k])\n",
        "#             # 각 리스트의 인덱스에 특수문자와 공백 있을 시 제거\n",
        "#             # if k[i] == '!':\n",
        "#             # i[j] == '@'or i[j] == '#'or i[j] == '$'or i[j] == '%'or i[j] == '^'or i[j] == '&'or i[j] == '*'or i[j] == ' ':\n",
        "#                 # strings.pop(k)\n",
        "\n",
        "\n",
        "#     # 결과 값 리턴\n",
        "#     return strings\n",
        "\n",
        "\n",
        "\n",
        "def identifyKey(strings):\n",
        "\n",
        "    index1 = []\n",
        "    # 키워드 사용 안됨\n",
        "    for i in strings:\n",
        "\n",
        "        # 넣은 변수와 키워드 비교 후 있으면 해당 인덱스 저장\n",
        "        if i in keyword.kwlist:\n",
        "            index1.append(strings.index(i))\n",
        "\n",
        "\n",
        "    # 첫 인덱스에 숫자나 공백 사용 불가)\n",
        "        #첫 인덱스가 0부터 9인 숫자인 경우 제거\n",
        "        for j in range(10):\n",
        "            if i[0] == str(j):\n",
        "                # print(i)\n",
        "                # print(strings.index(i))\n",
        "                # 해당 인덱스 다른 리스트에 저장 (여기서 제거하니 인덱스가 밀림)\n",
        "                index1.append(strings.index(i))\n",
        "                # 해당 인덱스 제거\n",
        "                # strings.pop(strings.index(i))\n",
        "\n",
        "\n",
        "        # print('ok')\n",
        "    # 언더바 외 특수문자와 공백 사용 불가\n",
        "        for k in range(len(i)):\n",
        "            # print(i)\n",
        "            # print(k)\n",
        "            # 각 리스트의 인덱스를 모두 개별적으로 찾아 특수문자와 공백 있을 시 제거\n",
        "            if i[k] == '!' or i[k] == '@' or i[k] == '#' or i[k] == '$'or i[k] == '%'or i[k] == '^' or i[k] == '&'or i[k] == '*'or i[k] == ' ':\n",
        "\n",
        "                # print(i)\n",
        "                # print(strings.index(i))\n",
        "                # 해당 인덱스 다른 리스트에 저장\n",
        "                # 특수문자가 여러개 있으면 중복 저장 되므로 제거 필요\n",
        "                index1.append(strings.index(i))\n",
        "\n",
        "                # 해당 인덱스 제거\n",
        "                # strings.pop(strings.index(i))\n",
        "\n",
        "    # 제거할 인덱스 저장값 확인\n",
        "    print(index1)\n",
        "    # 인덱스 중복 제거\n",
        "    index2 = set(index1)\n",
        "    print(index2, type(index2))\n",
        "    # 다시 인덱스 리스트로 변환\n",
        "    index3 = list(index2)\n",
        "    print(index3, type(index3))\n",
        "\n",
        "    # 역순으로 인덱스 저장 (pop은 바로 제거되어서 인덱스 위치 변경됨)\n",
        "    index4 = sorted(index3, reverse=True)\n",
        "    print(index4)\n",
        "\n",
        "    # 내림차순으로 변경 된 인덱스 위치의 리스트 제거\n",
        "    for z in index4:\n",
        "        print(z, type(z))\n",
        "        strings.pop(z)\n",
        "\n",
        "\n",
        "    # 결과 값 리턴\n",
        "    return strings\n",
        "\n",
        "\n",
        "\n",
        "identifiers = ['var1', '2things', 'break', 'variable_name', 'time!', '3as d', '145asf', 'True', 'nice', 'd#!fas', 'Camel', '3a#11']\n",
        "# identifiers = ['var1', '2things', 'variable_name', 'time!']\n",
        "\n",
        "\n",
        "# 예시\n",
        "print(identifyKey(identifiers))"
      ],
      "metadata": {
        "colab": {
          "base_uri": "https://localhost:8080/"
        },
        "id": "V1Fap-WkLE_G",
        "outputId": "20703c13-cca1-4c43-ee8e-6507b672e72b"
      },
      "execution_count": null,
      "outputs": [
        {
          "output_type": "stream",
          "name": "stdout",
          "text": [
            "[1, 2, 4, 5, 5, 6, 7, 9, 9, 11, 11]\n",
            "{1, 2, 4, 5, 6, 7, 9, 11} <class 'set'>\n",
            "[1, 2, 4, 5, 6, 7, 9, 11] <class 'list'>\n",
            "[11, 9, 7, 6, 5, 4, 2, 1]\n",
            "11 <class 'int'>\n",
            "9 <class 'int'>\n",
            "7 <class 'int'>\n",
            "6 <class 'int'>\n",
            "5 <class 'int'>\n",
            "4 <class 'int'>\n",
            "2 <class 'int'>\n",
            "1 <class 'int'>\n",
            "['var1', 'variable_name', 'nice', 'Camel']\n"
          ]
        }
      ]
    },
    {
      "cell_type": "code",
      "source": [
        "import keyword\n",
        "#  isidentifier()는 파이썬의 문자열 매서드로, 주어진 무자열이 유효한 식별자인지를 확인\n",
        "#  isidentifier()는 예역어인지는 따로 체크하지 않음\n",
        "\n",
        "\n",
        "def valid_identifiers(identifiers):\n",
        "\n",
        "    valid = []\n",
        "    for identifier in identifiers:\n",
        "        # 2개를 모두 만족해야만 Valid에 넣음\n",
        "        if identifier.isidentifier() and not keyword.iskeyword(identifier):\n",
        "            valid.append(identifier)\n",
        "\n",
        "    return valid\n",
        "\n",
        "\n",
        "identifier = ['var1', '2things', 'variable_name', 'time!', 'True', '3bear']\n",
        "\n",
        "\n",
        "print(valid_identifiers(identifier))"
      ],
      "metadata": {
        "colab": {
          "base_uri": "https://localhost:8080/"
        },
        "id": "lW2uXXWzt06A",
        "outputId": "6efc88b6-c116-49ee-947a-9df339583b06"
      },
      "execution_count": null,
      "outputs": [
        {
          "output_type": "stream",
          "name": "stdout",
          "text": [
            "['var1', 'variable_name']\n"
          ]
        }
      ]
    },
    {
      "cell_type": "code",
      "source": [
        "#  제거 되는 시점에서 인덱스가 변경\n",
        "\n",
        "import keyword\n",
        "#  isidentifier()는 파이썬의 문자열 매서드로, 주어진 무자열이 유효한 식별자인지를 확인\n",
        "#  isidentifier()는 예역어인지는 따로 체크하지 않음\n",
        "\n",
        "\n",
        "def remove_identifiers(identifiers):\n",
        "\n",
        "    # valid = []\n",
        "    for i in identifiers:\n",
        "        # 2개를 모두 만족해야만 Valid에 넣음\n",
        "        # print(i)\n",
        "        if i[0].isdigit() or not i.isalnum():\n",
        "            identifiers.remove(i)\n",
        "    return identifiers\n",
        "    # return valid\n",
        "\n",
        "\n",
        "identifier = ['var1', '2things', 'variable_name', 'time!', 'True', '3bear']\n",
        "\n",
        "\n",
        "print(remove_identifiers(identifier))"
      ],
      "metadata": {
        "colab": {
          "base_uri": "https://localhost:8080/"
        },
        "id": "LHbERyhX7KIF",
        "outputId": "91deb44e-7282-4262-8900-bfdc1507679c"
      },
      "execution_count": null,
      "outputs": [
        {
          "output_type": "stream",
          "name": "stdout",
          "text": [
            "['var1', 'variable_name', 'True']\n"
          ]
        }
      ]
    },
    {
      "cell_type": "markdown",
      "source": [
        "####파이썬 snake_case와 CarmelCase를 모두 사용\n",
        "\n",
        "- itemlist : item_list itmeList\n",
        "- loginstatus : login_status loginStatus\n",
        "- 캐멀 케이스(대문자로 시작) 클래스\n",
        "- 스테이크 케이스(소문자로 시작)뒤에 ()가 있다 <- 함수\n",
        "- 스테이크 케이스(소문자로 시작)뒤에 ()가 없다 <- 변수"
      ],
      "metadata": {
        "id": "fOCM04sD8MVn"
      }
    },
    {
      "cell_type": "code",
      "source": [
        "# 연산자\n",
        "a = 5\n",
        "b = 3\n",
        "c = b % a   #나머지\n",
        "d = b // a  #몫\n",
        "e = b / a\n",
        "print(c)\n",
        "print(d)\n",
        "print(e)"
      ],
      "metadata": {
        "colab": {
          "base_uri": "https://localhost:8080/"
        },
        "id": "lsRuA3Re8nHX",
        "outputId": "24b2fa2e-65dc-4fbb-c9cb-1975ec3b2fe9"
      },
      "execution_count": null,
      "outputs": [
        {
          "output_type": "stream",
          "name": "stdout",
          "text": [
            "3\n",
            "0\n",
            "0.6\n"
          ]
        }
      ]
    },
    {
      "cell_type": "code",
      "source": [
        "a = 3\n",
        "b = 5\n",
        "\n",
        "if a > b:\n",
        "    print(a) #조건이 참일때만 결과나옴\n",
        "if a == b:\n",
        "    print(b) #조건이 참일때만 결과나옴"
      ],
      "metadata": {
        "id": "7IG7mA43BOiO"
      },
      "execution_count": null,
      "outputs": []
    },
    {
      "cell_type": "markdown",
      "source": [
        "#### 자료형\n",
        "- 자료형 또는 데이터 타입이란 숫자, 문자 등과 같이 여러 종류의 데이터를 구분하기 위한 분류\n",
        "- 파이썬의 자료형은 크게 숫자(numbers), 시퀀스(sequence), 매핑(mapping) 등으로 나눌 수 있다.\n",
        "- 파이썬의 기본 자료형\n",
        "  - 수치형\n",
        "    - 정수형 : int는 정수(integer)를 나타낸다. 양의 정수와 음의 정수, 숫자 0\n",
        "    - 실수형 : float는 원래 부동소수점수(floating-point number)를 가리키는데, 지금은 단순히 소수점 이하를 표현할 수 있는 수이다.\n",
        "    - 복소수형 : 복소수를 complex로 나타내고 제곱하면 -1이 되는 수 i를 ‘허수(imaginary number)’라고 하는데 허수 i를 j로 표현\n",
        "  - 시퀀스 : 문자열(str), 리스트(list), 튜플(tuple), 사용자 정의 클래스가 시퀀스에 속한다. for 문에서 사용할 수 있는 것들이 바로 시퀀스\n",
        "    - 문자열 : 문자를 한 줄로 표현하며 문자열 인덱스를 이용해 문자열의 일부를 복사\n",
        "    - 리스트 : 대괄호([ ])로 감싸 주고 각 요솟값은 쉼표(,)로 구분\n",
        "    - 튜플 : 튜플은 ( )으로 둘러싸고 각 요솟값은 쉼표(,)로 구분\n",
        "  - 매핑\n",
        "    - 사전 : 딕셔너리(dict)는 키(key)와 값(value)의 짝으로 이뤄지는데 이런 것을 매핑\n",
        "  - 집합 : 집합을 표현하는 세트(set)\n",
        "  - 블린 : 참, 거짓을 표현"
      ],
      "metadata": {
        "id": "hDoQBpLeBzsA"
      }
    },
    {
      "cell_type": "code",
      "source": [
        "# 정수형, 실수형\n",
        "l1 = 3\n",
        "f1 = 3.5\n",
        "print(l1)\n",
        "print(f1)"
      ],
      "metadata": {
        "colab": {
          "base_uri": "https://localhost:8080/"
        },
        "id": "llfbI12FDeJi",
        "outputId": "b3bdc09d-8ce3-48f7-88dd-328050bf215a"
      },
      "execution_count": null,
      "outputs": [
        {
          "output_type": "stream",
          "name": "stdout",
          "text": [
            "3\n",
            "3.5\n"
          ]
        }
      ]
    },
    {
      "cell_type": "code",
      "source": [
        "# 정수(int)\n",
        "print(int(True))\n",
        "print(int(False))\n",
        "print(int('100'))\n",
        "print(int(3.14))"
      ],
      "metadata": {
        "colab": {
          "base_uri": "https://localhost:8080/"
        },
        "id": "JdiK_KCdD4tg",
        "outputId": "6e680d76-2cf5-42c8-c184-920334185e83"
      },
      "execution_count": null,
      "outputs": [
        {
          "output_type": "stream",
          "name": "stdout",
          "text": [
            "1\n",
            "0\n",
            "100\n",
            "3\n"
          ]
        }
      ]
    },
    {
      "cell_type": "code",
      "source": [
        "# 실수(float)\n",
        "print(float(True))\n",
        "print(float(False))\n",
        "print(float('100'))\n",
        "print(float(5))\n",
        "# print(round(float(2), 3))\n",
        "# print(round(float('161'), 2))\n"
      ],
      "metadata": {
        "colab": {
          "base_uri": "https://localhost:8080/"
        },
        "id": "pg0CuyYQEvZw",
        "outputId": "13500e8e-45c8-4e7d-cba5-4c84b3f8e64a"
      },
      "execution_count": null,
      "outputs": [
        {
          "output_type": "stream",
          "name": "stdout",
          "text": [
            "1.0\n",
            "0.0\n",
            "100.0\n",
            "5.0\n",
            "2.0\n",
            "161.0\n"
          ]
        }
      ]
    },
    {
      "cell_type": "code",
      "source": [
        "# 사칙연산 : +, -, /, //, %, **\n",
        "a = 10\n",
        "b = 2.3\n",
        "print(a + b)\n",
        "print(a - b)\n",
        "print(a / b)\n",
        "print(a // b)\n",
        "print(a % b)\n",
        "print(a ** b, type(a ** b))\n",
        "print(round(a ** b, 2), type(a ** b))\n",
        "\n",
        "\n",
        "a = 10\n",
        "b = 5\n",
        "print(a + b)\n",
        "print(a - b)\n",
        "print(a / b)\n",
        "print(a // b)\n",
        "print(a % b)\n",
        "print(a ** b, type(a ** b))"
      ],
      "metadata": {
        "colab": {
          "base_uri": "https://localhost:8080/"
        },
        "id": "8G0jwYfNF474",
        "outputId": "ae8799b0-37d5-4694-d8e8-2ee043c3d0e1"
      },
      "execution_count": null,
      "outputs": [
        {
          "output_type": "stream",
          "name": "stdout",
          "text": [
            "12.3\n",
            "7.7\n",
            "4.347826086956522\n",
            "4.0\n",
            "0.8000000000000007\n",
            "199.52623149688787 <class 'float'>\n",
            "199.53 <class 'float'>\n",
            "15\n",
            "5\n",
            "2.0\n",
            "2\n",
            "0\n",
            "100000 <class 'int'>\n"
          ]
        }
      ]
    },
    {
      "cell_type": "code",
      "source": [
        "# 문자열\n",
        "string = '문자열'\n",
        "a = \"100\"\n",
        "print(string, a)"
      ],
      "metadata": {
        "colab": {
          "base_uri": "https://localhost:8080/"
        },
        "id": "r2qHNdGcGkfL",
        "outputId": "f009f831-a7d6-4206-b7e6-14e6ec0abf51"
      },
      "execution_count": null,
      "outputs": [
        {
          "output_type": "stream",
          "name": "stdout",
          "text": [
            "문자열 100\n"
          ]
        }
      ]
    },
    {
      "cell_type": "code",
      "source": [
        "# 숫자형일떄 더해짐\n",
        "a = 100\n",
        "b = 50\n",
        "print(a + b)\n",
        "\n",
        "# 문자형일때 합쳐짐\n",
        "a = '100'\n",
        "b = '50'\n",
        "print(a + b)"
      ],
      "metadata": {
        "colab": {
          "base_uri": "https://localhost:8080/"
        },
        "id": "It-XYb68HL07",
        "outputId": "01bab937-f3fa-43ea-aafd-6aa65135926d"
      },
      "execution_count": null,
      "outputs": [
        {
          "output_type": "stream",
          "name": "stdout",
          "text": [
            "150\n",
            "10050\n"
          ]
        }
      ]
    },
    {
      "cell_type": "code",
      "source": [
        "# 문자형을 숫자로 더하고 싶을때\n",
        "a = int('100')\n",
        "b = int('50')\n",
        "print(a + b)"
      ],
      "metadata": {
        "colab": {
          "base_uri": "https://localhost:8080/"
        },
        "id": "cTNJTSiLHx9D",
        "outputId": "b0a545e8-5bec-4516-8d28-a93e5161e1a8"
      },
      "execution_count": null,
      "outputs": [
        {
          "output_type": "stream",
          "name": "stdout",
          "text": [
            "150\n"
          ]
        }
      ]
    },
    {
      "cell_type": "code",
      "source": [
        "# 사용자 입력\n",
        "a = input('인사말을 입력하세요,')\n",
        "print(a)"
      ],
      "metadata": {
        "colab": {
          "base_uri": "https://localhost:8080/"
        },
        "id": "UHnQTtLyINn8",
        "outputId": "3970ebb2-4e8c-4ada-8178-746a7ea8f782"
      },
      "execution_count": null,
      "outputs": [
        {
          "output_type": "stream",
          "name": "stdout",
          "text": [
            "인사말을 입력하세요,안녕\n",
            "안녕\n"
          ]
        }
      ]
    },
    {
      "cell_type": "code",
      "source": [
        "# 2가지 숫자를 입력 받아 더해주는 코딩\n",
        "# input()함수는 입력받은 데이터를 string으로 처리된다\n",
        "a = int(input('첫번쨰 숫자 : '))\n",
        "b = int(input('두번쨰 숫자 : '))\n",
        "print('결과 : ', a+b)"
      ],
      "metadata": {
        "colab": {
          "base_uri": "https://localhost:8080/"
        },
        "id": "k4yGYrk2Ink7",
        "outputId": "aa5fe1d5-6210-4b54-8058-01d940782517"
      },
      "execution_count": null,
      "outputs": [
        {
          "output_type": "stream",
          "name": "stdout",
          "text": [
            "첫번쨰 숫자 : 5\n",
            "두번쨰 숫자 : 6\n",
            "결과 :  11\n"
          ]
        }
      ]
    },
    {
      "cell_type": "code",
      "source": [
        "# 실수 + 실수 -> 실수\n",
        "# Q. 3과 3.3을 입력하고 숫자 연산을 수행하여 6.3을 출력하세요\n",
        "a = int(input('3을 입력하세요 : '))\n",
        "b = float(input('3.3을 입력하세요 : '))\n",
        "print('결과 6.3 = ', a+b)"
      ],
      "metadata": {
        "colab": {
          "base_uri": "https://localhost:8080/"
        },
        "id": "h_dXvjf2J5cn",
        "outputId": "ddfa1b25-ee57-4aa2-dc27-3ca3c46df577"
      },
      "execution_count": null,
      "outputs": [
        {
          "output_type": "stream",
          "name": "stdout",
          "text": [
            "3을 입력하세요 : 3\n",
            "3.3을 입력하세요 : 3.3\n",
            "결과 6.3 =  6.3\n"
          ]
        }
      ]
    },
    {
      "cell_type": "code",
      "source": [
        "# 실수 + 실수 -> 실수\n",
        "# Q. 3과 3.3을 입력하고 숫자 연산을 수행하여 6.3을 출력하세요\n",
        "a = float(input('3을 입력하세요 : '))\n",
        "b = float(input('3.3을 입력하세요 : '))\n",
        "print('결과 6.3 = ', a+b)"
      ],
      "metadata": {
        "colab": {
          "base_uri": "https://localhost:8080/"
        },
        "id": "da3lY2NNK4Ai",
        "outputId": "4b997390-f430-4532-8985-9d7be06f908a"
      },
      "execution_count": null,
      "outputs": [
        {
          "output_type": "stream",
          "name": "stdout",
          "text": [
            "3을 입력하세요 : 3\n",
            "3.3을 입력하세요 : 3.3\n",
            "결과 6.3 =  6.3\n"
          ]
        }
      ]
    },
    {
      "cell_type": "code",
      "source": [
        "# Q. a = 52와 b = 52.273일때 a+b는 5252.273으로 출력 될 수 있도록 a와 b를 문자열 자료형으로 변환하세요\n",
        "a = 52\n",
        "b = 52.273\n",
        "print(str(a)+str(b))"
      ],
      "metadata": {
        "colab": {
          "base_uri": "https://localhost:8080/"
        },
        "id": "UJ35BXvsOfDM",
        "outputId": "d77e0011-1b35-4e21-c8f9-46ef3fd00647"
      },
      "execution_count": null,
      "outputs": [
        {
          "output_type": "stream",
          "name": "stdout",
          "text": [
            "5252.273\n"
          ]
        }
      ]
    },
    {
      "cell_type": "code",
      "source": [
        "# 문자열 : \"\", '', \"\"\" \"\"\", ''' '''\n",
        "# p1 = 'python's value is great'    # 어퍼스트로피 s 때문에 인식이 잘못되어서 이때는 \"\"를 사용\n",
        "p1 = \"python's value is great\"\n",
        "print(p1)\n"
      ],
      "metadata": {
        "colab": {
          "base_uri": "https://localhost:8080/"
        },
        "id": "tM6vxe5-O6Kp",
        "outputId": "8a24a58f-dc07-4e69-df78-15e92e01075b"
      },
      "execution_count": null,
      "outputs": [
        {
          "output_type": "stream",
          "name": "stdout",
          "text": [
            "python's value is great\n"
          ]
        }
      ]
    },
    {
      "cell_type": "code",
      "source": [
        "# 백슬래시 (\\)는 문자열 안에서 작은따옴표(')를 문자열의 끝을 의미하지 않는 일반 문자로 포함시키기 위해 사용\n",
        "# 이 기술을 이스케이프라고 함.\n",
        "p1 = 'python\\'s value is great'    # \\'를 사용하면 문제없이 사용 가능\n",
        "\n",
        "print(p1)\n"
      ],
      "metadata": {
        "colab": {
          "base_uri": "https://localhost:8080/"
        },
        "id": "J7CB_hEQRCVu",
        "outputId": "83ecdb55-4778-4f10-aa40-c35e6413f0a6"
      },
      "execution_count": null,
      "outputs": [
        {
          "output_type": "stream",
          "name": "stdout",
          "text": [
            "python's value is great\n"
          ]
        }
      ]
    },
    {
      "cell_type": "code",
      "source": [
        "# \\n 행 바꿈, \\t 탭\n",
        "y1 = \"Once you study data analysis\\nYou need Python\"\n",
        "y2 = \"Once you study data analysis\\tYou need Python\"\n",
        "print(y1)\n",
        "print(y2)"
      ],
      "metadata": {
        "colab": {
          "base_uri": "https://localhost:8080/"
        },
        "id": "L8TDtylhSLXg",
        "outputId": "7a19fc1c-90c8-4a2b-b0b4-6f4d6a048132"
      },
      "execution_count": null,
      "outputs": [
        {
          "output_type": "stream",
          "name": "stdout",
          "text": [
            "Once you study data analysis\n",
            "You need Python\n",
            "Once you study data analysis\tYou need Python\n"
          ]
        }
      ]
    },
    {
      "cell_type": "code",
      "source": [
        "#''' = \"\"\" 그대로 줄바꿈 없이 문자형을 출력해줌\n",
        "\n",
        "y3 = \"\"\"\n",
        "Once you study data analysis\n",
        "You need Python\n",
        "\"\"\"\n",
        "print(y3)\n",
        "\n",
        "y4 = \"\"\"Once you study data analysis\n",
        "You need Python\"\"\"\n",
        "print(y4)"
      ],
      "metadata": {
        "colab": {
          "base_uri": "https://localhost:8080/"
        },
        "id": "8ysDYUv4TGLc",
        "outputId": "bc25ab8f-cba5-494b-fa09-edbb6ab0b0bf"
      },
      "execution_count": null,
      "outputs": [
        {
          "output_type": "stream",
          "name": "stdout",
          "text": [
            "\n",
            "Once you study data analysis\n",
            "You need Python\n",
            "\n",
            "Once you study data analysis\n",
            "You need Python\n"
          ]
        }
      ]
    },
    {
      "cell_type": "code",
      "source": [
        "a1 = 'python'\n",
        "a2 = 'is easy to study'\n",
        "print(a1+a2)\n",
        "print('='*20)\n",
        "\n",
        "\n",
        "for i in range(4):\n",
        "    print('||')"
      ],
      "metadata": {
        "colab": {
          "base_uri": "https://localhost:8080/"
        },
        "id": "84fOSU4nTjQc",
        "outputId": "9267e679-0208-4a4d-c0e5-0925b7978397"
      },
      "execution_count": null,
      "outputs": [
        {
          "output_type": "stream",
          "name": "stdout",
          "text": [
            "pythonis easy to study\n",
            "====================\n",
            "||\n",
            "||\n",
            "||\n",
            "||\n"
          ]
        }
      ]
    },
    {
      "cell_type": "code",
      "source": [
        "# # Q 아래와 같이 출력 할 수 있는 string을 만드세요\n",
        "# \"What a wonderful world\"\n",
        "# he said loudly\n",
        "\n",
        "string = '''\n",
        "What a wonderful world\n",
        "he said loudly'''\n",
        "print(string)\n"
      ],
      "metadata": {
        "colab": {
          "base_uri": "https://localhost:8080/"
        },
        "id": "nMLlh79pVG7b",
        "outputId": "ba6d9192-329b-4932-985e-005dcbe131ec"
      },
      "execution_count": null,
      "outputs": [
        {
          "output_type": "stream",
          "name": "stdout",
          "text": [
            "\n",
            "What a wonderful world\n",
            "he said loudly\n"
          ]
        }
      ]
    },
    {
      "cell_type": "code",
      "source": [
        "# Q. 다른 타입의 숫자 2개를 입력받아 큰 수를 출력하세요\n",
        "num1 = int(input('첫번쨰 숫자를 입력해주세요 : '))\n",
        "num2 = int(input('두번쨰 숫자를 입력해주세요 : '))\n",
        "\n",
        "if num1 > num2:\n",
        "    print(f'큰 수는 {num1} 입니다')\n",
        "elif num1 < num2:\n",
        "    print(f'큰 수는 {num2} 입니다')\n",
        "else:\n",
        "    print(\"같은 크기의 숫자 입니다\")"
      ],
      "metadata": {
        "colab": {
          "base_uri": "https://localhost:8080/"
        },
        "id": "mEHvfeAZV6cl",
        "outputId": "0070d38b-ff9e-4a0e-8c30-091111b10b59"
      },
      "execution_count": null,
      "outputs": [
        {
          "output_type": "stream",
          "name": "stdout",
          "text": [
            "첫번쨰 숫자를 입력해주세요 : 5\n",
            "두번쨰 숫자를 입력해주세요 : 5\n",
            "같은 크기의 숫자 입니다\n"
          ]
        }
      ]
    },
    {
      "cell_type": "markdown",
      "source": [
        "#### 자료형 - List\n",
        "- 리스트는 [ ]로 표시하며 [ ]안의 요소를 콤마로 구분하여 순서있게 나열"
      ],
      "metadata": {
        "id": "XTL4EWKwJq2e"
      }
    },
    {
      "cell_type": "code",
      "source": [
        "\n",
        "list1 = [1, 2, 3, 4, 5]\n",
        "list2 = ['a', 'b', 'c']\n",
        "list3 = ['1', 'a', 'abc', [1, 2, 3, 4, 5], ['a', 'b', 'c']]\n",
        "print(list1)\n",
        "print(list2)\n",
        "print(list3)"
      ],
      "metadata": {
        "colab": {
          "base_uri": "https://localhost:8080/"
        },
        "id": "1pJ7uY-iX3B-",
        "outputId": "b8210efb-9f7d-4262-b63d-90eb49765876"
      },
      "execution_count": null,
      "outputs": [
        {
          "output_type": "stream",
          "name": "stdout",
          "text": [
            "[1, 2, 3, 4, 5]\n",
            "['a', 'b', 'c']\n",
            "['1', 'a', 'abc', [1, 2, 3, 4, 5], ['a', 'b', 'c']]\n"
          ]
        }
      ]
    },
    {
      "cell_type": "code",
      "source": [
        "# 인덱싱\n",
        "list1 = [1, 2, 3, 4, 5]\n",
        "print(list1[2])\n",
        "print(list1[0:2])\n",
        "print(list1[0:2], type(list1[0:2]))\n",
        "print(list1[:4])"
      ],
      "metadata": {
        "colab": {
          "base_uri": "https://localhost:8080/"
        },
        "id": "EA5PO_xMoSOm",
        "outputId": "c07b7c4b-ceb8-48f5-aed6-1ee5bcb9cc1c"
      },
      "execution_count": null,
      "outputs": [
        {
          "output_type": "stream",
          "name": "stdout",
          "text": [
            "3\n",
            "[1, 2]\n",
            "[1, 2] <class 'list'>\n",
            "[1, 2, 3, 4]\n"
          ]
        }
      ]
    },
    {
      "cell_type": "code",
      "source": [
        "# 예제\n",
        "list3 = [1, 'a', 'abc', [1, 2, 3, 4, 5], ['a', 'b', 'c']]\n",
        "print(list3[3][2])\n",
        "print(list3[4][0], type(list3[4][0]))"
      ],
      "metadata": {
        "colab": {
          "base_uri": "https://localhost:8080/"
        },
        "id": "I-XkF0LerlR4",
        "outputId": "3bf7cb3f-cbe6-4d66-d6e0-98dd041f45a4"
      },
      "execution_count": null,
      "outputs": [
        {
          "output_type": "stream",
          "name": "stdout",
          "text": [
            "3\n",
            "a <class 'str'>\n"
          ]
        }
      ]
    },
    {
      "cell_type": "code",
      "source": [
        "# 리스트 수정, 삭제\n",
        "a = [0, 1, 2, 3, 4, 5, 6, 7, 8, 9]\n",
        "b = ['a', 'b', 'c']\n",
        "a[0] = 1\n",
        "print(a)\n",
        "b[1] = 'a'\n",
        "print(b)\n",
        "del a[0]\n",
        "print(a)\n",
        "del b[1]\n",
        "print(b)"
      ],
      "metadata": {
        "colab": {
          "base_uri": "https://localhost:8080/"
        },
        "id": "KaZ-NMjXsR_C",
        "outputId": "4a4b7576-6c49-49e2-8375-46493f374879"
      },
      "execution_count": null,
      "outputs": [
        {
          "output_type": "stream",
          "name": "stdout",
          "text": [
            "[1, 1, 2, 3, 4, 5, 6, 7, 8, 9]\n",
            "['a', 'a', 'c']\n",
            "[1, 2, 3, 4, 5, 6, 7, 8, 9]\n",
            "['a', 'c']\n"
          ]
        }
      ]
    },
    {
      "cell_type": "code",
      "source": [
        "# 끝에서 부터 인덱싱 : -1\n",
        "a = [0, 1, 2, 3, 4, 5, 6, 7, 8, 9]\n",
        "b = ['a', 'b', 'c']\n",
        "print(a[-2])\n",
        "print(a[-4:-1])\n",
        "print(a[-4:])"
      ],
      "metadata": {
        "colab": {
          "base_uri": "https://localhost:8080/"
        },
        "id": "hRDhwbF1uEJ0",
        "outputId": "31abb5cf-c518-472f-9463-10b70f7f2f9a"
      },
      "execution_count": null,
      "outputs": [
        {
          "output_type": "stream",
          "name": "stdout",
          "text": [
            "8\n",
            "[6, 7, 8]\n",
            "[6, 7, 8, 9]\n"
          ]
        }
      ]
    },
    {
      "cell_type": "code",
      "source": [
        "# 리스트 확장\n",
        "h = [1, 2, 3]\n",
        "h.extend([4, 5])  # 반복 가능한 객체의 모든 요소를 리스트에 추가\n",
        "print(h)\n",
        "h.append(6)     # 단일 객체를 끝에 추가\n",
        "h.append(8)     # 단일 객체를 끝에 추가\n",
        "print(h)\n",
        "h.insert(0, 5)  # 인덱스 0에 객체 5를 추가\n",
        "print(h)"
      ],
      "metadata": {
        "colab": {
          "base_uri": "https://localhost:8080/"
        },
        "id": "7H4YhaG9vIwp",
        "outputId": "94c45a3a-147f-4f10-aaa6-63332bbd92bc"
      },
      "execution_count": null,
      "outputs": [
        {
          "output_type": "stream",
          "name": "stdout",
          "text": [
            "[1, 2, 3, 4, 5]\n",
            "[1, 2, 3, 4, 5, 6, 8]\n",
            "[5, 1, 2, 3, 4, 5, 6, 8]\n"
          ]
        }
      ]
    },
    {
      "cell_type": "code",
      "source": [
        "# Q. list1에서 다음을 수행하세요\n",
        "#1 - 33을 출력\n",
        "#2 - 82를 리스트에 추가\n",
        "#3 - 87의 인덱스 구하기 - 도전\n",
        "#4 - 인덱스 3에서 10까지의 값을 출력하고 list2에 저장한 후 내림차순 정렬하기 - 도전\n",
        "#5 - 39를 11로 변경\n",
        "#6 - [69,45,58] 출력\n",
        "#7 - 짝수 인덱스의 값으로 구성된 리스트 출력하기\n",
        "#8 - 인덱스가 가장 큰수를 삭제하기\n",
        "#9 - 인덱스 3, 5인 값으로 4칙 연산하기\n",
        "\n",
        "list1 = [58, 45, 69, 19,  4, 87, 29, 13, 39, 15, 54, [8, 33, 11], 27, 49, 63, 98, 22, 82]\n",
        "\n",
        "print('#1 - 33을 출력')\n",
        "print(list1[11][1], '\\n')\n",
        "print('#2 - 82를 리스트에 추가')\n",
        "list1.append(82)\n",
        "print(list1, '\\n')\n",
        "print('#3 - 87의 인덱스 구하기 - 도전')\n",
        "print(list1.index(list1[5]))\n",
        "print(list1.index(87), '\\n')\n",
        "print('#4 - 인덱스 3에서 10까지의 값을 출력하고 list2에 저장한 후 내림차순 정렬하기 - 도전')\n",
        "# print(list1[3:11])\n",
        "list2 = list1[3:11]\n",
        "print(list2)\n",
        "print(sorted(list2, reverse=True))\n",
        "list2.sort(reverse=True)\n",
        "# sort는 원본 list2가 변경되어서 list2로 출력필요\n",
        "print(list2)\n",
        "print('\\n')\n",
        "print('#5 - 39를 11로 변경')\n",
        "list1[8] = 11\n",
        "# list1.insert(8, 11)\n",
        "print(list1, '\\n')\n",
        "print('#6 - [69,45,58] 출력')\n",
        "print(list1[2::-1], '\\n')\n",
        "\n",
        "print('#7 - 짝수 인덱스의 값으로 구성된 리스트 출력하기')\n",
        "\n",
        "print(list1[0::2], '\\n')\n",
        "print('#8 - 인덱스가 가장 큰수를 삭제하기')\n",
        "del list1[-1]\n",
        "print(list1, '\\n')\n",
        "print('#9 - 인덱스 3, 5인 값으로 4칙 연산하기')\n",
        "index3 = list1[3]\n",
        "index5 = list1[5]\n",
        "print(index3 + index5)\n",
        "print(index3 - index5)\n",
        "print(index3 * index5)\n",
        "print(index3 / index5, '\\n')\n",
        "\n",
        "# 짝수 숫자만 출력\n",
        "# for i in range(len(list1)):\n",
        "    # print(list1[i])\n",
        "    # # for j in range(len(list1[0])):\n",
        "    #     print(list1[i][j])\n",
        "        # if i % 2 == 0:\n",
        "            # print(i)"
      ],
      "metadata": {
        "colab": {
          "base_uri": "https://localhost:8080/"
        },
        "id": "kXVCjCWwwe-0",
        "outputId": "1b7e788d-0eb4-472f-8f17-9df44ee54888"
      },
      "execution_count": null,
      "outputs": [
        {
          "output_type": "stream",
          "name": "stdout",
          "text": [
            "#1 - 33을 출력\n",
            "33 \n",
            "\n",
            "#2 - 82를 리스트에 추가\n",
            "[58, 45, 69, 19, 4, 87, 29, 13, 39, 15, 54, [8, 33, 11], 27, 49, 63, 98, 22, 82, 82] \n",
            "\n",
            "#3 - 87의 인덱스 구하기 - 도전\n",
            "5\n",
            "5 \n",
            "\n",
            "#4 - 인덱스 3에서 10까지의 값을 출력하고 list2에 저장한 후 내림차순 정렬하기 - 도전\n",
            "[19, 4, 87, 29, 13, 39, 15, 54]\n",
            "[87, 54, 39, 29, 19, 15, 13, 4]\n",
            "[87, 54, 39, 29, 19, 15, 13, 4]\n",
            "\n",
            "\n",
            "#5 - 39를 11로 변경\n",
            "[58, 45, 69, 19, 4, 87, 29, 13, 11, 15, 54, [8, 33, 11], 27, 49, 63, 98, 22, 82, 82] \n",
            "\n",
            "#6 - [69,45,58] 출력\n",
            "[69, 45, 58] \n",
            "\n",
            "#7 - 짝수 인덱스의 값으로 구성된 리스트 출력하기\n",
            "[58, 69, 4, 29, 11, 54, 27, 63, 22, 82] \n",
            "\n",
            "#8 - 인덱스가 가장 큰수를 삭제하기\n",
            "[58, 45, 69, 19, 4, 87, 29, 13, 11, 15, 54, [8, 33, 11], 27, 49, 63, 98, 22, 82] \n",
            "\n",
            "#9 - 인덱스 3, 5인 값으로 4칙 연산하기\n",
            "106\n",
            "-68\n",
            "1653\n",
            "0.21839080459770116 \n",
            "\n"
          ]
        }
      ]
    },
    {
      "cell_type": "code",
      "source": [
        "print(list1, '\\n')\n",
        "# 인덱스 7부터 내림으로 출력\n",
        "print(list1[7::-1], '\\n')\n",
        "# 인덱스 7부터 2칸씩 띄어 출력\n",
        "print(list1[7::2], '\\n')\n",
        "# 인덱스 7부터 내림으로 2칸씩 띄어 출력\n",
        "print(list1[7::-2], '\\n')"
      ],
      "metadata": {
        "colab": {
          "base_uri": "https://localhost:8080/"
        },
        "id": "L9-j9jfP8TUw",
        "outputId": "a23389b7-b5a0-4f43-f840-6b0191de01bd"
      },
      "execution_count": null,
      "outputs": [
        {
          "output_type": "stream",
          "name": "stdout",
          "text": [
            "[58, 45, 69, 19, 4, 87, 29, 13, 11, 15, 54, [8, 33, 11], 27, 49, 63, 98, 22, 82] \n",
            "\n",
            "[13, 29, 87, 4, 19, 69, 45, 58] \n",
            "\n",
            "[13, 15, [8, 33, 11], 49, 98, 82] \n",
            "\n",
            "[13, 87, 19, 45] \n",
            "\n"
          ]
        }
      ]
    },
    {
      "cell_type": "code",
      "source": [
        "# list10 = [1, [21, 32], 3 , [11, 12, 13], 7, 9]\n",
        "list10 = [[1, 2], [6, 7, 8]]\n",
        "row = len(list10)\n",
        "col = len(list10[0])\n",
        "\n",
        "for i in range(row):\n",
        "    for j in range(len(list10[i])):\n",
        "        print(list10[i][j])"
      ],
      "metadata": {
        "colab": {
          "base_uri": "https://localhost:8080/"
        },
        "id": "4ly8zvc8-aIu",
        "outputId": "fbc4e0fc-41a9-4249-f1d9-a5f4a45e9d37"
      },
      "execution_count": null,
      "outputs": [
        {
          "output_type": "stream",
          "name": "stdout",
          "text": [
            "1\n",
            "2\n",
            "6\n",
            "7\n",
            "8\n"
          ]
        }
      ]
    },
    {
      "cell_type": "markdown",
      "source": [
        "#### sort 와 sorted 차이점\n",
        "\n",
        "1. 메서드 vs 함수:\n",
        "- sort(): 리스트 객체의 내장 메서드입니다. 즉, 리스트에서만 사용할 수 있습니다.\n",
        "- sorted(): 내장 함수로, 어떤 반복 가능한(iterable) 객체에도 사용될 수 있습니다. 예를 들면 리스트, 튜플, 딕셔너리, 문자열 등에 사용할 수 있습니다.\n",
        "\n",
        "2. 반환 값:\n",
        "- sort(): 리스트를 원 위치에서(in-place) 정렬하고 None을 반환합니다. 따라서 원래의 리스트 자체가 변경됩니다.\n",
        "- sorted(): 정렬된 새로운 리스트를 반환합니다. 원래의 객체는 변경되지 않습니다.\n",
        "\n",
        "3. 유용성:\n",
        "- sort(): 리스트에서만 작동하기 때문에 리스트만 정렬할 수 있습니다.\n",
        "- sorted(): 다양한 객체를 정렬할 수 있으며 결과는 항상 리스트로 반환됩니다.\n"
      ],
      "metadata": {
        "id": "OnB8qZijGjut"
      }
    },
    {
      "cell_type": "code",
      "source": [
        "# sort()\n",
        "my_list = [3, 1, 2]\n",
        "my_list.sort()\n",
        "print(my_list)\n",
        "\n",
        "# sorted()\n",
        "my_tuple = (3, 1, 2)\n",
        "new_tuple = sorted(my_tuple)\n",
        "print(my_tuple)\n",
        "print(new_tuple)\n",
        "reverse_tuple = sorted(my_tuple, reverse=True)\n",
        "print(reverse_tuple)"
      ],
      "metadata": {
        "colab": {
          "base_uri": "https://localhost:8080/"
        },
        "id": "1edN-ls_oR2e",
        "outputId": "3f67e27a-fe9f-42e2-cffd-8d226740ff16"
      },
      "execution_count": null,
      "outputs": [
        {
          "output_type": "stream",
          "name": "stdout",
          "text": [
            "[1, 2, 3]\n",
            "(3, 1, 2)\n",
            "[1, 2, 3]\n",
            "[3, 2, 1]\n"
          ]
        }
      ]
    },
    {
      "cell_type": "code",
      "source": [
        "# sort는 원본을 변환하고 반환갑은 출력하지 않아 None로 출력된다\n",
        "list1 = [4, 6, 8, 9, 3]\n",
        "new_list1 = list1.sort()\n",
        "print(new_list1) #반환값 None\n",
        "print(list1)     #변환 된 원본\n",
        "print('\\n')\n",
        "# 반면 sorted 원본을 변경해서 변경된 값을 반환한다\n",
        "list2 = [4, 6, 8, 9, 3]\n",
        "new_list2 = sorted(list2)\n",
        "print(new_list2) #변환 된 반환값 출력\n",
        "print(list2)     #변환 안된 원본"
      ],
      "metadata": {
        "colab": {
          "base_uri": "https://localhost:8080/"
        },
        "id": "n13VkOehFPGa",
        "outputId": "0d5dcbbe-daf1-4b44-e47e-bbeaf9ef12f5"
      },
      "execution_count": null,
      "outputs": [
        {
          "output_type": "stream",
          "name": "stdout",
          "text": [
            "None\n",
            "[3, 4, 6, 8, 9]\n",
            "\n",
            "\n",
            "[3, 4, 6, 8, 9]\n",
            "[4, 6, 8, 9, 3]\n"
          ]
        }
      ]
    },
    {
      "cell_type": "code",
      "source": [
        "# 메서드 sort()를 쓸 시\n",
        "list1 = [58, 45, 69, 19,  4, 87, 29, 13, 39, 15, 54, [8, 33, 11], 27, 49, 63, 98, 22, 82]\n",
        "list2 = list1[3:11]\n",
        "l_sort = sorted(list2, reverse=True)\n",
        "print(l_sort)\n",
        "\n",
        "\n",
        "# 메서드 sorted()를 쓸 시\n",
        "list3 = list1[3:11]\n",
        "list3.sort(reverse=True)\n",
        "print(list3)"
      ],
      "metadata": {
        "colab": {
          "base_uri": "https://localhost:8080/"
        },
        "id": "lt3vW14MG1rk",
        "outputId": "a7a56296-afe2-4ada-a45a-aabd86eb79c2"
      },
      "execution_count": null,
      "outputs": [
        {
          "output_type": "stream",
          "name": "stdout",
          "text": [
            "[87, 54, 39, 29, 19, 15, 13, 4]\n",
            "[87, 54, 39, 29, 19, 15, 13, 4]\n"
          ]
        }
      ]
    },
    {
      "cell_type": "markdown",
      "source": [
        "####자료형 - Tuple\n",
        "- 튜플은 변경할 수 없는(immutable) 순서가 있는 컬렉션\n",
        "- 프로그램에서 그 값이 항상 변하지 않아야되는 경우 사용"
      ],
      "metadata": {
        "id": "NMImdiKUtUOb"
      }
    },
    {
      "cell_type": "code",
      "source": [
        "tuple1 = (1, 2, 3, 4, 5)\n",
        "tuple2 = ('a', 'b','c')\n",
        "tuple3 = (1, 'a', 'abc', [1, 2, 3, 4, 5], ['a', 'b', 'c'])\n",
        "\n",
        "print(tuple1[:])\n",
        "print(tuple2[2])\n",
        "print(tuple3[3][2])"
      ],
      "metadata": {
        "colab": {
          "base_uri": "https://localhost:8080/"
        },
        "id": "OPv1G39vJTPH",
        "outputId": "030aa362-c688-4c13-d448-efcaef749662"
      },
      "execution_count": null,
      "outputs": [
        {
          "output_type": "stream",
          "name": "stdout",
          "text": [
            "(1, 2, 3, 4, 5)\n",
            "c\n",
            "3\n"
          ]
        }
      ]
    },
    {
      "cell_type": "code",
      "source": [
        "# 리스트인 경우 요소값을 변경 가능함\n",
        "list1 = [1, 2, 3, 4, 5]\n",
        "list1[0] = 0\n",
        "print(list1)\n",
        "\n",
        "# 튜플인 경우 요소값 변경 불가능 (에러발생 TypeError)\n",
        "tuple1 = (1, 2, 3, 4, 5)\n",
        "# tuple1[0] = 0\n",
        "print(tuple1)"
      ],
      "metadata": {
        "colab": {
          "base_uri": "https://localhost:8080/"
        },
        "id": "FUFWq1SqKy-D",
        "outputId": "760af245-2ad5-4d7c-f4d1-8640c7112297"
      },
      "execution_count": null,
      "outputs": [
        {
          "output_type": "stream",
          "name": "stdout",
          "text": [
            "[0, 2, 3, 4, 5]\n",
            "(1, 2, 3, 4, 5)\n"
          ]
        }
      ]
    },
    {
      "cell_type": "code",
      "source": [
        "# 리스트는 단일 요소 출력가능\n",
        "li = [1]\n",
        "print(li)\n",
        "\n",
        "# 튜플은 단일 요소 출력시 뒤에 콤마(,) 필요 / 없으면 정수(int)로 됨\n",
        "tu1 = (1,)\n",
        "print(tu1, type(tu1))\n",
        "\n",
        "tu2 = (1)\n",
        "print(tu2, type(tu2))"
      ],
      "metadata": {
        "colab": {
          "base_uri": "https://localhost:8080/"
        },
        "id": "HyG9GSc9LaL7",
        "outputId": "d47c67b0-1181-40f0-9a26-43ddc1792b8e"
      },
      "execution_count": null,
      "outputs": [
        {
          "output_type": "stream",
          "name": "stdout",
          "text": [
            "[1]\n",
            "(1,) <class 'tuple'>\n",
            "1 <class 'int'>\n"
          ]
        }
      ]
    },
    {
      "cell_type": "code",
      "source": [
        "# 튜플은 소괄호( )를 생략해도 된다\n",
        "t2 = 1, 2, 3\n",
        "print(t2)\n",
        "type(t2)"
      ],
      "metadata": {
        "colab": {
          "base_uri": "https://localhost:8080/"
        },
        "id": "UfImtr-fMd8o",
        "outputId": "4e105fd6-45bc-4f0b-a386-600f7521be93"
      },
      "execution_count": null,
      "outputs": [
        {
          "output_type": "stream",
          "name": "stdout",
          "text": [
            "(1, 2, 3)\n"
          ]
        },
        {
          "output_type": "execute_result",
          "data": {
            "text/plain": [
              "tuple"
            ]
          },
          "metadata": {},
          "execution_count": 11
        }
      ]
    },
    {
      "cell_type": "code",
      "source": [
        "# 튜플 연산\n",
        "\n",
        "t1 = (1,)\n",
        "#만약 t1이 t1 = (1)이면 TypeError\n",
        "# t1 = (1) # ==> int\n",
        "print(type(t1))\n",
        "t2 = (1, 2, 3)\n",
        "print(type(t2))\n",
        "\n",
        "print(t2 * 2)\n",
        "\n",
        "print(t1 + t2)"
      ],
      "metadata": {
        "colab": {
          "base_uri": "https://localhost:8080/"
        },
        "id": "0oHv7evcN0A1",
        "outputId": "14cbb88b-4166-432f-cecc-839552462788"
      },
      "execution_count": null,
      "outputs": [
        {
          "output_type": "stream",
          "name": "stdout",
          "text": [
            "<class 'tuple'>\n",
            "<class 'tuple'>\n",
            "(1, 2, 3, 1, 2, 3)\n",
            "(1, 1, 2, 3)\n"
          ]
        }
      ]
    },
    {
      "cell_type": "code",
      "source": [
        "#Q red, green, blue 값을 갖는 튜플에서 각 값을 각각 r, g, b 변수에 할당하고 출력하세요\n",
        "\n",
        "colors = ('red', 'green', 'blue')\n",
        "\n",
        "r, g, b = colors\n",
        "\n",
        "print(r)\n",
        "print(g)\n",
        "print(b)"
      ],
      "metadata": {
        "colab": {
          "base_uri": "https://localhost:8080/"
        },
        "id": "j4fxmYfuOWLa",
        "outputId": "332f606a-b4e8-4ffc-acc1-4d21ea21a788"
      },
      "execution_count": null,
      "outputs": [
        {
          "output_type": "stream",
          "name": "stdout",
          "text": [
            "red\n",
            "green\n",
            "blue\n"
          ]
        }
      ]
    },
    {
      "cell_type": "code",
      "source": [
        "# 함수에서 여러 값을 반환할 떄 튜플을 사용하는 것이 일반적입니다\n",
        "\n",
        "#Q 주어진 리스트의 총합과 평균을 동시에 반환하는 함수를 작성하세요\n",
        "\n",
        "numbers = [10, 20, 30, 40, 50]\n",
        "\n",
        "def cal_sum_and_average(numbers):\n",
        "\n",
        "    total = sum(numbers)\n",
        "    average = total / len(numbers)\n",
        "\n",
        "    return total, average       # 튜플로 총합과 평균 반환\n",
        "\n",
        "total, average = cal_sum_and_average(numbers)\n",
        "\n",
        "print(f'총합은 : {total}, 평균은 : {average}')"
      ],
      "metadata": {
        "colab": {
          "base_uri": "https://localhost:8080/"
        },
        "id": "x0_AGfGxO8KW",
        "outputId": "faa1def2-531b-4707-9a4a-3934823556cd"
      },
      "execution_count": null,
      "outputs": [
        {
          "output_type": "stream",
          "name": "stdout",
          "text": [
            "총합은 : 150, 평균은 : 30.0\n"
          ]
        }
      ]
    },
    {
      "cell_type": "markdown",
      "source": [
        "####자료형 - 사전\n",
        "- 키와 값을 하나의 요소로 하는 순서가 없는 집합"
      ],
      "metadata": {
        "id": "m6HNFC_4RMeC"
      }
    },
    {
      "cell_type": "code",
      "source": [
        "d1 = {'a':1, 'b':2, 'c':3}\n",
        "\n",
        "# 인덱스가 없으므로 키값 a 에서 밸류 1을 찾음\n",
        "print(d1['a'])\n",
        "\n",
        "# 키값 리스트 표시\n",
        "print(d1.keys())\n",
        "\n",
        "# 밸류값 리스트 표시\n",
        "print(d1.values())\n",
        "\n",
        "# 튜플 형태의 리스트로 표시\n",
        "print(d1.items())\n",
        "\n",
        "# 추가 하는 방법 [키값] = 밸류\n",
        "d1['d'] = 4\n",
        "print(d1)\n",
        "\n",
        "# 수정하는 방법\n",
        "d1['b'] = 7\n",
        "print(d1)\n",
        "\n",
        "# 삭제하는 방법\n",
        "del d1['b']\n",
        "print(d1)"
      ],
      "metadata": {
        "colab": {
          "base_uri": "https://localhost:8080/"
        },
        "id": "kwIgoNggRTY1",
        "outputId": "a1eaff16-eb9c-449e-cc99-38311e90a2f2"
      },
      "execution_count": null,
      "outputs": [
        {
          "output_type": "stream",
          "name": "stdout",
          "text": [
            "1\n",
            "dict_keys(['a', 'b', 'c'])\n",
            "dict_values([1, 2, 3])\n",
            "dict_items([('a', 1), ('b', 2), ('c', 3)])\n",
            "{'a': 1, 'b': 2, 'c': 3, 'd': 4}\n",
            "{'a': 1, 'b': 7, 'c': 3, 'd': 4}\n",
            "{'a': 1, 'c': 3, 'd': 4}\n"
          ]
        }
      ]
    },
    {
      "cell_type": "code",
      "source": [
        "#Q 딕셔너리 d에서 'b'의 값을 확인하면서 그 값을 삭제하세요\n",
        "d = {'a': 1, 'b': 7, 'c': 3, 'd': 4}\n",
        "\n",
        "# b의 값을 확인\n",
        "# for i in d.items():\n",
        "#     print(i)\n",
        "value = d.pop('b')\n",
        "print('삭제 값 : ', value)\n",
        "\n",
        "print(d)"
      ],
      "metadata": {
        "colab": {
          "base_uri": "https://localhost:8080/"
        },
        "id": "QVv_EB9HSHBr",
        "outputId": "815c2f3d-c2a2-4439-fa77-918e40c60633"
      },
      "execution_count": null,
      "outputs": [
        {
          "output_type": "stream",
          "name": "stdout",
          "text": [
            "삭제 값 :  7\n",
            "{'a': 1, 'c': 3, 'd': 4}\n"
          ]
        }
      ]
    },
    {
      "cell_type": "code",
      "source": [
        "#Q 다음과 같이 학생의 이름과 점수를 튜플로 묶은 리스트가 있습니다\n",
        "#[('Tom', 85), ('Jame', 90), ('Bob', 75)]\n",
        "#이 리스트를 사용해 학생 이름을 키로, 점수를 값으로 하는 딕셔너리를 생성하고 출력하세요\n",
        "\n",
        "list1 = [('Tom', 85), ('Jame', 90), ('Bob', 75)]\n",
        "\n",
        "student = {}\n",
        "\n",
        "for i in list1:\n",
        "    name, score = i\n",
        "    # print(name, score)\n",
        "    student[name] = score\n",
        "    # print(student)\n",
        "\n",
        "print(student)\n",
        "print(student.keys())\n",
        "print(student.values())\n",
        "\n",
        "\n",
        "student_dict = dict(list1)\n",
        "print(student_dict)"
      ],
      "metadata": {
        "colab": {
          "base_uri": "https://localhost:8080/"
        },
        "id": "_S4AZ_u7Wjr5",
        "outputId": "6bfade68-9006-4a7e-bbc8-ba7f284ba0eb"
      },
      "execution_count": null,
      "outputs": [
        {
          "output_type": "stream",
          "name": "stdout",
          "text": [
            "{'Tom': 85, 'Jame': 90, 'Bob': 75}\n",
            "dict_keys(['Tom', 'Jame', 'Bob'])\n",
            "dict_values([85, 90, 75])\n",
            "{'Tom': 85, 'Jame': 90, 'Bob': 75}\n"
          ]
        }
      ]
    },
    {
      "cell_type": "code",
      "source": [
        "#Q 튜플의 불변성 떄문에 튜플을 딕셔너리의 키로 사용 될 수 있습니다. 주어진 위치 좌표 리스트에서 각 위치가 몇 번 나타나는지 계산하는 딕셔너리를 만드세요\n",
        "\n",
        "positions = [(1, 1), (2, 2), (1, 1), (3, 3), (2, 2)]\n",
        "\n",
        "count_position = {}\n",
        "\n",
        "# for i in position:\n",
        "#     # print(i)\n",
        "#     count = 0\n",
        "#     if i == temp:\n",
        "#         # temp.append(i)\n",
        "#         # print(temp)\n",
        "#         count += 1\n",
        "#         re_positon[i] = count\n",
        "\n",
        "for pos in positions:\n",
        "    if pos in count_position:\n",
        "        count_position[pos] += 1\n",
        "    else:\n",
        "        count_position[pos] = 1\n",
        "\n",
        "\n",
        "print(count_position)"
      ],
      "metadata": {
        "colab": {
          "base_uri": "https://localhost:8080/"
        },
        "id": "xdw1NDMuWj4Y",
        "outputId": "634d7ae8-6ee0-489c-97e9-d1ce3285416a"
      },
      "execution_count": null,
      "outputs": [
        {
          "output_type": "stream",
          "name": "stdout",
          "text": [
            "{(1, 1): 2, (2, 2): 2, (3, 3): 1}\n"
          ]
        }
      ]
    },
    {
      "cell_type": "markdown",
      "source": [
        "####자료형 - 집합, set\n",
        "- 중복을 허용하지 않으며 순서가 없다"
      ],
      "metadata": {
        "id": "CiEHFKPHyxyI"
      }
    },
    {
      "cell_type": "code",
      "source": [
        "s1 = set([5, 2, 3, 1, 4])\n",
        "s2 = set('Hello')\n",
        "print(s1)\n",
        "print(s2)"
      ],
      "metadata": {
        "colab": {
          "base_uri": "https://localhost:8080/"
        },
        "id": "jMAmOepAy5Pm",
        "outputId": "132b8fc7-57df-434e-f557-ebe71859e8ad"
      },
      "execution_count": null,
      "outputs": [
        {
          "output_type": "stream",
          "name": "stdout",
          "text": [
            "{1, 2, 3, 4, 5}\n",
            "{'o', 'e', 'l', 'H'}\n"
          ]
        }
      ]
    },
    {
      "cell_type": "code",
      "source": [
        "l1 = list(s1)\n",
        "print(l1)\n",
        "print(l1[1])\n",
        "\n",
        "l2 = list(s2)\n",
        "print(l2)\n",
        "print(l2[2])"
      ],
      "metadata": {
        "colab": {
          "base_uri": "https://localhost:8080/"
        },
        "id": "gFkXq7Rk0OUV",
        "outputId": "cef01d39-a321-4671-9f7b-acf7b7f0383f"
      },
      "execution_count": null,
      "outputs": [
        {
          "output_type": "stream",
          "name": "stdout",
          "text": [
            "[1, 2, 3, 4, 5]\n",
            "2\n",
            "['o', 'e', 'l', 'H']\n",
            "l\n"
          ]
        }
      ]
    },
    {
      "cell_type": "code",
      "source": [
        "#Q 주어진 리스트에서 중복 요소를 제거하고 결과를 출력하세요\n",
        "\n",
        "nums = [1, 2, 2, 3, 4, 4, 4, 5]\n",
        "\n",
        "# set으로 변환하여 중복값 제거\n",
        "s1 = set(nums)\n",
        "print(s1)\n",
        "# 다시 리스트로 변환 하여 원상복구\n",
        "li1 = list(s1)\n",
        "print(li1)"
      ],
      "metadata": {
        "colab": {
          "base_uri": "https://localhost:8080/"
        },
        "id": "KJmWRK4n1p9T",
        "outputId": "4ddbe1bb-40d2-48f3-c27e-b699728b154c"
      },
      "execution_count": null,
      "outputs": [
        {
          "output_type": "stream",
          "name": "stdout",
          "text": [
            "{1, 2, 3, 4, 5}\n",
            "[1, 2, 3, 4, 5]\n"
          ]
        }
      ]
    },
    {
      "cell_type": "code",
      "source": [
        "#Q s1, s2의 합집합과 교집합을 각각 리스트로 출력하세요\n",
        "s1 = [1, 2, 3, 4, 5, 6]\n",
        "s2 = [4, 5, 6, 7, 8, 9]\n",
        "\n",
        "\n",
        "union = set(s1) | set(s2)    # | 는 or 합집합\n",
        "print(list(union))\n",
        "inter = set(s1) & set(s2)    # & 는 2개 다 만족해야하니 and 교집합\n",
        "print(list(inter))\n",
        "\n"
      ],
      "metadata": {
        "colab": {
          "base_uri": "https://localhost:8080/"
        },
        "id": "FgOjmb4Z2kSz",
        "outputId": "e2dde561-23eb-4d9a-b3d7-3470225e32d3"
      },
      "execution_count": null,
      "outputs": [
        {
          "output_type": "stream",
          "name": "stdout",
          "text": [
            "[1, 2, 3, 4, 5, 6, 7, 8, 9]\n",
            "[4, 5, 6]\n"
          ]
        }
      ]
    },
    {
      "cell_type": "code",
      "source": [
        "#Q 첫번째 집합에서 두 번쨰 집합의 요소를 제외한 차집합을 구하고 출력하세요\n",
        "\n",
        "set1 = {1, 2, 3, 4, 5}\n",
        "set2 = {4, 5, 6, 7}\n",
        "\n",
        "difference = set1 - set2\n",
        "print(difference)\n",
        "\n",
        "print(set1.difference(set2))"
      ],
      "metadata": {
        "colab": {
          "base_uri": "https://localhost:8080/"
        },
        "id": "fp4_R0uk5FUl",
        "outputId": "867abe34-9d6b-48b6-ff13-faa13aeddd00"
      },
      "execution_count": null,
      "outputs": [
        {
          "output_type": "stream",
          "name": "stdout",
          "text": [
            "{1, 2, 3}\n",
            "{1, 2, 3}\n"
          ]
        }
      ]
    },
    {
      "cell_type": "markdown",
      "source": [
        "####자료형 - 논리(Bool) True와 False\n",
        "- 파이썬에서 참과 거짓을 나타내는 상수. True는 1, False는 0의 값을 가짐\n",
        "- 조건을 판단해서 그 조건이 참이면 True, 거짓이면 False를 return"
      ],
      "metadata": {
        "id": "k4CtNPcD7Fcs"
      }
    },
    {
      "cell_type": "code",
      "source": [
        "#자료형 - 논리(Bool)\n",
        "print(bool(0))\n",
        "print(bool(''))\n",
        "print(bool([]))\n",
        "print(bool(1))\n",
        "print(bool(100))"
      ],
      "metadata": {
        "colab": {
          "base_uri": "https://localhost:8080/"
        },
        "id": "-y_a0QAC7Woi",
        "outputId": "4c61656b-e074-4b85-e826-fc8b4241b157"
      },
      "execution_count": null,
      "outputs": [
        {
          "output_type": "stream",
          "name": "stdout",
          "text": [
            "False\n",
            "False\n",
            "False\n",
            "True\n",
            "True\n"
          ]
        }
      ]
    },
    {
      "cell_type": "markdown",
      "source": [
        "아스키 코드\n",
        "- ASCII의 10진법 값에서 'a'는 97이고 'p'는 112입니다\n",
        "- 첫 알파벳 'a'는 'p'보다 작으므로 str1 < str2에서 True를 반환합니다"
      ],
      "metadata": {
        "id": "_EXPlgFF9q3X"
      }
    },
    {
      "cell_type": "code",
      "source": [
        "#관계 연산자\n",
        "x = 1; y = 2\n",
        "str1 = 'abc' ; str2 = 'python'\n",
        "print(x == y)\n",
        "print(x != y)\n",
        "print(str1 == str2)\n",
        "print(str2 == 'python')\n",
        "print(str1 < str2)"
      ],
      "metadata": {
        "colab": {
          "base_uri": "https://localhost:8080/"
        },
        "id": "qeBtgwc28hIU",
        "outputId": "363728cd-7ff5-4458-968c-3a7b54419703"
      },
      "execution_count": null,
      "outputs": [
        {
          "output_type": "stream",
          "name": "stdout",
          "text": [
            "False\n",
            "True\n",
            "False\n",
            "True\n",
            "True\n"
          ]
        }
      ]
    },
    {
      "cell_type": "code",
      "source": [
        "# 논리 연산자\n",
        "bool1 = True; bool2 = False; bool3 = True; bool4 = False\n",
        "print(bool1 and bool2)\n",
        "print(bool1 or bool2)\n",
        "print(not bool3)\n",
        "print(not bool4)"
      ],
      "metadata": {
        "colab": {
          "base_uri": "https://localhost:8080/"
        },
        "id": "Xb5xyxP4A_aM",
        "outputId": "cf7c3fcd-828c-43de-ab9e-8f8d89b80c17"
      },
      "execution_count": null,
      "outputs": [
        {
          "output_type": "stream",
          "name": "stdout",
          "text": [
            "False\n",
            "True\n",
            "False\n",
            "True\n"
          ]
        }
      ]
    },
    {
      "cell_type": "markdown",
      "source": [
        "#### 파이썬에서 들여쓰기\n",
        "- 파이썬에는 실행 코드 부분을 묶어주는 {} 괄호가 없다.\n",
        "- 대신 들여쓰기(indentation)로 {}를 대신한다.\n",
        "- 제어문이나 함수이름, 클래스 이름 뒤에 콜론(':')으로 제어문, 함수이름, 클래스 이름의 끝을 표시하며 ':' 다음에 실행 코드를 작성"
      ],
      "metadata": {
        "id": "Wd8FoIELC9bW"
      }
    },
    {
      "cell_type": "code",
      "source": [
        "li = ['a', 'b', 'c']\n",
        "if 'a' in li:\n",
        "    print('a가 li에 있습니다')\n",
        "else:\n",
        "    print('a가 li에 없습니다')\n"
      ],
      "metadata": {
        "colab": {
          "base_uri": "https://localhost:8080/"
        },
        "id": "qp_zZ750C-I3",
        "outputId": "7d701840-2037-489c-8c45-e38de2e8510b"
      },
      "execution_count": null,
      "outputs": [
        {
          "output_type": "stream",
          "name": "stdout",
          "text": [
            "a가 li에 있습니다\n"
          ]
        }
      ]
    },
    {
      "cell_type": "markdown",
      "source": [
        "####사용자 함수"
      ],
      "metadata": {
        "id": "1wmul5gkFcGE"
      }
    },
    {
      "cell_type": "code",
      "source": [
        "numbers = [1, 2, 3]\n",
        "sum(numbers)    #파이썬 내장함수\n",
        "\n",
        "# 사용자 함수\n",
        "def add(a, b, c):\n",
        "    return a + b + c\n",
        "\n",
        "add(1, 2, 3)"
      ],
      "metadata": {
        "colab": {
          "base_uri": "https://localhost:8080/"
        },
        "id": "g7aQrQ0-Fd1K",
        "outputId": "a0bf1efb-86a8-4b3a-89e6-5a7bd9bdf5bc"
      },
      "execution_count": null,
      "outputs": [
        {
          "output_type": "execute_result",
          "data": {
            "text/plain": [
              "6"
            ]
          },
          "metadata": {},
          "execution_count": 113
        }
      ]
    },
    {
      "cell_type": "code",
      "source": [
        "# 곱셈\n",
        "def mul(a, b, c):\n",
        "    return a * b * c\n",
        "\n",
        "print(mul(2, 3, 4))\n",
        "\n",
        "# 뺄셈\n",
        "def subtract(a, b, c):\n",
        "    return a - b - c\n",
        "\n",
        "print(subtract(5, 2, 1))\n",
        "\n",
        "# 나눗셈\n",
        "def division(a, b, c):\n",
        "    if b == 0 or c == 0:\n",
        "        return \"Error : Division by zero\"\n",
        "    return a / b / c\n",
        "\n",
        "print(round(division(10, 2, 5), 2))  #반올림"
      ],
      "metadata": {
        "colab": {
          "base_uri": "https://localhost:8080/"
        },
        "id": "ABDaOMNZGpu2",
        "outputId": "24fe8a30-00fc-4f8e-e325-0063518b2d60"
      },
      "execution_count": null,
      "outputs": [
        {
          "output_type": "stream",
          "name": "stdout",
          "text": [
            "24\n",
            "2\n",
            "1.0\n"
          ]
        }
      ]
    },
    {
      "cell_type": "markdown",
      "source": [
        "####클래스"
      ],
      "metadata": {
        "id": "s7vW9UhqJZRl"
      }
    },
    {
      "cell_type": "code",
      "source": [
        "class AddMul:\n",
        "    def add(self, n1, n2):\n",
        "        return n1 + n2\n",
        "    def mul(self, n1, n2):\n",
        "        return n1 * n2\n",
        "\n",
        "obj1 = AddMul()\n",
        "print(obj1.add(1, 1))\n",
        "obj2 = AddMul()\n",
        "print(obj1.mul(3, 2))\n"
      ],
      "metadata": {
        "colab": {
          "base_uri": "https://localhost:8080/"
        },
        "id": "dzRmGNZ1Hc81",
        "outputId": "5ddcd0f7-eae5-4202-b081-31330ba6d4e9"
      },
      "execution_count": null,
      "outputs": [
        {
          "output_type": "stream",
          "name": "stdout",
          "text": [
            "2\n",
            "6\n"
          ]
        }
      ]
    }
  ]
}