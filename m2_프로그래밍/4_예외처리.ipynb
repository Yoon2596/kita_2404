{
  "nbformat": 4,
  "nbformat_minor": 0,
  "metadata": {
    "colab": {
      "provenance": [],
      "toc_visible": true,
      "authorship_tag": "ABX9TyMNWEx48RFhfF+l7ycPCn0s",
      "include_colab_link": true
    },
    "kernelspec": {
      "name": "python3",
      "display_name": "Python 3"
    },
    "language_info": {
      "name": "python"
    }
  },
  "cells": [
    {
      "cell_type": "markdown",
      "metadata": {
        "id": "view-in-github",
        "colab_type": "text"
      },
      "source": [
        "<a href=\"https://colab.research.google.com/github/Yoon2596/kita_2404/blob/main/4_%EC%98%88%EC%99%B8%EC%B2%98%EB%A6%AC.ipynb\" target=\"_parent\"><img src=\"https://colab.research.google.com/assets/colab-badge.svg\" alt=\"Open In Colab\"/></a>"
      ]
    },
    {
      "cell_type": "markdown",
      "source": [
        "#### 에러(Error) vs. 예외(Exception).\n",
        "\n",
        "에러(Error):\n",
        "- 에러는 주로 프로그램 실행 전에 발생하는, 프로그램의 잘못된 구문이나 절차 등에 의해 발생하는 문제를 말한다.\n",
        "- 대표적인 에러로는 구문 에러(SyntaxError)가 있다. 예를 들어, 올바르지 않은 들여쓰기나 잘못된 코드 구조로 인해 파이썬 인터프리터가 코드를 실행하기 전에 에러를 발생시킨다.\n",
        "- 에러는 대체로 프로그램의 수정 없이는 복구될 수 없는 심각한 문제들이다.\n",
        "\n",
        "예외(Exception):\n",
        "- 예외는 실행 중인 프로그램에 영향을 주는 이벤트로, 일반적인 프로그램 흐름을 방해한다.\n",
        "- 예외는 프로그램의 정상적인 흐름을 방해하지만, 적절한 예외 처리를 통해 프로그램의 중단 없이 예외를 '잡아내고(catch)' 처리할 수 있다. 예를 들어, 파일을 열 때 파일이 존재하지 않는 경우 FileNotFoundError 예외가 발생할 수 있다. 이 경우 적절한 except 블록으로 예외를 처리하여 사용자에게 메시지를 표시하고 대안적인 행동을 취할 수 있다.\n",
        "- 예외는 try-except 블록을 통해 프로그램에서 처리할 수 있으며, 이를 통해 프로그램이 예외 상황에서도 안정적으로 동작하도록 만들 수 있다.\n",
        "\n",
        "요약하자면, 에러는 대개 코드 수정이 필요한 문제들을 가리키며, 예외는 프로그램 실행 중에 발생하지만 적절히 처리할 수 있는 예상 가능한 '예외적' 상황들을 말한다.\n",
        "\n",
        "#### 파이썬에서 발생할 수 있는 에러와 예외의 유형:\n",
        "에러 : 프로그램이 실행되기 전에 발생하는 문제\n",
        "- SyntaxError: 코드의 구문이 잘못되었을 때 생긴다.<br>\n",
        "\n",
        "예외 : 실행 시간(runtime) 중에 발생하고 처리 가능\n",
        "- NameError: 정의되지 않은 변수를 호출할 때 생긴다.\n",
        "- TypeError: 연산이나 함수가 부적절한 유형의 객체에 적용될 때 발생한다.\n",
        "- ValueError: 연산이나 함수가 적절하지 않은 값을 객체에 적용할 때 발생한다.\n",
        "- IndexError: 리스트 등의 시퀀스에서 존재하지 않는 인덱스를 사용할 때 생긴다.\n",
        "- KeyError: 딕셔너리에서 존재하지 않는 키를 사용할 때 발생한다.\n",
        "- AttributeError: 존재하지 않는 속성이나 메서드를 호출할 때 생긴다.\n",
        "- IOError 또는 OSError: 파일 입출력 과정에서 에러가 생길 때 발생한다.\n",
        "- ZeroDivisionError: 0으로 나눌 때 생긴다.\n",
        "- ImportError: 모듈을 임포트할 수 없을 때 발생한다.\n",
        "- StopIteration: 이터레이터에 더 이상의 아이템이 없을 때 next()를 호출하면 발생한다.\n",
        "- MemoryError: 메모리 할당이 실패할 때 생긴다.\n",
        "- RecursionError: 재귀 호출이 너무 깊어질 때 발생한다."
      ],
      "metadata": {
        "id": "NNaFaRGIE5Gg"
      }
    },
    {
      "cell_type": "markdown",
      "source": [
        "# 구문 오류 : 프로그램 실행전에 발생하는 오류"
      ],
      "metadata": {
        "id": "roL_zrMJE2aL"
      }
    },
    {
      "cell_type": "code",
      "execution_count": null,
      "metadata": {
        "colab": {
          "base_uri": "https://localhost:8080/",
          "height": 110
        },
        "id": "lGr9GumOE2Am",
        "outputId": "e51687b9-448b-4c19-c092-3deb49366070"
      },
      "outputs": [
        {
          "output_type": "error",
          "ename": "SyntaxError",
          "evalue": "unterminated string literal (detected at line 4) (<ipython-input-1-97e69b1f8d4a>, line 4)",
          "traceback": [
            "\u001b[0;36m  File \u001b[0;32m\"<ipython-input-1-97e69b1f8d4a>\"\u001b[0;36m, line \u001b[0;32m4\u001b[0m\n\u001b[0;31m    print('예외를 강제로 발생!)\u001b[0m\n\u001b[0m          ^\u001b[0m\n\u001b[0;31mSyntaxError\u001b[0m\u001b[0;31m:\u001b[0m unterminated string literal (detected at line 4)\n"
          ]
        }
      ],
      "source": [
        "# 구문 오류 : 프로그램 실행전에 발생하는 오류\n",
        "# 예외 또는 런타임 오류 : 프로그램 실행중에 발생하는 오류\n",
        "\n",
        "print('예외를 강제로 발생!)"
      ]
    },
    {
      "cell_type": "markdown",
      "source": [
        "# SyntaxError : 잘못된 구문"
      ],
      "metadata": {
        "id": "0CjXVboVE4rl"
      }
    },
    {
      "cell_type": "code",
      "source": [
        "# SyntaxError : 잘못된 구문\n",
        "for i in range(10)\n",
        "    print(i)"
      ],
      "metadata": {
        "colab": {
          "base_uri": "https://localhost:8080/",
          "height": 110
        },
        "id": "81AEzbT_HGG_",
        "outputId": "eb2b535a-9039-4ec3-8306-d3cdd6a7e97c"
      },
      "execution_count": null,
      "outputs": [
        {
          "output_type": "error",
          "ename": "SyntaxError",
          "evalue": "expected ':' (<ipython-input-2-279369d2c06e>, line 2)",
          "traceback": [
            "\u001b[0;36m  File \u001b[0;32m\"<ipython-input-2-279369d2c06e>\"\u001b[0;36m, line \u001b[0;32m2\u001b[0m\n\u001b[0;31m    for i in range(10)\u001b[0m\n\u001b[0m                      ^\u001b[0m\n\u001b[0;31mSyntaxError\u001b[0m\u001b[0;31m:\u001b[0m expected ':'\n"
          ]
        }
      ]
    },
    {
      "cell_type": "markdown",
      "source": [
        "# NameError : 정의 되지 않은 변수 사용"
      ],
      "metadata": {
        "id": "z1mY0nKLE7-S"
      }
    },
    {
      "cell_type": "code",
      "source": [
        "# NameError : 정의 되지 않은 변수 사용\n",
        "\n",
        "print(unknown_var)"
      ],
      "metadata": {
        "colab": {
          "base_uri": "https://localhost:8080/",
          "height": 184
        },
        "id": "9OcqRlOZHTNv",
        "outputId": "7847499d-8184-43e7-dbdd-76728c4d50a8"
      },
      "execution_count": null,
      "outputs": [
        {
          "output_type": "error",
          "ename": "NameError",
          "evalue": "name 'unknown_var' is not defined",
          "traceback": [
            "\u001b[0;31m---------------------------------------------------------------------------\u001b[0m",
            "\u001b[0;31mNameError\u001b[0m                                 Traceback (most recent call last)",
            "\u001b[0;32m<ipython-input-3-0238e7de2180>\u001b[0m in \u001b[0;36m<cell line: 3>\u001b[0;34m()\u001b[0m\n\u001b[1;32m      1\u001b[0m \u001b[0;31m# NameError : 정의 되지 않은 변수 사용\u001b[0m\u001b[0;34m\u001b[0m\u001b[0;34m\u001b[0m\u001b[0m\n\u001b[1;32m      2\u001b[0m \u001b[0;34m\u001b[0m\u001b[0m\n\u001b[0;32m----> 3\u001b[0;31m \u001b[0mprint\u001b[0m\u001b[0;34m(\u001b[0m\u001b[0munknown_var\u001b[0m\u001b[0;34m)\u001b[0m\u001b[0;34m\u001b[0m\u001b[0;34m\u001b[0m\u001b[0m\n\u001b[0m",
            "\u001b[0;31mNameError\u001b[0m: name 'unknown_var' is not defined"
          ]
        }
      ]
    },
    {
      "cell_type": "markdown",
      "source": [
        "#정수를 입력하지 않은 경우 예외 발생"
      ],
      "metadata": {
        "id": "wFNHFY8TFewU"
      }
    },
    {
      "cell_type": "code",
      "source": [
        "#정수를 입력하지 않은 경우 예외 발생\n",
        "num_input = int(input('정수입력'))\n",
        "print('원의 반지름: ', num_input)"
      ],
      "metadata": {
        "id": "gTO5ehgLHafe",
        "colab": {
          "base_uri": "https://localhost:8080/",
          "height": 202
        },
        "outputId": "e3dd0000-adc3-4b9f-c9db-03437184bd30"
      },
      "execution_count": null,
      "outputs": [
        {
          "name": "stdout",
          "output_type": "stream",
          "text": [
            "정수입력t\n"
          ]
        },
        {
          "output_type": "error",
          "ename": "ValueError",
          "evalue": "invalid literal for int() with base 10: 't'",
          "traceback": [
            "\u001b[0;31m---------------------------------------------------------------------------\u001b[0m",
            "\u001b[0;31mValueError\u001b[0m                                Traceback (most recent call last)",
            "\u001b[0;32m<ipython-input-2-c86437719bf2>\u001b[0m in \u001b[0;36m<cell line: 2>\u001b[0;34m()\u001b[0m\n\u001b[1;32m      1\u001b[0m \u001b[0;31m#정수를 입력하지 않은 경우 예외 발생\u001b[0m\u001b[0;34m\u001b[0m\u001b[0;34m\u001b[0m\u001b[0m\n\u001b[0;32m----> 2\u001b[0;31m \u001b[0mnum_input\u001b[0m \u001b[0;34m=\u001b[0m \u001b[0mint\u001b[0m\u001b[0;34m(\u001b[0m\u001b[0minput\u001b[0m\u001b[0;34m(\u001b[0m\u001b[0;34m'정수입력'\u001b[0m\u001b[0;34m)\u001b[0m\u001b[0;34m)\u001b[0m\u001b[0;34m\u001b[0m\u001b[0;34m\u001b[0m\u001b[0m\n\u001b[0m\u001b[1;32m      3\u001b[0m \u001b[0mprint\u001b[0m\u001b[0;34m(\u001b[0m\u001b[0;34m'원의 반지름: '\u001b[0m\u001b[0;34m,\u001b[0m \u001b[0mnum_input\u001b[0m\u001b[0;34m)\u001b[0m\u001b[0;34m\u001b[0m\u001b[0;34m\u001b[0m\u001b[0m\n",
            "\u001b[0;31mValueError\u001b[0m: invalid literal for int() with base 10: 't'"
          ]
        }
      ]
    },
    {
      "cell_type": "markdown",
      "source": [
        "# TypeError : 부적절한 유형의 객체 연산"
      ],
      "metadata": {
        "id": "k0U4cn2xF1Y2"
      }
    },
    {
      "cell_type": "code",
      "source": [
        "# TypeError : 부적절한 유형의 객체 연산\n",
        "'2'+2"
      ],
      "metadata": {
        "colab": {
          "base_uri": "https://localhost:8080/",
          "height": 166
        },
        "id": "Rv_xlHSLF1me",
        "outputId": "8a996a15-a888-446c-f586-756c119099f9"
      },
      "execution_count": null,
      "outputs": [
        {
          "output_type": "error",
          "ename": "TypeError",
          "evalue": "can only concatenate str (not \"int\") to str",
          "traceback": [
            "\u001b[0;31m---------------------------------------------------------------------------\u001b[0m",
            "\u001b[0;31mTypeError\u001b[0m                                 Traceback (most recent call last)",
            "\u001b[0;32m<ipython-input-3-b19755a894f2>\u001b[0m in \u001b[0;36m<cell line: 2>\u001b[0;34m()\u001b[0m\n\u001b[1;32m      1\u001b[0m \u001b[0;31m# TypeError : 부적절한 유형의 객체 연산\u001b[0m\u001b[0;34m\u001b[0m\u001b[0;34m\u001b[0m\u001b[0m\n\u001b[0;32m----> 2\u001b[0;31m \u001b[0;34m'2'\u001b[0m\u001b[0;34m+\u001b[0m\u001b[0;36m2\u001b[0m\u001b[0;34m\u001b[0m\u001b[0;34m\u001b[0m\u001b[0m\n\u001b[0m",
            "\u001b[0;31mTypeError\u001b[0m: can only concatenate str (not \"int\") to str"
          ]
        }
      ]
    },
    {
      "cell_type": "markdown",
      "source": [
        "# ValueError : 적절하지 않은 값 사용"
      ],
      "metadata": {
        "id": "hPSaWKROGBcK"
      }
    },
    {
      "cell_type": "code",
      "source": [
        "# ValueError : 적절하지 않은 값 사용\n",
        "int('abc')"
      ],
      "metadata": {
        "colab": {
          "base_uri": "https://localhost:8080/",
          "height": 166
        },
        "id": "oc5kOzQVGBtL",
        "outputId": "ab44edc1-570e-42e7-fb7e-8225211ba532"
      },
      "execution_count": null,
      "outputs": [
        {
          "output_type": "error",
          "ename": "ValueError",
          "evalue": "invalid literal for int() with base 10: 'abc'",
          "traceback": [
            "\u001b[0;31m---------------------------------------------------------------------------\u001b[0m",
            "\u001b[0;31mValueError\u001b[0m                                Traceback (most recent call last)",
            "\u001b[0;32m<ipython-input-4-f55536014fc4>\u001b[0m in \u001b[0;36m<cell line: 2>\u001b[0;34m()\u001b[0m\n\u001b[1;32m      1\u001b[0m \u001b[0;31m# ValueError : 적절하지 않은 값 사용\u001b[0m\u001b[0;34m\u001b[0m\u001b[0;34m\u001b[0m\u001b[0m\n\u001b[0;32m----> 2\u001b[0;31m \u001b[0mint\u001b[0m\u001b[0;34m(\u001b[0m\u001b[0;34m'abc'\u001b[0m\u001b[0;34m)\u001b[0m\u001b[0;34m\u001b[0m\u001b[0;34m\u001b[0m\u001b[0m\n\u001b[0m",
            "\u001b[0;31mValueError\u001b[0m: invalid literal for int() with base 10: 'abc'"
          ]
        }
      ]
    },
    {
      "cell_type": "markdown",
      "source": [
        "# IndexError : 존재하지 않은 인덱스 사용"
      ],
      "metadata": {
        "id": "fXpJPzPeGOZd"
      }
    },
    {
      "cell_type": "code",
      "source": [
        "# IndexError : 존재하지 않은 인덱스 사용\n",
        "my_list = [1, 2, 3]\n",
        "print(my_list[3])"
      ],
      "metadata": {
        "colab": {
          "base_uri": "https://localhost:8080/",
          "height": 184
        },
        "id": "UNx4vkgUGOs0",
        "outputId": "6af47421-88a3-402a-aa5d-b29e2987325b"
      },
      "execution_count": null,
      "outputs": [
        {
          "output_type": "error",
          "ename": "IndexError",
          "evalue": "list index out of range",
          "traceback": [
            "\u001b[0;31m---------------------------------------------------------------------------\u001b[0m",
            "\u001b[0;31mIndexError\u001b[0m                                Traceback (most recent call last)",
            "\u001b[0;32m<ipython-input-5-b5ad2099d18e>\u001b[0m in \u001b[0;36m<cell line: 3>\u001b[0;34m()\u001b[0m\n\u001b[1;32m      1\u001b[0m \u001b[0;31m# IndexError : 존재하지 않은 인덱스 사용\u001b[0m\u001b[0;34m\u001b[0m\u001b[0;34m\u001b[0m\u001b[0m\n\u001b[1;32m      2\u001b[0m \u001b[0mmy_list\u001b[0m \u001b[0;34m=\u001b[0m \u001b[0;34m[\u001b[0m\u001b[0;36m1\u001b[0m\u001b[0;34m,\u001b[0m \u001b[0;36m2\u001b[0m\u001b[0;34m,\u001b[0m \u001b[0;36m3\u001b[0m\u001b[0;34m]\u001b[0m\u001b[0;34m\u001b[0m\u001b[0;34m\u001b[0m\u001b[0m\n\u001b[0;32m----> 3\u001b[0;31m \u001b[0mprint\u001b[0m\u001b[0;34m(\u001b[0m\u001b[0mmy_list\u001b[0m\u001b[0;34m[\u001b[0m\u001b[0;36m3\u001b[0m\u001b[0;34m]\u001b[0m\u001b[0;34m)\u001b[0m\u001b[0;34m\u001b[0m\u001b[0;34m\u001b[0m\u001b[0m\n\u001b[0m",
            "\u001b[0;31mIndexError\u001b[0m: list index out of range"
          ]
        }
      ]
    },
    {
      "cell_type": "markdown",
      "source": [
        "# KeyError : 딕셔너리에 존재하지 않은 키 사용"
      ],
      "metadata": {
        "id": "i6Mhq0VdGXuF"
      }
    },
    {
      "cell_type": "code",
      "source": [
        "# KeyError : 딕셔너리에 존재하지 않은 키 사용\n",
        "my_dict = {'a':1, 'b':2}\n",
        "print(my_dict['c'])"
      ],
      "metadata": {
        "colab": {
          "base_uri": "https://localhost:8080/",
          "height": 184
        },
        "id": "kWKwW3IdGX94",
        "outputId": "ec36c0c5-3756-4307-bb44-751f4552201c"
      },
      "execution_count": null,
      "outputs": [
        {
          "output_type": "error",
          "ename": "KeyError",
          "evalue": "'c'",
          "traceback": [
            "\u001b[0;31m---------------------------------------------------------------------------\u001b[0m",
            "\u001b[0;31mKeyError\u001b[0m                                  Traceback (most recent call last)",
            "\u001b[0;32m<ipython-input-6-39f49c409384>\u001b[0m in \u001b[0;36m<cell line: 3>\u001b[0;34m()\u001b[0m\n\u001b[1;32m      1\u001b[0m \u001b[0;31m# KeyError : 딕셔너리에 존재하지 않은 키 사용\u001b[0m\u001b[0;34m\u001b[0m\u001b[0;34m\u001b[0m\u001b[0m\n\u001b[1;32m      2\u001b[0m \u001b[0mmy_dict\u001b[0m \u001b[0;34m=\u001b[0m \u001b[0;34m{\u001b[0m\u001b[0;34m'a'\u001b[0m\u001b[0;34m:\u001b[0m\u001b[0;36m1\u001b[0m\u001b[0;34m,\u001b[0m \u001b[0;34m'b'\u001b[0m\u001b[0;34m:\u001b[0m\u001b[0;36m2\u001b[0m\u001b[0;34m}\u001b[0m\u001b[0;34m\u001b[0m\u001b[0;34m\u001b[0m\u001b[0m\n\u001b[0;32m----> 3\u001b[0;31m \u001b[0mprint\u001b[0m\u001b[0;34m(\u001b[0m\u001b[0mmy_dict\u001b[0m\u001b[0;34m[\u001b[0m\u001b[0;34m'c'\u001b[0m\u001b[0;34m]\u001b[0m\u001b[0;34m)\u001b[0m\u001b[0;34m\u001b[0m\u001b[0;34m\u001b[0m\u001b[0m\n\u001b[0m",
            "\u001b[0;31mKeyError\u001b[0m: 'c'"
          ]
        }
      ]
    },
    {
      "cell_type": "markdown",
      "source": [
        "# AttributeError : 존재하지 않은 속성이나 메서드 호출"
      ],
      "metadata": {
        "id": "iEEQCDWRGnU5"
      }
    },
    {
      "cell_type": "code",
      "source": [
        "# AttributeError : 존재하지 않은 속성이나 메서드 호출. 리스트에는 push라는 메서드가 없어 AttributeError가 발생합니다\n",
        "my_list = [1, 2, 3]\n",
        "my_list.push(4)"
      ],
      "metadata": {
        "colab": {
          "base_uri": "https://localhost:8080/",
          "height": 184
        },
        "id": "au5At7e3GnrE",
        "outputId": "7867be7f-17e7-4228-ae7d-5c9c41694073"
      },
      "execution_count": null,
      "outputs": [
        {
          "output_type": "error",
          "ename": "AttributeError",
          "evalue": "'list' object has no attribute 'push'",
          "traceback": [
            "\u001b[0;31m---------------------------------------------------------------------------\u001b[0m",
            "\u001b[0;31mAttributeError\u001b[0m                            Traceback (most recent call last)",
            "\u001b[0;32m<ipython-input-7-f8c03324fd1a>\u001b[0m in \u001b[0;36m<cell line: 3>\u001b[0;34m()\u001b[0m\n\u001b[1;32m      1\u001b[0m \u001b[0;31m# AttributeError : 존재하지 않은 속성이나 메서드 호출. 리스트에는 push라는 메서드가 없어 AttributeError가 발생합니다\u001b[0m\u001b[0;34m\u001b[0m\u001b[0;34m\u001b[0m\u001b[0m\n\u001b[1;32m      2\u001b[0m \u001b[0mmy_list\u001b[0m \u001b[0;34m=\u001b[0m \u001b[0;34m[\u001b[0m\u001b[0;36m1\u001b[0m\u001b[0;34m,\u001b[0m \u001b[0;36m2\u001b[0m\u001b[0;34m,\u001b[0m \u001b[0;36m3\u001b[0m\u001b[0;34m]\u001b[0m\u001b[0;34m\u001b[0m\u001b[0;34m\u001b[0m\u001b[0m\n\u001b[0;32m----> 3\u001b[0;31m \u001b[0mmy_list\u001b[0m\u001b[0;34m.\u001b[0m\u001b[0mpush\u001b[0m\u001b[0;34m(\u001b[0m\u001b[0;36m4\u001b[0m\u001b[0;34m)\u001b[0m\u001b[0;34m\u001b[0m\u001b[0;34m\u001b[0m\u001b[0m\n\u001b[0m",
            "\u001b[0;31mAttributeError\u001b[0m: 'list' object has no attribute 'push'"
          ]
        }
      ]
    },
    {
      "cell_type": "markdown",
      "source": [
        "# IOError/OSError : 존재하지 않은 파일 열기 시도"
      ],
      "metadata": {
        "id": "N9f2D4qXG9-l"
      }
    },
    {
      "cell_type": "code",
      "source": [
        "# IOError/OSError : 존재하지 않은 파일 열기 시도. 파일이 존재하지 않아 IOError 또는 OSError가 발생\n",
        "with open('non_existent_file.txt') as f:\n",
        "    read_data = f.read()"
      ],
      "metadata": {
        "colab": {
          "base_uri": "https://localhost:8080/",
          "height": 184
        },
        "id": "7m0yY3rXG-T9",
        "outputId": "91ee5463-1d7b-4877-c46c-b5b3d14f0de5"
      },
      "execution_count": null,
      "outputs": [
        {
          "output_type": "error",
          "ename": "FileNotFoundError",
          "evalue": "[Errno 2] No such file or directory: 'non_existent_file.txt'",
          "traceback": [
            "\u001b[0;31m---------------------------------------------------------------------------\u001b[0m",
            "\u001b[0;31mFileNotFoundError\u001b[0m                         Traceback (most recent call last)",
            "\u001b[0;32m<ipython-input-8-662119957c2b>\u001b[0m in \u001b[0;36m<cell line: 2>\u001b[0;34m()\u001b[0m\n\u001b[1;32m      1\u001b[0m \u001b[0;31m# IOError/OSError : 존재하지 않은 파일 열기 시도. 파일이 존재하지 않아 IOError 또는 OSError가 발생\u001b[0m\u001b[0;34m\u001b[0m\u001b[0;34m\u001b[0m\u001b[0m\n\u001b[0;32m----> 2\u001b[0;31m \u001b[0;32mwith\u001b[0m \u001b[0mopen\u001b[0m\u001b[0;34m(\u001b[0m\u001b[0;34m'non_existent_file.txt'\u001b[0m\u001b[0;34m)\u001b[0m \u001b[0;32mas\u001b[0m \u001b[0mf\u001b[0m\u001b[0;34m:\u001b[0m\u001b[0;34m\u001b[0m\u001b[0;34m\u001b[0m\u001b[0m\n\u001b[0m\u001b[1;32m      3\u001b[0m     \u001b[0mread_data\u001b[0m \u001b[0;34m=\u001b[0m \u001b[0mf\u001b[0m\u001b[0;34m.\u001b[0m\u001b[0mread\u001b[0m\u001b[0;34m(\u001b[0m\u001b[0;34m)\u001b[0m\u001b[0;34m\u001b[0m\u001b[0;34m\u001b[0m\u001b[0m\n",
            "\u001b[0;31mFileNotFoundError\u001b[0m: [Errno 2] No such file or directory: 'non_existent_file.txt'"
          ]
        }
      ]
    },
    {
      "cell_type": "markdown",
      "source": [
        "# ZeroDivisionError : 0으로 나누기"
      ],
      "metadata": {
        "id": "3DWlXjyFHYr4"
      }
    },
    {
      "cell_type": "code",
      "source": [
        "# ZeroDivisionError : 0으로 나누기\n",
        "division = 10 / 0"
      ],
      "metadata": {
        "colab": {
          "base_uri": "https://localhost:8080/",
          "height": 166
        },
        "id": "ZXD_RKspHZE9",
        "outputId": "de7d1225-9af3-4f1d-db23-3bb173499f20"
      },
      "execution_count": null,
      "outputs": [
        {
          "output_type": "error",
          "ename": "ZeroDivisionError",
          "evalue": "division by zero",
          "traceback": [
            "\u001b[0;31m---------------------------------------------------------------------------\u001b[0m",
            "\u001b[0;31mZeroDivisionError\u001b[0m                         Traceback (most recent call last)",
            "\u001b[0;32m<ipython-input-9-892c3a569ef5>\u001b[0m in \u001b[0;36m<cell line: 2>\u001b[0;34m()\u001b[0m\n\u001b[1;32m      1\u001b[0m \u001b[0;31m# ZeroDivisionError : 0으로 나누기\u001b[0m\u001b[0;34m\u001b[0m\u001b[0;34m\u001b[0m\u001b[0m\n\u001b[0;32m----> 2\u001b[0;31m \u001b[0mdivision\u001b[0m \u001b[0;34m=\u001b[0m \u001b[0;36m10\u001b[0m \u001b[0;34m/\u001b[0m \u001b[0;36m0\u001b[0m\u001b[0;34m\u001b[0m\u001b[0;34m\u001b[0m\u001b[0m\n\u001b[0m",
            "\u001b[0;31mZeroDivisionError\u001b[0m: division by zero"
          ]
        }
      ]
    },
    {
      "cell_type": "markdown",
      "source": [
        "# importError : 존재하지 않은 모듈 임포트 시도"
      ],
      "metadata": {
        "id": "JMJnsqJnHkXJ"
      }
    },
    {
      "cell_type": "code",
      "source": [
        "# importError : 존재하지 않은 모듈 임포트 시도\n",
        "import non_existent_example\n"
      ],
      "metadata": {
        "colab": {
          "base_uri": "https://localhost:8080/",
          "height": 349
        },
        "id": "59PjNKm3Hkom",
        "outputId": "e6cbcd26-89dc-4bd9-be3e-0b73509179b2"
      },
      "execution_count": null,
      "outputs": [
        {
          "output_type": "error",
          "ename": "ModuleNotFoundError",
          "evalue": "No module named 'non_existent_example'",
          "traceback": [
            "\u001b[0;31m---------------------------------------------------------------------------\u001b[0m",
            "\u001b[0;31mModuleNotFoundError\u001b[0m                       Traceback (most recent call last)",
            "\u001b[0;32m<ipython-input-10-400c6caebf6a>\u001b[0m in \u001b[0;36m<cell line: 2>\u001b[0;34m()\u001b[0m\n\u001b[1;32m      1\u001b[0m \u001b[0;31m# importError : 존재하지 않은 모듈 임포트 시도\u001b[0m\u001b[0;34m\u001b[0m\u001b[0;34m\u001b[0m\u001b[0m\n\u001b[0;32m----> 2\u001b[0;31m \u001b[0;32mimport\u001b[0m \u001b[0mnon_existent_example\u001b[0m\u001b[0;34m\u001b[0m\u001b[0;34m\u001b[0m\u001b[0m\n\u001b[0m",
            "\u001b[0;31mModuleNotFoundError\u001b[0m: No module named 'non_existent_example'",
            "",
            "\u001b[0;31m---------------------------------------------------------------------------\u001b[0;32m\nNOTE: If your import is failing due to a missing package, you can\nmanually install dependencies using either !pip or !apt.\n\nTo view examples of installing some common dependencies, click the\n\"Open Examples\" button below.\n\u001b[0;31m---------------------------------------------------------------------------\u001b[0m\n"
          ],
          "errorDetails": {
            "actions": [
              {
                "action": "open_url",
                "actionText": "Open Examples",
                "url": "/notebooks/snippets/importing_libraries.ipynb"
              }
            ]
          }
        }
      ]
    },
    {
      "cell_type": "markdown",
      "source": [
        "# StopIteration : 이터레이터가 더 이상 값을 제공하지 않음"
      ],
      "metadata": {
        "id": "pZSMNv3QHtYT"
      }
    },
    {
      "cell_type": "code",
      "source": [
        "# StopIteration : 이터레이터가 더 이상 값을 제공하지 않음. 모든 값을 이미 소진한 이터레이터에 대해 next()를 호출하면 발생\n",
        "my_iterator = iter([1, 2, 3])\n",
        "next(my_iterator)\n",
        "next(my_iterator)\n",
        "next(my_iterator)\n",
        "next(my_iterator)       # 여기서 StopIteration 발생"
      ],
      "metadata": {
        "colab": {
          "base_uri": "https://localhost:8080/",
          "height": 184
        },
        "id": "tTLseXCSHtib",
        "outputId": "dae46394-d447-4269-d836-ee5c5ece79b2"
      },
      "execution_count": null,
      "outputs": [
        {
          "output_type": "error",
          "ename": "StopIteration",
          "evalue": "",
          "traceback": [
            "\u001b[0;31m---------------------------------------------------------------------------\u001b[0m",
            "\u001b[0;31mStopIteration\u001b[0m                             Traceback (most recent call last)",
            "\u001b[0;32m<ipython-input-12-0ae691041f9f>\u001b[0m in \u001b[0;36m<cell line: 6>\u001b[0;34m()\u001b[0m\n\u001b[1;32m      4\u001b[0m \u001b[0mnext\u001b[0m\u001b[0;34m(\u001b[0m\u001b[0mmy_iterator\u001b[0m\u001b[0;34m)\u001b[0m\u001b[0;34m\u001b[0m\u001b[0;34m\u001b[0m\u001b[0m\n\u001b[1;32m      5\u001b[0m \u001b[0mnext\u001b[0m\u001b[0;34m(\u001b[0m\u001b[0mmy_iterator\u001b[0m\u001b[0;34m)\u001b[0m\u001b[0;34m\u001b[0m\u001b[0;34m\u001b[0m\u001b[0m\n\u001b[0;32m----> 6\u001b[0;31m \u001b[0mnext\u001b[0m\u001b[0;34m(\u001b[0m\u001b[0mmy_iterator\u001b[0m\u001b[0;34m)\u001b[0m       \u001b[0;31m# 여기서 StopIteration 발생\u001b[0m\u001b[0;34m\u001b[0m\u001b[0;34m\u001b[0m\u001b[0m\n\u001b[0m",
            "\u001b[0;31mStopIteration\u001b[0m: "
          ]
        }
      ]
    },
    {
      "cell_type": "markdown",
      "source": [
        "# MemoryError : 매우 큰 메모리 할당 시도"
      ],
      "metadata": {
        "id": "9xM3mnatII6A"
      }
    },
    {
      "cell_type": "code",
      "source": [
        "# MemoryError : 매우 큰 메모리 할당 시도. 시스템에서 제공하는 메모리 용량을 초과하려고 하면 발생\n",
        "very_large_list = [0] * (10**10)"
      ],
      "metadata": {
        "id": "zu7K4V1ZIJX6"
      },
      "execution_count": null,
      "outputs": []
    },
    {
      "cell_type": "markdown",
      "source": [
        "# RecursionError : 너무 깊은 재귀 호출"
      ],
      "metadata": {
        "id": "100VytXoIX0w"
      }
    },
    {
      "cell_type": "code",
      "source": [
        "# RecursionError : 너무 깊은 재귀 호출\n",
        "# 아무런 종료 조건 없이 자기 자신을 계속해서 호출하므로, 파이썬의 최대 재귀 깊이에 도달 할 때까지 실행\n",
        "# 이 한계에 도달하면 RecursionError 발생\n",
        "\n",
        "def recursive_function():\n",
        "    recursive_function()\n",
        "recursive_function()"
      ],
      "metadata": {
        "id": "Edb-GsCBIYBY"
      },
      "execution_count": null,
      "outputs": []
    },
    {
      "cell_type": "markdown",
      "source": [
        "# 예외처리 방법"
      ],
      "metadata": {
        "id": "CZYp_-QzIpEr"
      }
    },
    {
      "cell_type": "code",
      "source": [
        "# 조건문으로 예외 처리\n",
        "user_input = input('정수입력 : ')\n",
        "if user_input.isdigit():\n",
        "    num_input = int(user_input)\n",
        "    print('원의 반지름: ', num_input)\n",
        "else:\n",
        "    print('정수를 입력해주세요')"
      ],
      "metadata": {
        "colab": {
          "base_uri": "https://localhost:8080/"
        },
        "id": "P_E-tYcGIohI",
        "outputId": "0700a127-9d16-4277-9beb-caf8aee093b1"
      },
      "execution_count": null,
      "outputs": [
        {
          "output_type": "stream",
          "name": "stdout",
          "text": [
            "정수입력 : ㅅ\n",
            "정수를 입력해주세요\n"
          ]
        }
      ]
    },
    {
      "cell_type": "markdown",
      "source": [
        "- 프로그램이 실행되는 동안 오류가 발생하면 프로그램이 더 이상 진행될 수 없는 상태가 되는데 이를 예외라고 함\n",
        "- 예외가 발생해도 프로그램을 중단하지 않고 예외에 대한 적절한 처리를 하여 프로그램을 계속 진행하도록 하는 구문이 try ~ except"
      ],
      "metadata": {
        "id": "E6zv9i_rJkz_"
      }
    },
    {
      "cell_type": "markdown",
      "source": [
        "#### 파이썬에서 예외 처리\n",
        "프로그램 실행 중 발생할 수 있는 오류를 예상하고 관리할 수 있게 하는 강력한 기능이다. 이는 try, except, else, finally 블록을 사용해 수행된다. 각 구성 요소에 대해 간략히 설명하자면:\n",
        "\n",
        "- try: 이 코드 블록은 예외를 발생시킬 수 있는 연산을 포함한다. 코드가 오류를 일으킬 수 있다는 것을 \"시도\"하는 곳이다.\n",
        "\n",
        "- except: try 블록 내에서 오류가 발생하면, 파이썬은 그 블록의 실행을 멈추고 except 블록으로 점프한다. except 블록에서는 예외를 처리한다, 즉 오류에 대응하는 코드가 들어간다. 특정 예외를 이름으로 잡거나 모든 예외를 잡을 수 있다.\n",
        "\n",
        "- else: 이 블록은 선택적이며 try-except 블록 뒤에 올 수 있다. else 블록의 코드는 try 블록에서 예외가 발생하지 않았을 때만 실행된다. try 블록이 성공적으로 실행됐을 때만 실행되어야 하는 코드를 넣기에 적합하다.\n",
        "\n",
        "- finally: 이 블록은 선택적이지만, 존재한다면 예외 발생 여부와 관계없이 실행된다. 파일을 닫거나 리소스를 해제하는 등의 정리 작업을 위해 자주 사용된다. 이 작업들은 오류 발생 여부와 관계없이 수행되어야 한다.\n",
        "#### 예외 처리 방법\n",
        "- try + except<br>\n",
        "  try : 에러가 발생할 것 같은, 예외처리를 하고 싶은 곳을 찾아서 try 구문에 코드를 작성합니다.<br>\n",
        "  except : 에러가 발생했을 때 처리할 코드를 작성합니다.\n",
        "- try + except + else<br>\n",
        "  else 는 에러가 발생하지 않았을때 거치는 구문입니다. else만 단독으로 try + else 는 불가능합니다. except 가 있어야 합니다.\n",
        "- try + finally<br>\n",
        "  finally 는 에러가 발생해도, 발생하지 않아도 무조건 거치는 구문입니다.except. 없이 try + finally 만 사용한다면 에러가 발생한 후에 finally 구문까지만 실행이 되고 프로그램이 중간에 죽게 됩니다.\n",
        "- try + except + finally\n",
        "  <br> except 구문을 추가하고 finally 구문도 있음\n",
        "- try + except + else + finally\n",
        "  <br> try (해당 구문 안에서 에러 발생 시 처리 가능 - 필수)\n",
        "  <br> except (에러 발생시 수행 - 선택이지만 에러를 처리하려면 필수)\n",
        "  <br> else (에러 없을 때 수행 - 선택이지만 except 없이는 올 수 없음)\n",
        "  <br> finally (에러가 있거나 없거나 상관없이 항상 수행 - 선택)"
      ],
      "metadata": {
        "id": "vp6KQUTOJ460"
      }
    },
    {
      "cell_type": "markdown",
      "source": [
        "#Q 위의 예외에 대한 예외처리를 수행사세요"
      ],
      "metadata": {
        "id": "S-zmChWBLTDX"
      }
    },
    {
      "cell_type": "code",
      "source": [
        "try:\n",
        "    print(unknown_var)\n",
        "except NameError as e:\n",
        "    print(f\"An error ouccurred {e}\")"
      ],
      "metadata": {
        "colab": {
          "base_uri": "https://localhost:8080/"
        },
        "id": "lezR7Yl6LK_M",
        "outputId": "c758b5b3-dc9d-4780-e0d3-303a96023e15"
      },
      "execution_count": null,
      "outputs": [
        {
          "output_type": "stream",
          "name": "stdout",
          "text": [
            "An error ouccurred name 'unknown_var' is not defined\n"
          ]
        }
      ]
    },
    {
      "cell_type": "code",
      "source": [
        "try:\n",
        "    '2' + 2\n",
        "except TypeError as e:\n",
        "    print(f\"An error ouccurred {e}\")    # e는 예외 객체를 참조하는 변수"
      ],
      "metadata": {
        "colab": {
          "base_uri": "https://localhost:8080/"
        },
        "id": "5WxSiCM-LnKM",
        "outputId": "9ce3e120-8bdf-4d54-f7df-f6e99211d99d"
      },
      "execution_count": null,
      "outputs": [
        {
          "output_type": "stream",
          "name": "stdout",
          "text": [
            "An error ouccurred can only concatenate str (not \"int\") to str\n"
          ]
        }
      ]
    },
    {
      "cell_type": "code",
      "source": [
        "try:\n",
        "    int('abc')\n",
        "except ValueError as e:\n",
        "    print(f\"An error ouccurred {e}\")"
      ],
      "metadata": {
        "colab": {
          "base_uri": "https://localhost:8080/"
        },
        "id": "Ca94dWjJL1in",
        "outputId": "5c7faaa2-c4e5-40f7-e655-98c6c0091fbb"
      },
      "execution_count": null,
      "outputs": [
        {
          "output_type": "stream",
          "name": "stdout",
          "text": [
            "An error ouccurred invalid literal for int() with base 10: 'abc'\n"
          ]
        }
      ]
    },
    {
      "cell_type": "code",
      "source": [
        "my_list = [1, 2, 3]\n",
        "try:\n",
        "    print(my_list[3])\n",
        "except IndexError as e:\n",
        "    print(f\"An error ouccurred {e}\")"
      ],
      "metadata": {
        "colab": {
          "base_uri": "https://localhost:8080/"
        },
        "id": "3zDFDLZDL7kj",
        "outputId": "a84a09f3-7ee5-489c-b847-c324504aa073"
      },
      "execution_count": null,
      "outputs": [
        {
          "output_type": "stream",
          "name": "stdout",
          "text": [
            "An error ouccurred list index out of range\n"
          ]
        }
      ]
    },
    {
      "cell_type": "code",
      "source": [
        "my_dict = {'a':1, 'b':2}\n",
        "try:\n",
        "    print(my_dict['c'])\n",
        "except KeyError as e:\n",
        "    print(f\"An error ouccurred {e}\")"
      ],
      "metadata": {
        "colab": {
          "base_uri": "https://localhost:8080/"
        },
        "id": "0qJKUicLPdib",
        "outputId": "9b8d9080-fdfc-49b3-8e81-a46bbc42d977"
      },
      "execution_count": null,
      "outputs": [
        {
          "output_type": "stream",
          "name": "stdout",
          "text": [
            "An error ouccurred 'c'\n"
          ]
        }
      ]
    },
    {
      "cell_type": "code",
      "source": [
        "my_list = [1, 2, 3]\n",
        "try:\n",
        "    my_list.push(4)\n",
        "except AttributeError as e:\n",
        "    print(f\"An error ouccurred {e}\")"
      ],
      "metadata": {
        "colab": {
          "base_uri": "https://localhost:8080/"
        },
        "id": "48-QDXaVPrpi",
        "outputId": "1e2bb6e0-062c-4aa1-aeb7-54e1028e66f6"
      },
      "execution_count": null,
      "outputs": [
        {
          "output_type": "stream",
          "name": "stdout",
          "text": [
            "An error ouccurred 'list' object has no attribute 'push'\n"
          ]
        }
      ]
    },
    {
      "cell_type": "code",
      "source": [
        "try:\n",
        "    with open('non_existent_file.txt') as f:\n",
        "        read_data = f.read()\n",
        "except OSError as e:\n",
        "    print(f'File error: {e}')"
      ],
      "metadata": {
        "colab": {
          "base_uri": "https://localhost:8080/"
        },
        "id": "h-l7-wNWQK4A",
        "outputId": "041e630e-b62c-4af3-ce49-efdf3a140bf9"
      },
      "execution_count": null,
      "outputs": [
        {
          "output_type": "stream",
          "name": "stdout",
          "text": [
            "File error: [Errno 2] No such file or directory: 'non_existent_file.txt'\n"
          ]
        }
      ]
    },
    {
      "cell_type": "code",
      "source": [
        "try:\n",
        "    division = 10 / 0\n",
        "except ZeroDivisionError as e:\n",
        "    print(f\"Math error: {e}\")"
      ],
      "metadata": {
        "colab": {
          "base_uri": "https://localhost:8080/"
        },
        "id": "fVrGFIJNQzoC",
        "outputId": "d7fe5992-fd03-4d8a-cb6a-845d0e9bf468"
      },
      "execution_count": null,
      "outputs": [
        {
          "output_type": "stream",
          "name": "stdout",
          "text": [
            "Math error: division by zero\n"
          ]
        }
      ]
    },
    {
      "cell_type": "code",
      "source": [
        "try:\n",
        "    import non_existent_module\n",
        "except ImportError as e:\n",
        "    print(f'import error: {e}')"
      ],
      "metadata": {
        "colab": {
          "base_uri": "https://localhost:8080/"
        },
        "id": "y9fSeb6ARAbr",
        "outputId": "43dfa016-84a2-4984-d83c-987763c2f3a4"
      },
      "execution_count": null,
      "outputs": [
        {
          "output_type": "stream",
          "name": "stdout",
          "text": [
            "import error: No module named 'non_existent_module'\n"
          ]
        }
      ]
    },
    {
      "cell_type": "code",
      "source": [
        "my_iterator = iter([1, 2, 3])\n",
        "try:\n",
        "    while True:\n",
        "        item = next(my_iterator)\n",
        "        print(item)\n",
        "except StopIteration:\n",
        "    print('Reached the end of the iterator')"
      ],
      "metadata": {
        "colab": {
          "base_uri": "https://localhost:8080/"
        },
        "id": "CQie8WgLRiex",
        "outputId": "ebf1f98e-9be9-4956-b6ce-50002a713bb9"
      },
      "execution_count": null,
      "outputs": [
        {
          "output_type": "stream",
          "name": "stdout",
          "text": [
            "1\n",
            "2\n",
            "3\n",
            "Reached the end of the iterator\n"
          ]
        }
      ]
    },
    {
      "cell_type": "code",
      "source": [
        "try:\n",
        "    print('안녕하세요')\n",
        "    print(param)\n",
        "except NameError as e:\n",
        "    print(f'예외가 발생했습니다. {e}')"
      ],
      "metadata": {
        "colab": {
          "base_uri": "https://localhost:8080/"
        },
        "id": "pPRSCZHfR2qu",
        "outputId": "cf08d55a-d9c9-47d4-a276-c565a86f84b4"
      },
      "execution_count": null,
      "outputs": [
        {
          "output_type": "stream",
          "name": "stdout",
          "text": [
            "안녕하세요\n",
            "예외가 발생했습니다. name 'param' is not defined\n"
          ]
        }
      ]
    },
    {
      "cell_type": "code",
      "source": [
        "# Q 예외처리를 수행하세요\n",
        "arr = ['b', 'l', 'o', 'g']\n",
        "try:\n",
        "    print(arr[8])   #error\n",
        "except IndexError as e:\n",
        "    print(f\"에러발생: {e}\")"
      ],
      "metadata": {
        "colab": {
          "base_uri": "https://localhost:8080/"
        },
        "id": "pBs7ijpPSWYm",
        "outputId": "8b401b30-a40f-4fed-b06a-e56bc9f646a3"
      },
      "execution_count": null,
      "outputs": [
        {
          "output_type": "stream",
          "name": "stdout",
          "text": [
            "에러발생: list index out of range\n"
          ]
        }
      ]
    },
    {
      "cell_type": "code",
      "source": [
        "# Q 예외처리를 수행하세요\n",
        "try:\n",
        "    arr = ['b', 'l', 'o', 'g']\n",
        "    print(arr[3])\n",
        "    print(arr[8])\n",
        "\n",
        "except IndexError as e:\n",
        "    print(f\"에러발생: {e}\")\n",
        "else:\n",
        "    print(\"에러가 발생하지 않았습니다\")"
      ],
      "metadata": {
        "colab": {
          "base_uri": "https://localhost:8080/"
        },
        "id": "DjiEWzDgTaiI",
        "outputId": "53faf6ad-12a7-4b41-f2eb-6a5faca0d848"
      },
      "execution_count": null,
      "outputs": [
        {
          "output_type": "stream",
          "name": "stdout",
          "text": [
            "g\n",
            "에러발생: list index out of range\n"
          ]
        }
      ]
    },
    {
      "cell_type": "code",
      "source": [
        "print(\"== Program Start\")\n",
        "\n",
        "try:\n",
        "    arr = ['b', 'l', 'o', 'g']\n",
        "    print(arr[3])\n",
        "    print(arr[8])   #error\n",
        "    print('== Mid')\n",
        "\n",
        "except IndexError as e:\n",
        "    print(f\"에러발생: {e}\")\n",
        "\n",
        "finally:\n",
        "    print('무조건 실행하는 코드')\n",
        "\n",
        "print('== Program End')"
      ],
      "metadata": {
        "colab": {
          "base_uri": "https://localhost:8080/"
        },
        "id": "jZpzoXFeT5tk",
        "outputId": "c7af86da-d807-4f2d-c396-2bd2c67242c8"
      },
      "execution_count": null,
      "outputs": [
        {
          "output_type": "stream",
          "name": "stdout",
          "text": [
            "== Program Start\n",
            "g\n",
            "에러발생: list index out of range\n",
            "무조건 실행하는 코드\n",
            "== Program End\n"
          ]
        }
      ]
    },
    {
      "cell_type": "code",
      "source": [
        "#Q 위 코드에서 else를 추가하고 예외 발생 경우와 발생 안하는 경우를 각각 만들어서 출력해보세요\n",
        "\n",
        "# 예외 발생 시\n",
        "print(\"== Program Start\")\n",
        "\n",
        "try:\n",
        "    arr = ['b', 'l', 'o', 'g']\n",
        "    print(arr[3])\n",
        "    print(arr[8])   #error\n",
        "    print('== Mid')\n",
        "\n",
        "except IndexError as e:\n",
        "    print(f\"에러발생: {e}\")\n",
        "\n",
        "else:\n",
        "    print(\"예외가 발생하지 않았습니다\")\n",
        "\n",
        "finally:\n",
        "    print('무조건 실행하는 코드')\n",
        "\n",
        "print('== Program End')\n",
        "\n",
        "print('')\n",
        "\n",
        "# 예외 없을 시\n",
        "print(\"== Program Start\")\n",
        "\n",
        "try:\n",
        "    arr = ['b', 'l', 'o', 'g']\n",
        "    print(arr[3])\n",
        "    # print(arr[8])   #error\n",
        "    print('== Mid')\n",
        "\n",
        "except IndexError as e:\n",
        "    print(f\"에러발생: {e}\")\n",
        "\n",
        "else:\n",
        "    print(\"예외가 발생하지 않았습니다\")\n",
        "\n",
        "finally:\n",
        "    print('무조건 실행하는 코드')\n",
        "\n",
        "print('== Program End')"
      ],
      "metadata": {
        "colab": {
          "base_uri": "https://localhost:8080/"
        },
        "id": "EQWBRZqIUg9f",
        "outputId": "7e64df46-fbba-46f8-a3e2-a5ae12671f4c"
      },
      "execution_count": null,
      "outputs": [
        {
          "output_type": "stream",
          "name": "stdout",
          "text": [
            "== Program Start\n",
            "g\n",
            "에러발생: list index out of range\n",
            "무조건 실행하는 코드\n",
            "== Program End\n",
            "\n",
            "== Program Start\n",
            "g\n",
            "== Mid\n",
            "예외가 발생하지 않았습니다\n",
            "무조건 실행하는 코드\n",
            "== Program End\n"
          ]
        }
      ]
    }
  ]
}
