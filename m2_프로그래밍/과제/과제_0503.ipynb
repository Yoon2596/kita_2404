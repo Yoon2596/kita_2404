{
  "nbformat": 4,
  "nbformat_minor": 0,
  "metadata": {
    "colab": {
      "provenance": [],
      "authorship_tag": "ABX9TyPgXaDkA9jIGaiM/aiax5X1",
      "include_colab_link": true
    },
    "kernelspec": {
      "name": "python3",
      "display_name": "Python 3"
    },
    "language_info": {
      "name": "python"
    }
  },
  "cells": [
    {
      "cell_type": "markdown",
      "metadata": {
        "id": "view-in-github",
        "colab_type": "text"
      },
      "source": [
        "<a href=\"https://colab.research.google.com/github/Yoon2596/kita_2404/blob/main/m2_%ED%94%84%EB%A1%9C%EA%B7%B8%EB%9E%98%EB%B0%8D/%EA%B3%BC%EC%A0%9C/%EA%B3%BC%EC%A0%9C_0503.ipynb\" target=\"_parent\"><img src=\"https://colab.research.google.com/assets/colab-badge.svg\" alt=\"Open In Colab\"/></a>"
      ]
    },
    {
      "cell_type": "markdown",
      "source": [
        "# Task1_0503. 여러개의 음식을 동시에 주문할 수 있는 주문 시스템을 작성하세요.(구조 지향)"
      ],
      "metadata": {
        "id": "ExSYtk6VUhde"
      }
    },
    {
      "cell_type": "code",
      "source": [
        "# [시나리오]\n",
        "# 1. 시작 인터페이스:\n",
        "# - 시스템 시작 시, 사용자에게 주문 시작 여부를 질문 (y 또는 n으로 응답).\n",
        "# - y 선택 시 주문 프로세스 시작.\n",
        "# - n 선택 시 시스템 종료 및 \"감사합니다.\" 메시지 표시.\n",
        "\n",
        "# 2. 메뉴 표시:\n",
        "# - 주문 프로세스 시작 시, 현재 메뉴 항목과 가격 표시.\n",
        "# - 각 메뉴 옆에는 선택 번호 제공 (예: 1, 2, 3).\n",
        "# - 세트 주문 시 추가 비용 안내 (3000원 추가).\n",
        "\n",
        "# 3. 주문 입력:\n",
        "# - 메뉴 선택 입력 요청.\n",
        "# - 메뉴 번호 입력 후 세트 주문 여부 질문 (y는 세트, n은 일반).\n",
        "# - 주문 수량 질문 후, 주문 장바구니에 추가.\n",
        "# - 주문이 추가된 후 해당 내용 표시.\n",
        "\n",
        "# 4. 주문 취소:\n",
        "# - 잘못 주문했거나 주문 취소 시 0 입력.\n",
        "# - 주문 취소 시 \"모든 주문이 취소되었습니다.\" 메시지 표시.\n",
        "\n",
        "# 5. 주문 요약 및 결제:\n",
        "# - 주문 완료하려면 5 입력.\n",
        "# - 주문 내역 및 총 금액 요약 표시.\n",
        "# - 결제 금액 안내 및 결제 진행 요청.\n",
        "# - 결제 완료 후 \"총 금액은 XXX원이 결제되었습니다. 감사합니다.\" 메시지 표시 및 주문 초기화.\n",
        "\n",
        "# 6. 반복 주문 가능:\n",
        "# - 결제 후 추가 주문 진행 가능.\n",
        "# - 언제든지 n 입력하여 주문 프로세스 종료 및 시스템 빠져나올 수 있음."
      ],
      "metadata": {
        "id": "EchaSrW6nHeI"
      },
      "execution_count": null,
      "outputs": []
    },
    {
      "cell_type": "code",
      "execution_count": null,
      "metadata": {
        "id": "oQSPtCp0DGGu",
        "colab": {
          "base_uri": "https://localhost:8080/",
          "height": 575
        },
        "outputId": "af2c0085-e3bb-4990-90bb-5f8705f7f840"
      },
      "outputs": [
        {
          "output_type": "stream",
          "name": "stdout",
          "text": [
            "KITA 식당에 오신 것을 환영합니다\n",
            "\n",
            "========================================\n",
            "\n",
            "          - 메  뉴 -\n",
            "    1. 불고기 비빔밥 : 12,000원\n",
            "    2. 야채 비빔밥 : 8,000원\n",
            "    3. 전주 비빔밥 : 10,000원\n",
            "\n",
            "    세트 주문시 : 3,000원 추가\n",
            "    (세트는 밥과 반찬이 추가됩니다.)\n",
            "\n",
            "========================================\n"
          ]
        },
        {
          "output_type": "error",
          "ename": "KeyboardInterrupt",
          "evalue": "Interrupted by user",
          "traceback": [
            "\u001b[0;31m---------------------------------------------------------------------------\u001b[0m",
            "\u001b[0;31mKeyboardInterrupt\u001b[0m                         Traceback (most recent call last)",
            "\u001b[0;32m<ipython-input-8-f7fc4e089c9e>\u001b[0m in \u001b[0;36m<cell line: 56>\u001b[0;34m()\u001b[0m\n\u001b[1;32m     55\u001b[0m \u001b[0;34m\u001b[0m\u001b[0m\n\u001b[1;32m     56\u001b[0m \u001b[0;32mif\u001b[0m \u001b[0m__name__\u001b[0m \u001b[0;34m==\u001b[0m \u001b[0;34m\"__main__\"\u001b[0m\u001b[0;34m:\u001b[0m\u001b[0;34m\u001b[0m\u001b[0;34m\u001b[0m\u001b[0m\n\u001b[0;32m---> 57\u001b[0;31m     \u001b[0mmain\u001b[0m\u001b[0;34m(\u001b[0m\u001b[0;34m)\u001b[0m\u001b[0;34m\u001b[0m\u001b[0;34m\u001b[0m\u001b[0m\n\u001b[0m",
            "\u001b[0;32m<ipython-input-8-f7fc4e089c9e>\u001b[0m in \u001b[0;36mmain\u001b[0;34m()\u001b[0m\n\u001b[1;32m     44\u001b[0m     \u001b[0;32mwhile\u001b[0m \u001b[0;32mTrue\u001b[0m\u001b[0;34m:\u001b[0m\u001b[0;34m\u001b[0m\u001b[0;34m\u001b[0m\u001b[0m\n\u001b[1;32m     45\u001b[0m         \u001b[0mdisplay_menu\u001b[0m\u001b[0;34m(\u001b[0m\u001b[0;34m)\u001b[0m\u001b[0;34m\u001b[0m\u001b[0;34m\u001b[0m\u001b[0m\n\u001b[0;32m---> 46\u001b[0;31m         \u001b[0morder\u001b[0m\u001b[0;34m(\u001b[0m\u001b[0;34m)\u001b[0m\u001b[0;34m\u001b[0m\u001b[0;34m\u001b[0m\u001b[0m\n\u001b[0m\u001b[1;32m     47\u001b[0m \u001b[0;34m\u001b[0m\u001b[0m\n\u001b[1;32m     48\u001b[0m         \u001b[0;31m#계속 주문하거나 종료 여부를 확인한다\u001b[0m\u001b[0;34m\u001b[0m\u001b[0;34m\u001b[0m\u001b[0m\n",
            "\u001b[0;32m<ipython-input-8-f7fc4e089c9e>\u001b[0m in \u001b[0;36morder\u001b[0;34m()\u001b[0m\n\u001b[1;32m     18\u001b[0m \u001b[0;32mdef\u001b[0m \u001b[0morder\u001b[0m\u001b[0;34m(\u001b[0m\u001b[0;34m)\u001b[0m\u001b[0;34m:\u001b[0m\u001b[0;34m\u001b[0m\u001b[0;34m\u001b[0m\u001b[0m\n\u001b[1;32m     19\u001b[0m     \u001b[0;31m# 사용자로부터 메뉴 선택을 받는다.\u001b[0m\u001b[0;34m\u001b[0m\u001b[0;34m\u001b[0m\u001b[0m\n\u001b[0;32m---> 20\u001b[0;31m     \u001b[0mmenu_choice\u001b[0m \u001b[0;34m=\u001b[0m \u001b[0minput\u001b[0m\u001b[0;34m(\u001b[0m\u001b[0;34m\"\\n비빔밥 메뉴를 선택해 주세요. 1, 2, 3 >>> \"\u001b[0m \u001b[0;34m)\u001b[0m\u001b[0;34m.\u001b[0m\u001b[0msplit\u001b[0m\u001b[0;34m(\u001b[0m\u001b[0;34m)\u001b[0m\u001b[0;34m\u001b[0m\u001b[0;34m\u001b[0m\u001b[0m\n\u001b[0m\u001b[1;32m     21\u001b[0m     \u001b[0mprint\u001b[0m\u001b[0;34m(\u001b[0m\u001b[0mmenu_choice\u001b[0m\u001b[0;34m)\u001b[0m\u001b[0;34m\u001b[0m\u001b[0;34m\u001b[0m\u001b[0m\n\u001b[1;32m     22\u001b[0m \u001b[0;34m\u001b[0m\u001b[0m\n",
            "\u001b[0;32m/usr/local/lib/python3.10/dist-packages/ipykernel/kernelbase.py\u001b[0m in \u001b[0;36mraw_input\u001b[0;34m(self, prompt)\u001b[0m\n\u001b[1;32m    849\u001b[0m                 \u001b[0;34m\"raw_input was called, but this frontend does not support input requests.\"\u001b[0m\u001b[0;34m\u001b[0m\u001b[0;34m\u001b[0m\u001b[0m\n\u001b[1;32m    850\u001b[0m             )\n\u001b[0;32m--> 851\u001b[0;31m         return self._input_request(str(prompt),\n\u001b[0m\u001b[1;32m    852\u001b[0m             \u001b[0mself\u001b[0m\u001b[0;34m.\u001b[0m\u001b[0m_parent_ident\u001b[0m\u001b[0;34m,\u001b[0m\u001b[0;34m\u001b[0m\u001b[0;34m\u001b[0m\u001b[0m\n\u001b[1;32m    853\u001b[0m             \u001b[0mself\u001b[0m\u001b[0;34m.\u001b[0m\u001b[0m_parent_header\u001b[0m\u001b[0;34m,\u001b[0m\u001b[0;34m\u001b[0m\u001b[0;34m\u001b[0m\u001b[0m\n",
            "\u001b[0;32m/usr/local/lib/python3.10/dist-packages/ipykernel/kernelbase.py\u001b[0m in \u001b[0;36m_input_request\u001b[0;34m(self, prompt, ident, parent, password)\u001b[0m\n\u001b[1;32m    893\u001b[0m             \u001b[0;32mexcept\u001b[0m \u001b[0mKeyboardInterrupt\u001b[0m\u001b[0;34m:\u001b[0m\u001b[0;34m\u001b[0m\u001b[0;34m\u001b[0m\u001b[0m\n\u001b[1;32m    894\u001b[0m                 \u001b[0;31m# re-raise KeyboardInterrupt, to truncate traceback\u001b[0m\u001b[0;34m\u001b[0m\u001b[0;34m\u001b[0m\u001b[0m\n\u001b[0;32m--> 895\u001b[0;31m                 \u001b[0;32mraise\u001b[0m \u001b[0mKeyboardInterrupt\u001b[0m\u001b[0;34m(\u001b[0m\u001b[0;34m\"Interrupted by user\"\u001b[0m\u001b[0;34m)\u001b[0m \u001b[0;32mfrom\u001b[0m \u001b[0;32mNone\u001b[0m\u001b[0;34m\u001b[0m\u001b[0;34m\u001b[0m\u001b[0m\n\u001b[0m\u001b[1;32m    896\u001b[0m             \u001b[0;32mexcept\u001b[0m \u001b[0mException\u001b[0m \u001b[0;32mas\u001b[0m \u001b[0me\u001b[0m\u001b[0;34m:\u001b[0m\u001b[0;34m\u001b[0m\u001b[0;34m\u001b[0m\u001b[0m\n\u001b[1;32m    897\u001b[0m                 \u001b[0mself\u001b[0m\u001b[0;34m.\u001b[0m\u001b[0mlog\u001b[0m\u001b[0;34m.\u001b[0m\u001b[0mwarning\u001b[0m\u001b[0;34m(\u001b[0m\u001b[0;34m\"Invalid Message:\"\u001b[0m\u001b[0;34m,\u001b[0m \u001b[0mexc_info\u001b[0m\u001b[0;34m=\u001b[0m\u001b[0;32mTrue\u001b[0m\u001b[0;34m)\u001b[0m\u001b[0;34m\u001b[0m\u001b[0;34m\u001b[0m\u001b[0m\n",
            "\u001b[0;31mKeyboardInterrupt\u001b[0m: Interrupted by user"
          ]
        }
      ],
      "source": [
        "\n",
        "# 여러개의 음식을 동시에 주문 할 수 있는 주문 시스템을 작성하세요(구조지향)\n",
        "# 강사님 버전 + 계속 주문 추가\n",
        "\n",
        "def display_menu():\n",
        "        print(\"KITA 식당에 오신 것을 환영합니다\")\n",
        "        print(\"\\n\" + \"=\" * 40)\n",
        "        print(\"\\n          - 메  뉴 -\")\n",
        "        print(\"    1. 불고기 비빔밥 : 12,000원\")\n",
        "        print(\"    2. 야채 비빔밥 : 8,000원\")\n",
        "        print(\"    3. 전주 비빔밥 : 10,000원\")\n",
        "        print(\"\\n    세트 주문시 : 3,000원 추가\")\n",
        "        print(\"    (세트는 밥과 반찬이 추가됩니다.)\")\n",
        "        print(\"\\n\" + \"=\" * 40)\n",
        "\n",
        "\n",
        "\n",
        "\n",
        "def order():\n",
        "    # 사용자로부터 메뉴 선택을 받는다.\n",
        "    menu_choice = input(\"\\n비빔밥 메뉴를 선택해 주세요. 1, 2, 3 >>> \" ).split()\n",
        "    print(menu_choice)\n",
        "\n",
        "    # 메뉴별 가격을 설정한다.\n",
        "    # prices = {1: 12000, 2: 8000, 3: 10000}\n",
        "    menu_items = {\n",
        "    '1':('불고기 비빔밥', 12000),\n",
        "    '2':('야채 비빔밥', 8000),\n",
        "    '3':('전주 비빔밥', 10000)\n",
        "}\n",
        "\n",
        "    # 사용자가 선택한 메뉴의 가격을 가져온다.\n",
        "    # total_price = prices.get(menu_choice, 0)\n",
        "    total_price = menu_items(menu_choice)\n",
        "    print(total_price)\n",
        "\n",
        "\n",
        "    # 세트 주문 여부를 확인한다.\n",
        "    set_order = input(\"세트 주문을 하시겠습니까? 3,000원 추가. y, n >>> \").lower()\n",
        "    if set_order == 'y':\n",
        "        total_price += 3000\n",
        "    print(f\"총 금액은 {total_price}원 입니다.\")\n",
        "\n",
        "def main():\n",
        "    while True:\n",
        "        display_menu()\n",
        "        order()\n",
        "\n",
        "        #계속 주문하거나 종료 여부를 확인한다\n",
        "        continue_ordering = input('\\n다시 주문하시겠습니까? (주문: enter / 종료: exit) >>>')\n",
        "        if continue_ordering == 'exit':\n",
        "            break\n",
        "\n",
        "    print('\\n감사합니다! 다음에 또 주문해주세요')\n",
        "\n",
        "\n",
        "if __name__ == \"__main__\":\n",
        "    main()"
      ]
    },
    {
      "cell_type": "code",
      "source": [
        "#강사님 버전 문제1\n",
        "\n",
        "# 메뉴 아이템과 가격 결정\n",
        "menu_items = {\n",
        "    '1':('불고기 비빔밥', 12000),\n",
        "    '2':('야채 비빔밥', 8000),\n",
        "    '3':('전주 비빔밥', 10000)\n",
        "}\n",
        "\n",
        "set_price = 3000\n",
        "orders = {}\n",
        "price_total = 0\n",
        "\n",
        "def display_menu():\n",
        "    print(\"\\n♣♣♣ KITA 식당에 오신 것을 환영합니다 ♣♣♣\")\n",
        "    print(\"========================================\")\n",
        "    print(\"           - 메뉴 -\")\n",
        "    for key, (name, price) in menu_items.items():\n",
        "        print(f\"  {key}. {name} : {price}원\")\n",
        "    print(\"\\n  세트 주문시 : 3000원 추가 (세트는 밥과 반찬이 추가됩니다.)\")\n",
        "    print(\"========================================\")\n",
        "\n",
        "# print(display_menu())\n",
        "\n",
        "def display_order_summary():\n",
        "    global price_total          # 전역 변수 price_total 사용 선언\n",
        "    print('\\n◼장바구니')\n",
        "    price_total = 0\n",
        "    for key, (name, price) in menu_items.items():\n",
        "        count = orders.get((key, False), 0)\n",
        "        count_set = orders.get((key, True) , 0)\n",
        "        print(f\" {name} {count}개 : {count * price}원\")\n",
        "        print(f\" {name} {count_set}개 : {count_set * (price + set_price)}원\")\n",
        "        price_total += count * price + count_set * (price + set_price)\n",
        "    print(f\"총 금액 : {price_total}원\\n\")\n",
        "\n",
        "def add_order(menu_id, is_set):\n",
        "    item_name, item_price = menu_items[menu_id]\n",
        "    if is_set:\n",
        "        item_price += set_price\n",
        "    num = input(f\"\\n● {item_name}{' 세트' if is_set else ''} 몇 개 주문 하시겠습니까?\\n\")\n",
        "    if num.isdigit() and int(num) > 0:\n",
        "        orders[(menu_id, is_set)] = orders.get((menu_id, is_set), 0) + int(num)      # orders는 {(menu_id, is_set) : num}\n",
        "        print(f\"\\n{item_name}{' 세트' if is_set else ''} {num}개가 장바구니에 담겼습니다.\\n\")\n",
        "    else:\n",
        "        print(\"잘못 주문하셨습니다. 다시 주문해주세요.\")\n",
        "\n",
        "def process_order():\n",
        "    while True:\n",
        "        msg = input(\"\\n주문을 하시겠습니가? (y 또는 n) >>> \").strip().lower()\n",
        "        if msg == 'y':\n",
        "            while True:\n",
        "                display_menu()\n",
        "                display_order_summary()\n",
        "                choice = input(\"\\n●주문 할 메뉴를 골라주세요. 불고기 : 1, 야채 : 2, 전주 : 3 , 전체 취소 : 0, 결제 : 5>>> \").strip().lower()\n",
        "                if choice in menu_items:\n",
        "                    set_choice = input(\"●3000원 추가로 세트 주문하시겠습니까? (일반 주문시 : n, 세트 주문시 : y)\\n >>> \").strip().lower()\n",
        "                    if set_choice in ['y', 'n']:\n",
        "                        add_order(choice, set_choice == 'y')\n",
        "                    else:\n",
        "                        print('◈올바른 선택을 입력해주세요 (y 또는 n)◈')\n",
        "                elif choice == '0':\n",
        "                    orders.clear()\n",
        "                    print('\\n모든 주문이 취소되었습니다.')\n",
        "                elif choice == '5':\n",
        "                    if price_total > 0:\n",
        "                        print(f'\\n●주문하려면 결제해주세요. 결제금액은 {price_total}원 입니다\\n')\n",
        "                        input(\"결제를 완료하려면 아무 키나 눌러주세요...\")      # 사용자가 결제를 확일 할 수 있도록 입력 대기\n",
        "                        print(f'\\n총 금액은 {price_total}원이 결제 되었습닏. 감사합니다.')\n",
        "                        orders.clear()\n",
        "                        break\n",
        "                    else:\n",
        "                        print('▲메뉴를 고르고 주문해주세요▲')\n",
        "                else:\n",
        "                    print('메뉴의 지정 된 숫자로 입력하세요')\n",
        "        else:\n",
        "            print('감사합니다')\n",
        "            break\n",
        "\n",
        "if __name__ == '__main__':\n",
        "    process_order()"
      ],
      "metadata": {
        "colab": {
          "base_uri": "https://localhost:8080/"
        },
        "id": "TgnxiOPYixkx",
        "outputId": "36c467ea-45cb-4961-e7df-331ce6007f9a"
      },
      "execution_count": null,
      "outputs": [
        {
          "output_type": "stream",
          "name": "stdout",
          "text": [
            "\n",
            "주문을 하시겠습니가? (y 또는 n) >>> y\n",
            "\n",
            "♣♣♣ KITA 식당에 오신 것을 환영합니다 ♣♣♣\n",
            "========================================\n",
            "           - 메뉴 -\n",
            "  1. 불고기 비빔밥 : 12000원\n",
            "  2. 야채 비빔밥 : 8000원\n",
            "  3. 전주 비빔밥 : 10000원\n",
            "\n",
            "  세트 주문시 : 3000원 추가 (세트는 밥과 반찬이 추가됩니다.)\n",
            "========================================\n",
            "\n",
            "◼장바구니\n",
            " 불고기 비빔밥 0개 : 0원\n",
            " 불고기 비빔밥 0개 : 0원\n",
            " 야채 비빔밥 0개 : 0원\n",
            " 야채 비빔밥 0개 : 0원\n",
            " 전주 비빔밥 0개 : 0원\n",
            " 전주 비빔밥 0개 : 0원\n",
            "총 금액 : 0원\n",
            "\n",
            "\n",
            "●주문 할 메뉴를 골라주세요. 불고기 : 1, 야채 : 2, 전주 : 3 , 전체 취소 : 0, 결제 : 5>>> 1\n",
            "●3000원 추가로 세트 주문하시겠습니까? (일반 주문시 : n, 세트 주문시 : y)\n",
            " >>> y\n",
            "\n",
            "● 불고기 비빔밥 세트 몇 개 주문 하시겠습니까?\n",
            "4\n",
            "\n",
            "불고기 비빔밥 세트 4개가 장바구니에 담겼습니다.\n",
            "\n",
            "\n",
            "♣♣♣ KITA 식당에 오신 것을 환영합니다 ♣♣♣\n",
            "========================================\n",
            "           - 메뉴 -\n",
            "  1. 불고기 비빔밥 : 12000원\n",
            "  2. 야채 비빔밥 : 8000원\n",
            "  3. 전주 비빔밥 : 10000원\n",
            "\n",
            "  세트 주문시 : 3000원 추가 (세트는 밥과 반찬이 추가됩니다.)\n",
            "========================================\n",
            "\n",
            "◼장바구니\n",
            " 불고기 비빔밥 0개 : 0원\n",
            " 불고기 비빔밥 4개 : 60000원\n",
            " 야채 비빔밥 0개 : 0원\n",
            " 야채 비빔밥 0개 : 0원\n",
            " 전주 비빔밥 0개 : 0원\n",
            " 전주 비빔밥 0개 : 0원\n",
            "총 금액 : 60000원\n",
            "\n",
            "\n",
            "●주문 할 메뉴를 골라주세요. 불고기 : 1, 야채 : 2, 전주 : 3 , 전체 취소 : 0, 결제 : 5>>> 3\n",
            "●3000원 추가로 세트 주문하시겠습니까? (일반 주문시 : n, 세트 주문시 : y)\n",
            " >>> n\n",
            "\n",
            "● 전주 비빔밥 몇 개 주문 하시겠습니까?\n",
            "2\n",
            "\n",
            "전주 비빔밥 2개가 장바구니에 담겼습니다.\n",
            "\n",
            "\n",
            "♣♣♣ KITA 식당에 오신 것을 환영합니다 ♣♣♣\n",
            "========================================\n",
            "           - 메뉴 -\n",
            "  1. 불고기 비빔밥 : 12000원\n",
            "  2. 야채 비빔밥 : 8000원\n",
            "  3. 전주 비빔밥 : 10000원\n",
            "\n",
            "  세트 주문시 : 3000원 추가 (세트는 밥과 반찬이 추가됩니다.)\n",
            "========================================\n",
            "\n",
            "◼장바구니\n",
            " 불고기 비빔밥 0개 : 0원\n",
            " 불고기 비빔밥 4개 : 60000원\n",
            " 야채 비빔밥 0개 : 0원\n",
            " 야채 비빔밥 0개 : 0원\n",
            " 전주 비빔밥 2개 : 20000원\n",
            " 전주 비빔밥 0개 : 0원\n",
            "총 금액 : 80000원\n",
            "\n",
            "\n",
            "●주문 할 메뉴를 골라주세요. 불고기 : 1, 야채 : 2, 전주 : 3 , 전체 취소 : 0, 결제 : 5>>> 2\n",
            "●3000원 추가로 세트 주문하시겠습니까? (일반 주문시 : n, 세트 주문시 : y)\n",
            " >>> y\n",
            "\n",
            "● 야채 비빔밥 세트 몇 개 주문 하시겠습니까?\n",
            "3\n",
            "\n",
            "야채 비빔밥 세트 3개가 장바구니에 담겼습니다.\n",
            "\n",
            "\n",
            "♣♣♣ KITA 식당에 오신 것을 환영합니다 ♣♣♣\n",
            "========================================\n",
            "           - 메뉴 -\n",
            "  1. 불고기 비빔밥 : 12000원\n",
            "  2. 야채 비빔밥 : 8000원\n",
            "  3. 전주 비빔밥 : 10000원\n",
            "\n",
            "  세트 주문시 : 3000원 추가 (세트는 밥과 반찬이 추가됩니다.)\n",
            "========================================\n",
            "\n",
            "◼장바구니\n",
            " 불고기 비빔밥 0개 : 0원\n",
            " 불고기 비빔밥 4개 : 60000원\n",
            " 야채 비빔밥 0개 : 0원\n",
            " 야채 비빔밥 3개 : 33000원\n",
            " 전주 비빔밥 2개 : 20000원\n",
            " 전주 비빔밥 0개 : 0원\n",
            "총 금액 : 113000원\n",
            "\n",
            "\n",
            "●주문 할 메뉴를 골라주세요. 불고기 : 1, 야채 : 2, 전주 : 3 , 전체 취소 : 0, 결제 : 5>>> 5\n",
            "\n",
            "●주문하려면 결제해주세요. 결제금액은 113000원 입니다\n",
            "\n",
            "결제를 완료하려면 아무 키나 눌러주세요...4\n",
            "\n",
            "총 금액은 113000원이 결제 되었습닏. 감사합니다.\n",
            "\n",
            "주문을 하시겠습니가? (y 또는 n) >>> n\n",
            "감사합니다\n"
          ]
        }
      ]
    },
    {
      "cell_type": "code",
      "source": [
        "#\n",
        "\n",
        "#  메뉴 아이템과 가격 설정\n",
        "menu_items = {\n",
        "    '1': (\"불고기 비빔밥\", 12000),\n",
        "    '2': (\"야채 비빔밥\", 8000),\n",
        "    '3': (\"전주 비빔밥\", 10000)\n",
        "}\n",
        "set_price = 3000\n",
        "orders = {}\n",
        "price_total = 0\n",
        "\n",
        "def display_menu():\n",
        "    print(\"\\n♣♣♣ KITA 식당에 오신 것을 환영합니다 ♣♣♣\")\n",
        "    print(\"========================================\")\n",
        "    print(\"           - 메뉴 -\")\n",
        "    for key, (name, price) in menu_items.items():\n",
        "        print(f\"  {key}. {name} : {price}원\")\n",
        "    print(\"\\n  세트 주문시 : 3000원 추가 (세트는 밥과 반찬이 추가됩니다.)\")\n",
        "    print(\"========================================\")\n",
        "\n",
        "def display_order_summary():\n",
        "    global price_total  # 전역 변수 price_total 사용 선언\n",
        "    print(\"\\n■장바구니\")\n",
        "    price_total = 0\n",
        "    for key, (name, price) in menu_items.items():\n",
        "        count = orders.get((key, False), 0)\n",
        "        count_set = orders.get((key, True), 0)\n",
        "        print(f\" {name} {count}개: {count * price}원\")\n",
        "        print(f\" {name} 세트 {count_set}개: {count_set * (price + set_price)}원\")\n",
        "        price_total += (count * price) + (count_set * (price + set_price))\n",
        "    print(f\" 총 금액 {price_total}원\\n\")\n",
        "\n",
        "def add_order(menu_id, is_set):\n",
        "    item_name, item_price = menu_items[menu_id]\n",
        "    if is_set:\n",
        "        item_price += set_price\n",
        "    num = input(f\"\\n● {item_name}{' 세트' if is_set else ''} 몇 개 주문 하시겠습니까?\\n\")\n",
        "    if num.isdigit() and int(num) > 0:\n",
        "        orders[(menu_id, is_set)] = orders.get((menu_id, is_set), 0) + int(num) # orders는 {(menu_id, is_set):개수}\n",
        "        print(f\"\\n{item_name}{' 세트' if is_set else ''} {num}개가 장바구니에 담겼습니다.\\n\")\n",
        "    else:\n",
        "        print('★양수만 입력하세요.★')\n",
        "\n",
        "def process_order():\n",
        "    while True:\n",
        "        msg = input(\"● 주문을 하시겠습니까? (y 또는 n) >> \").strip().lower()\n",
        "        if msg == 'y':\n",
        "          while True:\n",
        "            display_menu()\n",
        "            display_order_summary()\n",
        "            choice = input(\"● 주문할 메뉴를 골라주세요. (불고기 비빔밥:1, 야채 비빔밥:2, 전주 비빔밥:3, \\\n",
        "            전체 취소:0, 결재:5) >> \").strip().lower()\n",
        "            if choice in menu_items:\n",
        "                set_choice = input(\"\\n●3000원을 추가해 세트로 주문하시겠습니까? \\\n",
        "                (일반주문시:n, 세트주문시:y)\\n\").strip().lower()\n",
        "                if set_choice in ['y', 'n']:\n",
        "                    add_order(choice, set_choice == 'y')\n",
        "                else:\n",
        "                    print('★올바른 선택을 입력하세요 (y 또는 n).★')\n",
        "            elif choice == '0':\n",
        "                orders.clear()\n",
        "                print('\\n모든 주문이 취소되었습니다.')\n",
        "            elif choice == '5':\n",
        "                if price_total > 0:\n",
        "                    print(f'\\n●주문하려면 결제해주세요. 결제금액은 {price_total}원 입니다.\\n')\n",
        "                    input(\"결제를 완료하려면 아무 키나 누르세요...\")  # 사용자가 결제를 확인할 수 있도록 입력 대기\n",
        "                    print(f\"\\n총 금액 {price_total}원이 결제 되었습니다. 감사합니다.\")\n",
        "                    orders.clear()\n",
        "                    break\n",
        "                else:\n",
        "                    print('★메뉴를 고르고 주문해주세요!★')\n",
        "            else:\n",
        "                print('★메뉴의 지정된 숫자로 입력하세요★')\n",
        "        else:\n",
        "          print('감사합니다.')\n",
        "          break\n",
        "if __name__ == \"__main__\":output = [numbers[i::3] for i in range(3)]\n",
        "    process_order()"
      ],
      "metadata": {
        "id": "NFsPSa4D5ZgE"
      },
      "execution_count": null,
      "outputs": []
    },
    {
      "cell_type": "markdown",
      "source": [
        "Task2_0503. 내장함수 5개를 활용해서 사용자 함수로 간단한 프로그램을 만드세요.\n",
        "\n",
        "[예시] 문서관리 프로그램\n",
        "\n",
        "len() - 문자열의 길이를 계산합니다.\\\n",
        "input() - 사용자로부터 입력을 받습니다.\\\n",
        "print() - 결과를 출력합니다.\\\n",
        "sum() - 주어진 조건에 따라 특정 개수를 계산합니다.\\\n",
        "Counter (from collections) - 문자의 빈도수를 계산합니다.\\"
      ],
      "metadata": {
        "id": "el-KTusOUfRM"
      }
    },
    {
      "cell_type": "code",
      "source": [
        "# 문자에서 알파벳만 추출하여 총 각 알파벳이 몇개 있는지 알려주는 프로그램\n",
        "from collections import Counter\n",
        "\n",
        "input_data = 'ldlaojo21il15jaswe aoseu12341alja qaope askdf ioeqj;lasdjl09q05rpoiutznzxc,vnzx.nawepofiuasfnasf01451-245909v 808n43-5vn aj09 24857n-01 9vgn5 puojklfk'\n",
        "# input_data ='13adb4612faida'\n",
        "\n",
        "def countAlphaChar(data):\n",
        "\n",
        "    #들어온 문자열을 알파벳으로만 출력\n",
        "    alpha = list(filter(str.isalpha, input_data))\n",
        "    # arrange = ''.join(sorted(alpha))\n",
        "    # print(arrange)\n",
        "    # rearrange = arrange.split()\n",
        "    # print(rearrange)\n",
        "    #출력 된 알파벳을 Counter을 이용해 각 알파벳이 몇개인지 세서 출력\n",
        "    result = Counter(alpha)\n",
        "    return print(result)\n",
        "\n",
        "#알파벳이 가장 많은 순으로 출력\n",
        "countAlphaChar(input_data)\n",
        "\n"
      ],
      "metadata": {
        "colab": {
          "base_uri": "https://localhost:8080/"
        },
        "id": "5HDFIQc5UqB5",
        "outputId": "1d42f32f-e1fc-4379-caa8-205dce189d64"
      },
      "execution_count": null,
      "outputs": [
        {
          "output_type": "stream",
          "name": "stdout",
          "text": [
            "Counter({'a': 12, 'o': 8, 'n': 8, 'l': 7, 'j': 7, 's': 6, 'e': 5, 'f': 5, 'i': 4, 'u': 4, 'p': 4, 'v': 4, 'd': 3, 'q': 3, 'k': 3, 'z': 3, 'w': 2, 'x': 2, 'r': 1, 't': 1, 'c': 1, 'g': 1})\n"
          ]
        }
      ]
    },
    {
      "cell_type": "code",
      "source": [
        "# 강사님 문제2\n",
        "print(dir(__builtins__))\n",
        "print(len(dir(__builtins__)))\n",
        "\n",
        "\n"
      ],
      "metadata": {
        "colab": {
          "base_uri": "https://localhost:8080/"
        },
        "id": "bs9QYbnB_xtw",
        "outputId": "678f7813-9023-4969-af6d-5977edc6c2c8"
      },
      "execution_count": null,
      "outputs": [
        {
          "output_type": "stream",
          "name": "stdout",
          "text": [
            "['ArithmeticError', 'AssertionError', 'AttributeError', 'BaseException', 'BlockingIOError', 'BrokenPipeError', 'BufferError', 'BytesWarning', 'ChildProcessError', 'ConnectionAbortedError', 'ConnectionError', 'ConnectionRefusedError', 'ConnectionResetError', 'DeprecationWarning', 'EOFError', 'Ellipsis', 'EncodingWarning', 'EnvironmentError', 'Exception', 'False', 'FileExistsError', 'FileNotFoundError', 'FloatingPointError', 'FutureWarning', 'GeneratorExit', 'IOError', 'ImportError', 'ImportWarning', 'IndentationError', 'IndexError', 'InterruptedError', 'IsADirectoryError', 'KeyError', 'KeyboardInterrupt', 'LookupError', 'MemoryError', 'ModuleNotFoundError', 'NameError', 'None', 'NotADirectoryError', 'NotImplemented', 'NotImplementedError', 'OSError', 'OverflowError', 'PendingDeprecationWarning', 'PermissionError', 'ProcessLookupError', 'RecursionError', 'ReferenceError', 'ResourceWarning', 'RuntimeError', 'RuntimeWarning', 'StopAsyncIteration', 'StopIteration', 'SyntaxError', 'SyntaxWarning', 'SystemError', 'SystemExit', 'TabError', 'TimeoutError', 'True', 'TypeError', 'UnboundLocalError', 'UnicodeDecodeError', 'UnicodeEncodeError', 'UnicodeError', 'UnicodeTranslateError', 'UnicodeWarning', 'UserWarning', 'ValueError', 'Warning', 'ZeroDivisionError', '__IPYTHON__', '__build_class__', '__debug__', '__doc__', '__import__', '__loader__', '__name__', '__package__', '__spec__', 'abs', 'aiter', 'all', 'anext', 'any', 'ascii', 'bin', 'bool', 'breakpoint', 'bytearray', 'bytes', 'callable', 'chr', 'classmethod', 'compile', 'complex', 'copyright', 'credits', 'delattr', 'dict', 'dir', 'display', 'divmod', 'enumerate', 'eval', 'exec', 'execfile', 'filter', 'float', 'format', 'frozenset', 'get_ipython', 'getattr', 'globals', 'hasattr', 'hash', 'help', 'hex', 'id', 'input', 'int', 'isinstance', 'issubclass', 'iter', 'len', 'license', 'list', 'locals', 'map', 'max', 'memoryview', 'min', 'next', 'object', 'oct', 'open', 'ord', 'pow', 'print', 'property', 'range', 'repr', 'reversed', 'round', 'runfile', 'set', 'setattr', 'slice', 'sorted', 'staticmethod', 'str', 'sum', 'super', 'tuple', 'type', 'vars', 'zip']\n",
            "158\n"
          ]
        }
      ]
    },
    {
      "cell_type": "code",
      "source": [
        "def string_statistics(user_input):\n",
        "    # 문자열 길이 계산\n",
        "    length = len(user_input)\n",
        "\n",
        "    # 가장 자주 등장하는 문자 찾기\n",
        "    from collections import Counter\n",
        "    frequency = Counter(user_input)\n",
        "    most_common = frequency.most_common(1)[0][0]\n",
        "\n",
        "    # 숫자 개수 세기\n",
        "    num_count = sum(c.isdigit() for c in user_input)\n",
        "\n",
        "    # 대문자 개수 세기\n",
        "    upper_count = sum(c.isupper() for c in user_input)\n",
        "\n",
        "    # 소문자 개수 세기\n",
        "    lower_count = sum(c.islower() for c in user_input)\n",
        "\n",
        "    # 결과 출력\n",
        "    print(f'가장 자주 등장하는 문자: {most_common}')        # 공백이 가장 많을 시 빈칸으로 나옴\n",
        "    # print(f'가장 자주 등장하는 문자: {frequency}')\n",
        "    print(f'문자열 길이: {length}')\n",
        "    print(f'숫자 개수: {num_count}')\n",
        "    print(f'대문자 개수: {upper_count}')\n",
        "    print(f'소문자 개수: {lower_count}')\n",
        "\n",
        "# 사용자로부터 문자열 입력 받기\n",
        "user_input = input('문자열을 입력하세요: ')\n",
        "\n",
        "# 문자열 통계 계산 함수 호출\n",
        "string_statistics(user_input)"
      ],
      "metadata": {
        "colab": {
          "base_uri": "https://localhost:8080/"
        },
        "id": "Tnq3CBwtBg1t",
        "outputId": "eabd0cc6-8a25-44fb-d1e8-8281a5f4f2d5"
      },
      "execution_count": null,
      "outputs": [
        {
          "output_type": "stream",
          "name": "stdout",
          "text": [
            "문자열을 입력하세요: Are there elements of the new special that you could point to and say, This is the kind of material that I couldn’t have done five or 10 years ago? I think as a comedian, I’m getting to the good stuff. When you talk about real-life pain, like parents passing, and you can get through that set and you can still be irreverent, edgy, crazy, silly, thought-provoking and vulnerable, I think that’s growth. I miss my parents dearly, but I’m a different human with my parents gone than I was when they were here. Now I’m a man. I don’t have parents anymore, so I live differently. I understand the quality of life. I don’t look at my phone as much. I walk. I pray more, because when I pray I feel like I’m speaking to my parents and that they’re listening. I let them know what’s going on.  So the key to self-improvement is simple: Have your parents die. [Laughs.] You know what’s crazy? My mother’s death broke me. It shattered me into a million pieces, because that was my girl. I never got married, because I never wanted my mother to be jealous of a woman. I never wanted my mother to feel second to any woman.  You know that’s the reason you never got married? Oh, absolutely. That was one of five reasons. And Mom was very needy. I told my mother on her deathbed, “I never got married because I always wanted you to be my No. 1 girl.” Those were my last words. I said, “Take that to heaven with you.”  I realize as we’re talking, we’re not really making the case that this a particularly funny special. It’s an hour and seven minutes. It’s hilarious for about an hour and five, and then you have spread throughout, two to maybe three minutes of heart. I’m proud of this special because it’s going to make you feel. I think that’s more important than making you laugh. You want to move somebody. I’m crazy and I know it. I can be inappropriate and I know it. In order for me to hit the different levels of comedy, you got to be somewhat offensive. But when you hit that frequency that speaks to the heart — it’s so relatable.  You said to reach certain levels of comedy, you’ve got to be offensive. There is material in the special — I’m thinking of the Magic Johnson-AIDS material. By the way, he has H.I.V., not AIDS. You can’t be super on point with the facts when you’re telling jokes. Sometimes you just tell the jokes, man. What’s crazy is I’ve had friends and relatives that died from AIDS, and so part of that joke is finding humor in things that happen. It’s a different way to look at something tragic. I think the world has forgot how to laugh. We’re grooming people to be sensitive. But I find when I’m in a comedy club, people like to laugh. They like to laugh at those dark things, the Magic jokes. People want to laugh again.  You have this series of jokes framing it like, basically, Magic’s life got better after he got sick, but you throw in a line about sex with monkeys. That was one where I cringed. I didn’t say he had sex with monkeys. I said, I don’t know how he got this good version of this disease, but however he got that, I want that. I don’t care how he got it. It could have been a girl. Could have been from soup. It could have been from — show me the monkey he [expletive], I got next. To me, that was escapism. Because it’s not real. Of course he didn’t have sex with a monkey. If you read into every joke, if you get literal, everybody’s going to be offended. There’s about 72 things in that special to be offended by. I hope that Magic laughs the loudest at the joke. Which he will. Magic has a great sense of humor. I think part of it is, it’s all out there. I’m not telling secrets. I’m just going, Here’s a different way to look at it. I rescued myself from depression by learning to laugh in my worst circumstances. Losing my parents broke me, and I’m telling the audience, Here’s how you can survive this: Find humor in everything.\n",
            "가장 자주 등장하는 문자: Counter({' ': 738, 'e': 358, 't': 277, 'o': 236, 'a': 231, 'n': 184, 'i': 170, 'h': 165, 's': 163, 'r': 145, 'l': 104, 'u': 90, 'm': 89, 'd': 88, 'y': 82, 'g': 75, '.': 69, 'f': 64, 'I': 62, 'w': 59, 'c': 57, 'p': 47, 'k': 47, '’': 45, ',': 42, 'v': 42, 'b': 39, 'j': 10, 'T': 9, 'M': 7, 'Y': 6, 'A': 5, 'z': 5, 'S': 5, 'x': 5, 'W': 4, '-': 4, 'H': 4, 'B': 4, '?': 3, '—': 3, 'D': 3, '1': 2, 'N': 2, 'q': 2, ':': 2, '[': 2, 'L': 2, ']': 2, 'O': 2, '“': 2, '”': 2, '0': 1, 'J': 1, 'V': 1, 'P': 1, 'C': 1, '7': 1, '2': 1, 'F': 1})\n",
            "문자열 길이: 3873\n",
            "숫자 개수: 5\n",
            "대문자 개수: 120\n",
            "소문자 개수: 2834\n"
          ]
        }
      ]
    },
    {
      "cell_type": "markdown",
      "source": [
        "Task3_0503. 외장함수 3개 이상 활용해서 간단한 프로그램을 만드세요"
      ],
      "metadata": {
        "id": "_I65s8kEUplO"
      }
    },
    {
      "cell_type": "code",
      "source": [
        "#근의 공식 만들어보기\n",
        "import math\n",
        "# ax^2 + bx + c = 0\n",
        "\n",
        "def quadratic_formula(a, b, c):\n",
        "    d = b**2 - 4*a*c\n",
        "\n",
        "    if d >= 0:\n",
        "        x1 = (-b + math.sqrt(d)) / (2*a)\n",
        "        x2 = (-b - math.sqrt(d)) / (2*a)\n",
        "    else:\n",
        "        return '근이 없습니다'\n",
        "\n",
        "    return print(x1, x2)\n",
        "\n",
        "quadratic_formula(1, 0, -1)\n",
        "quadratic_formula(2, 5, 3)"
      ],
      "metadata": {
        "colab": {
          "base_uri": "https://localhost:8080/"
        },
        "id": "wEjzc7i6UfCa",
        "outputId": "07684b79-90b6-4dc3-d8d2-3a249190b8c4"
      },
      "execution_count": null,
      "outputs": [
        {
          "output_type": "stream",
          "name": "stdout",
          "text": [
            "1.0 -1.0\n",
            "-1.0 -1.5\n"
          ]
        }
      ]
    },
    {
      "cell_type": "code",
      "source": [
        "# 강사님 문제3\n",
        "\n",
        "import os\n",
        "import datetime\n",
        "import shutil\n",
        "\n",
        "def daily_scheduler():\n",
        "    # 현재 날짜와 시간 가져오기\n",
        "    today = datetime.datetime.now()\n",
        "    date_string = today.strftime('%Y-%m-%d %H:%M:%S')\n",
        "    print(f\"오늘의 날짜와 시간: {date_string}\")\n",
        "\n",
        "    # 작업 파일의 이름을 정합니다\n",
        "    filename = f'task_{today.strftime(\"%Y%m%d\")}.txt'\n",
        "\n",
        "    # 파일이 이미 존재하는지 확인합니다\n",
        "    if os.path.exists(filename):\n",
        "        print(f\"'{filename}' 파일이 이미 존재합니다. 백성을 생성합니다\")\n",
        "        # 백업 파일 생성\n",
        "        shutil.copy(filename, filename + '.bak')\n",
        "    else:\n",
        "        print(f\"'{filename}' 파일이 존재하지 않습니다. 새로운 파일을 생성합니다\")\n",
        "\n",
        "    # 사용자로 부터 오늘의 주요 작업을 입력받습니다\n",
        "    task = input('오늘의 주요 작업을 입력하세요: ')\n",
        "    # 작업 내용을 파일에 저장합니다\n",
        "    with open(filename, 'a') as file:\n",
        "        file.write(f\"{date_string}: {task}\\n\")\n",
        "    print(f\"'{filename}' 파일에 작업이 저장 되었습니다\")\n",
        "\n",
        "\n",
        "if __name__ == '__main__':\n",
        "\n",
        "    # 일일 스케줄러 실행\n",
        "    daily_scheduler()"
      ],
      "metadata": {
        "colab": {
          "base_uri": "https://localhost:8080/"
        },
        "id": "dlJIyGjFDvUD",
        "outputId": "7dc483ed-deff-4912-e8a7-2d6dcd9aaf38"
      },
      "execution_count": null,
      "outputs": [
        {
          "output_type": "stream",
          "name": "stdout",
          "text": [
            "오늘의 날짜와 시간: 2024-05-07 03:33:19\n",
            "'task_20240507.txt' 파일이 이미 존재합니다. 백성을 생성합니다\n",
            "오늘의 주요 작업을 입력하세요: 점심 식사\n",
            "'task_20240507.txt' 파일에 작업이 저장 되었습니다\n"
          ]
        }
      ]
    },
    {
      "cell_type": "code",
      "source": [
        "!cat /content/task_20240507.txt"
      ],
      "metadata": {
        "colab": {
          "base_uri": "https://localhost:8080/"
        },
        "id": "Uirgwa6oHEDP",
        "outputId": "f77a866f-fdb8-44b5-e126-810b20918151"
      },
      "execution_count": null,
      "outputs": [
        {
          "output_type": "stream",
          "name": "stdout",
          "text": [
            "2024-05-07 03:32:13: 파이썬 공부\n",
            "2024-05-07 03:33:19: 점심 식사\n"
          ]
        }
      ]
    },
    {
      "cell_type": "markdown",
      "source": [
        "Task4_0503. 리스트를 작성하고 람다 함수를 이용해서 한번에 함수를 적용하여 결과값을 출력하세요."
      ],
      "metadata": {
        "id": "A1NZajhwWHZo"
      }
    },
    {
      "cell_type": "code",
      "source": [
        "#예시\n",
        "numbers = [1, 2, 3, 4, 5]\n",
        "squared_numbers = map(lambda x: x * x, numbers)\n",
        "print(list(squared_numbers))\n",
        "\n",
        "import math\n",
        "\n",
        "#원 지름 람다 함수\n",
        "radius = [2, 3, 4, 5]\n",
        "calculate_circle = map(lambda x: math.pi * x * x, radius)\n",
        "# print(calculate_circle)\n",
        "print(list(calculate_circle))\n",
        "\n",
        "#최대 / 최소\n",
        "list1 = [[1, 3], [5, 6], [3, 4], [9, 0]]\n",
        "\n",
        "max1 = max(list1, key=lambda x: x[0])\n",
        "max2 = max(list1, key=lambda x: x[1])\n",
        "\n",
        "print(max1)\n",
        "print(max2)"
      ],
      "metadata": {
        "colab": {
          "base_uri": "https://localhost:8080/"
        },
        "id": "lUD5IMVSWJb2",
        "outputId": "b819a4b8-512f-417b-9706-15843bf7ed8a"
      },
      "execution_count": null,
      "outputs": [
        {
          "output_type": "stream",
          "name": "stdout",
          "text": [
            "[1, 4, 9, 16, 25]\n",
            "[12.566370614359172, 28.274333882308138, 50.26548245743669, 78.53981633974483]\n",
            "[9, 0]\n",
            "[5, 6]\n"
          ]
        }
      ]
    },
    {
      "cell_type": "code",
      "source": [
        "#강사님 문제4\n",
        "# 짝수\n",
        "numbers = [1, 2, 3, 4, 5]\n",
        "filtered_numbers = filter(lambda x: x % 2 == 0, numbers)\n",
        "print(list(filtered_numbers))\n",
        "\n",
        "# 홀수\n",
        "numbers = [1, 2, 3, 4, 5]\n",
        "filtered_numbers = filter(lambda x: x % 2 != 0, numbers)\n",
        "print(list(filtered_numbers))"
      ],
      "metadata": {
        "colab": {
          "base_uri": "https://localhost:8080/"
        },
        "id": "WbjScoQNJh3k",
        "outputId": "5d6ad49a-347d-443c-bd95-9bb47f4ebcb2"
      },
      "execution_count": null,
      "outputs": [
        {
          "output_type": "stream",
          "name": "stdout",
          "text": [
            "[2, 4]\n",
            "[1, 3, 5]\n"
          ]
        }
      ]
    },
    {
      "cell_type": "markdown",
      "source": [
        "Task5_0503. 외부 라이브러리를 임포트해서 간단한 프로그램을 만드세요."
      ],
      "metadata": {
        "id": "oQQc2a8cWKJ3"
      }
    },
    {
      "cell_type": "code",
      "source": [
        "# from bs4 import BeautifulSoup\n",
        "# html_doc = \"<html><head><title>Hello World</title></head></html>\"\n",
        "# soup = BeautifulSoup(html_doc, 'html.parser')\n",
        "# print(soup.title.text)"
      ],
      "metadata": {
        "id": "2PfASGfQWJtX"
      },
      "execution_count": null,
      "outputs": []
    },
    {
      "cell_type": "code",
      "source": [
        "!pip install requests -q"
      ],
      "metadata": {
        "id": "PItgynucWRcg"
      },
      "execution_count": null,
      "outputs": []
    },
    {
      "cell_type": "code",
      "source": [
        "import requests\n",
        "from bs4 import BeautifulSoup\n",
        "\n",
        "def fetch_website_content(url):\n",
        "    response = requests.get(url)\n",
        "    if response.status_code == 200:\n",
        "        #HTML 내용을 BeautifulSoup 객체로 파싱합니다\n",
        "        soup = BeautifulSoup(response.text, 'html.parser')\n",
        "        #제목을 추출합니다\n",
        "        print(\"Page Title:\", soup.title.string if soup.title else \"No title found\")\n",
        "    else:\n",
        "        print(\"Failed to fetch the webpage\")\n",
        "        print(\"Status code: \",response.status_code)\n",
        "\n",
        "__name__ == '__main__'\n",
        "\n",
        "fetch_website_content('https://www.naver.com')"
      ],
      "metadata": {
        "colab": {
          "base_uri": "https://localhost:8080/"
        },
        "id": "Ls2D3jirKqO7",
        "outputId": "3ac31d12-dc48-4218-e414-591a5842f53d"
      },
      "execution_count": null,
      "outputs": [
        {
          "output_type": "stream",
          "name": "stdout",
          "text": [
            "Page Title: NAVER\n"
          ]
        }
      ]
    }
  ]
}