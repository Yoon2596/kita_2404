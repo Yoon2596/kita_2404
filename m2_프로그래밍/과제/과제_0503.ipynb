{
  "nbformat": 4,
  "nbformat_minor": 0,
  "metadata": {
    "colab": {
      "provenance": [],
      "authorship_tag": "ABX9TyPw1xcSekVAuwxQUdVEbUCz",
      "include_colab_link": true
    },
    "kernelspec": {
      "name": "python3",
      "display_name": "Python 3"
    },
    "language_info": {
      "name": "python"
    }
  },
  "cells": [
    {
      "cell_type": "markdown",
      "metadata": {
        "id": "view-in-github",
        "colab_type": "text"
      },
      "source": [
        "<a href=\"https://colab.research.google.com/github/Yoon2596/kita_2404/blob/main/%EA%B3%BC%EC%A0%9C_0503.ipynb\" target=\"_parent\"><img src=\"https://colab.research.google.com/assets/colab-badge.svg\" alt=\"Open In Colab\"/></a>"
      ]
    },
    {
      "cell_type": "markdown",
      "source": [
        "# Task1_0503. 여러개의 음식을 동시에 주문할 수 있는 주문 시스템을 작성하세요.(구조 지향)"
      ],
      "metadata": {
        "id": "ExSYtk6VUhde"
      }
    },
    {
      "cell_type": "code",
      "execution_count": null,
      "metadata": {
        "id": "oQSPtCp0DGGu"
      },
      "outputs": [],
      "source": [
        "\n",
        "# 여러개의 음식을 동시에 주문 할 수 있는 주문 시스템을 작성하세요(구조지향)\n",
        "# 강사님 버전 + 계속 주문 추가\n",
        "\n",
        "def display_menu():\n",
        "        print(\"KITA 식당에 오신 것을 환영합니다\")\n",
        "        print(\"\\n\" + \"=\" * 40)\n",
        "        print(\"\\n          - 메  뉴 -\")\n",
        "        print(\"    1. 불고기 비빔밥 : 12,000원\")\n",
        "        print(\"    2. 야채 비빔밥 : 8,000원\")\n",
        "        print(\"    3. 전주 비빔밥 : 10,000원\")\n",
        "        print(\"\\n    세트 주문시 : 3,000원 추가\")\n",
        "        print(\"    (세트는 밥과 반찬이 추가됩니다.)\")\n",
        "        print(\"\\n\" + \"=\" * 40)\n",
        "\n",
        "\n",
        "\n",
        "\n",
        "def order():\n",
        "    # 사용자로부터 메뉴 선택을 받는다.\n",
        "    menu_choice = input(\"\\n비빔밥 메뉴를 선택해 주세요. 1, 2, 3 >>> \" ).split()\n",
        "    print(menu_choice)\n",
        "\n",
        "    # 메뉴별 가격을 설정한다.\n",
        "    # prices = {1: 12000, 2: 8000, 3: 10000}\n",
        "    menu_items = {\n",
        "    '1':('불고기 비빔밥', 12000),\n",
        "    '2':('야채 비빔밥', 8000),\n",
        "    '3':('전주 비빔밥', 10000)\n",
        "}\n",
        "\n",
        "    # 사용자가 선택한 메뉴의 가격을 가져온다.\n",
        "    # total_price = prices.get(menu_choice, 0)\n",
        "    total_price = menu_items(menu_choice)\n",
        "    print(total_price)\n",
        "\n",
        "\n",
        "    # 세트 주문 여부를 확인한다.\n",
        "    set_order = input(\"세트 주문을 하시겠습니까? 3,000원 추가. y, n >>> \").lower()\n",
        "    if set_order == 'y':\n",
        "        total_price += 3000\n",
        "    print(f\"총 금액은 {total_price}원 입니다.\")\n",
        "\n",
        "def main():\n",
        "    while True:\n",
        "        display_menu()\n",
        "        order()\n",
        "\n",
        "        #계속 주문하거나 종료 여부를 확인한다\n",
        "        continue_ordering = input('\\n다시 주문하시겠습니까? (주문: enter / 종료: exit) >>>')\n",
        "        if continue_ordering == 'exit':\n",
        "            break\n",
        "\n",
        "    print('\\n감사합니다! 다음에 또 주문해주세요')\n",
        "\n",
        "\n",
        "if __name__ == \"__main__\":\n",
        "    main()"
      ]
    },
    {
      "cell_type": "markdown",
      "source": [
        "Task2_0503. 내장함수 5개를 활용해서 사용자 함수로 간단한 프로그램을 만드세요.\n",
        "\n",
        "[예시] 문서관리 프로그램\n",
        "\n",
        "len() - 문자열의 길이를 계산합니다.\\\n",
        "input() - 사용자로부터 입력을 받습니다.\\\n",
        "print() - 결과를 출력합니다.\\\n",
        "sum() - 주어진 조건에 따라 특정 개수를 계산합니다.\\\n",
        "Counter (from collections) - 문자의 빈도수를 계산합니다.\\"
      ],
      "metadata": {
        "id": "el-KTusOUfRM"
      }
    },
    {
      "cell_type": "code",
      "source": [
        "# 문자에서 알파벳만 추출하여 총 각 알파벳이 몇개 있는지 알려주는 프로그램\n",
        "from collections import Counter\n",
        "\n",
        "input_data = 'ldlaojo21il15jaswe aoseu12341alja qaope askdf ioeqj;lasdjl09q05rpoiutznzxc,vnzx.nawepofiuasfnasf01451-245909v 808n43-5vn aj09 24857n-01 9vgn5 puojklfk'\n",
        "# input_data ='13adb4612faida'\n",
        "\n",
        "def countAlphaChar(data):\n",
        "\n",
        "    #들어온 문자열을 알파벳으로만 출력\n",
        "    alpha = list(filter(str.isalpha, input_data))\n",
        "    # arrange = ''.join(sorted(alpha))\n",
        "    # print(arrange)\n",
        "    # rearrange = arrange.split()\n",
        "    # print(rearrange)\n",
        "    #출력 된 알파벳을 Counter을 이용해 각 알파벳이 몇개인지 세서 출력\n",
        "    result = Counter(alpha)\n",
        "    return print(result)\n",
        "\n",
        "#알파벳이 가장 많은 순으로 출력\n",
        "countAlphaChar(input_data)\n",
        "\n"
      ],
      "metadata": {
        "colab": {
          "base_uri": "https://localhost:8080/"
        },
        "id": "5HDFIQc5UqB5",
        "outputId": "4ff7a2ac-876d-4175-fcd2-150386eb6803"
      },
      "execution_count": null,
      "outputs": [
        {
          "output_type": "stream",
          "name": "stdout",
          "text": [
            "Counter({'a': 12, 'o': 8, 'n': 8, 'l': 7, 'j': 7, 's': 6, 'e': 5, 'f': 5, 'i': 4, 'u': 4, 'p': 4, 'v': 4, 'd': 3, 'q': 3, 'k': 3, 'z': 3, 'w': 2, 'x': 2, 'r': 1, 't': 1, 'c': 1, 'g': 1})\n"
          ]
        }
      ]
    },
    {
      "cell_type": "markdown",
      "source": [
        "Task3_0503. 외장함수 3개 이상 활용해서 간단한 프로그램을 만드세요"
      ],
      "metadata": {
        "id": "_I65s8kEUplO"
      }
    },
    {
      "cell_type": "code",
      "source": [
        "#근의 공식 만들어보기\n",
        "import math\n",
        "# ax^2 + bx + c = 0\n",
        "\n",
        "def quadratic_formula(a, b, c):\n",
        "    d = b**2 - 4*a*c\n",
        "\n",
        "    if d >= 0:\n",
        "        x1 = (-b + math.sqrt(d)) / (2*a)\n",
        "        x2 = (-b - math.sqrt(d)) / (2*a)\n",
        "    else:\n",
        "        return '근이 없습니다'\n",
        "\n",
        "    return print(x1, x2)\n",
        "\n",
        "quadratic_formula(1, 0, -1)\n",
        "quadratic_formula(2, 5, 3)"
      ],
      "metadata": {
        "colab": {
          "base_uri": "https://localhost:8080/"
        },
        "id": "wEjzc7i6UfCa",
        "outputId": "90efaca9-c269-4f4f-898e-be9c8ce41fef"
      },
      "execution_count": null,
      "outputs": [
        {
          "output_type": "stream",
          "name": "stdout",
          "text": [
            "1.0 -1.0\n",
            "-1.0 -1.5\n"
          ]
        }
      ]
    },
    {
      "cell_type": "markdown",
      "source": [
        "Task4_0503. 리스트를 작성하고 람다 함수를 이용해서 한번에 함수를 적용하여 결과값을 출력하세요."
      ],
      "metadata": {
        "id": "A1NZajhwWHZo"
      }
    },
    {
      "cell_type": "code",
      "source": [
        "#예시\n",
        "numbers = [1, 2, 3, 4, 5]\n",
        "squared_numbers = map(lambda x: x * x, numbers)\n",
        "print(list(squared_numbers))\n",
        "\n",
        "import math\n",
        "\n",
        "#원 지름 람다 함수\n",
        "radius = [2, 3, 4, 5]\n",
        "calculate_circle = map(lambda x: math.pi * x * x, radius)\n",
        "# print(calculate_circle)\n",
        "print(list(calculate_circle))\n",
        "\n",
        "#최대 / 최소\n",
        "list1 = [[1, 3], [5, 6], [3, 4], [9, 0]]\n",
        "\n",
        "max1 = max(list1, key=lambda x: x[0])\n",
        "max2 = max(list1, key=lambda x: x[1])\n",
        "\n",
        "print(max1)\n",
        "print(max2)"
      ],
      "metadata": {
        "colab": {
          "base_uri": "https://localhost:8080/"
        },
        "id": "lUD5IMVSWJb2",
        "outputId": "2276cd07-836c-4791-a273-757d401f9e67"
      },
      "execution_count": null,
      "outputs": [
        {
          "output_type": "stream",
          "name": "stdout",
          "text": [
            "[1, 4, 9, 16, 25]\n",
            "[12.566370614359172, 28.274333882308138, 50.26548245743669, 78.53981633974483]\n",
            "[9, 0]\n",
            "[5, 6]\n"
          ]
        }
      ]
    },
    {
      "cell_type": "markdown",
      "source": [
        "Task5_0503. 외부 라이브러리를 임포트해서 간단한 프로그램을 만드세요."
      ],
      "metadata": {
        "id": "oQQc2a8cWKJ3"
      }
    },
    {
      "cell_type": "code",
      "source": [
        "# from bs4 import BeautifulSoup\n",
        "# html_doc = \"<html><head><title>Hello World</title></head></html>\"\n",
        "# soup = BeautifulSoup(html_doc, 'html.parser')\n",
        "# print(soup.title.text)"
      ],
      "metadata": {
        "id": "2PfASGfQWJtX"
      },
      "execution_count": null,
      "outputs": []
    },
    {
      "cell_type": "code",
      "source": [],
      "metadata": {
        "id": "PItgynucWRcg"
      },
      "execution_count": null,
      "outputs": []
    }
  ]
}
