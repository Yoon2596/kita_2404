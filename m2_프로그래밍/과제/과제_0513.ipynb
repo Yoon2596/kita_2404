{
  "nbformat": 4,
  "nbformat_minor": 0,
  "metadata": {
    "colab": {
      "provenance": [],
      "authorship_tag": "ABX9TyPj5sgOMb10Bdgr5+fpUvKR",
      "include_colab_link": true
    },
    "kernelspec": {
      "name": "python3",
      "display_name": "Python 3"
    },
    "language_info": {
      "name": "python"
    }
  },
  "cells": [
    {
      "cell_type": "markdown",
      "metadata": {
        "id": "view-in-github",
        "colab_type": "text"
      },
      "source": [
        "<a href=\"https://colab.research.google.com/github/Yoon2596/kita_2404/blob/main/m2_%ED%94%84%EB%A1%9C%EA%B7%B8%EB%9E%98%EB%B0%8D/%EA%B3%BC%EC%A0%9C/%EA%B3%BC%EC%A0%9C_0513.ipynb\" target=\"_parent\"><img src=\"https://colab.research.google.com/assets/colab-badge.svg\" alt=\"Open In Colab\"/></a>"
      ]
    },
    {
      "cell_type": "markdown",
      "source": [
        "Task1_0513. 클래스 구성 요소와 관련 아래 사항에 대한 사례를 작성하세요.\n",
        "- 클래스 선언\n",
        "- 생성자\n",
        "- 속성(attributes)\n",
        "- 메서드\n",
        "- 상속\n",
        "- 인스턴스화(객체 만들기)\n",
        "- 클래스 변수\n",
        "- 매직 메서드(특수 메서드)"
      ],
      "metadata": {
        "id": "rXdzda2XiOo6"
      }
    },
    {
      "cell_type": "code",
      "source": [
        "# 클래스 선언\n",
        "class Fav:\n",
        "# 클래스 변수\n",
        "    # s1 = '짱구'\n",
        "    # s2 = '철수'\n",
        "\n",
        "# 생성자\n",
        "    def __init__(self, s1 = '짱구', s2 = '철수'):\n",
        "        self.s1 = s1\n",
        "        self.s2 = s2\n",
        "\n",
        "# 속성\n",
        "\n",
        "# 메서드\n",
        "    def hobby(self):\n",
        "        print(self.s1 + '(이)는 게임을 좋아합니다.')\n",
        "        print(self.s2 + '(이)는 영화를 좋아합니다.')\n",
        "\n",
        "# 상속\n",
        "\n",
        "\n",
        "class Person(Fav):\n",
        "    def __init__(self, s1, s2):\n",
        "        super().__init__(s1, s2)\n",
        "\n",
        "\n",
        "    def location(self):\n",
        "        print(self.s1 + '이/는 서울에서 살고 있습니다.')\n",
        "        print(self.s2 + '이/는 부산에서 살고 있습니다.')\n",
        "\n",
        "\n",
        "    def age(self, a1, a2):\n",
        "        self.a1 = a1\n",
        "        self.a2 = a2\n",
        "\n",
        "        print(self.s1 + '이/는 ' + str(self.a1) + '살 입니다.')\n",
        "        print(self.s2 + '이/는 ' + str(self.a2) + '살 입니다.')\n",
        "\n",
        "\n",
        "# 매직 메서드\n",
        "    def __add__(self):\n",
        "        return self.num1 + self.num2\n",
        "\n",
        "# 인스턴스화\n",
        "p1 = Fav('가영', '영희')\n",
        "p1.hobby()\n",
        "\n",
        "p2 = Person('가영', '영희')\n",
        "p2.location()\n",
        "\n",
        "p3 = Person('가영', '영희')\n",
        "p3.age(10, 20)\n",
        "\n",
        "p4 = Fav()\n",
        "p4.hobby()\n"
      ],
      "metadata": {
        "id": "G8Qs9gWUoLBI",
        "colab": {
          "base_uri": "https://localhost:8080/"
        },
        "outputId": "c32484e3-70ab-4925-ad11-05f924ebda48"
      },
      "execution_count": 18,
      "outputs": [
        {
          "output_type": "stream",
          "name": "stdout",
          "text": [
            "가영(이)는 게임을 좋아합니다.\n",
            "영희(이)는 영화를 좋아합니다.\n",
            "가영이/는 서울에서 살고 있습니다.\n",
            "영희이/는 부산에서 살고 있습니다.\n",
            "가영이/는 10살 입니다.\n",
            "영희이/는 20살 입니다.\n",
            "짱구(이)는 게임을 좋아합니다.\n",
            "철수(이)는 영화를 좋아합니다.\n"
          ]
        }
      ]
    },
    {
      "cell_type": "code",
      "source": [
        "# 강사님 버전 문제1\n",
        "class Book:\n",
        "    def __init__(self, title, author):\n",
        "        self.title = title\n",
        "        self.author = author\n",
        "\n",
        "    def __str__(self):          # 객체를 문자열로 표현할 떄 사용\n",
        "        return f\"{self.title} by {self.author}\"\n",
        "\n",
        "class MyBook(Book):\n",
        "    location = 'MyHome'\n",
        "    def __init__(self, title, author, price):\n",
        "        super().__init__(title, author)\n",
        "        self.price = price\n",
        "\n",
        "    def how_much(self):\n",
        "        return f'나는 {self.title}을 {self.price}원 주고 샀다'\n",
        "\n",
        "b1 = MyBook('오발탄', '이범선', 8500)\n",
        "\n",
        "print(b1.location)\n",
        "print(b1.price)\n",
        "print(b1.how_much())\n",
        "print(b1)"
      ],
      "metadata": {
        "colab": {
          "base_uri": "https://localhost:8080/"
        },
        "id": "qCLLGDZQb3Ze",
        "outputId": "ca7484b7-6e04-4eb7-c17c-6d37838f932f"
      },
      "execution_count": 1,
      "outputs": [
        {
          "output_type": "stream",
          "name": "stdout",
          "text": [
            "MyHome\n",
            "8500\n",
            "나는 오발탄을 8500원 주고 샀다\n",
            "오발탄 by 이범선\n"
          ]
        }
      ]
    },
    {
      "cell_type": "markdown",
      "source": [
        "Task2_0513. 두개의 수를 입력한 후 두개의 수에 대한 사칙연산을 수행하세요.(0을 입력한 경우 다시 입력하도록 조치)"
      ],
      "metadata": {
        "id": "19SBoekVoKVs"
      }
    },
    {
      "cell_type": "code",
      "execution_count": null,
      "metadata": {
        "id": "AZO5aZUkiOMQ",
        "colab": {
          "base_uri": "https://localhost:8080/"
        },
        "outputId": "7335e6ce-6fc1-4329-dab8-326fec0144dc"
      },
      "outputs": [
        {
          "output_type": "stream",
          "name": "stdout",
          "text": [
            "0을 입력하면 프로그램이 종료됩니다.\n",
            "첫번째 수를 입력하세요 : 60\n",
            "두번째 수를 입력하세요 : 40\n",
            "덧셈 :  100\n",
            "뺄셈 :  20\n",
            "곱셈 :  2400\n",
            "나눗셈 :  1.5\n",
            "0을 입력하면 프로그램이 종료됩니다.\n",
            "첫번째 수를 입력하세요 : 0\n",
            "두번째 수를 입력하세요 : 1\n",
            "프로그램을 종료합니다.\n"
          ]
        }
      ],
      "source": [
        "class Cal:\n",
        "    def __init__(self, num1, num2):\n",
        "        self.num1 = num1\n",
        "        self.num2 = num2\n",
        "\n",
        "    def add(self):\n",
        "        return self.num1 + self.num2\n",
        "    def sub(self):\n",
        "        return self.num1 - self.num2\n",
        "    def mul(self):\n",
        "        return self.num1 * self.num2\n",
        "    def div(self):\n",
        "        return self.num1 / self.num2\n",
        "\n",
        "\n",
        "\n",
        "while True:\n",
        "    print(\"0을 입력하면 프로그램이 종료됩니다.\")\n",
        "    num1 = int(input(\"첫번째 수를 입력하세요 : \"))\n",
        "    num2 = int(input(\"두번째 수를 입력하세요 : \"))\n",
        "    if num1 == 0 or num2 == 0:\n",
        "        print(\"프로그램을 종료합니다.\")\n",
        "        break\n",
        "    else:\n",
        "        c = Cal(num1, num2)\n",
        "        print(\"덧셈 : \", c.num1 + c.num2)\n",
        "        print(\"뺄셈 : \", c.num1 - c.num2)\n",
        "        print(\"곱셈 : \", c.num1 * c.num2)\n",
        "        print(\"나눗셈 : \", c.num1 / c.num2)"
      ]
    },
    {
      "cell_type": "code",
      "source": [
        "# 강사님 버전 문제2\n",
        "class Cal4:\n",
        "    def __init__(self, first, second):\n",
        "        self.first = first\n",
        "        self.second = second\n",
        "\n",
        "    def sum(self):\n",
        "        result = self.first + self.second\n",
        "        return result\n",
        "    def sub(self):\n",
        "        result = self.first - self.second\n",
        "        return result\n",
        "    def mul(self):\n",
        "        result = self.first * self.second\n",
        "        return result\n",
        "    def div(self):\n",
        "        result = round(self.first / self.second, 2)\n",
        "        return result\n",
        "\n",
        "while 1:\n",
        "    first = int(input('입력1> :'))\n",
        "    second = int(input('입력2> :'))\n",
        "    if first == 0 or second == 0:\n",
        "        print('0이 아닌 수를 입력해주세요!')\n",
        "    else:\n",
        "        cal = Cal4(first, second)\n",
        "        print(f'덧셈: {cal.sum()}, 뺄셈: {cal.sub()}, 곱셈: {cal.mul()}, 나눗셈: {cal.div()}')\n",
        "        break\n"
      ],
      "metadata": {
        "colab": {
          "base_uri": "https://localhost:8080/"
        },
        "id": "vG1loC5VfnHN",
        "outputId": "fc373b0e-9d46-4d96-8bbb-e7ed57456875"
      },
      "execution_count": 21,
      "outputs": [
        {
          "output_type": "stream",
          "name": "stdout",
          "text": [
            "입력1> :15\n",
            "입력2> :3\n",
            "덧셈: 18, 뺄셈: 12, 곱셈: 45, 나눗셈: 5.0\n"
          ]
        }
      ]
    },
    {
      "cell_type": "markdown",
      "source": [
        "Task3_0513. 파이썬 오버라이딩, 오버로딩, 다형성의 사례를 만들어 보세요."
      ],
      "metadata": {
        "id": "IQoDB1UzvAGf"
      }
    },
    {
      "cell_type": "code",
      "source": [
        "class Car:\n",
        "    def thing(self):\n",
        "        print('편하다')\n",
        "\n",
        "class Truck(Car):\n",
        "    def thing(self):\n",
        "        print('적재량이 많다')\n",
        "\n",
        "class SportCar(Car):\n",
        "    def thing(self):\n",
        "        print('멋있다')\n",
        "\n",
        "class Bus(Car):\n",
        "    def thing(self, price='cheap'):\n",
        "        print('대중교통이다')\n",
        "        if price == 'cheap':\n",
        "            print('싸다')\n",
        "        else:\n",
        "            print('비싸다')\n",
        "\n",
        "car = Car()\n",
        "bus = Bus()\n",
        "truck = Truck()\n",
        "sportcar = SportCar()\n",
        "\n",
        "car.thing()\n",
        "\n",
        "# 오버라이딩\n",
        "truck.thing()\n",
        "sportcar.thing()\n",
        "print('\\n')\n",
        "# 유사 오버로딩\n",
        "bus.thing('expensive')\n",
        "print('\\n')\n",
        "# 다형성\n",
        "def car_thing(car):\n",
        "    car.thing()\n",
        "# 메서드 호출\n",
        "car_thing(bus)\n",
        "car_thing(truck)\n",
        "car_thing(sportcar)"
      ],
      "metadata": {
        "id": "EIuGhAH7u_cm",
        "colab": {
          "base_uri": "https://localhost:8080/"
        },
        "outputId": "eea89bee-50d7-4361-cf67-bdcd400ebc77"
      },
      "execution_count": null,
      "outputs": [
        {
          "output_type": "stream",
          "name": "stdout",
          "text": [
            "편하다\n",
            "적재량이 많다\n",
            "멋있다\n",
            "\n",
            "\n",
            "대중교통이다\n",
            "비싸다\n",
            "\n",
            "\n",
            "대중교통이다\n",
            "싸다\n",
            "적재량이 많다\n",
            "멋있다\n"
          ]
        }
      ]
    },
    {
      "cell_type": "code",
      "source": [
        "# 강사님 버전 문제3\n",
        "class Robot:\n",
        "    def __init__(self, name):\n",
        "        self.name = name\n",
        "        print(f'안녕! 나는 {self.name}이야.')\n",
        "\n",
        "    def helping(self):\n",
        "        print('도움을 드릴 수 있습니다')\n",
        "\n",
        "class ServingRobot(Robot):\n",
        "    #오버라이딩\n",
        "    def helping(self):\n",
        "        print('음식을 가져다 드릴 수 있습니다')\n",
        "    def move(self, table):\n",
        "        print(f'{table}번 테이블로 음식을 가져다 드리겠습니다')\n",
        "\n",
        "class CleaningRobot(Robot):\n",
        "    #유사 오버로딩\n",
        "    def helping(self, how = '청소기'):\n",
        "        print(f'{how}로 청소를 할 수 있습니다')\n",
        "\n",
        "# 다형성\n",
        "def robot_mode(robot):\n",
        "    robot.helping()\n",
        "\n",
        "# 객체 생성\n",
        "robobo = ServingRobot('robobo')\n",
        "roboti = CleaningRobot('roboti')\n",
        "\n",
        "#오버라이딩 사용\n",
        "robobo.helping()\n",
        "robobo.move(1)\n",
        "\n",
        "# 오버 로딩 사용\n",
        "roboti.helping('물걸레')\n",
        "\n",
        "# 다형성을 통한 메서드 호출\n",
        "robot_mode(robobo)\n",
        "robot_mode(roboti)"
      ],
      "metadata": {
        "colab": {
          "base_uri": "https://localhost:8080/"
        },
        "id": "dH1PMsbHhp6k",
        "outputId": "89c64b11-b1c1-42be-afa7-fcdddec7bcbd"
      },
      "execution_count": 24,
      "outputs": [
        {
          "output_type": "stream",
          "name": "stdout",
          "text": [
            "안녕! 나는 robobo이야.\n",
            "안녕! 나는 roboti이야.\n",
            "음식을 가져다 드릴 수 있습니다\n",
            "1번 테이블로 음식을 가져다 드리겠습니다\n",
            "물걸레로 청소를 할 수 있습니다\n",
            "음식을 가져다 드릴 수 있습니다\n",
            "청소기로 청소를 할 수 있습니다\n"
          ]
        }
      ]
    }
  ]
}