{
  "nbformat": 4,
  "nbformat_minor": 0,
  "metadata": {
    "colab": {
      "provenance": [],
      "authorship_tag": "ABX9TyOFVwbxVfipv8i3/AfMqz/N",
      "include_colab_link": true
    },
    "kernelspec": {
      "name": "python3",
      "display_name": "Python 3"
    },
    "language_info": {
      "name": "python"
    }
  },
  "cells": [
    {
      "cell_type": "markdown",
      "metadata": {
        "id": "view-in-github",
        "colab_type": "text"
      },
      "source": [
        "<a href=\"https://colab.research.google.com/github/Yoon2596/kita_2404/blob/main/m2_%ED%94%84%EB%A1%9C%EA%B7%B8%EB%9E%98%EB%B0%8D/%EA%B3%BC%EC%A0%9C/%EA%B3%BC%EC%A0%9C_0513.ipynb\" target=\"_parent\"><img src=\"https://colab.research.google.com/assets/colab-badge.svg\" alt=\"Open In Colab\"/></a>"
      ]
    },
    {
      "cell_type": "markdown",
      "source": [
        "Task1_0513. 클래스 구성 요소와 관련 아래 사항에 대한 사례를 작성하세요.\n",
        "- 클래스 선언\n",
        "- 생성자\n",
        "- 속성(attributes)\n",
        "- 메서드\n",
        "- 상속\n",
        "- 인스턴스화(객체 만들기)\n",
        "- 클래스 변수\n",
        "- 매직 메서드(특수 메서드)"
      ],
      "metadata": {
        "id": "rXdzda2XiOo6"
      }
    },
    {
      "cell_type": "code",
      "source": [
        "# 클래스 선언\n",
        "class Fav:\n",
        "# 클래스 변수\n",
        "    s1 = '짱구'\n",
        "    s2 = '철수'\n",
        "\n",
        "# 생성자\n",
        "    def __init__(self, s1, s2):\n",
        "        self.s1 = s1\n",
        "        self.s2 = s2\n",
        "\n",
        "# 속성\n",
        "\n",
        "# 메서드\n",
        "    def hobby(self):\n",
        "        print(self.s1 + '(이)는 게임을 좋아합니다.')\n",
        "        print(self.s2 + '(이)는 영화를 좋아합니다.')\n",
        "\n",
        "# 상속\n",
        "\n",
        "\n",
        "class Person(Fav):\n",
        "    # def __init__(self, s1, s2):\n",
        "    #     super().__init__(s1, s2)\n",
        "    #     self.s1 = s1\n",
        "    #     self.s2 = s2\n",
        "\n",
        "    def location(self):\n",
        "        print(self.s1 + '는 서울에서 살고 있습니다.')\n",
        "        print(self.s2 + '는 부산에서 살고 있습니다.')\n",
        "\n",
        "class Age:\n",
        "    a1 = 10\n",
        "    a2 = 20\n",
        "\n",
        "    def age(self, a1, a2):\n",
        "        self.a1 = a1\n",
        "        self.a2 = a2\n",
        "\n",
        "        print(self.s1 + '는 ' + str(self.a1) + '살 입니다.')\n",
        "        print(self.s2 + '는 ' + str(self.a2) + '살 입니다.')\n",
        "\n",
        "\n",
        "# 매직 메서드\n",
        "    def __add__(self):\n",
        "        return self.num1 + self.num2\n",
        "\n",
        "# 인스턴스화\n",
        "p1 = Fav('가영', '영희')\n",
        "p1.hobby()\n",
        "\n",
        "p2 = Person('가영', '영희')\n",
        "p2.location()\n",
        "\n",
        "# p3 = Age(10, 20)\n",
        "# p3\n",
        "# # print(p2.age(10, 20))\n",
        "\n"
      ],
      "metadata": {
        "id": "G8Qs9gWUoLBI",
        "colab": {
          "base_uri": "https://localhost:8080/"
        },
        "outputId": "4fa03259-19ee-4486-ef44-e171e03c07bd"
      },
      "execution_count": 19,
      "outputs": [
        {
          "output_type": "stream",
          "name": "stdout",
          "text": [
            "가영(이)는 게임을 좋아합니다.\n",
            "영희(이)는 영화를 좋아합니다.\n",
            "가영는 서울에서 살고 있습니다.\n",
            "영희는 부산에서 살고 있습니다.\n"
          ]
        }
      ]
    },
    {
      "cell_type": "markdown",
      "source": [
        "Task2_0513. 두개의 수를 입력한 후 두개의 수에 대한 사칙연산을 수행하세요.(0을 입력한 경우 다시 입력하도록 조치)"
      ],
      "metadata": {
        "id": "19SBoekVoKVs"
      }
    },
    {
      "cell_type": "code",
      "execution_count": 22,
      "metadata": {
        "id": "AZO5aZUkiOMQ",
        "colab": {
          "base_uri": "https://localhost:8080/"
        },
        "outputId": "7335e6ce-6fc1-4329-dab8-326fec0144dc"
      },
      "outputs": [
        {
          "output_type": "stream",
          "name": "stdout",
          "text": [
            "0을 입력하면 프로그램이 종료됩니다.\n",
            "첫번째 수를 입력하세요 : 60\n",
            "두번째 수를 입력하세요 : 40\n",
            "덧셈 :  100\n",
            "뺄셈 :  20\n",
            "곱셈 :  2400\n",
            "나눗셈 :  1.5\n",
            "0을 입력하면 프로그램이 종료됩니다.\n",
            "첫번째 수를 입력하세요 : 0\n",
            "두번째 수를 입력하세요 : 1\n",
            "프로그램을 종료합니다.\n"
          ]
        }
      ],
      "source": [
        "class Cal:\n",
        "    def __init__(self, num1, num2):\n",
        "        self.num1 = num1\n",
        "        self.num2 = num2\n",
        "\n",
        "    def add(self):\n",
        "        return self.num1 + self.num2\n",
        "    def sub(self):\n",
        "        return self.num1 - self.num2\n",
        "    def mul(self):\n",
        "        return self.num1 * self.num2\n",
        "    def div(self):\n",
        "        return self.num1 / self.num2\n",
        "\n",
        "\n",
        "\n",
        "while True:\n",
        "    print(\"0을 입력하면 프로그램이 종료됩니다.\")\n",
        "    num1 = int(input(\"첫번째 수를 입력하세요 : \"))\n",
        "    num2 = int(input(\"두번째 수를 입력하세요 : \"))\n",
        "    if num1 == 0 or num2 == 0:\n",
        "        print(\"프로그램을 종료합니다.\")\n",
        "        break\n",
        "    else:\n",
        "        c = Cal(num1, num2)\n",
        "        print(\"덧셈 : \", c.num1 + c.num2)\n",
        "        print(\"뺄셈 : \", c.num1 - c.num2)\n",
        "        print(\"곱셈 : \", c.num1 * c.num2)\n",
        "        print(\"나눗셈 : \", c.num1 / c.num2)"
      ]
    },
    {
      "cell_type": "markdown",
      "source": [
        "Task3_0513. 파이썬 오버라이딩, 오버로딩, 다형성의 사례를 만들어 보세요."
      ],
      "metadata": {
        "id": "IQoDB1UzvAGf"
      }
    },
    {
      "cell_type": "code",
      "source": [
        "class Car:\n",
        "    def thing(self):\n",
        "        print('편하다')\n",
        "\n",
        "class Truck(Car):\n",
        "    def thing(self):\n",
        "        print('적재량이 많다')\n",
        "\n",
        "class SportCar(Car):\n",
        "    def thing(self):\n",
        "        print('멋있다')\n",
        "\n",
        "class Bus(Car):\n",
        "    def thing(self, price='cheap'):\n",
        "        print('대중교통이다')\n",
        "        if price == 'cheap':\n",
        "            print('싸다')\n",
        "        else:\n",
        "            print('비싸다')\n",
        "\n",
        "car = Car()\n",
        "bus = Bus()\n",
        "truck = Truck()\n",
        "sportcar = SportCar()\n",
        "\n",
        "car.thing()\n",
        "\n",
        "# 오버라이딩\n",
        "truck.thing()\n",
        "sportcar.thing()\n",
        "print('\\n')\n",
        "# 유사 오버로딩\n",
        "bus.thing('expensive')\n",
        "print('\\n')\n",
        "# 다형성\n",
        "def car_thing(car):\n",
        "    car.thing()\n",
        "# 메서드 호출\n",
        "car_thing(bus)\n",
        "car_thing(truck)\n",
        "car_thing(sportcar)"
      ],
      "metadata": {
        "id": "EIuGhAH7u_cm",
        "colab": {
          "base_uri": "https://localhost:8080/"
        },
        "outputId": "eea89bee-50d7-4361-cf67-bdcd400ebc77"
      },
      "execution_count": 29,
      "outputs": [
        {
          "output_type": "stream",
          "name": "stdout",
          "text": [
            "편하다\n",
            "적재량이 많다\n",
            "멋있다\n",
            "\n",
            "\n",
            "대중교통이다\n",
            "비싸다\n",
            "\n",
            "\n",
            "대중교통이다\n",
            "싸다\n",
            "적재량이 많다\n",
            "멋있다\n"
          ]
        }
      ]
    }
  ]
}