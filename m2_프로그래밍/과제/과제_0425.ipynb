{
  "nbformat": 4,
  "nbformat_minor": 0,
  "metadata": {
    "colab": {
      "provenance": [],
      "authorship_tag": "ABX9TyPDn46svGeIV6WJxDBtKmMA",
      "include_colab_link": true
    },
    "kernelspec": {
      "name": "python3",
      "display_name": "Python 3"
    },
    "language_info": {
      "name": "python"
    }
  },
  "cells": [
    {
      "cell_type": "markdown",
      "metadata": {
        "id": "view-in-github",
        "colab_type": "text"
      },
      "source": [
        "<a href=\"https://colab.research.google.com/github/Yoon2596/kita_2404/blob/main/m2_%ED%94%84%EB%A1%9C%EA%B7%B8%EB%9E%98%EB%B0%8D/%EA%B3%BC%EC%A0%9C/%EA%B3%BC%EC%A0%9C_0425.ipynb\" target=\"_parent\"><img src=\"https://colab.research.google.com/assets/colab-badge.svg\" alt=\"Open In Colab\"/></a>"
      ]
    },
    {
      "cell_type": "code",
      "source": [
        "# Task1_0425. 주어진 숫자 리스트에서 최소값과 최대값을 찾아 출력하세요.\n",
        "\n",
        "numbers = [58, 45, 69, 19, 4, 87, 29, 13, 39, 15]\n",
        "\n",
        "max_num = max(numbers)\n",
        "print('최대값 : ',max_num)\n",
        "min_num = min(numbers)\n",
        "print('최소값 : ',min_num)\n",
        "\n",
        "# f 포멧으로 써보기\n",
        "print(f\"최소값 : {min_num}, 최대값 : {max_num}\")"
      ],
      "metadata": {
        "id": "9DkK23QjG1jg",
        "colab": {
          "base_uri": "https://localhost:8080/"
        },
        "outputId": "71a925bb-0b82-43b8-a299-551085c9bdfc"
      },
      "execution_count": null,
      "outputs": [
        {
          "output_type": "stream",
          "name": "stdout",
          "text": [
            "최대값 :  87\n",
            "최소값 :  4\n",
            "최소값 : 4, 최대값 : 87\n"
          ]
        }
      ]
    },
    {
      "cell_type": "code",
      "source": [
        "# 내장 함수를 쓰지않고 1번 문제 풀이\n",
        "numbers = [58, 45, 69, 19, 4, 87, 29, 13, 39, 15]\n",
        "\n",
        "# 초기 변수 등록\n",
        "max_value = numbers[0]\n",
        "min_value = numbers[0]\n",
        "\n",
        "for i in numbers:\n",
        "    #만약 다음 숫자가 max 변수보다 크면 그 숫자로 갱신\n",
        "    if max_value < i:\n",
        "        max_value = i\n",
        "        # print(max_value)\n",
        "    #만약 다음 숫자가 min 변수보다 작으면 그 숫자로 갱신\n",
        "    elif min_value > i:\n",
        "        min_value = i\n",
        "        # print(min_value)\n",
        "\n",
        "# f 포멧으로 써보기\n",
        "print(f\"최소값 : {min_value}, 최대값 : {max_value}\")"
      ],
      "metadata": {
        "colab": {
          "base_uri": "https://localhost:8080/"
        },
        "id": "AC-15ScKwftQ",
        "outputId": "21d19ccc-3324-4bcf-a47e-7eacc4165cdd"
      },
      "execution_count": null,
      "outputs": [
        {
          "output_type": "stream",
          "name": "stdout",
          "text": [
            "최소값 : 4, 최대값 : 87\n"
          ]
        }
      ]
    },
    {
      "cell_type": "code",
      "source": [
        "# Task2_0425. 주어진 숫자 리스트의 모든 요소의 합계와 평균을 계산하고 출력하세요\n",
        "\n",
        "numbers = [58, 45, 69, 19, 4, 87, 29, 13, 39, 15]\n",
        "sum_num = 0\n",
        "for i in numbers:\n",
        "    # print(i)\n",
        "    sum_num += i\n",
        "    # print(sum_num)\n",
        "\n",
        "print('합계는 : ',sum_num)\n",
        "print('평균은 : ',sum_num / len(numbers))\n",
        "\n",
        "# f 포멧으로 써보기\n",
        "print(f\"합계는 : {sum_num}, 최대값 : {sum_num / len(numbers)}\")"
      ],
      "metadata": {
        "id": "7UEKcIr8G1T5",
        "colab": {
          "base_uri": "https://localhost:8080/"
        },
        "outputId": "25786298-0cde-48b2-e12f-ea120512755a"
      },
      "execution_count": null,
      "outputs": [
        {
          "output_type": "stream",
          "name": "stdout",
          "text": [
            "합계는 :  378\n",
            "평균은 :  37.8\n",
            "합계는 : 378, 최대값 : 37.8\n"
          ]
        }
      ]
    },
    {
      "cell_type": "code",
      "source": [
        "# 넘파이를 사용한 2번 문제풀이\n",
        "import numpy as np\n",
        "numbers = [58, 45, 69, 19, 4, 87, 29, 13, 39, 15]\n",
        "print(f\"합계 : {sum(numbers)}, 평균 : {np.mean(numbers)}\")"
      ],
      "metadata": {
        "colab": {
          "base_uri": "https://localhost:8080/"
        },
        "id": "-9yXOl5j0p8G",
        "outputId": "72644ff4-0b93-4a16-fb4b-c30ebeea5eed"
      },
      "execution_count": null,
      "outputs": [
        {
          "output_type": "stream",
          "name": "stdout",
          "text": [
            "합계 : 378, 평균 : 37.8\n"
          ]
        }
      ]
    },
    {
      "cell_type": "code",
      "source": [
        "import statistics\n",
        "numbers = [58, 45, 69, 19, 4, 87, 29, 13, 39, 15]\n",
        "average = statistics.mean(numbers)\n",
        "print(f\"평균 : {average}\")"
      ],
      "metadata": {
        "colab": {
          "base_uri": "https://localhost:8080/"
        },
        "id": "S7zjBqBV11za",
        "outputId": "027544c6-9ebb-43aa-8352-7b02524e3c30"
      },
      "execution_count": null,
      "outputs": [
        {
          "output_type": "stream",
          "name": "stdout",
          "text": [
            "평균 : 37.8\n"
          ]
        }
      ]
    },
    {
      "cell_type": "code",
      "source": [
        "# Task3_0425. 주어진 리스트에서 특정 요소가 등장하는 모든 인덱스를 리스트로 만들어 출력하세요.\n",
        "\n",
        "items = ['apple', 'banana', 'cherry', 'apple', 'cherry', 'apple']\n",
        "\n",
        "# target = 'apple' 특정요소\n",
        "\n",
        "target = []\n",
        "\n",
        "for i in range(len(items)):\n",
        "    # print(items[i], type(items[i]))\n",
        "    if items[i] == 'apple':\n",
        "        # print(i)\n",
        "        target.append(i)\n",
        "\n",
        "print(target)\n"
      ],
      "metadata": {
        "id": "BwS7sl_dIBev",
        "colab": {
          "base_uri": "https://localhost:8080/"
        },
        "outputId": "0c49116a-dec2-47d6-bb43-2bacfabaf3ab"
      },
      "execution_count": null,
      "outputs": [
        {
          "output_type": "stream",
          "name": "stdout",
          "text": [
            "[0, 3, 5]\n"
          ]
        }
      ]
    },
    {
      "cell_type": "code",
      "source": [
        "# 다른 방식으로 문제 3번 풀기\n",
        "items = ['apple', 'banana', 'cherry', 'apple', 'cherry', 'apple']\n",
        "\n",
        "# 찾을 요소\n",
        "target = 'apple'\n",
        "\n",
        "# 인덱스 찾기\n",
        "indexes = [index for index, value in enumerate(items) if value == target]\n",
        "\n",
        "# 위에거 풀어 쓴것\n",
        "# for indexes, value in enumerate(items):\n",
        "#     if value == target:\n",
        "#         print(indexes, value)\n",
        "\n",
        "print(f\"{target}의 모든 인덱스 : {indexes}\")\n",
        "\n"
      ],
      "metadata": {
        "colab": {
          "base_uri": "https://localhost:8080/"
        },
        "id": "vCQTnP6u3Gql",
        "outputId": "2f691fae-0730-4fe7-dbfb-5ee33468342e"
      },
      "execution_count": null,
      "outputs": [
        {
          "output_type": "stream",
          "name": "stdout",
          "text": [
            "apple의 모든 인덱스 : [0, 3, 5]\n"
          ]
        }
      ]
    },
    {
      "cell_type": "code",
      "source": [
        "# Task4_0425. 주어진 리스트에서 연속해서 반복되는 요소만 제거하고, 결과 리스트를 반환하세요. 단, 처음 등장하는 요소는 유지해야 합니다.\n",
        "\n",
        "# 예를 들어, ['a', 'a', 'b', 'c', 'c', 'c', 'd', 'e', 'e']가 입력되면, ['a', 'b', 'c', 'd', 'e']를 출력해야 합니다.\n",
        "\n",
        "list4 = ['a', 'a', 'b', 'c', 'c', 'c', 'd', 'e', 'e']\n",
        "\n",
        "# # set은 중복값을 허용하지 않아 리스트를 set으로 변경\n",
        "# new_list4 = set(list4)\n",
        "# print(new_list4)\n",
        "# # 다시 리스트로 재변경\n",
        "# back_list4 = list(new_list4)\n",
        "# print(back_list4)\n",
        "# # 순서 재배열\n",
        "# print(sorted(back_list4))\n",
        "\n",
        "new_list4 = []\n",
        "overlap = []\n",
        "\n",
        "for i in list4:\n",
        "    # 없는 값 새로운 리스트에 넣기\n",
        "    if i not in new_list4:\n",
        "        new_list4.append(i)\n",
        "    else:\n",
        "    # 중복값 표시\n",
        "        overlap.append(i)\n",
        "\n",
        "print(new_list4)\n",
        "print(overlap)\n",
        "# print(list4)"
      ],
      "metadata": {
        "id": "v_n-dB3ZIDZl",
        "colab": {
          "base_uri": "https://localhost:8080/"
        },
        "outputId": "35114f72-d6ef-419f-db5d-e5f375c4516e"
      },
      "execution_count": null,
      "outputs": [
        {
          "output_type": "stream",
          "name": "stdout",
          "text": [
            "['a', 'b', 'c', 'd', 'e']\n",
            "['a', 'c', 'c', 'e']\n"
          ]
        }
      ]
    },
    {
      "cell_type": "code",
      "source": [
        "# 다른 방식으로 문제 4번 풀기\n",
        "list4 = ['a', 'a', 'b', 'c', 'c', 'c', 'd', 'e', 'e']\n",
        "\n",
        "result = [list4[0]]   #['a']\n",
        "\n",
        "for i in list4[1:]:\n",
        "    if i != result[-1]:  #뒤에서부터\n",
        "        result.append(i)\n",
        "\n",
        "print(result)"
      ],
      "metadata": {
        "colab": {
          "base_uri": "https://localhost:8080/"
        },
        "id": "5N8jPnnS8Xiz",
        "outputId": "4cafb040-ea73-41b9-9a66-17d517a58349"
      },
      "execution_count": null,
      "outputs": [
        {
          "output_type": "stream",
          "name": "stdout",
          "text": [
            "['a', 'b', 'c', 'd', 'e']\n"
          ]
        }
      ]
    },
    {
      "cell_type": "code",
      "source": [
        "# 문제 4번 사용자함수 만들기\n",
        "\n",
        "list4 = ['a', 'a', 'b', 'c', 'c', 'c', 'd', 'e', 'e']\n",
        "\n",
        "def remove_consecutive_duplicate(items):\n",
        "    if not items:\n",
        "        return []\n",
        "\n",
        "    result = [items[0]]\n",
        "    for i in items[1:]:\n",
        "        if i != result[-1]:\n",
        "            result.append(i)\n",
        "\n",
        "    return result\n",
        "\n",
        "remove_consecutive_duplicate(list4)"
      ],
      "metadata": {
        "colab": {
          "base_uri": "https://localhost:8080/"
        },
        "id": "i0E19UAn9srJ",
        "outputId": "94f82371-5c5c-47e8-80ae-b77eda264eba"
      },
      "execution_count": null,
      "outputs": [
        {
          "output_type": "execute_result",
          "data": {
            "text/plain": [
              "['a', 'b', 'c', 'd', 'e']"
            ]
          },
          "metadata": {},
          "execution_count": 44
        }
      ]
    },
    {
      "cell_type": "code",
      "source": [
        "# Task5_0425 주어진 정수 리스트와 회전 횟수 k에 대해 리스트를 오른쪽으로 k만큼 회전시킨 결과를 반환하세요. k가 리스트의 길이보다 클 수 있으며, 이 경우 k를 리스트 길이로 나눈 나머지만큼 실제 회전시키면 됩니다.\n",
        "\n",
        "# 예를 들어, [1, 2, 3, 4, 5]와 k=2가 주어지면, 결과는 [4, 5, 1, 2, 3]이 되어야 합니다.\n",
        "\n",
        "list5 = [1, 2, 3, 4, 5]\n",
        "# list5 = [3, 4, 5]\n",
        "# list5 = [1, 2, 3, 4, 5, 6, 7, 8]\n",
        "# k = 2\n",
        "print(f\"현재 리스트 입니다 {list5}\")\n",
        "k = int(input(\"원하시는 회전 횟수를 넣어주세요 : \"))\n",
        "new_list5 = []\n",
        "\n",
        "\n",
        "# 회전 횟수가 리스트 길이를 넘었을 때\n",
        "if k > len(list5):\n",
        "    k = k % len(list5)\n",
        "\n",
        "for i in list5:\n",
        "    # 회전 횟수 만큼 i에서 뺀 숫자에서 시작하여 끝 결과를 맞춤\n",
        "    new_list5.append(i - k)\n",
        "    # print(new_list5)\n",
        "\n",
        "# 그 후 k만큼 순회한 값을 나머지 값으로 차례대로 변환\n",
        "for j in range(k):\n",
        "    # 인덱스가 k = 1  /  k = 2      / k = 3    ... 뒤에서부터 차례대로 불러옴\n",
        "    # 인덱스가 j = 0  /  j = 0 ~ 1  / j = 0 ~ 2\n",
        "    new_list5[j] = list5[-k + j]\n",
        "\n",
        "\n",
        "print(new_list5)\n"
      ],
      "metadata": {
        "id": "p1e4B8CXIGDk",
        "colab": {
          "base_uri": "https://localhost:8080/"
        },
        "outputId": "9574edb2-1120-4d25-e147-c52dbe5472ba"
      },
      "execution_count": null,
      "outputs": [
        {
          "output_type": "stream",
          "name": "stdout",
          "text": [
            "현재 리스트 입니다 [1, 2, 3, 4, 5]\n",
            "원하시는 회전 횟수를 넣어주세요 : 2\n",
            "[4, 5, 1, 2, 3]\n"
          ]
        }
      ]
    },
    {
      "cell_type": "code",
      "source": [
        "#다른 방법으로 푼 문제 5\n",
        "\n",
        "def rotate_list(nums, k):\n",
        "    if not nums:\n",
        "        return nums\n",
        "\n",
        "    #회전 횟수를 리스트 길이로 나눈 나머지로 계산\n",
        "    k = k % len(nums)\n",
        "\n",
        "    # 리스트의 끝부분을 앞으로, 앞부분을 끝으로 옮긴 후 두 string을 붙여준다\n",
        "    # k=2일시, [4, 5] + [1, 2, 3]\n",
        "    rotated = nums[-k:] + nums[:-k]\n",
        "\n",
        "    return rotated\n",
        "\n",
        "list5 = [1, 2, 3, 4, 5]\n",
        "k = 2\n",
        "\n",
        "print(rotate_list(list5, k))\n"
      ],
      "metadata": {
        "colab": {
          "base_uri": "https://localhost:8080/"
        },
        "id": "RNhE0uraBNkD",
        "outputId": "4575db71-17cb-4f87-ed8a-6e3899c4104c"
      },
      "execution_count": null,
      "outputs": [
        {
          "output_type": "stream",
          "name": "stdout",
          "text": [
            "[4, 5, 1, 2, 3]\n"
          ]
        }
      ]
    },
    {
      "cell_type": "code",
      "source": [
        "#방향이 왼쪽으로 돌린다면\n",
        "def rotate_list(nums, k):\n",
        "    if not nums:\n",
        "        return nums\n",
        "\n",
        "    #회전 횟수를 리스트 길이로 나눈 나머지로 계산\n",
        "    k = k % len(nums)\n",
        "\n",
        "    # 리스트의 끝부분을 앞으로, 앞부분을 끝으로 옮긴 후 두 string을 붙여준다\n",
        "    # k=2일시, [3, 4, 5] + [1, 2]\n",
        "    rotated = nums[k:] + nums[:k]\n",
        "\n",
        "    return rotated\n",
        "\n",
        "list5 = [1, 2, 3, 4, 5]\n",
        "k = 2\n",
        "\n",
        "print(rotate_list(list5, k))\n"
      ],
      "metadata": {
        "colab": {
          "base_uri": "https://localhost:8080/"
        },
        "id": "k6M9SQyhDf4J",
        "outputId": "b4974f6d-014e-405c-a7ef-c9b5cf065ffa"
      },
      "execution_count": null,
      "outputs": [
        {
          "output_type": "stream",
          "name": "stdout",
          "text": [
            "[3, 4, 5, 1, 2]\n"
          ]
        }
      ]
    }
  ]
}