{
  "nbformat": 4,
  "nbformat_minor": 0,
  "metadata": {
    "colab": {
      "provenance": [],
      "authorship_tag": "ABX9TyMoGCCvTeIGyibxDhk8iyF2",
      "include_colab_link": true
    },
    "kernelspec": {
      "name": "python3",
      "display_name": "Python 3"
    },
    "language_info": {
      "name": "python"
    }
  },
  "cells": [
    {
      "cell_type": "markdown",
      "metadata": {
        "id": "view-in-github",
        "colab_type": "text"
      },
      "source": [
        "<a href=\"https://colab.research.google.com/github/Yoon2596/kita_2404/blob/main/m2_%ED%94%84%EB%A1%9C%EA%B7%B8%EB%9E%98%EB%B0%8D/%EA%B3%BC%EC%A0%9C/%EA%B3%BC%EC%A0%9C_0508.ipynb\" target=\"_parent\"><img src=\"https://colab.research.google.com/assets/colab-badge.svg\" alt=\"Open In Colab\"/></a>"
      ]
    },
    {
      "cell_type": "markdown",
      "source": [
        "문제1"
      ],
      "metadata": {
        "id": "HMKB_XmJ37-D"
      }
    },
    {
      "cell_type": "code",
      "execution_count": null,
      "metadata": {
        "colab": {
          "base_uri": "https://localhost:8080/"
        },
        "id": "j39i0qeFDEs1",
        "outputId": "98a9c260-8df1-40bf-dfb0-49ac0b21ae72"
      },
      "outputs": [
        {
          "output_type": "stream",
          "name": "stdout",
          "text": [
            "이름을 영어로 입력하세요 : ryu yoon sun\n",
            "당신의 이름은 Ryu Yoon Sun입니다\n"
          ]
        }
      ],
      "source": [
        "# Task1_0508. title() 함수를 사용하지 않고 동일한 결과를 출력하세요.\n",
        "\n",
        "#Q 영어이름을 적으면 앞에 글자를 대문자로 바꾸어 주는 프로그램\n",
        "# 단 중간에 한칸씩 띄어주어야함 ex)hong gil dong -> Hong Gil Dong\n",
        "wiyname = input('이름을 영어로 입력하세요 : ')\n",
        "# txt = wiyname.title()\n",
        "# print(f'당신의 이름은 {txt}입니다')\n",
        "cap_name = []\n",
        "for i in wiyname.split():\n",
        "    # print(i)\n",
        "    cap_name.append(i.capitalize())\n",
        "name = ' '.join(cap_name)\n",
        "print(f'당신의 이름은 {name}입니다')"
      ]
    },
    {
      "cell_type": "code",
      "source": [
        "# 학생 풀이 (최환욱)\n",
        "# Task1_0508. title() 함수를 사용하지 않고 동일한 결과를 출력하세요.\n",
        "# w/o .title()\n",
        "# 단 중간에 한깐씩 띄워주어야 함 ex) kim dong wan\n",
        "# choi hwan wook ====> Choi Hwan Wook\n",
        "\n",
        "\n",
        "in_name=input(\"이름을 영문으로 입력해주세요: \").lower()\n",
        "inname_split=[]; inname_split=in_name.strip().split(\" \")\n",
        "for i in inname_split:\n",
        "  k=0       #첫번째 인덱스\n",
        "  for j in i:\n",
        "    if k == 0:\n",
        "      print(j.upper(),end=\"\")\n",
        "    else: print(j,end=\"\")\n",
        "    k += 1\n",
        "  print(\" \",end=\"\")"
      ],
      "metadata": {
        "colab": {
          "base_uri": "https://localhost:8080/"
        },
        "id": "xkmEhArfw2fW",
        "outputId": "043092a3-c935-4dcf-ba17-03a3abb716a1"
      },
      "execution_count": null,
      "outputs": [
        {
          "output_type": "stream",
          "name": "stdout",
          "text": [
            "이름을 영문으로 입력해주세요: hong gil dong\n",
            "Hong Gil Dong "
          ]
        }
      ]
    },
    {
      "cell_type": "code",
      "source": [
        "# 강사님 버전\n",
        "a = input(\"이름을 영어로 입력하세요.\")\n",
        "\n",
        "b=a.strip().split(\" \")\n",
        "e =\"\"\n",
        "\n",
        "for i in range(len(b)):\n",
        "    c = list(b[i])\n",
        "\n",
        "    c[0] = c[0].upper()\n",
        "    d = \"\".join(c)\n",
        "    c = []\n",
        "    e = e + d + \" \"\n",
        "print(f\"당신의 이름을 바꾸면 {e}입니다.\")"
      ],
      "metadata": {
        "id": "mJAFsXIc3spx"
      },
      "execution_count": null,
      "outputs": []
    },
    {
      "cell_type": "markdown",
      "source": [
        "문제 2"
      ],
      "metadata": {
        "id": "M2n00JlV3_aY"
      }
    },
    {
      "cell_type": "code",
      "source": [
        "# Task2_0507. join 함수를 이용해서 ['a','b','c']을 아래와 같이 출력하세요.\n",
        "\n",
        "# a::b::c\n",
        "\n",
        "list1 = ['a','b','c']\n",
        "result = '::'.join(list1)\n",
        "print(result)"
      ],
      "metadata": {
        "colab": {
          "base_uri": "https://localhost:8080/"
        },
        "id": "XEXzzPkmJhXy",
        "outputId": "7c206096-db22-46da-f84e-6cc3e80a0866"
      },
      "execution_count": null,
      "outputs": [
        {
          "output_type": "stream",
          "name": "stdout",
          "text": [
            "a::b::c\n"
          ]
        }
      ]
    },
    {
      "cell_type": "code",
      "source": [
        "# 학생 풀이 (김도원)\n",
        "list1=['a','b','c']\n",
        "a='::'\n",
        "list2=a.join(list1)\n",
        "print(list2)"
      ],
      "metadata": {
        "colab": {
          "base_uri": "https://localhost:8080/"
        },
        "id": "NeIwK1ZUx6Hu",
        "outputId": "3dd38340-5b58-4367-d205-e909c5f50070"
      },
      "execution_count": null,
      "outputs": [
        {
          "output_type": "stream",
          "name": "stdout",
          "text": [
            "a::b::c\n"
          ]
        }
      ]
    },
    {
      "cell_type": "code",
      "source": [
        "# 강사님 버전\n",
        "li = ['a','b','c']\n",
        "'::'.join(li)"
      ],
      "metadata": {
        "colab": {
          "base_uri": "https://localhost:8080/",
          "height": 35
        },
        "id": "rrb1ATgd3xep",
        "outputId": "5ff6483a-4b47-4b5f-cc51-3e6e4f36903e"
      },
      "execution_count": null,
      "outputs": [
        {
          "output_type": "execute_result",
          "data": {
            "text/plain": [
              "'a::b::c'"
            ],
            "application/vnd.google.colaboratory.intrinsic+json": {
              "type": "string"
            }
          },
          "metadata": {},
          "execution_count": 8
        }
      ]
    },
    {
      "cell_type": "markdown",
      "source": [
        "문제 3"
      ],
      "metadata": {
        "id": "BsZdet2I4BJI"
      }
    },
    {
      "cell_type": "code",
      "source": [
        "# Task3_0508. 다음을 수행하세요.\n",
        "# - 사용자로부터 문자열을 입력받습니다.\n",
        "# - 입력받은 문자열이 숫자로만 이루어져 있는지 확인합니다.\n",
        "# - 만약 숫자로만 이루어져 있다면, 그 숫자를 정수로 변환하여 100을 더한 결과를 출력합니다.\n",
        "# - 숫자가 아닌 문자가 포함되어 있다면, 사용자에게 숫자만 입력하라는 메시지를 출력합니다.\n",
        "# - 연산이 수행이 완료될 때까지 반복하고 수행이 완료되면 break 합니다.\n",
        "\n",
        "while True:\n",
        "    num = input('숫자를 입력해주세요 : ')\n",
        "    # num = '12341234'\n",
        "    if num.isdigit() == True:\n",
        "        f_num = int(num) + 100\n",
        "        print(f_num)\n",
        "        break\n",
        "    else:\n",
        "        print('숫자만 입력해주세요')\n"
      ],
      "metadata": {
        "colab": {
          "base_uri": "https://localhost:8080/"
        },
        "id": "f4SPeVjvOjOj",
        "outputId": "699625d0-14a8-4bc8-89df-8c16041951ff"
      },
      "execution_count": null,
      "outputs": [
        {
          "output_type": "stream",
          "name": "stdout",
          "text": [
            "숫자를 입력해주세요 : asdrf3\n",
            "숫자만 입력해주세요\n",
            "숫자를 입력해주세요 : 324da\n",
            "숫자만 입력해주세요\n",
            "숫자를 입력해주세요 : 245\n",
            "345\n"
          ]
        }
      ]
    },
    {
      "cell_type": "code",
      "source": [
        "# 학생풀이 (이현석)     #try and except는 필요 없음\n",
        "while True:\n",
        "  try:\n",
        "    a = input(\"문자열을 입력하세요. : \")\n",
        "    a1 = a.isdigit()\n",
        "    if a1 == True:\n",
        "        print(f\"{int(a)+100}\")\n",
        "        break\n",
        "    else :\n",
        "        print(\"숫자만 입력해주세요.\")\n",
        "  except :\n",
        "        print(\"\")"
      ],
      "metadata": {
        "colab": {
          "base_uri": "https://localhost:8080/"
        },
        "id": "1yyuyTOQzC6n",
        "outputId": "fa331f0e-d297-4d5c-e561-997665ea71de"
      },
      "execution_count": null,
      "outputs": [
        {
          "output_type": "stream",
          "name": "stdout",
          "text": [
            "문자열을 입력하세요. : 213ㅁㅇ\n",
            "숫자만 입력해주세요.\n",
            "문자열을 입력하세요. : adsf32\n",
            "숫자만 입력해주세요.\n",
            "문자열을 입력하세요. : 3234,s\n",
            "숫자만 입력해주세요.\n",
            "문자열을 입력하세요. : 324.asdf\n",
            "숫자만 입력해주세요.\n",
            "문자열을 입력하세요. : 2156\n",
            "2256\n"
          ]
        }
      ]
    },
    {
      "cell_type": "code",
      "source": [
        "# 다른 학생 풀이 (윤호준)\n",
        "while True:\n",
        "    txt = input(\"숫자로 이루어진 문자열을 입력해 주세요: \")\n",
        "    if txt.isdigit() == True:\n",
        "        i = int(txt) + 100\n",
        "        print(i)\n",
        "        break\n",
        "    else:\n",
        "        print(\"숫자만 입력해 주세요.\")"
      ],
      "metadata": {
        "colab": {
          "base_uri": "https://localhost:8080/"
        },
        "id": "5vFgQdax0c9S",
        "outputId": "5bd5ff63-6f4c-4291-bf8f-87500a44d3ff"
      },
      "execution_count": null,
      "outputs": [
        {
          "output_type": "stream",
          "name": "stdout",
          "text": [
            "숫자로 이루어진 문자열을 입력해 주세요: ㅁㄴ3\n",
            "숫자만 입력해 주세요.\n",
            "숫자로 이루어진 문자열을 입력해 주세요: dds\n",
            "숫자만 입력해 주세요.\n",
            "숫자로 이루어진 문자열을 입력해 주세요: 324\n",
            "424\n"
          ]
        }
      ]
    },
    {
      "cell_type": "code",
      "source": [
        "# 강사님 버전\n",
        "while 1:\n",
        "  num = input('숫자를 입력하세요.')\n",
        "  if num.isdigit():\n",
        "      print(int(num)+100)\n",
        "      break\n",
        "  else:\n",
        "      print('숫자만 입력하세요.')"
      ],
      "metadata": {
        "id": "RLLeVHYs32eH"
      },
      "execution_count": null,
      "outputs": []
    },
    {
      "cell_type": "markdown",
      "source": [
        "문제 4"
      ],
      "metadata": {
        "id": "EFpxr6A034hg"
      }
    },
    {
      "cell_type": "code",
      "source": [
        "# Task4_0508. 문자와 숫자로만 구성된 아이디만 유효한 규칙을 만들려고 한다. 아래 사항을 참조하여 프로그램을 작성하세요.\n",
        "# 사용자로부터 문자열을 입력받습니다.\n",
        "# 입력받은 문자열이 알파벳과 숫자로만 이루어져 있는지 확인합니다.\n",
        "# 만약 조건을 만족한다면 \"유효한 아이디입니다\"라고 출력합니다.\n",
        "# 그렇지 않다면, \"아이디는 알파벳과 숫자만 포함할 수 있습니다\"라고 메시지를 출력합니다.\n",
        "# 계속 수행이 완료 될 때까지 반복\n",
        "\n",
        "while True:\n",
        "    id = input('알파벳과 숫자로 된 아이디를 입력해주세요 : ')\n",
        "    # id = 'reqr1243'\n",
        "    if id.isalnum() == True:\n",
        "        print(f'아이디 ({id})는 유효한 아이디입니다')\n",
        "        break\n",
        "    else:\n",
        "        print('아이디는 알파벳과 숫자만 포함할 수 있습니다')"
      ],
      "metadata": {
        "colab": {
          "base_uri": "https://localhost:8080/"
        },
        "id": "5xqhOO-GQFCo",
        "outputId": "bc7e66d8-6181-4e86-8206-763a2576e599"
      },
      "execution_count": null,
      "outputs": [
        {
          "output_type": "stream",
          "name": "stdout",
          "text": [
            "알파벳과 숫자로 된 아이디를 입력해주세요 : 132!d\n",
            "아이디는 알파벳과 숫자만 포함할 수 있습니다\n",
            "알파벳과 숫자로 된 아이디를 입력해주세요 : df32;\n",
            "아이디는 알파벳과 숫자만 포함할 수 있습니다\n",
            "알파벳과 숫자로 된 아이디를 입력해주세요 : qwr0\n",
            "아이디 (qwr0)는 유효한 아이디입니다\n"
          ]
        }
      ]
    },
    {
      "cell_type": "code",
      "source": [
        "# 학생 문제 풀이 (이범석)\n",
        "txt = input(\"문자열 입력 >> \")\n",
        "\n",
        "ret = txt.isalnum()\n",
        "\n",
        "if ret == True:\n",
        "  print(\"유효한 아이디입니다 \")\n",
        "else:\n",
        "  print(\"아이디는 알파벳과 숫자만 포함할 수 있습니다\")"
      ],
      "metadata": {
        "id": "wDl6Ab860xma"
      },
      "execution_count": null,
      "outputs": []
    },
    {
      "cell_type": "code",
      "source": [
        "# 강사님 버전\n",
        "while 1:\n",
        "    id = input(\"문자열 입력 >> \")\n",
        "    if id.isalnum():\n",
        "        print('유효한 아이디입니다')\n",
        "        break\n",
        "    else:\n",
        "        print(\"아이디는 알파벳과 숫자만 포함할 수 있습니다\")"
      ],
      "metadata": {
        "colab": {
          "base_uri": "https://localhost:8080/"
        },
        "id": "EZLcqryz4G_6",
        "outputId": "d7c0bc4b-dbc1-4104-9d37-f4c602e3996e"
      },
      "execution_count": null,
      "outputs": [
        {
          "output_type": "stream",
          "name": "stdout",
          "text": [
            "문자열 입력 >> adsf\n",
            "유효한 아이디입니다\n"
          ]
        }
      ]
    },
    {
      "cell_type": "markdown",
      "source": [
        "문제 5"
      ],
      "metadata": {
        "id": "gHkePwGu4DrV"
      }
    },
    {
      "cell_type": "code",
      "source": [
        "# Task5_0508. 코딩을 한줄로 작성해서 동일한 결과를 출력하세요.\n",
        "list1 = []\n",
        "for i in range(0,20,2):\n",
        "    list1.append(i*i)\n",
        "print(list1)\n",
        "\n",
        "print('')\n",
        "\n",
        "print([i*i for i in range(0, 20, 2)])"
      ],
      "metadata": {
        "colab": {
          "base_uri": "https://localhost:8080/"
        },
        "id": "p-6n4pvJUGeN",
        "outputId": "280c2f72-a96b-4511-a484-1f30d57fae09"
      },
      "execution_count": null,
      "outputs": [
        {
          "output_type": "stream",
          "name": "stdout",
          "text": [
            "[0, 4, 16, 36, 64, 100, 144, 196, 256, 324]\n",
            "\n",
            "[0, 4, 16, 36, 64, 100, 144, 196, 256, 324]\n"
          ]
        }
      ]
    },
    {
      "cell_type": "code",
      "source": [
        "# 학생 문제 풀이 (이도현)\n",
        "print([i * i for i in range(0, 20, 2)])"
      ],
      "metadata": {
        "colab": {
          "base_uri": "https://localhost:8080/"
        },
        "id": "_1ibK9B14rFa",
        "outputId": "8886a1c8-ec60-4a4b-e019-ad94b5437694"
      },
      "execution_count": null,
      "outputs": [
        {
          "output_type": "stream",
          "name": "stdout",
          "text": [
            "[0, 4, 16, 36, 64, 100, 144, 196, 256, 324]\n"
          ]
        }
      ]
    },
    {
      "cell_type": "code",
      "source": [
        "# 강사님 버전\n",
        "print(list(map(lambda x: x*x, range(0,20,2))))"
      ],
      "metadata": {
        "colab": {
          "base_uri": "https://localhost:8080/"
        },
        "id": "iqtXjmFr46ZR",
        "outputId": "d3cebce8-47bc-4af3-ea8b-2deedefdf2d8"
      },
      "execution_count": null,
      "outputs": [
        {
          "output_type": "stream",
          "name": "stdout",
          "text": [
            "[0, 4, 16, 36, 64, 100, 144, 196, 256, 324]\n"
          ]
        }
      ]
    },
    {
      "cell_type": "markdown",
      "source": [
        "문제 6"
      ],
      "metadata": {
        "id": "kUJKr7c546vx"
      }
    },
    {
      "cell_type": "code",
      "source": [
        "# Task6_0508. 유닉스 타임스탬프를 받아서 해당 시간을 datetime.datetime 객체로 변환하고, 그 결과를 출력하는 사용자 함수를 작성하여 임의의 타임스탬프를 입력하여 결과를 출력하세요.\n",
        "import time\n",
        "from datetime import datetime\n",
        "\n",
        "# t = time.time()\n",
        "# print(t, type(t))\n",
        "\n",
        "def convert_timestamp(unix):\n",
        "    d = datetime.fromtimestamp(unix)\n",
        "    # print(d, type(d))\n",
        "    # user_t = d.strftime('%Y-%m-%d %H:%M:%S')\n",
        "    return print(d, type(d))\n",
        "\n",
        "convert_timestamp(193052345.3425)"
      ],
      "metadata": {
        "colab": {
          "base_uri": "https://localhost:8080/"
        },
        "id": "OmlWADdK5AzV",
        "outputId": "9a7b3108-259d-440a-dc22-b81fdc59cb64"
      },
      "execution_count": null,
      "outputs": [
        {
          "output_type": "stream",
          "name": "stdout",
          "text": [
            "1976-02-13 09:39:05.342500 <class 'datetime.datetime'>\n"
          ]
        }
      ]
    },
    {
      "cell_type": "code",
      "source": [
        "# 학생 풀이 (김도현)\n",
        "import time\n",
        "from datetime import datetime\n",
        "t0 = time.time()\n",
        "def itr(f):\n",
        "  di = datetime.fromtimestamp(t0)     #t0 -> f로 변경해야됨\n",
        "  return di\n",
        "print(itr(1715149395.634805))"
      ],
      "metadata": {
        "colab": {
          "base_uri": "https://localhost:8080/"
        },
        "id": "ewObE9ix5JFH",
        "outputId": "bda77d97-7977-47da-968f-2e5de3d2d773"
      },
      "execution_count": null,
      "outputs": [
        {
          "output_type": "stream",
          "name": "stdout",
          "text": [
            "2024-05-08 06:23:15.634805\n"
          ]
        }
      ]
    },
    {
      "cell_type": "code",
      "source": [
        "# 강사님 버전\n",
        "def timestamp_to_datetime(timestamp):\n",
        "    return datetime.fromtimestamp(timestamp)\n",
        "\n",
        "ts = float(input('timestamp를 입력하세요 :'))\n",
        "dt = timestamp_to_datetime(ts)\n",
        "print(dt)"
      ],
      "metadata": {
        "colab": {
          "base_uri": "https://localhost:8080/"
        },
        "id": "Gy2h3her56ZG",
        "outputId": "80f4796d-11f2-41f4-9eb3-b4ac18662f61"
      },
      "execution_count": null,
      "outputs": [
        {
          "output_type": "stream",
          "name": "stdout",
          "text": [
            "timestamp를 입력하세요 :12345632\n",
            "1970-05-23 21:20:32\n"
          ]
        }
      ]
    },
    {
      "cell_type": "markdown",
      "source": [
        "문제 7"
      ],
      "metadata": {
        "id": "a7206_BL5CNb"
      }
    },
    {
      "cell_type": "code",
      "source": [
        "# Task7_0508. datetime 객체를 문자열로 변환하는 사용자 함수를 작성하여 datetime 객체를 \"YYYY-MM-DD HH:MM:SS\" 형식의 문자열로 변환하고 출력하세요.\n",
        "import time\n",
        "import datetime\n",
        "\n",
        "def today_datetimeToStr():\n",
        "    today = datetime.datetime.now()\n",
        "    str_t = today.strftime('%Y-%m-%d %H:%M:%S')\n",
        "    return print(str_t, type(str_t))\n",
        "\n",
        "today_datetimeToStr()"
      ],
      "metadata": {
        "colab": {
          "base_uri": "https://localhost:8080/"
        },
        "id": "1afcRYYM6GcR",
        "outputId": "0b83a17a-d26a-47db-a56a-ad8fb56b1531"
      },
      "execution_count": null,
      "outputs": [
        {
          "output_type": "stream",
          "name": "stdout",
          "text": [
            "2024-05-08 07:39:49 <class 'str'>\n"
          ]
        }
      ]
    },
    {
      "cell_type": "code",
      "source": [
        "# 학생 풀이 (서보선)\n",
        "from datetime import datetime\n",
        "\n",
        "def str_date (date) :\n",
        "  return date.strftime('%Y-%m-%d %H:%M:%S')\n",
        "\n",
        "result = str_date(datetime.now())\n",
        "\n",
        "print(result , type(result))"
      ],
      "metadata": {
        "colab": {
          "base_uri": "https://localhost:8080/"
        },
        "id": "UDJrHHj76yF5",
        "outputId": "d1558623-552c-4e1d-bcbe-230176e4a4c4"
      },
      "execution_count": null,
      "outputs": [
        {
          "output_type": "stream",
          "name": "stdout",
          "text": [
            "2024-05-09 01:15:08 <class 'str'>\n"
          ]
        }
      ]
    },
    {
      "cell_type": "code",
      "source": [
        "# 강사님 버전\n",
        "import datetime\n",
        "def datetime_to_string(dt):\n",
        "    return dt.strftime('%Y-%m-%d %H:%M:%S')\n",
        "\n",
        "dt = input('datetime을 입력하세요> ')\n",
        "dt = datetime.datetime.strptime(dt, '%Y-%m-%d %H:%M:%S')\n",
        "s = datetime_to_string(dt)\n",
        "print(s)"
      ],
      "metadata": {
        "colab": {
          "base_uri": "https://localhost:8080/"
        },
        "id": "0WNxRnWr8SU1",
        "outputId": "7c0b879f-d11e-4153-c294-07ee973ad647"
      },
      "execution_count": null,
      "outputs": [
        {
          "output_type": "stream",
          "name": "stdout",
          "text": [
            "datetime을 입력하세요> 2024-05-08 06:44:03\n",
            "2024-05-08 06:44:03\n"
          ]
        }
      ]
    },
    {
      "cell_type": "code",
      "source": [
        "# Task7번 타임존을 한국 기준으로 바꾸어 출력되게 하는 코드 아래와 같습니다.\n",
        "from datetime import datetime\n",
        "import pytz\n",
        "\n",
        "# def str_date (date) :\n",
        "#   return date.strftime('%Y-%m-%d %H:%M:%S')\n",
        "\n",
        "def datetime_to_string(dt):\n",
        "    soeul_timezone = pytz.timezone('Asia/Seoul')\n",
        "    dt_korea = dt.astimezone(soeul_timezone)\n",
        "    return dt_korea.strftime('%Y-%m-%d %H:%M:%S')\n",
        "\n",
        "# result = str_date(datetime.now())\n",
        "result = datetime_to_string(datetime.now())\n",
        "print(result , type(result))"
      ],
      "metadata": {
        "colab": {
          "base_uri": "https://localhost:8080/"
        },
        "id": "b5lGKq7VutvR",
        "outputId": "97b52490-665d-4e8f-c188-077e4ae8395f"
      },
      "execution_count": null,
      "outputs": [
        {
          "output_type": "stream",
          "name": "stdout",
          "text": [
            "2024-05-09 14:02:28 <class 'str'>\n"
          ]
        }
      ]
    },
    {
      "cell_type": "markdown",
      "source": [
        "문제 8"
      ],
      "metadata": {
        "id": "BvWgf-7F5DqT"
      }
    },
    {
      "cell_type": "code",
      "source": [
        "# Task8_0508. 올해 경과된 날짜수 계산하세요.\n",
        "import time\n",
        "# from datetime import datetime\n",
        "\n",
        "t = time.time()\n",
        "print(time.localtime(t))\n",
        "j = time.strftime('%j', time.localtime(t))\n",
        "print(f'{j}일 경과')"
      ],
      "metadata": {
        "colab": {
          "base_uri": "https://localhost:8080/"
        },
        "id": "voGPITGK9tTE",
        "outputId": "079a3b26-18ee-40e9-c39e-cd47aa287354"
      },
      "execution_count": null,
      "outputs": [
        {
          "output_type": "stream",
          "name": "stdout",
          "text": [
            "time.struct_time(tm_year=2024, tm_mon=5, tm_mday=8, tm_hour=8, tm_min=16, tm_sec=21, tm_wday=2, tm_yday=129, tm_isdst=0)\n",
            "129일 경과\n"
          ]
        }
      ]
    },
    {
      "cell_type": "code",
      "source": [
        "# 강사님 버전\n",
        "import datetime\n",
        "\n",
        "current_date = datetime.date.today()\n",
        "\n",
        "start_of_year = datetime.date(current_date.year, 1, 1)\n",
        "\n",
        "days_passed = (current_date - start_of_year).days\n",
        "\n",
        "print(f'올해 경과된 날짜 수: {days_passed}일')"
      ],
      "metadata": {
        "colab": {
          "base_uri": "https://localhost:8080/"
        },
        "id": "wX0uebmm8OhU",
        "outputId": "7ba63d6d-6d6d-483d-ff87-f77524c49591"
      },
      "execution_count": null,
      "outputs": [
        {
          "output_type": "stream",
          "name": "stdout",
          "text": [
            "올해 경과된 날짜 수: 129일\n"
          ]
        }
      ]
    },
    {
      "cell_type": "code",
      "source": [
        "#"
      ],
      "metadata": {
        "id": "fH9f7B7w9byM"
      },
      "execution_count": null,
      "outputs": []
    },
    {
      "cell_type": "markdown",
      "source": [
        "문제 9"
      ],
      "metadata": {
        "id": "zQ_jGjS55FD-"
      }
    },
    {
      "cell_type": "code",
      "source": [
        "# Task9_0508. 현재 요일을 \"2021-6-26 오늘은 토요일입니다.\"와 같은 형식으로 출력하세요.\n",
        "import time\n",
        "from datetime import datetime\n",
        "\n",
        "wdays = {'Mon':'월요일', 'Tue':'화요일', 'Wed':'수요일', 'Thu':'목요일', 'Fri':'금요일', 'Sat':'토요일', 'Sun': '일요일'}\n",
        "\n",
        "# timestamp -> datetime -> str\n",
        "t = time.time()\n",
        "# print(t, type(t))\n",
        "d = datetime.fromtimestamp(t)\n",
        "# print(d, type(d))\n",
        "d = datetime.strftime(d, '%Y-%m-%d %A')\n",
        "date, days = d.split()\n",
        "# print(days[:3])\n",
        "print(f'{date} 오늘은 {wdays[days[:3]]}입니다')"
      ],
      "metadata": {
        "colab": {
          "base_uri": "https://localhost:8080/"
        },
        "id": "YTol7NYJ9uJR",
        "outputId": "f620ff1c-58aa-4b43-c17f-b9f5bb9c1ae1"
      },
      "execution_count": null,
      "outputs": [
        {
          "output_type": "stream",
          "name": "stdout",
          "text": [
            "2024-05-09 오늘은 목요일입니다\n"
          ]
        }
      ]
    },
    {
      "cell_type": "code",
      "source": [
        "# 학생 풀이(황강민)\n",
        "import datetime\n",
        "\n",
        "today = datetime.date.today()\n",
        "print(today)\n",
        "\n",
        "result = today.strftime(\"%Y-%m-%d 오늘은 %A 입니다\")\n",
        "print(result)"
      ],
      "metadata": {
        "colab": {
          "base_uri": "https://localhost:8080/"
        },
        "id": "sAgYLBQt9Z31",
        "outputId": "b186fe1b-9977-4d50-ba60-3edf5320971a"
      },
      "execution_count": null,
      "outputs": [
        {
          "output_type": "stream",
          "name": "stdout",
          "text": [
            "2024-05-09\n",
            "2024-05-09 오늘은 Thursday 입니다\n"
          ]
        }
      ]
    },
    {
      "cell_type": "code",
      "source": [
        "# 학생풀이 (김한결)\n",
        "import time\n",
        "from datetime import datetime\n",
        "\n",
        "wdays = {'Mon':'월요일', 'Tue':'화요일', 'Wed':'수요일', 'Thu':'목요일', 'Fri':'금요일', 'Sat':'토요일', 'Sun': '일요일'}\n",
        "\n",
        "now  = datetime.now()\n",
        "date = now.date()\n",
        "wday = now.strftime(\"%a\")\n",
        "\n",
        "\n",
        "print(f'{date} 오늘은 {wdays[wday]}입니다.')        # 딕셔너리 value는 wday(key값)"
      ],
      "metadata": {
        "colab": {
          "base_uri": "https://localhost:8080/"
        },
        "id": "1IPiLrLF_Pmr",
        "outputId": "09d6f87a-b960-471b-a7b3-6ed3ff48120d"
      },
      "execution_count": null,
      "outputs": [
        {
          "output_type": "stream",
          "name": "stdout",
          "text": [
            "Thu\n",
            "2024-05-09 오늘은 목요일입니다.\n"
          ]
        }
      ]
    },
    {
      "cell_type": "code",
      "source": [
        "# 강사님 버전\n",
        "import time\n",
        "\n",
        "weekdays = ['월요일','화요일','수요일','목요일','금요일','토요일','일요일']\n",
        "t = time.localtime()\n",
        "today = f'{t.tm_year}-{t.tm_mon}-{t.tm_mday}'\n",
        "print(t.tm_wday)        # 인덱스로 오늘 날짜 반환\n",
        "week = weekdays[t.tm_wday]\n",
        "# print('%s 오늘은 %s입니다' %(today, week))\n",
        "print(f'{today} 오늘은 {week}입니다.')"
      ],
      "metadata": {
        "colab": {
          "base_uri": "https://localhost:8080/"
        },
        "id": "DrD0qVa-_tAL",
        "outputId": "08738429-6b66-43de-a159-3fd02148f5c8"
      },
      "execution_count": null,
      "outputs": [
        {
          "output_type": "stream",
          "name": "stdout",
          "text": [
            "3\n",
            "2024-5-9 오늘은 목요일입니다.\n"
          ]
        }
      ]
    },
    {
      "cell_type": "markdown",
      "source": [
        "문제 10"
      ],
      "metadata": {
        "id": "Iatr272T5GXi"
      }
    },
    {
      "cell_type": "code",
      "source": [
        "# Task10_0508. 1에서 백만까지 더하는데 걸리는 프로그램 실행 시간을 밀리초(ms) 단위로 구하세요.(1ms=0.001초)\n",
        "\n",
        "import time\n",
        "import datetime\n",
        "\n",
        "total = 0\n",
        "t1 = time.time()\n",
        "\n",
        "print(t1, type(t1))\n",
        "\n",
        "for i in range(1, 1000001):\n",
        "    total += i\n",
        "\n",
        "t2 = time.time()\n",
        "print(t2, type(t2))\n",
        "\n",
        "result_t = t2 - t1\n",
        "print(total)\n",
        "print(f'{round(result_t*1000, 2)} m/s')"
      ],
      "metadata": {
        "colab": {
          "base_uri": "https://localhost:8080/"
        },
        "id": "23_7pPOd9t_4",
        "outputId": "9d23c544-0d0d-4bc3-97c7-8deeb88a8ead"
      },
      "execution_count": null,
      "outputs": [
        {
          "output_type": "stream",
          "name": "stdout",
          "text": [
            "1715218967.634647 <class 'float'>\n",
            "1715218967.781042 <class 'float'>\n",
            "500000500000\n",
            "146.4 m/s\n"
          ]
        }
      ]
    },
    {
      "cell_type": "code",
      "source": [
        "# 학생 풀이 (김한결)\n",
        "import time\n",
        "\n",
        "start = time.time()\n",
        "sn = sum(range(1, 1000001))\n",
        "end = time.time()\n",
        "print(f\"1에서 백만까지 더하는데 걸린 시간 : {(end - start):.3f}초\")\n",
        "\n",
        "minute, second = divmod((end-start), 60)\n",
        "h, m = divmod(minute, 60)\n",
        "print(f'{int(h)}시간 {int(minute)}분 {second:.3f}초')"
      ],
      "metadata": {
        "colab": {
          "base_uri": "https://localhost:8080/"
        },
        "id": "yQjM9RBYAzzX",
        "outputId": "380fb214-8db0-49f7-e93e-43d48339ea9c"
      },
      "execution_count": null,
      "outputs": [
        {
          "output_type": "stream",
          "name": "stdout",
          "text": [
            "1에서 백만까지 더하는데 걸린 시간 : 0.021초\n",
            "0시간 0분 0.021초\n"
          ]
        }
      ]
    },
    {
      "cell_type": "code",
      "source": [
        "# 강사님 버전\n",
        "import time\n",
        "\n",
        "t1 = time.time()\n",
        "t2 = 0\n",
        "result = 0\n",
        "\n",
        "for i in range(1000000):\n",
        "    result += i+1\n",
        "else:\n",
        "    t2 = time.time()\n",
        "\n",
        "print(f'백만까지 더한 값: {result}\\n걸린 시간: {round((t2-t1)*1000)} (ms)')"
      ],
      "metadata": {
        "colab": {
          "base_uri": "https://localhost:8080/"
        },
        "id": "EW44C2WdA20i",
        "outputId": "6c0c4acf-04aa-47c8-88d4-8af339dae078"
      },
      "execution_count": null,
      "outputs": [
        {
          "output_type": "stream",
          "name": "stdout",
          "text": [
            "백만까지 더한 값: 500000500000\n",
            "걸린 시간: 180 (ms)\n"
          ]
        }
      ]
    },
    {
      "cell_type": "code",
      "source": [
        "import time\n",
        "from datetime import datetime\n",
        "\n",
        "t1 = time.time()\n",
        "print(t1, type(t1))\n",
        "t2 = datetime.now()\n",
        "print(t2, type(t2))\n",
        "d = datetime.now().timetuple()\n",
        "print(d, type(d))\n",
        "s = time.mktime(d)\n",
        "print(s, type(s))\n",
        "t3 = time.time()\n",
        "print(t3, type(t3))"
      ],
      "metadata": {
        "colab": {
          "base_uri": "https://localhost:8080/"
        },
        "id": "3TkuEIaqQ5TD",
        "outputId": "20546458-a358-42a0-eb32-1bc99fc25090"
      },
      "execution_count": null,
      "outputs": [
        {
          "output_type": "stream",
          "name": "stdout",
          "text": [
            "1715157483.4331875 <class 'float'>\n",
            "2024-05-08 08:38:03.433920 <class 'datetime.datetime'>\n",
            "time.struct_time(tm_year=2024, tm_mon=5, tm_mday=8, tm_hour=8, tm_min=38, tm_sec=3, tm_wday=2, tm_yday=129, tm_isdst=-1) <class 'time.struct_time'>\n",
            "1715157483.0 <class 'float'>\n",
            "1715157483.4344962 <class 'float'>\n"
          ]
        }
      ]
    }
  ]
}