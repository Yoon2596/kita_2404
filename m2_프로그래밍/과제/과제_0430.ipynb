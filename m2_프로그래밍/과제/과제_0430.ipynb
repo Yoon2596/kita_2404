{
  "nbformat": 4,
  "nbformat_minor": 0,
  "metadata": {
    "colab": {
      "provenance": [],
      "authorship_tag": "ABX9TyNsLvrqIFCmua5SEQuPm/zW",
      "include_colab_link": true
    },
    "kernelspec": {
      "name": "python3",
      "display_name": "Python 3"
    },
    "language_info": {
      "name": "python"
    }
  },
  "cells": [
    {
      "cell_type": "markdown",
      "metadata": {
        "id": "view-in-github",
        "colab_type": "text"
      },
      "source": [
        "<a href=\"https://colab.research.google.com/github/Yoon2596/kita_2404/blob/main/m2_%ED%94%84%EB%A1%9C%EA%B7%B8%EB%9E%98%EB%B0%8D/%EA%B3%BC%EC%A0%9C/%EA%B3%BC%EC%A0%9C_0430.ipynb\" target=\"_parent\"><img src=\"https://colab.research.google.com/assets/colab-badge.svg\" alt=\"Open In Colab\"/></a>"
      ]
    },
    {
      "cell_type": "code",
      "execution_count": null,
      "metadata": {
        "id": "a8G4eSiPwlW6",
        "colab": {
          "base_uri": "https://localhost:8080/"
        },
        "outputId": "691564a2-44e6-49d2-e475-7d669b954ef9"
      },
      "outputs": [
        {
          "output_type": "stream",
          "name": "stdout",
          "text": [
            "[('이몽룡', '갑순'), ('철수', '미미'), ('로미오', '줄리엣'), ('갑돌', '성춘향'), ('온돌', '평강')]\n"
          ]
        }
      ],
      "source": [
        "# Task1_0430. 남녀 파트너 정해주기 프로그램(zip)\n",
        "\n",
        "# 같은 수의 남녀 모임에서 파트너를 랜덤하게 정해주는 프로그램을 만들어 보세요\n",
        "\n",
        "male = ['철수','갑돌','로미오','이몽룡','온돌']\n",
        "female = ['미미','갑순','줄리엣','성춘향','평강']\n",
        "\n",
        "import random\n",
        "\n",
        "random.shuffle(male)\n",
        "random.shuffle(female)\n",
        "\n",
        "parter = zip(male,female)\n",
        "print(list(parter))"
      ]
    },
    {
      "cell_type": "markdown",
      "source": [
        "zip 함수는 이터레이터를 반환하고 이 이터레이터를 단 한 번만 소비 할 수 있음.\n",
        "list() 함수를 사용하여 이터레이터의 모든 원소를 한 번에 소비해 버리면, 그 결과는 빈 이터레이터가 되기 때문에 리스트로 다시 저장 후 사용해야함"
      ],
      "metadata": {
        "id": "jtx0k6v84KPx"
      }
    },
    {
      "cell_type": "code",
      "source": [
        "# 강사님 버전 문제 1\n",
        "import random\n",
        "male = ['철수','갑돌','로미오','이몽룡','온돌']\n",
        "female = ['미미','갑순','줄리엣','성춘향','평강']\n",
        "\n",
        "random.shuffle(male)\n",
        "random.shuffle(female)\n",
        "# couples = list(zip(male, female))\n",
        "couples = zip(male, female)\n",
        "print(list(couples))\n",
        "# couples = list(couples)\n",
        "couples = zip(male, female)     # 이미 위에서 소비했기에 빈 이터레이터가 되어 다시 저장\n",
        "# enumerate  사용 시 인덱스 번호도 뽑아줌\n",
        "for i, couple in enumerate(couples):\n",
        "    print(f'커플{i+1}: {couple[0]}, {couple[1]}')"
      ],
      "metadata": {
        "colab": {
          "base_uri": "https://localhost:8080/"
        },
        "id": "sMNGbL2ts2kL",
        "outputId": "2a8166c8-2f1e-4a11-ca07-632ebf3f91a8"
      },
      "execution_count": null,
      "outputs": [
        {
          "output_type": "stream",
          "name": "stdout",
          "text": [
            "[('온돌', '평강'), ('이몽룡', '성춘향'), ('로미오', '갑순'), ('철수', '줄리엣'), ('갑돌', '미미')]\n",
            "커플1: 온돌, 평강\n",
            "커플2: 이몽룡, 성춘향\n",
            "커플3: 로미오, 갑순\n",
            "커플4: 철수, 줄리엣\n",
            "커플5: 갑돌, 미미\n"
          ]
        }
      ]
    },
    {
      "cell_type": "code",
      "source": [
        "# Task2_0430. 대문자, 소문자, 숫자를 포함하는 8자리 랜덤 비밀번호를 생성하는 프로그램을 작성하세요.\n",
        "\n",
        "import string, random\n",
        "\n",
        "# 영어 대소문자 모두 포함한 캐릭터 리스트\n",
        "alphabets = list(string.ascii_letters)\n",
        "# print(alphabets)\n",
        "\n",
        "password =[]\n",
        "# random.shuffle(alphabets)\n",
        "# num = random.randint(1,9)\n",
        "# print(alphabets, num)\n",
        "\n",
        "# 모든 영어대소문자와 숫자를 한곳에 넣기\n",
        "for i in range(10):\n",
        "    alphabets.append(str(i))        # 인트를 str 타입으로 변환하여 넣어줌\n",
        "# print(alphabets)\n",
        "\n",
        "# 캐릭터들 랜덤으로 섞어주기\n",
        "random.shuffle(alphabets)\n",
        "\n",
        "for i in alphabets:\n",
        "    # print(i)\n",
        "    password.append(i)\n",
        "    if len(password) == 8:\n",
        "        break\n",
        "\n",
        "# print(password)\n",
        "# a = list(password)\n",
        "# print(password)\n",
        "print('랜덤비밀번호 : ', ''.join(password))     # 숫자가 int 타입으로 나와 조인함수가 작동 안됬음\n",
        "# print(join(password))"
      ],
      "metadata": {
        "colab": {
          "base_uri": "https://localhost:8080/"
        },
        "id": "CRkfqt_2zEpA",
        "outputId": "23f56fdf-6bbe-4d00-f19d-8e534f727d16"
      },
      "execution_count": null,
      "outputs": [
        {
          "output_type": "stream",
          "name": "stdout",
          "text": [
            "랜덤비밀번호 :  WtQcTbCx\n"
          ]
        }
      ]
    },
    {
      "cell_type": "code",
      "source": [
        "# 강사님 버전 문제 2\n",
        "import string   #문자열 상수를 제공하는 모듈로, 여기서는 알파벳 문자와 숫자를 포함\n",
        "import random\n",
        "\n",
        "characters = string.ascii_letters + string.digits   #모든 소문자, 대문자, 숫자를 모두 포함\n",
        "password = ''.join(random.choice(characters) for i in range(8))\n",
        "print(\"랜덤 비밀번호 : \", password)\n"
      ],
      "metadata": {
        "colab": {
          "base_uri": "https://localhost:8080/"
        },
        "id": "bq49ytu2xlZ_",
        "outputId": "80d11845-af87-4d75-bde3-02fd850b7930"
      },
      "execution_count": null,
      "outputs": [
        {
          "output_type": "stream",
          "name": "stdout",
          "text": [
            "랜덤 비밀번호 :  uAjb63J6\n"
          ]
        }
      ]
    },
    {
      "cell_type": "code",
      "source": [
        "# 강사님 버전 문제 2 (대문자, 소문자, 숫자가 꼭 1개 이상 포함하는 조건 일 때)\n",
        "import string   #문자열 상수를 제공하는 모듈로, 여기서는 알파벳 문자와 숫자를 포함\n",
        "import random\n",
        "\n",
        "upper = random.choice(string.ascii_uppercase)\n",
        "lower = random.choice(string.ascii_lowercase)\n",
        "digit = random.choice(string.digits)\n",
        "\n",
        "characters = string.ascii_letters + string.digits   #모든 소문자, 대문자, 숫자를 모두 포함\n",
        "rest = ''.join(random.choice(characters) for i in range(5))\n",
        "\n",
        "# 모든 요소를 하나의 문자열롸 묶기\n",
        "password = upper + lower + digit + rest\n",
        "\n",
        "#비밀번호 임의로 섞기\n",
        "print(password)\n",
        "password = ''.join(random.sample(password, len(password)))    # sample(선택한 시퀸스, 뽑아줄 요소크기)\n",
        "\n",
        "print(\"랜덤 비밀번호 :\", password)"
      ],
      "metadata": {
        "colab": {
          "base_uri": "https://localhost:8080/"
        },
        "id": "mMz9dR3G0hr2",
        "outputId": "bc0fd3c1-023e-4c2f-ba76-d512fe1b5dff"
      },
      "execution_count": null,
      "outputs": [
        {
          "output_type": "stream",
          "name": "stdout",
          "text": [
            "Hj4YjZ3p\n",
            "랜덤 비밀번호 : j3HjZYp4\n"
          ]
        }
      ]
    },
    {
      "cell_type": "code",
      "source": [
        "# Task3_0430. 발표자 수를 랜덤하게 출력하는 프로그램을 작성하세요.(발표자 수 입력)\n",
        "\n",
        "kita = ['김성현','황강민','윤호준','류윤선','이상협','박지환','최환욱','서보선','김한결','김도현','김하준',\n",
        "        '김도원','신현진','소지승','이범석','이현석','이명신','박윤경','이도헌','김홍준']\n",
        "\n",
        "import random\n",
        "\n",
        "person = int(input(\"발표자 수를 입력해주세요 : \"))\n",
        "# person = 3\n",
        "\n",
        "# 랜덤한 발표자 섞기\n",
        "random.shuffle(kita)\n",
        "# print(kita)\n",
        "demonst = []\n",
        "# 발표자 수에 따라 랜덤으로 이름 표시\n",
        "for i in range(person):\n",
        "    # print(kita[i])\n",
        "    demonst.append(kita[i])\n",
        "    # print(demonst)\n",
        "print(demonst)"
      ],
      "metadata": {
        "colab": {
          "base_uri": "https://localhost:8080/"
        },
        "id": "P5tvvc9PzGme",
        "outputId": "7e30d4fd-6169-4696-8172-759d6eb6e919"
      },
      "execution_count": null,
      "outputs": [
        {
          "output_type": "stream",
          "name": "stdout",
          "text": [
            "발표자 수를 입력해주세요 : 5\n",
            "['신현진', '김홍준', '김도현', '김한결', '이현석']\n"
          ]
        }
      ]
    },
    {
      "cell_type": "code",
      "source": [
        "# 강사님 버전 문제 3\n",
        "kita = ['김성현','황강민','윤호준','류윤선','이상협','박지환','최환욱','서보선','김한결','김도현','김하준',\n",
        "        '김도원','신현진','소지승','이범석','이현석','이명신','박윤경','이도헌','김홍준']\n",
        "\n",
        "import random\n",
        "\n",
        "num = int(input(\"발표자 수를 입력해주세요 : \"))\n",
        "ans = random.sample(kita, num)  # 중복 없이 요소를 선택\n",
        "print(ans)"
      ],
      "metadata": {
        "colab": {
          "base_uri": "https://localhost:8080/"
        },
        "id": "nh9RLqGy5ZP1",
        "outputId": "cddd1f4f-a799-4b90-ca5a-a916ecad4108"
      },
      "execution_count": null,
      "outputs": [
        {
          "output_type": "stream",
          "name": "stdout",
          "text": [
            "발표자 수를 입력해주세요 : 6\n",
            "['류윤선', '윤호준', '김한결', '소지승', '이범석', '이상협']\n"
          ]
        }
      ]
    },
    {
      "cell_type": "code",
      "source": [
        "# Task4_0430. 사용자로부터 숫자를 입력받아 해당 숫자의 구구단을 출력하는 프로그램을 작성하세요.\n",
        "\n",
        "gugu = int(input('보고 싶은 구구단의 단 숫자를 입력해주세요 :'))\n",
        "# gugu = 2\n",
        "\n",
        "for i in range(1, 10):\n",
        "    print(f'{gugu} * {i} = {gugu * i}')"
      ],
      "metadata": {
        "colab": {
          "base_uri": "https://localhost:8080/"
        },
        "id": "c76971etzJi1",
        "outputId": "2884ade3-3ff6-49cb-eec2-57eff549ee1d"
      },
      "execution_count": null,
      "outputs": [
        {
          "output_type": "stream",
          "name": "stdout",
          "text": [
            "보고 싶은 구구단의 단 숫자를 입력해주세요 :9\n",
            "9 * 1 = 9\n",
            "9 * 2 = 18\n",
            "9 * 3 = 27\n",
            "9 * 4 = 36\n",
            "9 * 5 = 45\n",
            "9 * 6 = 54\n",
            "9 * 7 = 63\n",
            "9 * 8 = 72\n",
            "9 * 9 = 81\n"
          ]
        }
      ]
    },
    {
      "cell_type": "code",
      "source": [
        "# 문제 4 구구단 2단부터 9단까지 전부 출력\n",
        "\n",
        "for i in range(2, 10):\n",
        "    for j in range(1, 10):\n",
        "        print(f'{i} * {j} = {i * j}')\n",
        "    print('\\n')"
      ],
      "metadata": {
        "colab": {
          "base_uri": "https://localhost:8080/"
        },
        "id": "jTTntZxc6_e0",
        "outputId": "744c2185-84a0-4ad0-8a8b-4e1f3675f790"
      },
      "execution_count": null,
      "outputs": [
        {
          "output_type": "stream",
          "name": "stdout",
          "text": [
            "2 * 1 = 2\n",
            "2 * 2 = 4\n",
            "2 * 3 = 6\n",
            "2 * 4 = 8\n",
            "2 * 5 = 10\n",
            "2 * 6 = 12\n",
            "2 * 7 = 14\n",
            "2 * 8 = 16\n",
            "2 * 9 = 18\n",
            "\n",
            "\n",
            "3 * 1 = 3\n",
            "3 * 2 = 6\n",
            "3 * 3 = 9\n",
            "3 * 4 = 12\n",
            "3 * 5 = 15\n",
            "3 * 6 = 18\n",
            "3 * 7 = 21\n",
            "3 * 8 = 24\n",
            "3 * 9 = 27\n",
            "\n",
            "\n",
            "4 * 1 = 4\n",
            "4 * 2 = 8\n",
            "4 * 3 = 12\n",
            "4 * 4 = 16\n",
            "4 * 5 = 20\n",
            "4 * 6 = 24\n",
            "4 * 7 = 28\n",
            "4 * 8 = 32\n",
            "4 * 9 = 36\n",
            "\n",
            "\n",
            "5 * 1 = 5\n",
            "5 * 2 = 10\n",
            "5 * 3 = 15\n",
            "5 * 4 = 20\n",
            "5 * 5 = 25\n",
            "5 * 6 = 30\n",
            "5 * 7 = 35\n",
            "5 * 8 = 40\n",
            "5 * 9 = 45\n",
            "\n",
            "\n",
            "6 * 1 = 6\n",
            "6 * 2 = 12\n",
            "6 * 3 = 18\n",
            "6 * 4 = 24\n",
            "6 * 5 = 30\n",
            "6 * 6 = 36\n",
            "6 * 7 = 42\n",
            "6 * 8 = 48\n",
            "6 * 9 = 54\n",
            "\n",
            "\n",
            "7 * 1 = 7\n",
            "7 * 2 = 14\n",
            "7 * 3 = 21\n",
            "7 * 4 = 28\n",
            "7 * 5 = 35\n",
            "7 * 6 = 42\n",
            "7 * 7 = 49\n",
            "7 * 8 = 56\n",
            "7 * 9 = 63\n",
            "\n",
            "\n",
            "8 * 1 = 8\n",
            "8 * 2 = 16\n",
            "8 * 3 = 24\n",
            "8 * 4 = 32\n",
            "8 * 5 = 40\n",
            "8 * 6 = 48\n",
            "8 * 7 = 56\n",
            "8 * 8 = 64\n",
            "8 * 9 = 72\n",
            "\n",
            "\n",
            "9 * 1 = 9\n",
            "9 * 2 = 18\n",
            "9 * 3 = 27\n",
            "9 * 4 = 36\n",
            "9 * 5 = 45\n",
            "9 * 6 = 54\n",
            "9 * 7 = 63\n",
            "9 * 8 = 72\n",
            "9 * 9 = 81\n",
            "\n",
            "\n"
          ]
        }
      ]
    },
    {
      "cell_type": "markdown",
      "source": [
        "f-string내에서 { }안에는 변수 뿐만 아니라 Python  표현식도 올 수 있음."
      ],
      "metadata": {
        "id": "OayI6HRDFkS-"
      }
    },
    {
      "cell_type": "code",
      "source": [
        "# 문제 4 구구단 2단부터 9단까지 전부 출력 (보기 좋게 만들기,  횡방향 출력)\n",
        "\n",
        "# 각 단 제목 추가\n",
        "for a in range(2, 10):\n",
        "    print(f'{\" \"*4}{a}단{\" \"*3}', end='\\t')\n",
        "\n",
        "print() # 단 출력 후 구분선용으로 개행\n",
        "\n",
        "# 구분선 추가\n",
        "for b in range(1, 9):\n",
        "    print('===========', end='\\t')\n",
        "\n",
        "print()\n",
        "for i in range(1, 10):\n",
        "\n",
        "    for j in range(2, 10):\n",
        "\n",
        "        print(f'{j} * {i} = {i * j}\\t', end='')\n",
        "    print('')\n"
      ],
      "metadata": {
        "colab": {
          "base_uri": "https://localhost:8080/"
        },
        "id": "ruCxutN890d_",
        "outputId": "de5bec01-21db-4c79-875a-9a1cef7a40c1"
      },
      "execution_count": null,
      "outputs": [
        {
          "output_type": "stream",
          "name": "stdout",
          "text": [
            "    2단   \t    3단   \t    4단   \t    5단   \t    6단   \t    7단   \t    8단   \t    9단   \t\n",
            "===========\t===========\t===========\t===========\t===========\t===========\t===========\t===========\t\n",
            "2 * 1 = 2\t3 * 1 = 3\t4 * 1 = 4\t5 * 1 = 5\t6 * 1 = 6\t7 * 1 = 7\t8 * 1 = 8\t9 * 1 = 9\t\n",
            "2 * 2 = 4\t3 * 2 = 6\t4 * 2 = 8\t5 * 2 = 10\t6 * 2 = 12\t7 * 2 = 14\t8 * 2 = 16\t9 * 2 = 18\t\n",
            "2 * 3 = 6\t3 * 3 = 9\t4 * 3 = 12\t5 * 3 = 15\t6 * 3 = 18\t7 * 3 = 21\t8 * 3 = 24\t9 * 3 = 27\t\n",
            "2 * 4 = 8\t3 * 4 = 12\t4 * 4 = 16\t5 * 4 = 20\t6 * 4 = 24\t7 * 4 = 28\t8 * 4 = 32\t9 * 4 = 36\t\n",
            "2 * 5 = 10\t3 * 5 = 15\t4 * 5 = 20\t5 * 5 = 25\t6 * 5 = 30\t7 * 5 = 35\t8 * 5 = 40\t9 * 5 = 45\t\n",
            "2 * 6 = 12\t3 * 6 = 18\t4 * 6 = 24\t5 * 6 = 30\t6 * 6 = 36\t7 * 6 = 42\t8 * 6 = 48\t9 * 6 = 54\t\n",
            "2 * 7 = 14\t3 * 7 = 21\t4 * 7 = 28\t5 * 7 = 35\t6 * 7 = 42\t7 * 7 = 49\t8 * 7 = 56\t9 * 7 = 63\t\n",
            "2 * 8 = 16\t3 * 8 = 24\t4 * 8 = 32\t5 * 8 = 40\t6 * 8 = 48\t7 * 8 = 56\t8 * 8 = 64\t9 * 8 = 72\t\n",
            "2 * 9 = 18\t3 * 9 = 27\t4 * 9 = 36\t5 * 9 = 45\t6 * 9 = 54\t7 * 9 = 63\t8 * 9 = 72\t9 * 9 = 81\t\n"
          ]
        }
      ]
    },
    {
      "cell_type": "code",
      "source": [
        "# Task5_0430. 사용자로부터 숫자를 입력받아 해당 숫자의 팩토리얼을 계산하세요.\n",
        "#ex) 5! = 5*4*3*2*1= 120\n",
        "\n",
        "facto = int(input('계산하고 싶은 팩토리오 숫자를 입력해주세요 :'))\n",
        "# facto = 5\n",
        "total = 1\n",
        "for i in range(1, facto+1):\n",
        "    total *= i\n",
        "\n",
        "    # print(total)\n",
        "print(total)"
      ],
      "metadata": {
        "colab": {
          "base_uri": "https://localhost:8080/"
        },
        "id": "PUI-9DuAzMYh",
        "outputId": "685a3950-6bae-41f0-c89a-131ae1eb379d"
      },
      "execution_count": null,
      "outputs": [
        {
          "output_type": "stream",
          "name": "stdout",
          "text": [
            "계산하고 싶은 팩토리오 숫자를 입력해주세요 :8\n",
            "40320\n"
          ]
        }
      ]
    },
    {
      "cell_type": "code",
      "source": [
        "# 강사님 버전 문제 5\n",
        "\n",
        "num = int(input('계산하고 싶은 팩토리오 숫자를 입력해주세요 : '))\n",
        "\n",
        "factorial = 1\n",
        "for i in range(1, num+1):\n",
        "    factorial *= i\n",
        "\n",
        "print(f'{num}의 팩토리얼은 {factorial}입니다')"
      ],
      "metadata": {
        "colab": {
          "base_uri": "https://localhost:8080/"
        },
        "id": "BGBbWjCcG2zP",
        "outputId": "8ec7a65e-f8b3-412d-b46f-c31c82718f75"
      },
      "execution_count": null,
      "outputs": [
        {
          "output_type": "stream",
          "name": "stdout",
          "text": [
            "계산하고 싶은 팩토리오 숫자를 입력해주세요 : 7\n",
            "7의 팩토리얼은 5040입니다\n"
          ]
        }
      ]
    },
    {
      "cell_type": "code",
      "source": [
        "# Task6_0430. 0부터 20까지의 숫자 중에서 짝수와 홀수를 분리하여 두 개의 리스트에 저장하세요.\n",
        "\n",
        "odd = []\n",
        "even = []\n",
        "\n",
        "for i in range(21):\n",
        "    if i % 2 == 0:\n",
        "        even.append(i)\n",
        "    else:\n",
        "        odd.append(i)\n",
        "\n",
        "print(even)\n",
        "print(odd)\n"
      ],
      "metadata": {
        "colab": {
          "base_uri": "https://localhost:8080/"
        },
        "id": "GR2RkEtozQBe",
        "outputId": "cdffc67c-c3cf-4f0d-e6c8-500f522326a3"
      },
      "execution_count": null,
      "outputs": [
        {
          "output_type": "stream",
          "name": "stdout",
          "text": [
            "[0, 2, 4, 6, 8, 10, 12, 14, 16, 18, 20]\n",
            "[1, 3, 5, 7, 9, 11, 13, 15, 17, 19]\n"
          ]
        }
      ]
    },
    {
      "cell_type": "code",
      "source": [
        "# Task7_0430. 주어진 리스트에서 최대값을 찾아 출력하세요.\n",
        "numbers = [34, 78, 2, 45, 99, 23]\n",
        "\n",
        "# print(max(numbers))\n",
        "max_num = 50\n",
        "for i in range(len(numbers)):\n",
        "    # print(numbers[i])\n",
        "    if max_num < numbers[i]:\n",
        "        max_num = numbers[i]\n",
        "    else:\n",
        "        max_num = max_num\n",
        "\n",
        "print(max_num)"
      ],
      "metadata": {
        "colab": {
          "base_uri": "https://localhost:8080/"
        },
        "id": "Qi-hdMTVzRq9",
        "outputId": "a8ab9ba6-3983-4168-ad6c-75528fd13ba0"
      },
      "execution_count": null,
      "outputs": [
        {
          "output_type": "stream",
          "name": "stdout",
          "text": [
            "99\n"
          ]
        }
      ]
    },
    {
      "cell_type": "code",
      "source": [
        "# 강사님 버전 문제 7\n",
        "\n",
        "numbers = [34, 78, 2, 45, 99, 23]\n",
        "max = 0\n",
        "for i in numbers:\n",
        "    if i > max:\n",
        "        max = i\n",
        "print(max)"
      ],
      "metadata": {
        "colab": {
          "base_uri": "https://localhost:8080/"
        },
        "id": "_kUdBTq7Ipg0",
        "outputId": "12dea477-e332-4cbb-88a8-b5191aa88daf"
      },
      "execution_count": null,
      "outputs": [
        {
          "output_type": "stream",
          "name": "stdout",
          "text": [
            "99\n"
          ]
        }
      ]
    },
    {
      "cell_type": "code",
      "source": [
        "# Task8_0430.  1부터 10 사이의 임의의 숫자를 맞추는 게임을 만드세요. 사용자가 숫자를 맞출 때까지 입력을 계속 받으며, 정답을 맞추면 게임을 종료하세요.\n",
        "import random\n",
        "\n",
        "# 랜덤한 1 ~ 10 숫자 중 한개를 정합니다 (정답)\n",
        "goal = random.randint(1, 10)\n",
        "\n",
        "while True:\n",
        "    # 사용자로 부터 예상 숫자를 받습니다\n",
        "    user_num = int(input('1 ~ 10 중 예상 숫자를 하나 적어주세요 : '))\n",
        "    # user_num = 7\n",
        "\n",
        "    #사용자 숫자가 클 시\n",
        "    if user_num > goal:\n",
        "        print('더 작은 수를 넣어주세요')\n",
        "    #사용자 숫자가 작을 시\n",
        "    elif user_num < goal:\n",
        "        print('더 큰 수를 넣어주세요')\n",
        "    else:\n",
        "        print('정답입니다')\n",
        "        break"
      ],
      "metadata": {
        "colab": {
          "base_uri": "https://localhost:8080/"
        },
        "id": "3TtlqWnizRvx",
        "outputId": "6489c701-5526-4ce3-c539-c3c15f00c9db"
      },
      "execution_count": null,
      "outputs": [
        {
          "output_type": "stream",
          "name": "stdout",
          "text": [
            "1 ~ 10 중 예상 숫자를 하나 적어주세요 : 10\n",
            "더 작은 수를 넣어주세요\n",
            "1 ~ 10 중 예상 숫자를 하나 적어주세요 : 2\n",
            "더 큰 수를 넣어주세요\n",
            "1 ~ 10 중 예상 숫자를 하나 적어주세요 : 6\n",
            "더 큰 수를 넣어주세요\n",
            "1 ~ 10 중 예상 숫자를 하나 적어주세요 : 8\n",
            "더 큰 수를 넣어주세요\n",
            "1 ~ 10 중 예상 숫자를 하나 적어주세요 : 9\n",
            "정답입니다\n"
          ]
        }
      ]
    },
    {
      "cell_type": "code",
      "source": [
        "# Task9_0430. 태어난 연도를 입력받아 띠를 출력하는 프로그램을 작성하세요.\n",
        "\n",
        "years = int(input('태어난 연도를 입력하면 해당 년도의 띠를 출력합니다 : '))\n",
        "# years = 1992\n",
        "\n",
        "# zodiac = ['쥐띠', '소띠', '호랑이띠', '토끼띠', '용띠', '뱀띠', '말띠', '양띠', '원숭이띠', '닭띠', '개띠', '돼지띠']\n",
        "\n",
        "# 1992를 12로 나눴을 떄 0으로 딱 떨어짐 (해당 년도는 원숭이띠)\n",
        "# i = years % 12\n",
        "# print(i)\n",
        "111\n",
        "#원숭이띠를 기준점 0으로 잡음\n",
        "zodiac = ['원숭이띠', '닭띠', '개띠', '돼지띠', '쥐띠', '소띠', '호랑이띠', '토끼띠', '용띠', '뱀띠', '말띠', '양띠']\n",
        "\n",
        "result = years % 12\n",
        "\n",
        "print(f'해당 {years}년도는 {zodiac[result]}입니다')"
      ],
      "metadata": {
        "colab": {
          "base_uri": "https://localhost:8080/"
        },
        "id": "cwX9V8W4zXj2",
        "outputId": "de342b8c-f4f7-4219-f460-3d43791f800f"
      },
      "execution_count": null,
      "outputs": [
        {
          "output_type": "stream",
          "name": "stdout",
          "text": [
            "태어난 연도를 입력하면 해당 년도의 띠를 출력합니다 : 923\n",
            "해당 923년도는 양띠입니다\n"
          ]
        }
      ]
    },
    {
      "cell_type": "code",
      "source": [
        "# 강사님 버전 문제 9\n",
        "zodiac = ['쥐띠', '소띠', '호랑이띠', '토끼띠', '용띠', '뱀띠', '말띠', '양띠', '원숭이띠', '닭띠', '개띠', '돼지띠']\n",
        "birth_years = int(input('태어난 연도를 입력하면 해당 년도의 띠를 출력합니다 : '))\n",
        "zodiac_index = (birth_years - 1924) % 12\n",
        "zodiac = zodiac[zodiac_index]\n",
        "print(f'{birth_years}년은 {zodiac}입니다')"
      ],
      "metadata": {
        "colab": {
          "base_uri": "https://localhost:8080/"
        },
        "id": "En1DdgI8MGOw",
        "outputId": "24b504a4-a5a7-4a05-f381-77478d2ed61e"
      },
      "execution_count": null,
      "outputs": [
        {
          "output_type": "stream",
          "name": "stdout",
          "text": [
            "태어난 연도를 입력하면 해당 년도의 띠를 출력합니다 : 923\n",
            "923년은 양띠입니다\n"
          ]
        }
      ]
    },
    {
      "cell_type": "code",
      "source": [
        "# Task10_0430. 아래 사항을 반영하여 커피 자판기 프로그램을 작성하세요.\n",
        "# - 시나리오 : 자판기 커피 재고 5잔, 커피 1잔 가격 300원, 재고 범위내에서 300원 이상 돈을 넣으면 거스름돈과 커피를 주고 그렇지 않으면 반환하며 재고가 소진되면 안내멘트 출력\n",
        "# - 각 Case별 멘트 출력은 상황에 맞게 창작\n",
        "# - while, if ~ elif ~ else 제어문을 사용하여 작성\n",
        "\n",
        "stock = 5\n",
        "coffee = 300\n",
        "while True:\n",
        "    try:\n",
        "        money = int(input('투입한 금액을 적어주세요 : '))\n",
        "        # money = 2000\n",
        "        # 돈에 따라 잔 계산\n",
        "        i = money // coffee\n",
        "        if i > 0:\n",
        "\n",
        "            if i <= stock:\n",
        "                print(f'거스름돈 ${money - coffee*i}와 커피 {i}잔입니다')\n",
        "                break\n",
        "            else:\n",
        "                print(f'거스름돈 ${money - coffee*stock}와 커피 {stock}잔입니다')\n",
        "                break\n",
        "        else:\n",
        "            print('잔액이 부족합니다')\n",
        "            break\n",
        "    except ValueError:\n",
        "        print(\"정수를 넣어주세요\")"
      ],
      "metadata": {
        "colab": {
          "base_uri": "https://localhost:8080/"
        },
        "id": "MTrPYJIlzX3E",
        "outputId": "6cdf8cc7-3074-4e31-9ae8-78e6246ad428"
      },
      "execution_count": null,
      "outputs": [
        {
          "output_type": "stream",
          "name": "stdout",
          "text": [
            "투입한 금액을 적어주세요 : 300\n",
            "거스름돈 $0와 커피 1잔입니다\n"
          ]
        }
      ]
    },
    {
      "cell_type": "code",
      "source": [
        "# 강사님 버전 문제10\n",
        "\n",
        "coffee = 5\n",
        "\n",
        "while True:\n",
        "\n",
        "    money = int(input('금액을 넣어주세요 : '))\n",
        "    if money == 300:\n",
        "        coffee = coffee - 1\n",
        "        # print(coffee)\n",
        "        print(f'커피 1잔이 나옵니다, 남은 재고 {coffee}')\n",
        "    elif money > 300:\n",
        "        coffee = coffee - 1\n",
        "        print(f'거스름돈 {money - 300}원, 커피 1잔이 나옵니다, 남은 재고 {coffee}')\n",
        "    else:\n",
        "        print(f'금액이 부족하여 {money} 반환합니다')\n",
        "    if coffee == 0:\n",
        "        print(f'당일 커피 재고가 모두 소진 되었습니다, 재고가 찬 이후 다시 찾아오시길 바랍니다')\n",
        "        break"
      ],
      "metadata": {
        "colab": {
          "base_uri": "https://localhost:8080/"
        },
        "id": "XABJeSCxQ-Of",
        "outputId": "79aeaa7c-ea8a-4d54-bbc4-2a5121961e12"
      },
      "execution_count": null,
      "outputs": [
        {
          "output_type": "stream",
          "name": "stdout",
          "text": [
            "금액을 넣어주세요 : 300\n",
            "커피 1잔이 나옵니다, 남은 재고 4\n",
            "금액을 넣어주세요 : 50\n",
            "금액이 부족하여 50 반환합니다\n",
            "금액을 넣어주세요 : 600\n",
            "거스름돈 300원, 커피 1잔이 나옵니다, 남은 재고 3\n",
            "금액을 넣어주세요 : 300\n",
            "커피 1잔이 나옵니다, 남은 재고 2\n",
            "금액을 넣어주세요 : 1000\n",
            "거스름돈 700원, 커피 1잔이 나옵니다, 남은 재고 1\n",
            "금액을 넣어주세요 : 600\n",
            "거스름돈 300원, 커피 1잔이 나옵니다, 남은 재고 0\n",
            "당일 커피 재고가 모두 소진 되었습니다, 재고가 찬 이후 다시 찾아오시길 바랍니다\n"
          ]
        }
      ]
    }
  ]
}