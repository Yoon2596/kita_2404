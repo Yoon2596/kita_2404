{
  "nbformat": 4,
  "nbformat_minor": 0,
  "metadata": {
    "colab": {
      "provenance": [],
      "authorship_tag": "ABX9TyPBqvp5a9B6lkTIJiDy/DoS",
      "include_colab_link": true
    },
    "kernelspec": {
      "name": "python3",
      "display_name": "Python 3"
    },
    "language_info": {
      "name": "python"
    }
  },
  "cells": [
    {
      "cell_type": "markdown",
      "metadata": {
        "id": "view-in-github",
        "colab_type": "text"
      },
      "source": [
        "<a href=\"https://colab.research.google.com/github/Yoon2596/kita_2404/blob/main/m2_%ED%94%84%EB%A1%9C%EA%B7%B8%EB%9E%98%EB%B0%8D/%EA%B3%BC%EC%A0%9C/%EA%B3%BC%EC%A0%9C_0510.ipynb\" target=\"_parent\"><img src=\"https://colab.research.google.com/assets/colab-badge.svg\" alt=\"Open In Colab\"/></a>"
      ]
    },
    {
      "cell_type": "code",
      "execution_count": null,
      "metadata": {
        "id": "Yy7WJJpGVgNX",
        "colab": {
          "base_uri": "https://localhost:8080/"
        },
        "outputId": "e99989e6-df0c-4244-a260-6212c5efeffa"
      },
      "outputs": [
        {
          "name": "stdout",
          "output_type": "stream",
          "text": [
            "정수값을 입력하세요: daf\n",
            "잘못 입력하셨습니다. 다음에 다시 이용해주세요\n",
            "정수값을 입력하세요: 23\n",
            "프로그램을 종료합니다\n",
            "정수값을 입력하세요: 132\n"
          ]
        }
      ],
      "source": [
        "# Task1_0510. try ~ except, try ~ except ~ finally, try ~ except ~else, try ~ except ~else ~finally 4가지 예외 처리가 필요한 경우에 대해서 코딩을 수행하세요.\n",
        "\n",
        "1-1\n",
        "try:\n",
        "    ans = int(input('정수값을 입력하세요: '))\n",
        "except:\n",
        "    print('잘못 입력하셨습니다. 다음에 다시 이용해주세요')\n",
        "\n",
        "#1-2\n",
        "try:\n",
        "    ans = int(input('정수값을 입력하세요: '))\n",
        "except:\n",
        "    print('잘못 입력하셨습니다. 다음에 다시 이용해주세요')\n",
        "finally:\n",
        "    print('프로그램을 종료합니다')\n",
        "\n"
      ]
    },
    {
      "cell_type": "code",
      "source": [
        "#1-3\n",
        "try:\n",
        "    ans = int(input('정수값을 입력하세요: '))\n",
        "except:\n",
        "    print('잘못 입력하셨습니다. 다음에 다시 이용해주세요')\n",
        "else:\n",
        "    print(f'오늘의 행운의 숫자는 {ans}입니다')\n",
        "\n",
        "\n",
        "# 1-4\n",
        "try:\n",
        "    ans = int(input('정수값을 입력하세요: '))\n",
        "except:\n",
        "    print('잘못 입력하셨습니다. 다음에 다시 이용해주세요')\n",
        "else:\n",
        "    print(f'오늘의 행운의 숫자는 {ans}입니다')\n",
        "finally:\n",
        "    print('프로그램을 종료합니다')\n"
      ],
      "metadata": {
        "colab": {
          "base_uri": "https://localhost:8080/"
        },
        "id": "sljAl5I1SCxJ",
        "outputId": "b4c65561-3bfd-49d0-c7ff-03ea24124ea2"
      },
      "execution_count": null,
      "outputs": [
        {
          "output_type": "stream",
          "name": "stdout",
          "text": [
            "정수값을 입력하세요: 234\n",
            "오늘의 행운의 숫자는 234입니다\n",
            "정수값을 입력하세요: 33\n",
            "오늘의 행운의 숫자는 33입니다\n",
            "프로그램을 종료합니다\n"
          ]
        }
      ]
    },
    {
      "cell_type": "code",
      "source": [
        "# Task2_0510. 리스트 ['52','273','32','문자','103']에서 숫자 부분만 출력하세요(예외 처리 수행)\n",
        "li = ['52','273','32','문자','103']\n",
        "\n",
        "result = []\n",
        "for i in li:\n",
        "    try:\n",
        "        result.append(int(i))\n",
        "\n",
        "    except:\n",
        "        pass\n",
        "print(result)"
      ],
      "metadata": {
        "colab": {
          "base_uri": "https://localhost:8080/"
        },
        "id": "qUGD6VCSVrLG",
        "outputId": "69740c66-e47b-4617-90f9-75cdd13993c3"
      },
      "execution_count": null,
      "outputs": [
        {
          "output_type": "stream",
          "name": "stdout",
          "text": [
            "[52, 273, 32, 103]\n"
          ]
        }
      ]
    },
    {
      "cell_type": "code",
      "source": [
        "# Task3_0510. 두가지 시나리오를 예외처리를 하여 코드 작업을 수행하세요\n",
        "# - 정수를 입력하면 > '예외 발생하지 않음' > '프로그램 종료'\n",
        "# - 정수를 입력하지 않으면 > '정수 아님' > '프로그램 종료'\n",
        "\n",
        "while True:\n",
        "    try:\n",
        "        num = int(input('정수를 입력하세요: '))\n",
        "        print('예외 발생하지 않음')\n",
        "        break\n",
        "    except:\n",
        "        print('정수 아님')\n",
        "\n"
      ],
      "metadata": {
        "id": "UKQ2wNBjV34u",
        "colab": {
          "base_uri": "https://localhost:8080/"
        },
        "outputId": "45de8dc7-39d8-4741-ab5a-690d5d81d806"
      },
      "execution_count": null,
      "outputs": [
        {
          "output_type": "stream",
          "name": "stdout",
          "text": [
            "정수를 입력하세요: asf\n",
            "정수 아님\n",
            "정수를 입력하세요: 3\n",
            "예외 발생하지 않음\n"
          ]
        }
      ]
    },
    {
      "cell_type": "code",
      "source": [
        "\n",
        "try:\n",
        "    n = int(input('정수를 입력하세요: '))\n",
        "except:\n",
        "    print('정수 아님')\n",
        "else:\n",
        "    print('예외 발생하지 않음')\n",
        "finally:\n",
        "    print('프로그램 종료')"
      ],
      "metadata": {
        "colab": {
          "base_uri": "https://localhost:8080/"
        },
        "id": "L_An0MbyUJ8y",
        "outputId": "1fc73e81-f11c-4c75-bdca-d7758b011cd0"
      },
      "execution_count": null,
      "outputs": [
        {
          "output_type": "stream",
          "name": "stdout",
          "text": [
            "정수를 입력하세요: 13adf\n",
            "정수 아님\n",
            "프로그램 종료\n"
          ]
        }
      ]
    },
    {
      "cell_type": "code",
      "source": [
        "# Task4_0510. 생성자만으로 구성된 클래스를 작성하고 객체 3개를 만들어서 결과를 출력하세요.\n",
        "\n",
        "class Test:\n",
        "    def __init__(self, a, b):\n",
        "        self.a = a\n",
        "        self.b = b\n",
        "        print(a+b)\n",
        "\n",
        "t1 = Test(10, 20)\n",
        "t2 = Test(30, 40)\n",
        "t3 = Test(50, 60)\n",
        "\n"
      ],
      "metadata": {
        "id": "rCJ7f0Rcht3R",
        "colab": {
          "base_uri": "https://localhost:8080/"
        },
        "outputId": "1c06ac1f-b74a-4c5e-afdd-1a2c330f6bda"
      },
      "execution_count": null,
      "outputs": [
        {
          "output_type": "stream",
          "name": "stdout",
          "text": [
            "30\n",
            "70\n",
            "110\n"
          ]
        }
      ]
    },
    {
      "cell_type": "code",
      "source": [
        "# Task5_0510. 생성자, 메소드를 모두 포함하는 클래스를 작성하고 객체 3개를 만들어서 결과를 출력하세요\n",
        "class MyCar:\n",
        "    def __init__(self, name, color='white', price=2000):\n",
        "        self.name = name\n",
        "        self.color = color\n",
        "        self.price = price\n",
        "\n",
        "    def car_sound(self):\n",
        "        if self.price > 15000:\n",
        "            print('부아아아앙')\n",
        "        elif self.price > 10000:\n",
        "            print('부웅부웅')\n",
        "        else:\n",
        "            print('털털털')\n",
        "\n",
        "a = MyCar('아반떼')\n",
        "b = MyCar('페라리', 'red', 17000)\n",
        "c = MyCar('벤츠', 'black', 11000)\n",
        "\n",
        "# 생성자 저장값 확인\n",
        "print(a.name, a.color, a.price)\n",
        "print(b.name, b.color, b.price)\n",
        "print(c.name, c.color, c.price)\n",
        "\n",
        "# 메소드 확인\n",
        "a.car_sound()\n",
        "b.car_sound()\n",
        "c.car_sound()"
      ],
      "metadata": {
        "id": "fU4vhvSphu_J",
        "colab": {
          "base_uri": "https://localhost:8080/"
        },
        "outputId": "fbef5d0e-3976-4e7d-98e3-d1570350cc8d"
      },
      "execution_count": null,
      "outputs": [
        {
          "output_type": "stream",
          "name": "stdout",
          "text": [
            "아반떼 white 2000\n",
            "페라리 red 17000\n",
            "벤츠 black 11000\n",
            "털털털\n",
            "부아아아앙\n",
            "부웅부웅\n"
          ]
        }
      ]
    },
    {
      "cell_type": "code",
      "source": [
        "# Task6_0510. 여러개의 음식을 주문할 수 있는 주문 시스템을 작성하세요.(클래스 활용 - 객체 지향)\n",
        "\n",
        "class OrderSystem:\n",
        "    def __init__(self):\n",
        "        self.menu_items = {\n",
        "            '1': (\"불고기 비빔밥\", 12000),\n",
        "            '2': (\"야채 비빔밥\", 8000),\n",
        "            '3': (\"전주 비빔밥\", 10000)\n",
        "        }\n",
        "        self.set_price = 3000\n",
        "        self.orders = {}\n",
        "        self.price_total = 0\n",
        "\n",
        "    def display_menu(self):\n",
        "        print(\"\\n♣♣♣ KITA 식당에 오신 것을 환영합니다 ♣♣♣\")\n",
        "        print(\"========================================\")\n",
        "        print(\"           - 메뉴 -\")\n",
        "        for key, (name, price) in self.menu_items.items():\n",
        "            print(f\"  {key}. {name} : {price}원\")\n",
        "        print(\"\\n  세트 주문시 : 3000원 추가 (세트는 밥과 반찬이 추가됩니다.)\")\n",
        "        print(\"========================================\")\n",
        "\n",
        "    def display_order_summary(self):\n",
        "        print(\"\\n■장바구니\")\n",
        "        self.price_total = 0\n",
        "        for key, (name, price) in self.menu_items.items():\n",
        "            count = self.orders.get((key, False), 0)\n",
        "            count_set = self.orders.get((key, True), 0)\n",
        "            print(f\" {name} {count}개: {count * price}원\")\n",
        "            print(f\" {name} 세트 {count_set}개: {count_set * (price + self.set_price)}원\")\n",
        "            self.price_total += (count * price) + (count_set * (price + self.set_price))\n",
        "        print(f\" 총 금액 {self.price_total}원\\n\")\n",
        "\n",
        "    def add_order(self, menu_id, is_set):\n",
        "        item_name, item_price = self.menu_items[menu_id]\n",
        "        if is_set:\n",
        "            item_price += self.set_price\n",
        "        num = input(f\"\\n● {item_name}{' 세트' if is_set else ''} 몇 개 주문 하시겠습니까?\\n\")\n",
        "        if num.isdigit() and int(num) > 0:\n",
        "            self.orders[(menu_id, is_set)] = self.orders.get((menu_id, is_set), 0) + int(num)\n",
        "            print(f\"\\n{item_name}{' 세트' if is_set else ''} {num}개가 장바구니에 담겼습니다.\\n\")\n",
        "        else:\n",
        "            print('★양수만 입력하세요.★')\n",
        "\n",
        "    def process_order(self):\n",
        "        while True:\n",
        "            print('★비빔밥 주문 KIOSK★','\\n')\n",
        "            msg = input(\"● 주문을 하시겠습니까? (y 또는 n) >> \").strip().lower()\n",
        "            if msg == 'y':\n",
        "                while True:\n",
        "                    self.display_menu()\n",
        "                    self.display_order_summary()\n",
        "                    choice = input(\"● 주문할 메뉴를 골라주세요. (불고기 비빔밥:1, 야채 비빔밥:2, 전주 비빔밥:3, 전체 취소:0, 결제:5) >> \").strip().lower()\n",
        "                    if choice in self.menu_items:\n",
        "                        set_choice = input(\"\\n●3000원을 추가해 세트로 주문하시겠습니까? (일반주문시:n, 세트주문시:y)\\n\").strip().lower()\n",
        "                        if set_choice in ['y', 'n']:\n",
        "                            self.add_order(choice, set_choice == 'y')\n",
        "                        else:\n",
        "                            print('★올바른 선택을 입력하세요 (y 또는 n).★')\n",
        "\n",
        "                    elif choice == '0':\n",
        "                        self.orders.clear()\n",
        "                        print('\\n모든 주문이 취소되었습니다.')\n",
        "\n",
        "                    elif choice == '5':\n",
        "                        if self.price_total > 0:\n",
        "                            print(f'\\n●주문하려면 결제해주세요. 결제금액은 {self.price_total}원 입니다.\\n')\n",
        "                            input(\"결제를 완료하려면 아무 키나 누르세요...\")  # 사용자가 결제를 확인할 수 있도록 입력 대기\n",
        "                            print(f\"\\n총 금액은 {self.price_total}원이 결제 되었습니다. 감사합니다.\",'\\n')\n",
        "                            self.orders.clear()\n",
        "                            break\n",
        "                        else:\n",
        "                            print('★메뉴를 고르고 주문해주세요!★')\n",
        "\n",
        "                    else:\n",
        "                        print('★메뉴의 지정된 숫자로 입력하세요★')\n",
        "\n",
        "            else:\n",
        "                print('감사합니다.')\n",
        "                break\n",
        "\n",
        "if __name__ == \"__main__\":\n",
        "    order_system = OrderSystem()\n",
        "    order_system.process_order()"
      ],
      "metadata": {
        "id": "W7b5bwSy4hX4"
      },
      "execution_count": null,
      "outputs": []
    }
  ]
}