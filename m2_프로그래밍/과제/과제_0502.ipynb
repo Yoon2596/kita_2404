{
  "nbformat": 4,
  "nbformat_minor": 0,
  "metadata": {
    "colab": {
      "provenance": [],
      "authorship_tag": "ABX9TyNVrJiiuFzq7k5UIIvNShwJ",
      "include_colab_link": true
    },
    "kernelspec": {
      "name": "python3",
      "display_name": "Python 3"
    },
    "language_info": {
      "name": "python"
    }
  },
  "cells": [
    {
      "cell_type": "markdown",
      "metadata": {
        "id": "view-in-github",
        "colab_type": "text"
      },
      "source": [
        "<a href=\"https://colab.research.google.com/github/Yoon2596/kita_2404/blob/main/%EA%B3%BC%EC%A0%9C_0502.ipynb\" target=\"_parent\"><img src=\"https://colab.research.google.com/assets/colab-badge.svg\" alt=\"Open In Colab\"/></a>"
      ]
    },
    {
      "cell_type": "markdown",
      "source": [
        "# Task1_0502. 짝수와 짝수를 입력하면 곱한 값을 출력하고 홀수와 홀수를 입력하면 덧셈 값을 출력하고 그외는 다시 입력하라는 메시지를 출력하세요."
      ],
      "metadata": {
        "id": "-WnXVWB77iKh"
      }
    },
    {
      "cell_type": "code",
      "execution_count": null,
      "metadata": {
        "colab": {
          "base_uri": "https://localhost:8080/"
        },
        "id": "Xq2E9h1x2b34",
        "outputId": "a44e85bc-382a-455d-902e-baad8d8a3d6b"
      },
      "outputs": [
        {
          "output_type": "stream",
          "name": "stdout",
          "text": [
            "숫자1를 넣어주세요 : 12\n",
            "숫자2를 넣어주세요 : 11\n",
            "다른 숫자를 다시 입력하세요\n"
          ]
        }
      ],
      "source": [
        "\n",
        "num1 = int(input(\"숫자1를 넣어주세요 : \"))\n",
        "num2 = int(input(\"숫자2를 넣어주세요 : \"))\n",
        "\n",
        "# 만약 두 숫자가 짝수 일 시\n",
        "if num1 % 2 == 0 and num2 % 2 == 0:\n",
        "    # 곱합 값 출력\n",
        "    print(num1 * num2)\n",
        "# 만약 두 숫자가 홀수 일 시\n",
        "elif num1 % 2 != 0 and num2 % 2 != 0:\n",
        "    # 덧셈 값 출력\n",
        "    print(num1 + num2)\n",
        "else:\n",
        "    print('다른 숫자를 다시 입력하세요')\n"
      ]
    },
    {
      "cell_type": "markdown",
      "source": [
        "# Task2_0502. 현재 계절 구분 프로그램\n",
        "# - 시나리오 : 3 ~ 5월은 봄, 6 ~ 8월은 여름, 9 ~ 11월은 가을, 12 ~ 2월은 겨울로 구분. 지금 계절을 알려주는 프로그램\n",
        "# - 각 계절별 출력 멘트는 계절에 맞게 창작\n",
        "# - if 조건문으로 datetime 모듈을 import해서 datetime.now 함수를 사용해서 작성"
      ],
      "metadata": {
        "id": "36Q1t_kj7lQR"
      }
    },
    {
      "cell_type": "code",
      "source": [
        "import datetime\n",
        "\n",
        "now = datetime.datetime.now()\n",
        "\n",
        "# print(now)\n",
        "# new_datetime = now.replace(month=3)\n",
        "\n",
        "if 3 <= now.month <= 5:\n",
        "    print(f'현재 {now.month}월이므로 봄입니다')\n",
        "elif 6 <= now.month <= 8:\n",
        "    print(f'현재 {now.month}월이므로 여름입니다')\n",
        "elif 9 <= now.month <= 11:\n",
        "    print(f'현재 {now.month}월이므로 가을입니다')\n",
        "else:\n",
        "    print(f'현재 {now.month}월이므로 겨울입니다')"
      ],
      "metadata": {
        "colab": {
          "base_uri": "https://localhost:8080/"
        },
        "id": "hbuA2iBs5XoJ",
        "outputId": "c399dec0-db7c-4b6e-c091-eea0f4e62b05"
      },
      "execution_count": null,
      "outputs": [
        {
          "output_type": "stream",
          "name": "stdout",
          "text": [
            "현재 5월이므로 봄입니다\n"
          ]
        }
      ]
    },
    {
      "cell_type": "markdown",
      "source": [
        "# Task3_0502. 1부터 99까지 아래와 같이 2개의 수를 곱해서 가장 큰 수를 구하세요."
      ],
      "metadata": {
        "id": "rJYlPsmI7oRy"
      }
    },
    {
      "cell_type": "code",
      "source": [
        "# `1*99, 2*98 ...99*1`\n",
        "\n",
        "result = []\n",
        "\n",
        "for i in range(1, 100):\n",
        "    # print(i)\n",
        "    result.append(i * (100 - i))\n",
        "print(result)\n",
        "print(f'가장 큰 수는 : {max(result)}')"
      ],
      "metadata": {
        "colab": {
          "base_uri": "https://localhost:8080/"
        },
        "id": "edkgHiD65X1Y",
        "outputId": "224ad6e1-00cf-4d43-ab3f-eee8f5e87da7"
      },
      "execution_count": null,
      "outputs": [
        {
          "output_type": "stream",
          "name": "stdout",
          "text": [
            "[99, 196, 291, 384, 475, 564, 651, 736, 819, 900, 979, 1056, 1131, 1204, 1275, 1344, 1411, 1476, 1539, 1600, 1659, 1716, 1771, 1824, 1875, 1924, 1971, 2016, 2059, 2100, 2139, 2176, 2211, 2244, 2275, 2304, 2331, 2356, 2379, 2400, 2419, 2436, 2451, 2464, 2475, 2484, 2491, 2496, 2499, 2500, 2499, 2496, 2491, 2484, 2475, 2464, 2451, 2436, 2419, 2400, 2379, 2356, 2331, 2304, 2275, 2244, 2211, 2176, 2139, 2100, 2059, 2016, 1971, 1924, 1875, 1824, 1771, 1716, 1659, 1600, 1539, 1476, 1411, 1344, 1275, 1204, 1131, 1056, 979, 900, 819, 736, 651, 564, 475, 384, 291, 196, 99]\n",
            "가장 큰 수는 : 2500\n"
          ]
        }
      ]
    },
    {
      "cell_type": "markdown",
      "source": [
        "# Task4_0502. [    ]을 채워서 아래의 출력과 같이 출력하세요."
      ],
      "metadata": {
        "id": "H-_YTinN7Vtm"
      }
    },
    {
      "cell_type": "code",
      "source": [
        "\n",
        "numbers = [1,2,3,4,5,6,7,8,9]\n",
        "output = [[], [], []]\n",
        "\n",
        "# [[1,4,7],[2,5,8],[3,6,9]]\n",
        "\n",
        "for i in range(3):\n",
        "    output[i] = numbers[i::3]\n",
        "print(output)\n",
        "\n",
        "# print()\n",
        "\n",
        "output = [numbers[i::3] for i in range(3)]\n",
        "print(output)\n"
      ],
      "metadata": {
        "colab": {
          "base_uri": "https://localhost:8080/"
        },
        "id": "cXA893kr5X_7",
        "outputId": "74789bf6-3e94-4eb7-d8a7-655a9269138c"
      },
      "execution_count": null,
      "outputs": [
        {
          "output_type": "stream",
          "name": "stdout",
          "text": [
            "[[1, 4, 7], [2, 5, 8], [3, 6, 9]]\n",
            "[[1, 4, 7], [2, 5, 8], [3, 6, 9]]\n"
          ]
        }
      ]
    },
    {
      "cell_type": "markdown",
      "source": [
        "# Task5_0502. 주어진 리스트에서 중복된 요소를 제거하고, 남은 요소만을 포함하는 새 리스트를 반환합니다. 순서는 유지해야 합니다.\n"
      ],
      "metadata": {
        "id": "oWQgo6Op6WKB"
      }
    },
    {
      "cell_type": "code",
      "source": [
        "input_list = [1, 2, 2, 3, 4, 4, 4, 5, 6, 7, 7]\n",
        "output_list = []\n",
        "\n",
        "for i in input_list:\n",
        "    if i not in output_list:\n",
        "        output_list.append(i)\n",
        "\n",
        "print(output_list)"
      ],
      "metadata": {
        "colab": {
          "base_uri": "https://localhost:8080/"
        },
        "id": "eWdyWhTi7SZa",
        "outputId": "d873c55e-39d7-4db0-8387-4e85fbcc058a"
      },
      "execution_count": null,
      "outputs": [
        {
          "output_type": "stream",
          "name": "stdout",
          "text": [
            "[1, 2, 3, 4, 5, 6, 7]\n"
          ]
        }
      ]
    },
    {
      "cell_type": "markdown",
      "source": [
        "# Task6_0502. 주어진 문자열을 모스코드로 변환하는 함수를 작성하세요. 공백은 무시하고 앞파멧만 변환하세요"
      ],
      "metadata": {
        "id": "SYYhDbJS7TwZ"
      }
    },
    {
      "cell_type": "code",
      "source": [
        "\n",
        "input_text = 'Hello World'\n",
        "\n",
        "morse_code = {\n",
        "        'A': '.-', 'B': '-...', 'C': '-.-.', 'D': '-..', 'E': '.', 'F': '..-.',\n",
        "        'G': '--.', 'H': '....', 'I': '..', 'J': '.---', 'K': '-.-', 'L': '.-..',\n",
        "        'M': '--', 'N': '-.', 'O': '---', 'P': '.--.', 'Q': '--.-', 'R': '.-.',\n",
        "        'S': '...', 'T': '-', 'U': '..-', 'V': '...-', 'W': '.--', 'X': '-..-',\n",
        "        'Y': '-.--', 'Z': '--..'\n",
        "    }\n",
        "\n",
        "# print(C_input)\n",
        "\n",
        "def transform_charTomorse(string):\n",
        "    result = ''\n",
        "    # 인풋 텍스트를 모두 대문자로 변경\n",
        "    C_input = string.upper()\n",
        "\n",
        "    for i in C_input:\n",
        "        for j in morse_code.keys():\n",
        "        # print(j)\n",
        "            if i == j:\n",
        "                result += morse_code[j]\n",
        "    return print(result)\n",
        "\n",
        "transform_charTomorse(input_text)"
      ],
      "metadata": {
        "colab": {
          "base_uri": "https://localhost:8080/"
        },
        "id": "8VQIzfDd6Xrc",
        "outputId": "6b8e8aff-d8a3-46ba-8612-d3b16c610fef"
      },
      "execution_count": null,
      "outputs": [
        {
          "output_type": "stream",
          "name": "stdout",
          "text": [
            "......-...-..---.-----.-..-..-..\n"
          ]
        }
      ]
    },
    {
      "cell_type": "markdown",
      "source": [
        "# Task7_0502. 주어진 비대칭 m×n 매트릭스(2차원 리스트)에서, 모든 대각선 상의 합을 계산하는 함수를 작성하세요. 결과는 각 대각선의 합을 리스트로 반환해야 합니다."
      ],
      "metadata": {
        "id": "092Wzy5F7Giv"
      }
    },
    {
      "cell_type": "code",
      "source": [
        "input_matrix = [\n",
        "    [1, 2, 3],\n",
        "    [4, 5, 6],\n",
        "    [7, 8, 9],\n",
        "    [10, 11, 12]\n",
        "]\n",
        "\n",
        "# [1, 6, 15, 24, 20, 12]\n",
        "\n",
        "# [1, 2, 3][4, 5, 6][7, 8, 9][10, 11, 12]\n",
        "\n",
        "# [0,0] / [0,1][1,0] / [0,2][1,1][2,0] / [1,2][2,1][3,0] / [2,3][3,1] / [3,2]\n",
        "sum_list = []\n",
        "\n",
        "for i in range(len(input_matrix)):\n",
        "    # print(input_matrix[i][i])\n",
        "    # print(i)\n",
        "    for j in range(len(input_matrix[i])):\n",
        "        # if i == 0 and j == 0:\n",
        "        #     sum_list = input_matrix[0][0]\n",
        "        if i == 1 or j == 1:\n",
        "            sum_list.append(input_matrix[i][j])\n",
        "        sum_list.append(input_matrix[i][j])\n",
        "\n",
        "print(sum_list)"
      ],
      "metadata": {
        "colab": {
          "base_uri": "https://localhost:8080/"
        },
        "id": "qgSERcIU7Xkt",
        "outputId": "180b591b-19d6-4233-fd96-ae2b4c92bc64"
      },
      "execution_count": null,
      "outputs": [
        {
          "output_type": "stream",
          "name": "stdout",
          "text": [
            "[1, 2, 2, 3, 4, 4, 5, 5, 6, 6, 7, 8, 8, 9, 10, 11, 11, 12]\n"
          ]
        }
      ]
    },
    {
      "cell_type": "code",
      "source": [
        "input_matrix = [\n",
        "    [1, 2, 3],\n",
        "    [4, 5, 6],\n",
        "    [7, 8, 9],\n",
        "    [10, 11, 12]\n",
        "]\n",
        "\n",
        "# [1, 6, 15, 24, 20, 12]\n",
        "\n",
        "# [1, 2, 3][4, 5, 6][7, 8, 9][10, 11, 12]\n",
        "\n",
        "# [0,0] / [0,1][1,0] / [0,2][1,1][2,0] / [1,2][2,1][3,0] / [2,3][3,1] / [3,2]\n",
        "sum_list = []\n",
        "\n",
        "for i in range(len(input_matrix)):\n",
        "    # print(input_matrix[i][i])\n",
        "    # print(i)\n",
        "    for j in range(len(input_matrix[i])):\n",
        "        if input_matrix[0][0]:\n",
        "            sum_list.append(input_matrix[0][0])\n",
        "        elif input_matrix[0][1] and input_matrix[1][0]:\n",
        "            sum_list.append(input_matrix[0][1] + input_matrix[1][0])\n",
        "\n",
        "print(sum_list)"
      ],
      "metadata": {
        "colab": {
          "base_uri": "https://localhost:8080/"
        },
        "id": "3zKWGNmueupj",
        "outputId": "69e3dfd5-99b5-448f-e2e7-cabf1505db2f"
      },
      "execution_count": null,
      "outputs": [
        {
          "output_type": "stream",
          "name": "stdout",
          "text": [
            "[1, 1, 1, 1, 1, 1, 1, 1, 1, 1, 1, 1]\n"
          ]
        }
      ]
    }
  ]
}
