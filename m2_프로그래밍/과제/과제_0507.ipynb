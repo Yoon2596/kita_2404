{
  "nbformat": 4,
  "nbformat_minor": 0,
  "metadata": {
    "colab": {
      "provenance": [],
      "authorship_tag": "ABX9TyNDNHhgyfFYtUNjRTC1U/tW",
      "include_colab_link": true
    },
    "kernelspec": {
      "name": "python3",
      "display_name": "Python 3"
    },
    "language_info": {
      "name": "python"
    }
  },
  "cells": [
    {
      "cell_type": "markdown",
      "metadata": {
        "id": "view-in-github",
        "colab_type": "text"
      },
      "source": [
        "<a href=\"https://colab.research.google.com/github/Yoon2596/kita_2404/blob/main/%EA%B3%BC%EC%A0%9C_0507.ipynb\" target=\"_parent\"><img src=\"https://colab.research.google.com/assets/colab-badge.svg\" alt=\"Open In Colab\"/></a>"
      ]
    },
    {
      "cell_type": "code",
      "execution_count": null,
      "metadata": {
        "colab": {
          "base_uri": "https://localhost:8080/"
        },
        "id": "Um3f-vunscvr",
        "outputId": "a5756eeb-b2ab-49a9-f127-ebcc2f9beb1a"
      },
      "outputs": [
        {
          "output_type": "stream",
          "name": "stdout",
          "text": [
            "['bar', 'ca', 'ababa', 'aaaa', 'a']\n"
          ]
        }
      ],
      "source": [
        "# Task1_0507. 튜플 형태인 strings를 다양한 문자가 포함된 순서로 정렬하세요\n",
        "\n",
        "strings = ('a', 'ca', 'bar', 'aaaa', 'ababa')\n",
        "\n",
        "print(sorted(strings, key=lambda x: x[::-1], reverse=True))\n",
        "# print(sorted(strings, key=lambda x: x[::-1], reverse=True))\n",
        "\n",
        "# bar, ababa, ca, aaaa, a\n"
      ]
    },
    {
      "cell_type": "code",
      "source": [
        "# Task2_0507. a,b 변수와 연산자를 입력하면 사칙연산을 수행하는 코드를 작성하세요.(eval 사용하는 경우와 안하는 경우)\n",
        "\n",
        "a, operator, b = input().split()\n",
        "print(eval(a + operator + b))\n",
        "\n",
        "\n"
      ],
      "metadata": {
        "colab": {
          "base_uri": "https://localhost:8080/"
        },
        "id": "t-GapND2wjQd",
        "outputId": "af0b2342-f8f9-429a-e521-e1583abc60d4"
      },
      "execution_count": null,
      "outputs": [
        {
          "output_type": "stream",
          "name": "stdout",
          "text": [
            "6 - 1\n",
            "5\n"
          ]
        }
      ]
    },
    {
      "cell_type": "code",
      "source": [
        "a, operator, b = input().split()\n",
        "\n",
        "if operator == '+':\n",
        "    print(int(a)+int(b))\n",
        "elif operator == '-':\n",
        "    print(int(a)-int(b))\n",
        "elif operator == '*':\n",
        "    print(int(a)*int(b))\n",
        "elif operator == '/':\n",
        "    print(int(a)/int(b))"
      ],
      "metadata": {
        "colab": {
          "base_uri": "https://localhost:8080/"
        },
        "id": "5Eu9cyIf5gMT",
        "outputId": "997ab598-dcac-4ab2-ff80-d86dfa1dc4d6"
      },
      "execution_count": null,
      "outputs": [
        {
          "output_type": "stream",
          "name": "stdout",
          "text": [
            "7 - 1\n",
            "6\n"
          ]
        }
      ]
    },
    {
      "cell_type": "code",
      "source": [
        "# Task3_0507. list1에 대해서 아래와 같이 출력하는 코드를 작성하세요.\n",
        "\n",
        "# 인사평가 1번째 해당자는 김부장입니다. 회의실A로 오시기 바랍니다.\\\n",
        "# 인사평가 2번째 해당자는 이차장입니다. 회의실A로 오시기 바랍니다.\\\n",
        "# 인사평가 3번째 해당자는 김과장입니다. 회의실A로 오시기 바랍니다.\\\n",
        "# 인사평가 4번째 해당자는 이대리입니다. 회의실A로 오시기 바랍니다.\\\n",
        "# 인사평가 5번째 해당자는 오사원입니다. 회의실A로 오시기 바랍니다.\\\n",
        "# 인사평가 6번째 해당자는 김인턴입니다. 회의실A로 오시기 바랍니다.\n",
        "\n",
        "list1 = ['김부장', '이차장', '김과장', '이대리', '오사원', '김인턴']\n",
        "\n",
        "for idx, name in enumerate(list1):\n",
        "    print(f'인사평가 {idx+1}번째 해당자는 {name}입니다. 회의실A로 오시기 바랍니다')"
      ],
      "metadata": {
        "colab": {
          "base_uri": "https://localhost:8080/"
        },
        "id": "UKXoSEUFzapb",
        "outputId": "afb1e01e-671e-4ba7-cb7f-2da79c4a4670"
      },
      "execution_count": null,
      "outputs": [
        {
          "output_type": "stream",
          "name": "stdout",
          "text": [
            "인사평가 1번째 해당자는 김부장입니다. 회의실A로 오시기 바랍니다\n",
            "인사평가 2번째 해당자는 이차장입니다. 회의실A로 오시기 바랍니다\n",
            "인사평가 3번째 해당자는 김과장입니다. 회의실A로 오시기 바랍니다\n",
            "인사평가 4번째 해당자는 이대리입니다. 회의실A로 오시기 바랍니다\n",
            "인사평가 5번째 해당자는 오사원입니다. 회의실A로 오시기 바랍니다\n",
            "인사평가 6번째 해당자는 김인턴입니다. 회의실A로 오시기 바랍니다\n"
          ]
        }
      ]
    },
    {
      "cell_type": "code",
      "source": [
        "# Task4_0507. 주어진 문자열 리스트의 요소들을 대문자로 변환하세요.\n",
        "words = [\"hello\", \"world\", \"python\", \"map\"]\n",
        "\n",
        "upper_words = map(lambda x: x.upper(), words)\n",
        "print(list(upper_words))\n",
        "\n",
        "\n",
        "\n",
        "a = []\n",
        "a = [i.upper() for i in words]\n",
        "print(a)"
      ],
      "metadata": {
        "colab": {
          "base_uri": "https://localhost:8080/"
        },
        "id": "R1goN0iWz5BN",
        "outputId": "1d2e51cd-6506-4ed2-90ac-466201697c8c"
      },
      "execution_count": null,
      "outputs": [
        {
          "output_type": "stream",
          "name": "stdout",
          "text": [
            "['HELLO', 'WORLD', 'PYTHON', 'MAP']\n",
            "['HELLO', 'WORLD', 'PYTHON', 'MAP']\n"
          ]
        }
      ]
    },
    {
      "cell_type": "code",
      "source": [
        "# Task5_0507. 주어진 리스트에서 'p'로 시작하는 단어만 필터링하세요.\n",
        "\n",
        "words = [\"python\", \"is\", \"powerful\", \"programming\", \"language\", \"pandas\"]\n",
        "\n",
        "filtered_p = map(lambda x: x[0] == 'p', words)\n",
        "# print(list(filtered_p))\n",
        "fil_p = list(filtered_p)\n",
        "print(fil_p)\n",
        "for i in fil_p:\n",
        "    if i == True:\n",
        "        print(fil_p.index(True))\n",
        "        # print(words[fil_p.index(True)])\n",
        "        # print(words[i])\n",
        "\n",
        "\n",
        "# b = []\n",
        "# b = [i[0] == 'p' for i in words]\n",
        "# print(b)"
      ],
      "metadata": {
        "colab": {
          "base_uri": "https://localhost:8080/"
        },
        "id": "KhMslT3U0AEJ",
        "outputId": "642f4c52-d5ce-444a-a2e8-2c9209f76985"
      },
      "execution_count": null,
      "outputs": [
        {
          "output_type": "stream",
          "name": "stdout",
          "text": [
            "[True, False, True, True, False, True]\n",
            "0\n",
            "0\n",
            "0\n",
            "0\n"
          ]
        }
      ]
    },
    {
      "cell_type": "code",
      "source": [
        "# Task6_0507. 내장함수를 이용해서 list = [0,1,2,3,4,5,6]에서 2를 삭제 후 출력하세요.(2가지 방법)\n",
        "list01 = [0,1,2,3,4,5,6]\n",
        "list01.pop(2)\n",
        "print(list01)\n",
        "\n"
      ],
      "metadata": {
        "colab": {
          "base_uri": "https://localhost:8080/"
        },
        "id": "JoUkxzjA0QtX",
        "outputId": "dc537207-8010-4c86-db62-08972ef65e69"
      },
      "execution_count": null,
      "outputs": [
        {
          "output_type": "stream",
          "name": "stdout",
          "text": [
            "[0, 1, 3, 4, 5, 6]\n"
          ]
        }
      ]
    },
    {
      "cell_type": "code",
      "source": [
        "list02 = [0,1,2,3,4,5,6]\n",
        "list02.remove(2)\n",
        "print(list02)"
      ],
      "metadata": {
        "colab": {
          "base_uri": "https://localhost:8080/"
        },
        "id": "P4lSaOfH4d-C",
        "outputId": "9ea961bf-5746-4ceb-9f05-508c56c05e66"
      },
      "execution_count": null,
      "outputs": [
        {
          "output_type": "stream",
          "name": "stdout",
          "text": [
            "[0, 1, 3, 4, 5, 6]\n"
          ]
        }
      ]
    },
    {
      "cell_type": "code",
      "source": [
        "# Task7_0507. 내장함수를 이용하여 동일한 개수로 이루어진 자료형을 화살표 좌측에서 우측으로 변환하세요.\n",
        "\n",
        "# [1,2,3],[4,5,6] -> [(1,4),(2,5),(3,6)]\\\n",
        "# [1,2,3],[4,5,6] [7,8,9] -> [(1,4,7),(2,5,8),(3,6,9)]\\\n",
        "# ('abc','def') -> [('a','d'),('b','e'),('c','f')]\n",
        "\n",
        "list1 = [1, 2, 3], [4, 5, 6]\n",
        "list2 = [1, 2, 3], [4, 5, 6], [7, 8, 9]\n",
        "list3 = ('abc', 'def')\n",
        "\n",
        "# trans = map(lambda x:x[i], )\n",
        "new_list = []\n",
        "list_input = list(list1)\n",
        "new_list = [list_input[j][i] for i in range(3) for j in range(2)]\n",
        "print(new_list)\n",
        "\n",
        "# for i in range(len(list_input)+1):\n",
        "#     for j in range(len(list_input)):\n",
        "#         # print(j)\n",
        "#         # new_list = list_input[j][i]\n",
        "#         # print(new_list)\n",
        "#         new_list(j:j+2) = (list_input[j][i])\n",
        "#     # print(new_list)\n",
        "# print(new_list)\n"
      ],
      "metadata": {
        "colab": {
          "base_uri": "https://localhost:8080/"
        },
        "id": "W6GI16gS0ohU",
        "outputId": "e269079f-1b3c-4270-c3f2-78ba936a29f0"
      },
      "execution_count": null,
      "outputs": [
        {
          "output_type": "stream",
          "name": "stdout",
          "text": [
            "[1, 4, 2, 5, 3, 6]\n"
          ]
        }
      ]
    },
    {
      "cell_type": "code",
      "source": [
        "# Task8_0507. url에서 호스트 도메인(news.naver.com)을 추출하여 출력하세요.\n",
        "\n",
        "url = 'http://news.naver.com/main/read.nhn?mode=LSD&mid=shm&sid1=105&oid=028&aid=0002334601'\n",
        "\n",
        "import requests\n",
        "from bs4 import BeautifulSoup\n",
        "\n",
        "response = requests.get(url)\n",
        "if response.status_code == 200:\n",
        "    #HTML 내용을 BeautifulSoup 객체로 파싱합니다\n",
        "    soup = BeautifulSoup(response.text, 'html.parser')\n",
        "    #제목을 추출합니다\n",
        "    print(\"Page Title:\", soup.title.string if soup.title else \"No title found\")\n",
        "else:\n",
        "    print(\"Failed to fetch the webpage\")\n",
        "    print(\"Status code: \",response.status_code)"
      ],
      "metadata": {
        "colab": {
          "base_uri": "https://localhost:8080/"
        },
        "id": "cWhiHxGc2Hv1",
        "outputId": "366802a8-b921-41c3-80db-60c344c69e17"
      },
      "execution_count": null,
      "outputs": [
        {
          "output_type": "stream",
          "name": "stdout",
          "text": [
            "Page Title:  외계생명체가 역사책에 등장하는 날이 올까 \n"
          ]
        }
      ]
    }
  ]
}
