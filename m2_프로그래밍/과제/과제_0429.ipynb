{
  "nbformat": 4,
  "nbformat_minor": 0,
  "metadata": {
    "colab": {
      "provenance": []
    },
    "kernelspec": {
      "name": "python3",
      "display_name": "Python 3"
    },
    "language_info": {
      "name": "python"
    }
  },
  "cells": [
    {
      "cell_type": "code",
      "execution_count": null,
      "metadata": {
        "colab": {
          "base_uri": "https://localhost:8080/"
        },
        "id": "9hAoOB7aocU4",
        "outputId": "7a9177ff-4a04-456d-b982-4f79a11941d5"
      },
      "outputs": [
        {
          "output_type": "stream",
          "name": "stdout",
          "text": [
            "['Hello', 'world', 'How', 'are', 'you', 'today', 'I', 'am', 'fine', 'Thank', 'you']\n"
          ]
        }
      ],
      "source": [
        "# Task1_0429. input_str을 아래와 같이 단어로 분리하여 출력하세요.\n",
        "\n",
        "input_str1 = \"Hello, world! How are you today? I am fine. Thank you!\"\n",
        "\n",
        "# ['Hello', 'world', 'How', 'are', 'you', 'today', 'I', 'am', 'fine', 'Thank', 'you', '']\n",
        "\n",
        "# OnlyAlpha = input_str.split()\n",
        "# print(OnlyAlpha)\n",
        "\n",
        "# Reverse_word = []\n",
        "delete_index = []\n",
        "\n",
        "# str을 list로 변경\n",
        "OnlyAlpha = list(input_str1)\n",
        "# print(OnlyAlpha)\n",
        "\n",
        "\n",
        "# 각 인덱스의 안의 문자를 개별적으로 체크\n",
        "for i in range(len(input_str1)):\n",
        "\n",
        "    # 특수문자를 체크 후 해당 인덱스 자리를 리스트에 저장\n",
        "    if input_str1[i] == ',' or input_str1[i] == '!' or input_str1[i] == '?' or input_str1[i] == '.':\n",
        "        delete_index.append(i)\n",
        "    # print(delete_index)\n",
        "\n",
        "# 리스트에 저장 된 인덱스를 내림으로 바꾸고 해당 자리를 제거\n",
        "delete_index = delete_index[::-1]\n",
        "# print(delete_index)\n",
        "\n",
        "# 해당 특수문자 인덱스를 제거\n",
        "for j in delete_index:\n",
        "    del OnlyAlpha[j]\n",
        "\n",
        "# print(OnlyAlpha)\n",
        "# 제거후 남은 str문자를 합쳐주고 다시 단어로 나눠줌\n",
        "OnlyAlpha = ''.join(OnlyAlpha).split()\n",
        "print(OnlyAlpha)\n",
        "\n"
      ]
    },
    {
      "cell_type": "code",
      "source": [
        "# Task2_0429. 십진수 122를 2진수, 8진수, 16진수로 변경하여 출력하세요.\n",
        "\n",
        "#십진수 122\n",
        "\n",
        "a = 122\n",
        "\n",
        "print(bin(a))\n",
        "print(oct(a))\n",
        "print(hex(a))"
      ],
      "metadata": {
        "colab": {
          "base_uri": "https://localhost:8080/"
        },
        "id": "nnFjJyXG6eR6",
        "outputId": "f9d811af-98d5-4afe-ac19-a076b37d6786"
      },
      "execution_count": null,
      "outputs": [
        {
          "output_type": "stream",
          "name": "stdout",
          "text": [
            "0b1111010\n",
            "0o172\n",
            "0x7a\n"
          ]
        }
      ]
    },
    {
      "cell_type": "code",
      "source": [
        "# Task3_0429. 두 수의 곱셈 결과를 계산하고, 그 결과에 10을 더하세요.\n",
        "num1 = 20\n",
        "num2 = 10\n",
        "\n",
        "result = (num1*num2) + 10\n",
        "print(result)"
      ],
      "metadata": {
        "colab": {
          "base_uri": "https://localhost:8080/"
        },
        "id": "Qt5w1PHb6ukw",
        "outputId": "91d8bd6e-1eb7-4097-e6c2-17c824d60ca0"
      },
      "execution_count": null,
      "outputs": [
        {
          "output_type": "stream",
          "name": "stdout",
          "text": [
            "210\n"
          ]
        }
      ]
    },
    {
      "cell_type": "code",
      "source": [
        "# Task4_0429. 주어진 리스트에서 두 번째 요소를 삭제하고, 마지막에 새로운 요소 'Python'을 추가하세요.\n",
        "\n",
        "# 리스트: ['Java', 'C', 'JavaScript']\n",
        "\n",
        "list = ['Java', 'C', \"JavaScrip\"]\n",
        "\n",
        "del list[1]\n",
        "list.append('Python')\n",
        "print(list)"
      ],
      "metadata": {
        "colab": {
          "base_uri": "https://localhost:8080/"
        },
        "id": "zm41t01_7teu",
        "outputId": "f891a7ac-4e6d-4b14-8c1b-fa7f88149eec"
      },
      "execution_count": null,
      "outputs": [
        {
          "output_type": "stream",
          "name": "stdout",
          "text": [
            "['Java', 'JavaScrip', 'Python']\n"
          ]
        }
      ]
    },
    {
      "cell_type": "code",
      "source": [
        "# Task5_0429. 주어진 문자열에서 처음 세 글자와 마지막 세 글자를 연결하여 새로운 문자열을 만드세요.\n",
        "\n",
        "# 문자열: 'Incredible'\n",
        "\n",
        "list = 'Incredible'\n",
        "\n",
        "list1 = list[:3]\n",
        "list2 = list[7:]\n",
        "final_list = list1 + list2\n",
        "print(final_list)"
      ],
      "metadata": {
        "colab": {
          "base_uri": "https://localhost:8080/"
        },
        "id": "jDwkpAed7wJM",
        "outputId": "278380fb-5cae-4ce8-c84b-d343f2270b5a"
      },
      "execution_count": null,
      "outputs": [
        {
          "output_type": "stream",
          "name": "stdout",
          "text": [
            "Incble\n"
          ]
        }
      ]
    },
    {
      "cell_type": "code",
      "source": [
        "# Task6_0429. 사용자의 이름과 이메일을 딕셔너리로 저장하고, 이름을 입력받아 해당하는 이메일을 출력하세요.\n",
        "\n",
        "# 사용자 정보: 이름 - 'Alice', 이메일 - 'alice@example.com'\n",
        "\n",
        "name = 'Alice'\n",
        "email = 'alice@example.com'\n",
        "\n",
        "# name = input('사용자의 이름을 적어주세요 : ')\n",
        "# email = input('사용자의 이메일을 적어주세요 : ')\n",
        "\n",
        "dic ={name : email}\n",
        "\n",
        "# print(dic.keys())\n",
        "print(dic)\n",
        "# print(Alice)\n",
        "\n",
        "out = input('이메일로 받을 사용자 이름을 적어주세요 :')\n",
        "\n",
        "# for i in out:\n",
        "if name == out:\n",
        "    print(email)"
      ],
      "metadata": {
        "colab": {
          "base_uri": "https://localhost:8080/"
        },
        "id": "GhmDHIVz7y9n",
        "outputId": "aeb3d2b0-a1c8-4c9d-8ee9-e977197b2afd"
      },
      "execution_count": null,
      "outputs": [
        {
          "output_type": "stream",
          "name": "stdout",
          "text": [
            "{'Alice': 'alice@example.com'}\n",
            "이메일로 받을 사용자 이름을 적어주세요 :Alice\n",
            "alice@example.com\n"
          ]
        }
      ]
    },
    {
      "cell_type": "code",
      "source": [
        "# Task7_0429. 주어진 두 튜플에서 공통 요소만을 찾아 집합으로 만드세요.\n",
        "\n",
        "# 튜플: (1, 2, 3, 4, 5)와 (4, 5, 6, 7, 8)\n",
        "\n",
        "tu1 = (1, 2, 3, 4, 5) ; tu2 = (4, 5, 6, 7, 8)\n",
        "\n",
        "union = (set(tu1) & set(tu2))\n",
        "print(union)"
      ],
      "metadata": {
        "colab": {
          "base_uri": "https://localhost:8080/"
        },
        "id": "-YQl8dHi706W",
        "outputId": "cf457fc3-6d87-48d0-9aaa-d2237dbc1e8e"
      },
      "execution_count": null,
      "outputs": [
        {
          "output_type": "stream",
          "name": "stdout",
          "text": [
            "{4, 5}\n"
          ]
        }
      ]
    },
    {
      "cell_type": "code",
      "source": [
        "# Task8_Challenge_0429. 다음 요구 사항을 충족하는 프로그램을 작성하세요:\n",
        "\n",
        "# - 사용자로부터 이름, 나이, 좋아하는 색상을 입력받습니다.\n",
        "# - 입력받은 정보를 딕셔너리로 저장하고, 모든 사용자 정보를 리스트에 저장합니다.\n",
        "# - 이름이 'John'인 사용자의 정보만 출력하세요.\n",
        "# - 전체 사용자의 평균 나이를 계산하고 출력하세요.\n",
        "\n",
        "# 1. 사용자 데이터:\n",
        "# - 이름: John\n",
        "# - 나이: 28\n",
        "# - 좋아하는 색상: Blue\n",
        "# 2. 사용자 데이터:\n",
        "# - 이름: Alice\n",
        "# - 나이: 24\n",
        "# - 좋아하는 색상: Red\n",
        "# 3. 사용자 데이터:\n",
        "# - 이름: Maria\n",
        "# - 나이: 32\n",
        "# - 좋아하는 색상: Green\n",
        "\n",
        "\n",
        "users = []\n",
        "users_dic = {}\n",
        "\n",
        "# 사용자가 몇 명 들어가는 지 파악\n",
        "count_per = int(input('입력하실 사용자 명수를 넣어주세요 : '))\n",
        "user_info = []\n",
        "user_info_value = []\n",
        "\n",
        "# 명 수에 맞게 유저 정보를 리스트에 저장\n",
        "while 0 < count_per:\n",
        "    # print(count_per)\n",
        "    user_info_name = input('사용자 이름을 적어주세요 :')\n",
        "    # users_dic.setdefault(user_info_name)\n",
        "    # print(users_dic)\n",
        "    user_info_age = input('사용자 나이을 적어주세요 :')\n",
        "\n",
        "    # users_dic[user_info_name].append(user_info_age)\n",
        "    # li1 = list(user_info_value)\n",
        "\n",
        "    user_info_color = input('사용자가 좋아하는 색깔을 적어주세요 :')\n",
        "\n",
        "\n",
        "    user_info_value[0] = user_info_age\n",
        "    user_info_value[0] = user_info_color\n",
        "\n",
        "\n",
        "    # list(user_info_value)\n",
        "    # user_info_value.join()\n",
        "    print(user_info_value, type(user_info_value))\n",
        "    # print(user_info_value)\n",
        "    # users_dic = {user_info_name : user_info_value}\n",
        "    # print(users_dic)\n",
        "    count_per -= 1\n",
        "\n",
        "# 저장한 리스트 확인\n",
        "print(users_dic)\n",
        "\n",
        "# 확인한 리스트 딕셔너리로 만들기\n",
        "# users_dic = dict(users)\n",
        "# print(users_dic)"
      ],
      "metadata": {
        "colab": {
          "base_uri": "https://localhost:8080/",
          "height": 294
        },
        "id": "LpDGw5bl73hv",
        "outputId": "95f633e9-b0cd-4d21-ef5b-f7314224beeb"
      },
      "execution_count": null,
      "outputs": [
        {
          "name": "stdout",
          "output_type": "stream",
          "text": [
            "입력하실 사용자 명수를 넣어주세요 : 1\n",
            "사용자 이름을 적어주세요 :fb\n",
            "사용자 나이을 적어주세요 :20\n",
            "사용자가 좋아하는 색깔을 적어주세요 :dlf\n"
          ]
        },
        {
          "output_type": "error",
          "ename": "IndexError",
          "evalue": "list assignment index out of range",
          "traceback": [
            "\u001b[0;31m---------------------------------------------------------------------------\u001b[0m",
            "\u001b[0;31mIndexError\u001b[0m                                Traceback (most recent call last)",
            "\u001b[0;32m<ipython-input-73-626277277eb3>\u001b[0m in \u001b[0;36m<cell line: 31>\u001b[0;34m()\u001b[0m\n\u001b[1;32m     42\u001b[0m \u001b[0;34m\u001b[0m\u001b[0m\n\u001b[1;32m     43\u001b[0m \u001b[0;34m\u001b[0m\u001b[0m\n\u001b[0;32m---> 44\u001b[0;31m     \u001b[0muser_info_value\u001b[0m\u001b[0;34m[\u001b[0m\u001b[0;36m0\u001b[0m\u001b[0;34m]\u001b[0m \u001b[0;34m=\u001b[0m \u001b[0muser_info_age\u001b[0m\u001b[0;34m\u001b[0m\u001b[0;34m\u001b[0m\u001b[0m\n\u001b[0m\u001b[1;32m     45\u001b[0m     \u001b[0muser_info_value\u001b[0m\u001b[0;34m[\u001b[0m\u001b[0;36m0\u001b[0m\u001b[0;34m]\u001b[0m \u001b[0;34m=\u001b[0m \u001b[0muser_info_color\u001b[0m\u001b[0;34m\u001b[0m\u001b[0;34m\u001b[0m\u001b[0m\n\u001b[1;32m     46\u001b[0m \u001b[0;34m\u001b[0m\u001b[0m\n",
            "\u001b[0;31mIndexError\u001b[0m: list assignment index out of range"
          ]
        }
      ]
    }
  ]
}