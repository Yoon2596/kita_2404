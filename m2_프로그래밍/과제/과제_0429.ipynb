{
  "nbformat": 4,
  "nbformat_minor": 0,
  "metadata": {
    "colab": {
      "provenance": [],
      "authorship_tag": "ABX9TyPedZeLEPZyv16w0zoFkQ2o",
      "include_colab_link": true
    },
    "kernelspec": {
      "name": "python3",
      "display_name": "Python 3"
    },
    "language_info": {
      "name": "python"
    }
  },
  "cells": [
    {
      "cell_type": "markdown",
      "metadata": {
        "id": "view-in-github",
        "colab_type": "text"
      },
      "source": [
        "<a href=\"https://colab.research.google.com/github/Yoon2596/kita_2404/blob/main/m2_%ED%94%84%EB%A1%9C%EA%B7%B8%EB%9E%98%EB%B0%8D/%EA%B3%BC%EC%A0%9C/%EA%B3%BC%EC%A0%9C_0429.ipynb\" target=\"_parent\"><img src=\"https://colab.research.google.com/assets/colab-badge.svg\" alt=\"Open In Colab\"/></a>"
      ]
    },
    {
      "cell_type": "code",
      "execution_count": null,
      "metadata": {
        "colab": {
          "base_uri": "https://localhost:8080/"
        },
        "id": "9hAoOB7aocU4",
        "outputId": "7a9177ff-4a04-456d-b982-4f79a11941d5"
      },
      "outputs": [
        {
          "output_type": "stream",
          "name": "stdout",
          "text": [
            "['Hello', 'world', 'How', 'are', 'you', 'today', 'I', 'am', 'fine', 'Thank', 'you']\n"
          ]
        }
      ],
      "source": [
        "# Task1_0429. input_str을 아래와 같이 단어로 분리하여 출력하세요.\n",
        "\n",
        "input_str1 = \"Hello, world! How are you today? I am fine. Thank you!\"\n",
        "\n",
        "# ['Hello', 'world', 'How', 'are', 'you', 'today', 'I', 'am', 'fine', 'Thank', 'you', '']\n",
        "\n",
        "# OnlyAlpha = input_str.split()\n",
        "# print(OnlyAlpha)\n",
        "\n",
        "# Reverse_word = []\n",
        "delete_index = []\n",
        "\n",
        "# str을 list로 변경\n",
        "OnlyAlpha = list(input_str1)\n",
        "# print(OnlyAlpha)\n",
        "\n",
        "\n",
        "# 각 인덱스의 안의 문자를 개별적으로 체크\n",
        "for i in range(len(input_str1)):\n",
        "\n",
        "    # 특수문자를 체크 후 해당 인덱스 자리를 리스트에 저장\n",
        "    if input_str1[i] == ',' or input_str1[i] == '!' or input_str1[i] == '?' or input_str1[i] == '.':\n",
        "        delete_index.append(i)\n",
        "    # print(delete_index)\n",
        "\n",
        "# 리스트에 저장 된 인덱스를 내림으로 바꾸고 해당 자리를 제거\n",
        "delete_index = delete_index[::-1]\n",
        "# print(delete_index)\n",
        "\n",
        "# 해당 특수문자 인덱스를 제거\n",
        "for j in delete_index:\n",
        "    del OnlyAlpha[j]\n",
        "\n",
        "# print(OnlyAlpha)\n",
        "# 제거후 남은 str문자를 합쳐주고 다시 단어로 나눠줌\n",
        "OnlyAlpha = ''.join(OnlyAlpha).split()\n",
        "print(OnlyAlpha)\n",
        "\n"
      ]
    },
    {
      "cell_type": "markdown",
      "source": [
        "re.split() 함수의 동작:\n",
        "- 주어진 문자열에서 공백, 쉼표, 마침표, 물음표, 느낌표를 포함하여 연속된 어떤 조합이라도 하나의 구분자로 취급하고, 이에 따라 문자열을 분리\n",
        "\n",
        "정규 표현식 구성 요소:\n",
        "- 대괄호([ ]): 대괄호는 문자 클래스를 만들며 대괄호 안에 포함된 어떤 문자와도 일치할 수 있다. 여기서는 공백( ), 쉼표(,), 마침표(.), 물음표(?), 느낌표(!)가 포함되어 있어 이 중 어떤 한 문자와도 일치할 수 있다.\n",
        "- 플러스 기호(+): 이 기호는 직전의 요소가 하나 이상 반복될 때 사용. 즉, `[ ,.?!]+`는 공백, 쉼표, 마침표, 물음표, 느낌표 중 하나 이상 연속된 시퀀스와 일치. 이를 통해 문자열을 분리할 때 하나의 구분자만이 아닌, 여러 구분자가 연속적으로 위치해 있는 경우에도 단일 구분점으로 취급할 수 있다."
      ],
      "metadata": {
        "id": "4dF_r4L4XkBy"
      }
    },
    {
      "cell_type": "code",
      "source": [
        "#강사님 버전 문제 1\n",
        "import re\n",
        "\n",
        "input_str = \"Hello, world! How are you today? I am fine. Thank you!\"\n",
        "# 여러 구분자(공백, 쉼표, 마침표, 느낌표)를 포함하는 정규 표현식을 사용\n",
        "tokens = re.split('[ ,.?!]+', input_str)\n",
        "print(tokens)\n",
        "\n",
        "tokens = [token for token in tokens if token]\n",
        "print(tokens)"
      ],
      "metadata": {
        "colab": {
          "base_uri": "https://localhost:8080/"
        },
        "id": "52XPQPAiXafZ",
        "outputId": "e8e1bb58-dc83-4573-cdc2-629286d10392"
      },
      "execution_count": null,
      "outputs": [
        {
          "output_type": "stream",
          "name": "stdout",
          "text": [
            "['Hello', 'world', 'How', 'are', 'you', 'today', 'I', 'am', 'fine', 'Thank', 'you', '']\n",
            "['Hello', 'world', 'How', 'are', 'you', 'today', 'I', 'am', 'fine', 'Thank', 'you']\n"
          ]
        }
      ]
    },
    {
      "cell_type": "code",
      "source": [
        "#강사님 버전2 문제 1\n",
        "import re\n",
        "\n",
        "input_str = \"Hello, world! How are you today? I am fine. Thank you!\"\n",
        "# 여러 구분자(공백, 쉼표, 마침표, 느낌표)를 포함하는 정규 표현식을 사용\n",
        "tokens = re.split('[ ,.?!]+', input_str)\n",
        "tokens = list(filter(None, tokens))\n",
        "\n",
        "print(tokens)"
      ],
      "metadata": {
        "colab": {
          "base_uri": "https://localhost:8080/"
        },
        "id": "LC7RAEZmh51X",
        "outputId": "e8801328-19c6-4ed1-fbbf-b6b39036d5c9"
      },
      "execution_count": null,
      "outputs": [
        {
          "output_type": "stream",
          "name": "stdout",
          "text": [
            "['Hello', 'world', 'How', 'are', 'you', 'today', 'I', 'am', 'fine', 'Thank', 'you']\n"
          ]
        }
      ]
    },
    {
      "cell_type": "code",
      "source": [
        "# Task2_0429. 십진수 122를 2진수, 8진수, 16진수로 변경하여 출력하세요.\n",
        "\n",
        "#십진수 122\n",
        "\n",
        "a = 122\n",
        "\n",
        "print(bin(a))\n",
        "print(oct(a))\n",
        "print(hex(a))\n"
      ],
      "metadata": {
        "colab": {
          "base_uri": "https://localhost:8080/"
        },
        "id": "nnFjJyXG6eR6",
        "outputId": "cadeb014-8422-4c4d-d4b4-1fdfb94ba041"
      },
      "execution_count": null,
      "outputs": [
        {
          "output_type": "stream",
          "name": "stdout",
          "text": [
            "0b1111010\n",
            "0o172\n",
            "0x7a\n"
          ]
        }
      ]
    },
    {
      "cell_type": "code",
      "source": [
        "# Task3_0429. 두 수의 곱셈 결과를 계산하고, 그 결과에 10을 더하세요.\n",
        "num1 = 20\n",
        "num2 = 10\n",
        "\n",
        "result = (num1*num2) + 10\n",
        "print(result)"
      ],
      "metadata": {
        "colab": {
          "base_uri": "https://localhost:8080/"
        },
        "id": "Qt5w1PHb6ukw",
        "outputId": "91d8bd6e-1eb7-4097-e6c2-17c824d60ca0"
      },
      "execution_count": null,
      "outputs": [
        {
          "output_type": "stream",
          "name": "stdout",
          "text": [
            "210\n"
          ]
        }
      ]
    },
    {
      "cell_type": "code",
      "source": [
        "# Task4_0429. 주어진 리스트에서 두 번째 요소를 삭제하고, 마지막에 새로운 요소 'Python'을 추가하세요.\n",
        "\n",
        "# 리스트: ['Java', 'C', 'JavaScript']\n",
        "\n",
        "list = ['Java', 'C', \"JavaScrip\"]\n",
        "\n",
        "del list[1]\n",
        "list.append('Python')\n",
        "print(list)"
      ],
      "metadata": {
        "colab": {
          "base_uri": "https://localhost:8080/"
        },
        "id": "zm41t01_7teu",
        "outputId": "f891a7ac-4e6d-4b14-8c1b-fa7f88149eec"
      },
      "execution_count": null,
      "outputs": [
        {
          "output_type": "stream",
          "name": "stdout",
          "text": [
            "['Java', 'JavaScrip', 'Python']\n"
          ]
        }
      ]
    },
    {
      "cell_type": "code",
      "source": [
        "# 문제4 pop를 사용할 시\n",
        "list = ['Java', 'C', \"JavaScrip\"]\n",
        "\n",
        "list.pop(1)\n",
        "list.append('Python')\n",
        "print(list)"
      ],
      "metadata": {
        "colab": {
          "base_uri": "https://localhost:8080/"
        },
        "id": "HVTrH8XQb-Qb",
        "outputId": "d32dcd9e-19f3-483e-c0dd-a496c44d18e1"
      },
      "execution_count": null,
      "outputs": [
        {
          "output_type": "stream",
          "name": "stdout",
          "text": [
            "['Java', 'JavaScrip', 'Python']\n"
          ]
        }
      ]
    },
    {
      "cell_type": "code",
      "source": [
        "# Task5_0429. 주어진 문자열에서 처음 세 글자와 마지막 세 글자를 연결하여 새로운 문자열을 만드세요.\n",
        "\n",
        "# 문자열: 'Incredible'\n",
        "\n",
        "list = 'Incredible'\n",
        "\n",
        "list1 = list[:3]\n",
        "list2 = list[7:]    # list[-3:] 이것도 가능\n",
        "final_list = list1 + list2\n",
        "print(final_list)"
      ],
      "metadata": {
        "colab": {
          "base_uri": "https://localhost:8080/"
        },
        "id": "jDwkpAed7wJM",
        "outputId": "278380fb-5cae-4ce8-c84b-d343f2270b5a"
      },
      "execution_count": null,
      "outputs": [
        {
          "output_type": "stream",
          "name": "stdout",
          "text": [
            "Incble\n"
          ]
        }
      ]
    },
    {
      "cell_type": "code",
      "source": [
        "# Task6_0429. 사용자의 이름과 이메일을 딕셔너리로 저장하고, 이름을 입력받아 해당하는 이메일을 출력하세요.\n",
        "\n",
        "# 사용자 정보: 이름 - 'Alice', 이메일 - 'alice@example.com'\n",
        "\n",
        "name = 'Alice'\n",
        "email = 'alice@example.com'\n",
        "\n",
        "# name = input('사용자의 이름을 적어주세요 : ')\n",
        "# email = input('사용자의 이메일을 적어주세요 : ')\n",
        "\n",
        "dic ={name : email}\n",
        "\n",
        "# print(dic.keys())\n",
        "print(dic)\n",
        "# print(Alice)\n",
        "\n",
        "out = input('이메일로 받을 사용자 이름을 적어주세요 :')\n",
        "\n",
        "# for i in out:\n",
        "if name == out:\n",
        "    print(email)\n",
        "else:\n",
        "    print('존재하지 않은 이름입니다')"
      ],
      "metadata": {
        "colab": {
          "base_uri": "https://localhost:8080/"
        },
        "id": "GhmDHIVz7y9n",
        "outputId": "a9893fa2-4e0f-43a4-ae50-1bc65590a033"
      },
      "execution_count": null,
      "outputs": [
        {
          "output_type": "stream",
          "name": "stdout",
          "text": [
            "{'Alice': 'alice@example.com'}\n",
            "이메일로 받을 사용자 이름을 적어주세요 :Alice\n",
            "alice@example.com\n"
          ]
        }
      ]
    },
    {
      "cell_type": "code",
      "source": [
        "# 강사님 버전 문제6\n",
        "d = {'Alice' :'alice@example.com'}\n",
        "name = input('이름을 입력하세요 : ')\n",
        "if name in d:\n",
        "    print(d[name])\n",
        "else:\n",
        "    print('존재하지 않은 이름입니다')"
      ],
      "metadata": {
        "colab": {
          "base_uri": "https://localhost:8080/"
        },
        "id": "pUyPVUhXd_kV",
        "outputId": "47d7649c-d2b1-4988-ae81-69b287f7fcb6"
      },
      "execution_count": null,
      "outputs": [
        {
          "output_type": "stream",
          "name": "stdout",
          "text": [
            "이름을 입력하세요 : Alice\n",
            "alice@example.com\n"
          ]
        }
      ]
    },
    {
      "cell_type": "code",
      "source": [
        "# Task7_0429. 주어진 두 튜플에서 공통 요소만을 찾아 집합으로 만드세요.\n",
        "\n",
        "# 튜플: (1, 2, 3, 4, 5)와 (4, 5, 6, 7, 8)\n",
        "\n",
        "tu1 = (1, 2, 3, 4, 5) ; tu2 = (4, 5, 6, 7, 8)\n",
        "\n",
        "inter = (set(tu1) & set(tu2))\n",
        "print(inter)"
      ],
      "metadata": {
        "colab": {
          "base_uri": "https://localhost:8080/"
        },
        "id": "-YQl8dHi706W",
        "outputId": "ebc79477-0552-4b97-d3f9-8c14da013039"
      },
      "execution_count": null,
      "outputs": [
        {
          "output_type": "stream",
          "name": "stdout",
          "text": [
            "{4, 5}\n"
          ]
        }
      ]
    },
    {
      "cell_type": "code",
      "source": [
        "# Task8_Challenge_0429. 다음 요구 사항을 충족하는 프로그램을 작성하세요:\n",
        "\n",
        "# - 사용자로부터 이름, 나이, 좋아하는 색상을 입력받습니다.\n",
        "# - 입력받은 정보를 딕셔너리로 저장하고, 모든 사용자 정보를 리스트에 저장합니다.\n",
        "# - 이름이 'John'인 사용자의 정보만 출력하세요.\n",
        "# - 전체 사용자의 평균 나이를 계산하고 출력하세요.\n",
        "\n",
        "# 1. 사용자 데이터:\n",
        "# - 이름: John\n",
        "# - 나이: 28\n",
        "# - 좋아하는 색상: Blue\n",
        "# 2. 사용자 데이터:\n",
        "# - 이름: Alice\n",
        "# - 나이: 24\n",
        "# - 좋아하는 색상: Red\n",
        "# 3. 사용자 데이터:\n",
        "# - 이름: Maria\n",
        "# - 나이: 32\n",
        "# - 좋아하는 색상: Green\n",
        "\n",
        "\n",
        "users = []\n",
        "\n",
        "\n",
        "# 사용자가 몇 명 들어가는 지 파악\n",
        "count_per = int(input('입력하실 사용자 명수를 넣어주세요 : '))\n",
        "user_info = []\n",
        "user_info_value = []\n",
        "\n",
        "# 명 수에 맞게 유저 정보를 리스트에 저장\n",
        "while 0 < count_per:\n",
        "    users_dic = {}\n",
        "    # print(count_per)\n",
        "    user_info_name = input('사용자 이름을 적어주세요 :')\n",
        "    # users_dic.setdefault(user_info_name)\n",
        "    # print(users_dic)\n",
        "    user_info_age = input('사용자 나이을 적어주세요 :')\n",
        "\n",
        "    # users_dic[user_info_name].append(user_info_age)\n",
        "    # li1 = list(user_info_value)\n",
        "\n",
        "    user_info_color = input('사용자가 좋아하는 색깔을 적어주세요 :')\n",
        "\n",
        "\n",
        "    # user_info_value[0] = user_info_age\n",
        "    # user_info_value[0] = user_info_color\n",
        "    user_dic = {'name':user_info_name, 'age':user_info_age, 'color':user_info_color}\n",
        "\n",
        "    # list(user_info_value)\n",
        "    # user_info_value.join()\n",
        "    print(user_dic)\n",
        "    users.append(user_dic)\n",
        "    # print(user_info_value)\n",
        "    # users_dic = {user_info_name : user_info_value}\n",
        "    # print(users_dic)\n",
        "    count_per -= 1\n",
        "\n",
        "# 저장한 리스트 확인\n",
        "print(users)\n",
        "\n",
        "# 확인한 리스트 딕셔너리로 만들기\n",
        "# users_dic = dict(users)\n",
        "# print(users_dic)"
      ],
      "metadata": {
        "colab": {
          "base_uri": "https://localhost:8080/"
        },
        "id": "LpDGw5bl73hv",
        "outputId": "07d221d7-11b6-46ac-8fed-d51357d443c6"
      },
      "execution_count": null,
      "outputs": [
        {
          "output_type": "stream",
          "name": "stdout",
          "text": [
            "입력하실 사용자 명수를 넣어주세요 : 2\n",
            "사용자 이름을 적어주세요 :야\n",
            "사용자 나이을 적어주세요 :43\n",
            "사용자가 좋아하는 색깔을 적어주세요 :파란\n",
            "{'name': '야', 'age': '43', 'color': '파란'}\n",
            "사용자 이름을 적어주세요 :유\n",
            "사용자 나이을 적어주세요 :23\n",
            "사용자가 좋아하는 색깔을 적어주세요 :그린\n",
            "{'name': '유', 'age': '23', 'color': '그린'}\n",
            "[{'name': '야', 'age': '43', 'color': '파란'}, {'name': '유', 'age': '23', 'color': '그린'}]\n"
          ]
        }
      ]
    },
    {
      "cell_type": "code",
      "source": [
        "# 강사님 버전 문제 8\n",
        "# 1. 사용자 데이터:\n",
        "# - 이름: John\n",
        "# - 나이: 28\n",
        "# - 좋아하는 색상: Blue\n",
        "# 2. 사용자 데이터:\n",
        "# - 이름: Alice\n",
        "# - 나이: 24\n",
        "# - 좋아하는 색상: Red\n",
        "# 3. 사용자 데이터:\n",
        "# - 이름: Maria\n",
        "# - 나이: 32\n",
        "# - 좋아하는 색상: Green\n",
        "\n",
        "users = []\n",
        "for _ in range(3):\n",
        "    # user = {}\n",
        "    name = input('이름을 입력하세요 : ')\n",
        "    age = int(input('나이를 입력하세요 : '))\n",
        "    favorite_color = input('좋아하는 색상을 입력하세요 :')\n",
        "\n",
        "    user_info = {'name':name, 'age':age, 'favorite_color':favorite_color}\n",
        "    users.append(user_info)\n",
        "\n",
        "for user in users:\n",
        "    if user['name'] == 'John':\n",
        "        print(f'John\\' info : {user}')\n",
        "\n",
        "total_age = sum(user['age'] for user in users)\n",
        "average_age = total_age / len(users)\n",
        "print(f'Average age of users : {average_age:.2f}')"
      ],
      "metadata": {
        "colab": {
          "base_uri": "https://localhost:8080/"
        },
        "id": "hKdGLNgvjP1f",
        "outputId": "ba6f60f2-701b-4949-b9af-5e9c8f419820"
      },
      "execution_count": null,
      "outputs": [
        {
          "output_type": "stream",
          "name": "stdout",
          "text": [
            "이름을 입력하세요 : John\n",
            "나이를 입력하세요 : 28\n",
            "좋아하는 색상을 입력하세요 :Blue\n",
            "이름을 입력하세요 : Alice\n",
            "나이를 입력하세요 : 24\n",
            "좋아하는 색상을 입력하세요 :Red\n",
            "이름을 입력하세요 : Maria\n",
            "나이를 입력하세요 : 32\n",
            "좋아하는 색상을 입력하세요 :Green\n",
            "John' info : {'name': 'John', 'age': 28, 'favorite_color': 'Blue'}\n",
            "Average age of users : 28.00\n"
          ]
        }
      ]
    }
  ]
}