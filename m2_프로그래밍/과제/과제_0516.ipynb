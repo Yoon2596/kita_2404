{
  "nbformat": 4,
  "nbformat_minor": 0,
  "metadata": {
    "colab": {
      "provenance": [],
      "authorship_tag": "ABX9TyPMQITYltO4i0CC3GciG9sk",
      "include_colab_link": true
    },
    "kernelspec": {
      "name": "python3",
      "display_name": "Python 3"
    },
    "language_info": {
      "name": "python"
    }
  },
  "cells": [
    {
      "cell_type": "markdown",
      "metadata": {
        "id": "view-in-github",
        "colab_type": "text"
      },
      "source": [
        "<a href=\"https://colab.research.google.com/github/Yoon2596/kita_2404/blob/main/m2_%ED%94%84%EB%A1%9C%EA%B7%B8%EB%9E%98%EB%B0%8D/%EA%B3%BC%EC%A0%9C/%EA%B3%BC%EC%A0%9C_0516.ipynb\" target=\"_parent\"><img src=\"https://colab.research.google.com/assets/colab-badge.svg\" alt=\"Open In Colab\"/></a>"
      ]
    },
    {
      "cell_type": "markdown",
      "source": [
        "문제 1"
      ],
      "metadata": {
        "id": "WKjaZ9UO9NVo"
      }
    },
    {
      "cell_type": "code",
      "execution_count": null,
      "metadata": {
        "colab": {
          "base_uri": "https://localhost:8080/"
        },
        "id": "LiSI-NSA_8o1",
        "outputId": "738ac068-1799-4db7-98e7-d43a497028af"
      },
      "outputs": [
        {
          "output_type": "stream",
          "name": "stdout",
          "text": [
            "199305\n",
            "199305\n"
          ]
        }
      ],
      "source": [
        "# Task1_0516. '199305, 1923A, a93247'에서 '199305'만 출력하세요.\n",
        "import re\n",
        "\n",
        "str1 = '199305, 1923A, a93247'\n",
        "match1 = re.match('199305', str1)\n",
        "print(match1.group())\n",
        "\n",
        "pattern1 = r'^\\d+'\n",
        "match2 = re.match(pattern1, str1)\n",
        "print(match2.group())"
      ]
    },
    {
      "cell_type": "code",
      "source": [
        "# 강사님 버전 문제1\n",
        "import re\n",
        "str1 = '199305, 1923A, a93247'\n",
        "regex = re.compile(r'^\\d+')\n",
        "print(regex.findall(str1))\n"
      ],
      "metadata": {
        "colab": {
          "base_uri": "https://localhost:8080/"
        },
        "id": "Td5YkGxn6XuW",
        "outputId": "bef46fab-7b17-4638-f4c5-9404005038f9"
      },
      "execution_count": 4,
      "outputs": [
        {
          "output_type": "stream",
          "name": "stdout",
          "text": [
            "['199305']\n"
          ]
        }
      ]
    },
    {
      "cell_type": "markdown",
      "source": [
        "문제 2"
      ],
      "metadata": {
        "id": "mn18sfH09PFg"
      }
    },
    {
      "cell_type": "code",
      "source": [
        "# Task2_0516. '99food234, a93456\\n, a9356ba '에서 '99food234'만 출력하세요.\n",
        "import re\n",
        "\n",
        "str2 = '99food234, a93456\\n, a9356ba '\n",
        "match1 = re.match('99food234', str2)\n",
        "print(match1.group())\n",
        "\n",
        "p2 = re.compile('^[a-z0-9]+')\n",
        "# match2 = re.match(p2, str2)\n",
        "# print(match2.group())\n",
        "print(p2.findall(str2))\n",
        "\n",
        "p_2 = re.compile('^\\w{9}')\n",
        "print(p_2.findall(str2))"
      ],
      "metadata": {
        "colab": {
          "base_uri": "https://localhost:8080/"
        },
        "id": "F6QDvBxu_-dq",
        "outputId": "d4b8d53d-bd98-4504-c68a-de6da3399c5f"
      },
      "execution_count": null,
      "outputs": [
        {
          "output_type": "stream",
          "name": "stdout",
          "text": [
            "99food234\n",
            "['99food234']\n",
            "['99food234']\n"
          ]
        }
      ]
    },
    {
      "cell_type": "code",
      "source": [
        "# 강사님 버전 문제2\n",
        "import re\n",
        "# \\w+ : 하나 이상의 영문자나 숫자 (단어문자)\n",
        "# \\d : 숫자 한 개\n",
        "str2 = '99food234, a93456\\n, a9356ba '\n",
        "regex = re.compile(r'^\\w+\\d')\n",
        "print(regex.findall(str2))"
      ],
      "metadata": {
        "colab": {
          "base_uri": "https://localhost:8080/"
        },
        "id": "u6qq4L_G6uUF",
        "outputId": "a6404049-c254-4e75-c517-960282236c57"
      },
      "execution_count": 5,
      "outputs": [
        {
          "output_type": "stream",
          "name": "stdout",
          "text": [
            "['99food234']\n"
          ]
        }
      ]
    },
    {
      "cell_type": "markdown",
      "source": [
        "문제 3"
      ],
      "metadata": {
        "id": "SRe0n8889QVM"
      }
    },
    {
      "cell_type": "code",
      "source": [
        "# Task3_0516. 주어진 문자열이 유효한 이메일 주소인지 확인\n",
        "t3 = \"example@example.com\"\n",
        "\n",
        "import re\n",
        "p3 = re.compile(r'^\\w+@\\w+.com$')\n",
        "print(p3.match(t3))\n",
        "bool(p3.match(t3))"
      ],
      "metadata": {
        "colab": {
          "base_uri": "https://localhost:8080/"
        },
        "id": "kpuZnaY2Prmt",
        "outputId": "5b936bb6-08dc-4f47-b60e-51cf4141d2e6"
      },
      "execution_count": 8,
      "outputs": [
        {
          "output_type": "stream",
          "name": "stdout",
          "text": [
            "<re.Match object; span=(0, 19), match='example@example.com'>\n"
          ]
        },
        {
          "output_type": "execute_result",
          "data": {
            "text/plain": [
              "True"
            ]
          },
          "metadata": {},
          "execution_count": 8
        }
      ]
    },
    {
      "cell_type": "code",
      "source": [
        "# 강사님 버전 문제3\n",
        "import re\n",
        "def is_valid_email(email):\n",
        "    # 이메일의 모든 패턴\n",
        "    # pattern = r'^[a-zA-Z0-9._%+-]+@[a-zA-Z0-9.-]+\\.[a-zA-Z]{2,}$'           # {2,} 2개 이상\n",
        "    pattern = r'[a-zA-Z0-9._%+-]+@[a-zA-Z0-9.-]+\\.[a-zA-Z]{2,}'\n",
        "    return bool(re.match(pattern, email))\n",
        "\n",
        "#  예시 사용\n",
        "is_valid_email(\"example@example.com\")"
      ],
      "metadata": {
        "colab": {
          "base_uri": "https://localhost:8080/"
        },
        "id": "_5FMI6Ws7atF",
        "outputId": "a73939bb-7b58-4986-857b-55284d4017f5"
      },
      "execution_count": 76,
      "outputs": [
        {
          "output_type": "execute_result",
          "data": {
            "text/plain": [
              "True"
            ]
          },
          "metadata": {},
          "execution_count": 76
        }
      ]
    },
    {
      "cell_type": "markdown",
      "source": [
        "문제 4"
      ],
      "metadata": {
        "id": "VXPJZQrJ9SAt"
      }
    },
    {
      "cell_type": "code",
      "source": [
        "# Task4_0516. 주어진 문자열이 올바른 전화번호 형식(010-0000-0000)인지 확인하세요.\n",
        "t4 = \"010-1234-5678\"\n",
        "\n",
        "import re\n",
        "\n",
        "p4 = re.compile(r'^\\d{3}-\\d{4}-\\d{4}$')\n",
        "print(p4.match(t4))\n"
      ],
      "metadata": {
        "colab": {
          "base_uri": "https://localhost:8080/"
        },
        "id": "p9wMqd8JPtAx",
        "outputId": "88a9cf93-cdfc-403c-85e7-f2dcdbe60a5e"
      },
      "execution_count": null,
      "outputs": [
        {
          "output_type": "stream",
          "name": "stdout",
          "text": [
            "<re.Match object; span=(0, 13), match='010-1234-5678'>\n"
          ]
        }
      ]
    },
    {
      "cell_type": "code",
      "source": [
        "# 강사님 버전 문제4\n",
        "import re\n",
        "t4 = \"010-1234-5678\"\n",
        "\n",
        "def is_valid_phone(phone):\n",
        "    pattern = r'^010-\\d{4}-\\d{4}$'\n",
        "    return bool(re.match(pattern, phone))\n",
        "\n",
        "is_valid_phone(t4)"
      ],
      "metadata": {
        "colab": {
          "base_uri": "https://localhost:8080/"
        },
        "id": "hSMWn-ta8pzX",
        "outputId": "504c2193-8ae4-47cd-efc0-8aa72ff0ddb9"
      },
      "execution_count": 10,
      "outputs": [
        {
          "output_type": "execute_result",
          "data": {
            "text/plain": [
              "True"
            ]
          },
          "metadata": {},
          "execution_count": 10
        }
      ]
    },
    {
      "cell_type": "markdown",
      "source": [
        "문제 5"
      ],
      "metadata": {
        "id": "8_cZQQmB9Txc"
      }
    },
    {
      "cell_type": "code",
      "source": [
        "# Task5_0516. 문자열에서 모든 HTML 태그를 찾아 리스트로 반환하세요.\n",
        "t5 = \"<html><head></head><body></body></html>\"\n",
        "import re\n",
        "p5 = re.compile(r'<.*?>')\n",
        "print(p5.findall(t5))"
      ],
      "metadata": {
        "colab": {
          "base_uri": "https://localhost:8080/"
        },
        "id": "5PqhuK-VPv4D",
        "outputId": "d3358457-9382-43c7-b8bb-bd0cd1e784a3"
      },
      "execution_count": 14,
      "outputs": [
        {
          "output_type": "stream",
          "name": "stdout",
          "text": [
            "['<html>', '<head>', '</head>', '<body>', '</body>', '</html>']\n"
          ]
        }
      ]
    },
    {
      "cell_type": "code",
      "source": [
        "# 강사님 버전 문제5\n",
        "import re\n",
        "t5 = \"<html><head></head><body></body></html>\"\n",
        "\n",
        "def find_html_tags(html):\n",
        "    pattern = r'<[^>]+>'            # ^ : 일반적으로 첫번째로 쓰지만 대괄호 안에 있으면 not으로 쓰인다\n",
        "    return re.findall(pattern, html)\n",
        "\n",
        "find_html_tags(t5)\n"
      ],
      "metadata": {
        "colab": {
          "base_uri": "https://localhost:8080/"
        },
        "id": "1rTd34DX9IBk",
        "outputId": "7af67e0a-3501-4ba7-e0aa-e5663a433db2"
      },
      "execution_count": 15,
      "outputs": [
        {
          "output_type": "execute_result",
          "data": {
            "text/plain": [
              "['<html>', '<head>', '</head>', '<body>', '</body>', '</html>']"
            ]
          },
          "metadata": {},
          "execution_count": 15
        }
      ]
    },
    {
      "cell_type": "markdown",
      "source": [
        "문제 6"
      ],
      "metadata": {
        "id": "2CwLwSkj9VRM"
      }
    },
    {
      "cell_type": "code",
      "source": [
        "# Task6_0516. 주어진 비밀번호가 최소 8자, 대문자, 소문자, 숫자, 특수문자를 포함하는지 확인하세요.\n",
        "t6 = \"Aa1!aaaa\"\n",
        "\n",
        "p6 = re.compile(r'^(?=.*[A-Z])(?=.*[a-z])(?=.*[0-9])(?=.*[!@#$%^&*()]).{8}$')\n",
        "print(p6.match(t6))"
      ],
      "metadata": {
        "colab": {
          "base_uri": "https://localhost:8080/"
        },
        "id": "DNEz6QsNPx-L",
        "outputId": "7e95be27-f5d7-4645-fc13-2085b0fd6122"
      },
      "execution_count": null,
      "outputs": [
        {
          "output_type": "stream",
          "name": "stdout",
          "text": [
            "<re.Match object; span=(0, 8), match='Aa1!aaaa'>\n"
          ]
        }
      ]
    },
    {
      "cell_type": "code",
      "source": [
        "# 강사님 버전 문제 6\n",
        "import re\n",
        "t6 = \"Aa1!aaaa\"\n",
        "\n",
        "def is_strong_password(password):\n",
        "    # ?=.* : 무언가 반드시 있어야 한다\n",
        "    pattern = r'^(?=.*[a-z])(?=.*[A-Z])(?=.*\\d)(?=.*[!@#$%&])[A-Za-z\\d!@#$%&]{8,}$'\n",
        "    pattern1 = r'[(a-z)+(A-Z)+\\d+(\\D\\\\\\S)+]{8,}?'\n",
        "    return bool(re.match(pattern1, password))\n",
        "\n",
        "is_strong_password(t6)"
      ],
      "metadata": {
        "colab": {
          "base_uri": "https://localhost:8080/"
        },
        "id": "eOT31Q-1_Ieq",
        "outputId": "4e1c889c-5d63-4d3d-9b98-bce1ffc8b917"
      },
      "execution_count": 18,
      "outputs": [
        {
          "output_type": "execute_result",
          "data": {
            "text/plain": [
              "True"
            ]
          },
          "metadata": {},
          "execution_count": 18
        }
      ]
    },
    {
      "cell_type": "markdown",
      "source": [
        "문제 7"
      ],
      "metadata": {
        "id": "x_rw4JEv9Wmn"
      }
    },
    {
      "cell_type": "code",
      "source": [
        "# Task7_0516. 주어진 문자열이 유효한 URL인지 확인하세요.\n",
        "t7 = \"https://www.example.com\"\n",
        "\n",
        "p7 = re.compile(r'^(https://www.)[\\w]+.com$')\n",
        "print(p7.match(t7))"
      ],
      "metadata": {
        "colab": {
          "base_uri": "https://localhost:8080/"
        },
        "id": "5RrjdDP_P2pF",
        "outputId": "91614514-b420-4528-f1b2-9e81beac91bf"
      },
      "execution_count": null,
      "outputs": [
        {
          "output_type": "stream",
          "name": "stdout",
          "text": [
            "<re.Match object; span=(0, 28), match='https://www.exasdfllafo3.com'>\n"
          ]
        }
      ]
    },
    {
      "cell_type": "code",
      "source": [
        "# 강사님 버전 문제7\n",
        "import re\n",
        "t7 = \"https://www.example.com\"\n",
        "\n",
        "def is_valid_url(url):\n",
        "    pattern = r'^(https?|ftp):\\/\\/[^\\s/$.?#].[^\\s]*$'   #^\\s/$.?# : 들어가면 안돼는 것 표시\n",
        "    return bool(re.match(pattern, url))\n",
        "\n",
        "is_valid_url(t7)"
      ],
      "metadata": {
        "colab": {
          "base_uri": "https://localhost:8080/"
        },
        "id": "x-X4-DdwB68d",
        "outputId": "30dfcf20-5e25-4bfd-f9e3-56cb0a95d1c1"
      },
      "execution_count": 19,
      "outputs": [
        {
          "output_type": "execute_result",
          "data": {
            "text/plain": [
              "True"
            ]
          },
          "metadata": {},
          "execution_count": 19
        }
      ]
    },
    {
      "cell_type": "markdown",
      "source": [
        "문제 8"
      ],
      "metadata": {
        "id": "dZ6IiUsT9XvY"
      }
    },
    {
      "cell_type": "code",
      "source": [
        "# Task8_0516. 주어진 문자열이 유효한 주민등록번호(######-#######) 형식인지 확인하세요.\n",
        "t8 = \"900101-1234567\"\n",
        "\n",
        "import re\n",
        "p8 = re.compile(r'^\\d{6}-\\d{7}$')\n",
        "print(p8.match(t8))"
      ],
      "metadata": {
        "colab": {
          "base_uri": "https://localhost:8080/"
        },
        "id": "3olHVYOgP77J",
        "outputId": "cd4f8c56-d976-44df-cc03-fce411f678e8"
      },
      "execution_count": null,
      "outputs": [
        {
          "output_type": "stream",
          "name": "stdout",
          "text": [
            "<re.Match object; span=(0, 14), match='900101-1234567'>\n"
          ]
        }
      ]
    },
    {
      "cell_type": "code",
      "source": [
        "# 강사님 버전 문제8\n",
        "t8 = \"900531-1234567\"\n",
        "\n",
        "import re\n",
        "# 월별 예외적인 일 처리는 별도 조건문으로 처리\n",
        "def is_vaild_ssn(ssn):\n",
        "    # pattern = r'^[0-9][0-9][01][]+[1-31]-[1234]\\d{6}'\n",
        "    # pattern = '\\d{2}(0[1-9]|1[0-2])(0[1-9]|[12]|d|3[01])-[1234]\\d{6}'\n",
        "    pattern1 = '\\d{2}(0[1-9]|1[0-2])(0[1-9]|[12]\\d|3[01])-[1234]\\d{6}'\n",
        "\n",
        "    # 모두 걸러낸 경우\n",
        "    pattern2 = r'\\d{2}((0[13578]|1[02])(0[1-9]|[12]\\d|3[01])|(0[469]|11)(0[1-9]|[12]\\d|30)|02(0[1-9]|1\\d|2[0-8]))-[1234]\\d{6}'\n",
        "    return bool(re.match(pattern2, ssn))\n",
        "\n",
        "is_vaild_ssn(t8)"
      ],
      "metadata": {
        "colab": {
          "base_uri": "https://localhost:8080/"
        },
        "id": "Y1Fncg3fFElQ",
        "outputId": "c967c854-c725-401c-bf0f-6eafbb35cd43"
      },
      "execution_count": 68,
      "outputs": [
        {
          "output_type": "execute_result",
          "data": {
            "text/plain": [
              "True"
            ]
          },
          "metadata": {},
          "execution_count": 68
        }
      ]
    },
    {
      "cell_type": "markdown",
      "source": [
        "문제 9"
      ],
      "metadata": {
        "id": "fPEYS4qN9Y4U"
      }
    },
    {
      "cell_type": "code",
      "source": [
        "# Task9_0516. 주어진 문자열이 유효한 IPv4 주소인지 확인하세요.\n",
        "t9 = \"192.168.1.1\"\n",
        "import re\n",
        "p9 = re.compile(r'\\d{3}.\\d{3}.\\d{1}.\\d{1}')\n",
        "print(p9.match(t9))"
      ],
      "metadata": {
        "colab": {
          "base_uri": "https://localhost:8080/"
        },
        "id": "vPg9yNiUP9cR",
        "outputId": "b26040d0-eb3a-4a31-b6fe-3271c39e3289"
      },
      "execution_count": null,
      "outputs": [
        {
          "output_type": "stream",
          "name": "stdout",
          "text": [
            "<re.Match object; span=(0, 11), match='192.168.1.1'>\n"
          ]
        }
      ]
    },
    {
      "cell_type": "code",
      "source": [
        "# 강사님 버전 문제9\n",
        "import re\n",
        "def is_valid_ipv4(ip):\n",
        "    # pattern = re.compile(r'^((25[0-5]|2[0-4][0-9]|[01]?[0-9][0-9]?)\\.){3}(25[0-5]|2[0-4][0-9]|[01]?[0-9][0-9]?)$')\n",
        "    pattern = re.compile(r'^((25[0-5]|2[0-4][0-9]|[01]?[0-9][0-9]?)\\.){3}(25[0-5]|2[0-4][0-9]|[01]?[0-9][0-9]?)$')\n",
        "    return bool(re.match(pattern, ip))\n",
        "\n",
        "test_ip = [\n",
        "    '192.168.1.1',               #유효\n",
        "    '255.255.255.255',           #유효\n",
        "    '256.256.256.256',           #유효\n",
        "    '192.168.1',                 #유효 X\n",
        "    '192.168.1.300',             #유효 X\n",
        "    'abc.def.ghi.jkl']          #유효 X\n",
        "\n",
        "for ip in test_ip:\n",
        "    if is_valid_ipv4(ip):\n",
        "        print(f'{ip}\\t : 유효')\n",
        "    else:\n",
        "        print(f'{ip}\\t : 유효 X')"
      ],
      "metadata": {
        "colab": {
          "base_uri": "https://localhost:8080/"
        },
        "id": "5yliCuGnIGG4",
        "outputId": "6070b11b-82ef-4358-b95d-bf0b7654cd34"
      },
      "execution_count": 39,
      "outputs": [
        {
          "output_type": "stream",
          "name": "stdout",
          "text": [
            "192.168.1.1\t : 유효\n",
            "255.255.255.255\t : 유효\n",
            "256.256.256.256\t : 유효 X\n",
            "192.168.1\t : 유효 X\n",
            "192.168.1.300\t : 유효 X\n",
            "abc.def.ghi.jkl\t : 유효 X\n"
          ]
        }
      ]
    },
    {
      "cell_type": "markdown",
      "source": [
        "문제 10"
      ],
      "metadata": {
        "id": "d_CAj4Qc9Z0k"
      }
    },
    {
      "cell_type": "code",
      "source": [
        "# Task10_0516. 주어진 파일 이름에서 확장자가 .jpg, .jpeg, 또는 .png인지 확인하세요.\n",
        "t10 = \"image.jpg\"\n",
        "p10 = re.compile('.*\\.(jpg|jpeg|png)$')\n",
        "# p10_1 = t10.search('.jpg')\n",
        "# p10_2 = t10.search('.jpeg')\n",
        "# p10_3 = t10.search('.png')\n",
        "\n",
        "print(p10.match(t10))\n",
        "if re.search('jpg$', t10):\n",
        "    print('jpg입니다')\n",
        "elif re.search('jpeg$', t10):\n",
        "    print('jpeg입니다')\n",
        "elif re.search('png$', t10):\n",
        "    print('png입니다')\n",
        "\n",
        "# print(p10_2)\n",
        "# print(p10_3"
      ],
      "metadata": {
        "colab": {
          "base_uri": "https://localhost:8080/"
        },
        "id": "ZpZIx7nNQCeg",
        "outputId": "f8b518cf-fd68-4038-938c-267d40e742c9"
      },
      "execution_count": null,
      "outputs": [
        {
          "output_type": "stream",
          "name": "stdout",
          "text": [
            "<re.Match object; span=(0, 9), match='image.jpg'>\n",
            "jpg입니다\n"
          ]
        }
      ]
    },
    {
      "cell_type": "code",
      "source": [
        "# 강사님 버전 문제10\n",
        "import re\n",
        "\n",
        "def is_image_file(filename):\n",
        "    pattern = r'.*\\.(jpg|jpeg|png)$'\n",
        "    return bool(re.match(pattern, filename))\n",
        "\n",
        "is_image_file(\"image.jpg\")"
      ],
      "metadata": {
        "colab": {
          "base_uri": "https://localhost:8080/"
        },
        "id": "pyjn2e7ILytI",
        "outputId": "feae888c-40a9-451f-d245-f6c1df8d8b97"
      },
      "execution_count": 42,
      "outputs": [
        {
          "output_type": "execute_result",
          "data": {
            "text/plain": [
              "True"
            ]
          },
          "metadata": {},
          "execution_count": 42
        }
      ]
    },
    {
      "cell_type": "markdown",
      "source": [
        "문제 11"
      ],
      "metadata": {
        "id": "5LHRpqjK9a8g"
      }
    },
    {
      "cell_type": "code",
      "source": [
        "# Task11_0516. 문자열에서 Python 주석을 제거하세요.\n",
        "code_with_comments = \"\"\"\n",
        "# This is a whole line comment\n",
        "print(\"Hello, world!\")  # This is a side comment\n",
        "# Another comment\n",
        "print(\"Python is fun!\") # Another side comment\n",
        "\"\"\"\n",
        "\n",
        "import re\n",
        "\n",
        "pattern11 = r'(?=#).*'\n",
        "\n",
        "# matches11 = re.findall(pattern11, code_with_comments)\n",
        "result = re.sub(pattern11, '', code_with_comments)\n",
        "print(result)\n",
        "# print(matches11)"
      ],
      "metadata": {
        "colab": {
          "base_uri": "https://localhost:8080/"
        },
        "id": "1P8VnyEgQJkn",
        "outputId": "8b969294-fd52-416f-b3ab-559ced43a425"
      },
      "execution_count": 65,
      "outputs": [
        {
          "output_type": "stream",
          "name": "stdout",
          "text": [
            "\n",
            "\n",
            "print(\"Hello, world!\")  \n",
            "\n",
            "print(\"Python is fun!\") \n",
            "\n"
          ]
        }
      ]
    },
    {
      "cell_type": "code",
      "source": [
        "# 강사님 버전 문제11\n",
        "import re\n",
        "\n",
        "code_with_comments = \"\"\"\n",
        "# This is a whole line comment\n",
        "print(\"Hello, world!\")  # This is a side comment\n",
        "# Another comment\n",
        "print(\"Python is fun!\") # Another side comment\n",
        "\"\"\"\n",
        "\n",
        "def remove_comments(code):\n",
        "    pattern = r'#.*'                # #으로 시작하고 그 뒤에 어떤 문자든 0개 이상(*) 올 수 있는 문자열\n",
        "    return re.sub(pattern, '', code, flags=re.MULTILINE)\n",
        "\n",
        "clean_code = remove_comments(code_with_comments)\n",
        "print(clean_code)"
      ],
      "metadata": {
        "colab": {
          "base_uri": "https://localhost:8080/"
        },
        "id": "LE1ci6FBMcKM",
        "outputId": "3f947917-e03b-43b2-fdc1-d59d8f77a06c"
      },
      "execution_count": 43,
      "outputs": [
        {
          "output_type": "stream",
          "name": "stdout",
          "text": [
            "\n",
            "\n",
            "print(\"Hello, world!\")  \n",
            "\n",
            "print(\"Python is fun!\") \n",
            "\n"
          ]
        }
      ]
    },
    {
      "cell_type": "markdown",
      "source": [
        "문제 12"
      ],
      "metadata": {
        "id": "BMaEjFdB9cX4"
      }
    },
    {
      "cell_type": "code",
      "source": [
        "# Task12_0516. 지정된 HTML 문자열 내에서 이메일 주소를 찾아서 그 결과를 출력\n",
        "html = \"\"\"\n",
        "<ul>\n",
        "  <li>Email: example@example.com</li>\n",
        "  <li>Contact: contact@sample.org</li>\n",
        "</ul>\n",
        "\"\"\"\n",
        "\n",
        "import re\n",
        "\n",
        "pattern12 = r'(?<=: ).+(?=<)'\n",
        "\n",
        "matches12 = re.findall(pattern12, html)\n",
        "print(matches12)"
      ],
      "metadata": {
        "colab": {
          "base_uri": "https://localhost:8080/"
        },
        "id": "boTVUge0QUdv",
        "outputId": "470df04a-fcc7-4527-c789-987cbcfdedcc"
      },
      "execution_count": null,
      "outputs": [
        {
          "output_type": "stream",
          "name": "stdout",
          "text": [
            "['example@example.com', 'contact@sample.org']\n"
          ]
        }
      ]
    },
    {
      "cell_type": "code",
      "source": [
        "# 강사님 버전 문제12\n",
        "import re\n",
        "\n",
        "html = \"\"\"\n",
        "<ul>\n",
        "  <li>Email: example@example.com</li>\n",
        "  <li>Contact: contact@sample.org</li>\n",
        "</ul>\n",
        "\"\"\"\n",
        "\n",
        "\n",
        "\n",
        "def find_emails(content):\n",
        "    # pattern12 = r'^[a-zA-Z0-9._%+-]+@[a-zA-Z0-9.-]+\\.[a-zA-Z]{2,}$'\n",
        "    pattern = r'[a-zA-Z0-9._%+-]+@[a-zA-Z0-9.-]+\\.[a-zA-Z]{2,}'\n",
        "    email = re.findall(pattern, content)\n",
        "    return email\n",
        "\n",
        "\n",
        "emails = find_emails(html)\n",
        "print(emails)"
      ],
      "metadata": {
        "colab": {
          "base_uri": "https://localhost:8080/"
        },
        "id": "MNH6eE4iOWZ9",
        "outputId": "74ff9687-5ae0-4909-f48b-d3a3ed2f2a0d"
      },
      "execution_count": 74,
      "outputs": [
        {
          "output_type": "stream",
          "name": "stdout",
          "text": [
            "['example@example.com', 'contact@sample.org']\n"
          ]
        }
      ]
    }
  ]
}