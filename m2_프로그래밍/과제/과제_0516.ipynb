{
  "nbformat": 4,
  "nbformat_minor": 0,
  "metadata": {
    "colab": {
      "provenance": [],
      "authorship_tag": "ABX9TyOdh1J/D501R91wE1ybxHDe",
      "include_colab_link": true
    },
    "kernelspec": {
      "name": "python3",
      "display_name": "Python 3"
    },
    "language_info": {
      "name": "python"
    }
  },
  "cells": [
    {
      "cell_type": "markdown",
      "metadata": {
        "id": "view-in-github",
        "colab_type": "text"
      },
      "source": [
        "<a href=\"https://colab.research.google.com/github/Yoon2596/kita_2404/blob/main/m2_%ED%94%84%EB%A1%9C%EA%B7%B8%EB%9E%98%EB%B0%8D/%EA%B3%BC%EC%A0%9C/%EA%B3%BC%EC%A0%9C_0516.ipynb\" target=\"_parent\"><img src=\"https://colab.research.google.com/assets/colab-badge.svg\" alt=\"Open In Colab\"/></a>"
      ]
    },
    {
      "cell_type": "code",
      "execution_count": 5,
      "metadata": {
        "colab": {
          "base_uri": "https://localhost:8080/"
        },
        "id": "LiSI-NSA_8o1",
        "outputId": "738ac068-1799-4db7-98e7-d43a497028af"
      },
      "outputs": [
        {
          "output_type": "stream",
          "name": "stdout",
          "text": [
            "199305\n",
            "199305\n"
          ]
        }
      ],
      "source": [
        "# Task1_0516. '199305, 1923A, a93247'에서 '199305'만 출력하세요.\n",
        "import re\n",
        "\n",
        "str1 = '199305, 1923A, a93247'\n",
        "match1 = re.match('199305', str1)\n",
        "print(match1.group())\n",
        "\n",
        "pattern1 = r'^\\d+'\n",
        "match2 = re.match(pattern1, str1)\n",
        "print(match2.group())"
      ]
    },
    {
      "cell_type": "code",
      "source": [
        "# Task2_0516. '99food234, a93456\\n, a9356ba '에서 '99food234'만 출력하세요.\n",
        "import re\n",
        "\n",
        "str2 = '99food234, a93456\\n, a9356ba '\n",
        "match1 = re.match('99food234', str2)\n",
        "print(match1.group())\n",
        "\n",
        "p2 = re.compile('^[a-z0-9]+')\n",
        "# match2 = re.match(p2, str2)\n",
        "# print(match2.group())\n",
        "print(p2.findall(str2))\n",
        "\n",
        "p_2 = re.compile('^\\w{9}')\n",
        "print(p_2.findall(str2))"
      ],
      "metadata": {
        "colab": {
          "base_uri": "https://localhost:8080/"
        },
        "id": "F6QDvBxu_-dq",
        "outputId": "d4b8d53d-bd98-4504-c68a-de6da3399c5f"
      },
      "execution_count": 25,
      "outputs": [
        {
          "output_type": "stream",
          "name": "stdout",
          "text": [
            "99food234\n",
            "['99food234']\n",
            "['99food234']\n"
          ]
        }
      ]
    },
    {
      "cell_type": "code",
      "source": [
        "# Task3_0516. 주어진 문자열이 유효한 이메일 주소인지 확인\n",
        "t3 = \"example@example.com\"\n",
        "\n",
        "import re\n",
        "p3 = re.compile(r'^\\w+@\\w+.com$')\n",
        "print(p3.match(t3))\n"
      ],
      "metadata": {
        "colab": {
          "base_uri": "https://localhost:8080/"
        },
        "id": "kpuZnaY2Prmt",
        "outputId": "316074ea-5a3c-45d3-b814-cc4b44ca1bd4"
      },
      "execution_count": 29,
      "outputs": [
        {
          "output_type": "stream",
          "name": "stdout",
          "text": [
            "<re.Match object; span=(0, 19), match='example@example.com'>\n"
          ]
        }
      ]
    },
    {
      "cell_type": "code",
      "source": [
        "# Task4_0516. 주어진 문자열이 올바른 전화번호 형식(010-0000-0000)인지 확인하세요.\n",
        "t4 = \"010-1234-5678\"\n",
        "\n",
        "import re\n",
        "\n",
        "p4 = re.compile(r'^\\d{3}-\\d{4}-\\d{4}$')\n",
        "print(p4.match(t4))\n"
      ],
      "metadata": {
        "colab": {
          "base_uri": "https://localhost:8080/"
        },
        "id": "p9wMqd8JPtAx",
        "outputId": "88a9cf93-cdfc-403c-85e7-f2dcdbe60a5e"
      },
      "execution_count": 30,
      "outputs": [
        {
          "output_type": "stream",
          "name": "stdout",
          "text": [
            "<re.Match object; span=(0, 13), match='010-1234-5678'>\n"
          ]
        }
      ]
    },
    {
      "cell_type": "code",
      "source": [
        "# Task5_0516. 문자열에서 모든 HTML 태그를 찾아 리스트로 반환하세요.\n",
        "t5 = \"<html><head></head><body></body></html>\"\n",
        "import re\n",
        "p5 = re.compile(r'<.*?>')\n",
        "print(p5.findall(t5))\n"
      ],
      "metadata": {
        "colab": {
          "base_uri": "https://localhost:8080/"
        },
        "id": "5PqhuK-VPv4D",
        "outputId": "49feabd9-b12d-48ab-f1bf-7177a71fceb4"
      },
      "execution_count": 33,
      "outputs": [
        {
          "output_type": "stream",
          "name": "stdout",
          "text": [
            "['<html>', '<head>', '</head>', '<body>', '</body>', '</html>']\n"
          ]
        }
      ]
    },
    {
      "cell_type": "code",
      "source": [
        "# Task6_0516. 주어진 비밀번호가 최소 8자, 대문자, 소문자, 숫자, 특수문자를 포함하는지 확인하세요.\n",
        "t6 = \"Aa1!aaaa\"\n",
        "\n",
        "p6 = re.compile(r'^(?=.*[A-Z])(?=.*[a-z])(?=.*[0-9])(?=.*[!@#$%^&*()]).{8}$')\n",
        "print(p6.match(t6))"
      ],
      "metadata": {
        "colab": {
          "base_uri": "https://localhost:8080/"
        },
        "id": "DNEz6QsNPx-L",
        "outputId": "7e95be27-f5d7-4645-fc13-2085b0fd6122"
      },
      "execution_count": 35,
      "outputs": [
        {
          "output_type": "stream",
          "name": "stdout",
          "text": [
            "<re.Match object; span=(0, 8), match='Aa1!aaaa'>\n"
          ]
        }
      ]
    },
    {
      "cell_type": "code",
      "source": [
        "# Task7_0516. 주어진 문자열이 유효한 URL인지 확인하세요.\n",
        "t7 = \"https://www.example.com\"\n",
        "\n",
        "p7 = re.compile(r'^(https://www.)[\\w]+.com$')\n",
        "print(p7.match(t7))"
      ],
      "metadata": {
        "colab": {
          "base_uri": "https://localhost:8080/"
        },
        "id": "5RrjdDP_P2pF",
        "outputId": "91614514-b420-4528-f1b2-9e81beac91bf"
      },
      "execution_count": 53,
      "outputs": [
        {
          "output_type": "stream",
          "name": "stdout",
          "text": [
            "<re.Match object; span=(0, 28), match='https://www.exasdfllafo3.com'>\n"
          ]
        }
      ]
    },
    {
      "cell_type": "code",
      "source": [
        "# Task8_0516. 주어진 문자열이 유효한 주민등록번호(######-#######) 형식인지 확인하세요.\n",
        "t8 = \"900101-1234567\"\n",
        "\n",
        "import re\n",
        "p8 = re.compile(r'^\\d{6}-\\d{7}$')\n",
        "print(p8.match(t8))"
      ],
      "metadata": {
        "colab": {
          "base_uri": "https://localhost:8080/"
        },
        "id": "3olHVYOgP77J",
        "outputId": "cd4f8c56-d976-44df-cc03-fce411f678e8"
      },
      "execution_count": 47,
      "outputs": [
        {
          "output_type": "stream",
          "name": "stdout",
          "text": [
            "<re.Match object; span=(0, 14), match='900101-1234567'>\n"
          ]
        }
      ]
    },
    {
      "cell_type": "code",
      "source": [
        "# Task9_0516. 주어진 문자열이 유효한 IPv4 주소인지 확인하세요.\n",
        "t9 = \"192.168.1.1\"\n",
        "import re\n",
        "p9 = re.compile(r'\\d{3}.\\d{3}.\\d{1}.\\d{1}')\n",
        "print(p9.match(t9))"
      ],
      "metadata": {
        "colab": {
          "base_uri": "https://localhost:8080/"
        },
        "id": "vPg9yNiUP9cR",
        "outputId": "b26040d0-eb3a-4a31-b6fe-3271c39e3289"
      },
      "execution_count": 46,
      "outputs": [
        {
          "output_type": "stream",
          "name": "stdout",
          "text": [
            "<re.Match object; span=(0, 11), match='192.168.1.1'>\n"
          ]
        }
      ]
    },
    {
      "cell_type": "code",
      "source": [
        "# Task10_0516. 주어진 파일 이름에서 확장자가 .jpg, .jpeg, 또는 .png인지 확인하세요.\n",
        "t10 = \"image.jpg\"\n",
        "p10 = re.compile('.*\\.(jpg|jpeg|png)$')\n",
        "# p10_1 = t10.search('.jpg')\n",
        "# p10_2 = t10.search('.jpeg')\n",
        "# p10_3 = t10.search('.png')\n",
        "\n",
        "print(p10.match(t10))\n",
        "if re.search('jpg$', t10):\n",
        "    print('jpg입니다')\n",
        "elif re.search('jpeg$', t10):\n",
        "    print('jpeg입니다')\n",
        "elif re.search('png$', t10):\n",
        "    print('png입니다')\n",
        "\n",
        "# print(p10_2)\n",
        "# print(p10_3"
      ],
      "metadata": {
        "colab": {
          "base_uri": "https://localhost:8080/"
        },
        "id": "ZpZIx7nNQCeg",
        "outputId": "f8b518cf-fd68-4038-938c-267d40e742c9"
      },
      "execution_count": 67,
      "outputs": [
        {
          "output_type": "stream",
          "name": "stdout",
          "text": [
            "<re.Match object; span=(0, 9), match='image.jpg'>\n",
            "jpg입니다\n"
          ]
        }
      ]
    },
    {
      "cell_type": "code",
      "source": [
        "# Task11_0516. 문자열에서 Python 주석을 제거하세요.\n",
        "code_with_comments = \"\"\"\n",
        "# This is a whole line comment\n",
        "print(\"Hello, world!\")  # This is a side comment\n",
        "# Another comment\n",
        "print(\"Python is fun!\") # Another side comment\n",
        "\"\"\"\n",
        "\n",
        "import re\n",
        "\n",
        "pattern11 = (r'(?<=#).*')\n",
        "matches11 = re.findall(pattern11, code_with_comments)\n",
        "print(matches11)"
      ],
      "metadata": {
        "colab": {
          "base_uri": "https://localhost:8080/"
        },
        "id": "1P8VnyEgQJkn",
        "outputId": "e62192f7-58a7-444f-fbbc-5b5b3b73a642"
      },
      "execution_count": 84,
      "outputs": [
        {
          "output_type": "stream",
          "name": "stdout",
          "text": [
            "[' This is a whole line comment', ' This is a side comment', ' Another comment', ' Another side comment']\n"
          ]
        }
      ]
    },
    {
      "cell_type": "code",
      "source": [
        "# Task12_0516. 지정된 HTML 문자열 내에서 이메일 주소를 찾아서 그 결과를 출력\n",
        "html = \"\"\"\n",
        "<ul>\n",
        "  <li>Email: example@example.com</li>\n",
        "  <li>Contact: contact@sample.org</li>\n",
        "</ul>\n",
        "\"\"\"\n",
        "\n",
        "import re\n",
        "\n",
        "pattern12 = r'(?<=: ).+(?=<)'\n",
        "\n",
        "matches12 = re.findall(pattern12, html)\n",
        "print(matches12)"
      ],
      "metadata": {
        "colab": {
          "base_uri": "https://localhost:8080/"
        },
        "id": "boTVUge0QUdv",
        "outputId": "470df04a-fcc7-4527-c789-987cbcfdedcc"
      },
      "execution_count": 119,
      "outputs": [
        {
          "output_type": "stream",
          "name": "stdout",
          "text": [
            "['example@example.com', 'contact@sample.org']\n"
          ]
        }
      ]
    }
  ]
}