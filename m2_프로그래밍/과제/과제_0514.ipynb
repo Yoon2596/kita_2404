{
  "nbformat": 4,
  "nbformat_minor": 0,
  "metadata": {
    "colab": {
      "provenance": [],
      "toc_visible": true,
      "authorship_tag": "ABX9TyMakDbZmpUPehs3t+qPb0FS",
      "include_colab_link": true
    },
    "kernelspec": {
      "name": "python3",
      "display_name": "Python 3"
    },
    "language_info": {
      "name": "python"
    }
  },
  "cells": [
    {
      "cell_type": "markdown",
      "metadata": {
        "id": "view-in-github",
        "colab_type": "text"
      },
      "source": [
        "<a href=\"https://colab.research.google.com/github/Yoon2596/kita_2404/blob/main/m2_%ED%94%84%EB%A1%9C%EA%B7%B8%EB%9E%98%EB%B0%8D/%EA%B3%BC%EC%A0%9C/%EA%B3%BC%EC%A0%9C_0514.ipynb\" target=\"_parent\"><img src=\"https://colab.research.google.com/assets/colab-badge.svg\" alt=\"Open In Colab\"/></a>"
      ]
    },
    {
      "cell_type": "code",
      "execution_count": null,
      "metadata": {
        "colab": {
          "base_uri": "https://localhost:8080/"
        },
        "id": "nowivup-EkmD",
        "outputId": "46568113-782a-407d-a4f0-3f0602c2ca24"
      },
      "outputs": [
        {
          "output_type": "stream",
          "name": "stdout",
          "text": [
            "<re.Match object; span=(1, 2), match='C'>\n",
            "<re.Match object; span=(0, 2), match='CC'>\n",
            "<re.Match object; span=(2, 3), match='C'>\n"
          ]
        }
      ],
      "source": [
        "# Task1_0514. BC, CC, ABC 모두 C가 출력되는 정규 표현식을 ( )에 작성하세요.\n",
        "import re\n",
        "pattern = re.compile('C+')\n",
        "text1 = 'BC'\n",
        "text2 = 'CC'\n",
        "text3 = 'ABC'\n",
        "p1 = pattern.search(text1)\n",
        "p2 = pattern.search(text2)\n",
        "p3 = pattern.search(text3)\n",
        "print(p1)\n",
        "print(p2)\n",
        "print(p3)"
      ]
    },
    {
      "cell_type": "code",
      "source": [
        "# 강사님 버전\n",
        "import re\n",
        "\n",
        "pattern = re.compile('A?C')     # 가운데 ?는 A가 없거나 한번\n",
        "text1 = 'BC'\n",
        "text2 = 'CC'\n",
        "text3 = 'ABC'\n",
        "text4 = 'AAC'\n",
        "text5 = 'BCC'\n",
        "p1 = pattern.search(text1)\n",
        "p2 = pattern.search(text2)\n",
        "p3 = pattern.search(text3)\n",
        "p4 = pattern.search(text4)\n",
        "p5 = pattern.search(text5)\n",
        "print(p1)\n",
        "print(p2)\n",
        "print(p3)\n",
        "print(p4)\n",
        "print(p5)"
      ],
      "metadata": {
        "colab": {
          "base_uri": "https://localhost:8080/"
        },
        "id": "jZjhtlwMy89K",
        "outputId": "fb005129-8390-4930-8aeb-a0bb746f3108"
      },
      "execution_count": null,
      "outputs": [
        {
          "output_type": "stream",
          "name": "stdout",
          "text": [
            "<re.Match object; span=(1, 2), match='C'>\n",
            "<re.Match object; span=(0, 1), match='C'>\n",
            "<re.Match object; span=(2, 3), match='C'>\n",
            "<re.Match object; span=(1, 3), match='AC'>\n",
            "<re.Match object; span=(1, 2), match='C'>\n"
          ]
        }
      ]
    },
    {
      "cell_type": "code",
      "source": [
        "import re\n",
        "\n",
        "pattern = re.compile('A?C')\n",
        "test_strings = ['AC', 'C', 'ABC', 'AAC', 'BCC']\n",
        "for s in test_strings:\n",
        "    match = pattern.match(s)\n",
        "    if match:\n",
        "        print(f'\"{s}\" matches the pattern')\n",
        "    else:\n",
        "        print(f'\"{s}\" does not match the pattern')"
      ],
      "metadata": {
        "colab": {
          "base_uri": "https://localhost:8080/"
        },
        "id": "zS29rnoU1P0n",
        "outputId": "64df6b7c-c368-405b-fda9-2bc071ebea22"
      },
      "execution_count": null,
      "outputs": [
        {
          "output_type": "stream",
          "name": "stdout",
          "text": [
            "\"AC\" matches the pattern\n",
            "\"C\" matches the pattern\n",
            "\"ABC\" does not match the pattern\n",
            "\"AAC\" does not match the pattern\n",
            "\"BCC\" does not match the pattern\n"
          ]
        }
      ]
    },
    {
      "cell_type": "code",
      "source": [
        "# Task2_0514. ' Python3 is very good programming language!'에서  ['Python', 'is', 'very', 'good', 'programming', 'language']를 모두 출력하세요.\n",
        "# text = 'Python3 is very good programming language!'\n",
        "p = re.compile('[A-z]+')\n",
        "result = p.findall('Python3 is very good programming language!')\n",
        "\n",
        "print(result)\n",
        "# for r in result:print([r.group()])"
      ],
      "metadata": {
        "colab": {
          "base_uri": "https://localhost:8080/"
        },
        "id": "lo2KpqBOHAHB",
        "outputId": "b85ce477-82b9-4936-ba5c-f55c3fb3c947"
      },
      "execution_count": null,
      "outputs": [
        {
          "output_type": "stream",
          "name": "stdout",
          "text": [
            "['Python', 'is', 'very', 'good', 'programming', 'language']\n"
          ]
        }
      ]
    },
    {
      "cell_type": "code",
      "source": [
        "# 강사님 버전\n",
        "import re\n",
        "\n",
        "pattern = re.compile('[a-zA-z]+')\n",
        "\n",
        "pattern.findall('Python3 is very good programming language!')\n"
      ],
      "metadata": {
        "colab": {
          "base_uri": "https://localhost:8080/"
        },
        "id": "DIGT9X572Tza",
        "outputId": "321b7f08-8f13-42bf-8cb3-6cbe0e0d59c4"
      },
      "execution_count": null,
      "outputs": [
        {
          "output_type": "execute_result",
          "data": {
            "text/plain": [
              "['Python', 'is', 'very', 'good', 'programming', 'language']"
            ]
          },
          "metadata": {},
          "execution_count": 7
        }
      ]
    }
  ]
}