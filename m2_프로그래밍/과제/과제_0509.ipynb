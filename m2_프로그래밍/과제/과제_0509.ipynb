{
  "nbformat": 4,
  "nbformat_minor": 0,
  "metadata": {
    "colab": {
      "provenance": [],
      "authorship_tag": "ABX9TyPiXf/V2v5+w20Q0f41UFOW",
      "include_colab_link": true
    },
    "kernelspec": {
      "name": "python3",
      "display_name": "Python 3"
    },
    "language_info": {
      "name": "python"
    }
  },
  "cells": [
    {
      "cell_type": "markdown",
      "metadata": {
        "id": "view-in-github",
        "colab_type": "text"
      },
      "source": [
        "<a href=\"https://colab.research.google.com/github/Yoon2596/kita_2404/blob/main/m2_%ED%94%84%EB%A1%9C%EA%B7%B8%EB%9E%98%EB%B0%8D/%EA%B3%BC%EC%A0%9C/%EA%B3%BC%EC%A0%9C_0509.ipynb\" target=\"_parent\"><img src=\"https://colab.research.google.com/assets/colab-badge.svg\" alt=\"Open In Colab\"/></a>"
      ]
    },
    {
      "cell_type": "code",
      "source": [
        "with open('mydata.txt','w') as f:\n",
        "    f.write(\n",
        "'''\n",
        "a lot of things occur each day\n",
        "we've got to live with on our way\n",
        "there's so much misery on the screen\n",
        "with commercials in between\n",
        "\n",
        "and the russians won't be so late\n",
        "uncle sam don't want to wait\n",
        "no matter if you're black or white\n",
        "you never ever had a right\n",
        "\n",
        "and look up to the eternal skies\n",
        "see warfare even there\n",
        "what once has been a paradise\n",
        "now destruction and despair\n",
        "\n",
        "in other worlds the children die\n",
        "lacking food ill from a fly\n",
        "oppressed by troops to tame their land\n",
        "it's all the same again\n",
        "\n",
        "\n",
        "if any man is free on earth\n",
        "then tormentors steal his birth\n",
        "they slam gun butts in his face\n",
        "and leave his woman choked in mace\n",
        "\n",
        "so stand up for our human rights\n",
        "push back this pest of hate\n",
        "raise you voice pass on the light\n",
        "unite! it's not too late\n",
        "\n",
        "how many tears flow away\n",
        "to become a sea of fears\n",
        "how many hearts are torn apart\n",
        "till another torment starts\n",
        "\n",
        "but before the world\n",
        "turns into a sun\n",
        "all cruelty and violence\n",
        "on earth will be dead and gone\n",
        "\n",
        "so stand up for our human rights\n",
        "push back this pest of hate\n",
        "raise you voice pass on the light\n",
        "unite! it's not too late\n",
        "''')\n",
        "with open('mydata.txt', 'r') as f:\n",
        "    data = f.read()\n",
        "    print(data)"
      ],
      "metadata": {
        "colab": {
          "base_uri": "https://localhost:8080/"
        },
        "id": "hjE3uLbMagmR",
        "outputId": "c504077c-3a26-4ede-bb6a-66298b256d03"
      },
      "execution_count": null,
      "outputs": [
        {
          "output_type": "stream",
          "name": "stdout",
          "text": [
            "\n",
            "a lot of things occur each day\n",
            "we've got to live with on our way\n",
            "there's so much misery on the screen\n",
            "with commercials in between\n",
            "\n",
            "and the russians won't be so late\n",
            "uncle sam don't want to wait\n",
            "no matter if you're black or white\n",
            "you never ever had a right\n",
            "\n",
            "and look up to the eternal skies\n",
            "see warfare even there\n",
            "what once has been a paradise\n",
            "now destruction and despair\n",
            "\n",
            "in other worlds the children die\n",
            "lacking food ill from a fly\n",
            "oppressed by troops to tame their land\n",
            "it's all the same again\n",
            "\n",
            "\n",
            "if any man is free on earth\n",
            "then tormentors steal his birth\n",
            "they slam gun butts in his face\n",
            "and leave his woman choked in mace\n",
            "\n",
            "so stand up for our human rights\n",
            "push back this pest of hate\n",
            "raise you voice pass on the light\n",
            "unite! it's not too late\n",
            "\n",
            "how many tears flow away\n",
            "to become a sea of fears\n",
            "how many hearts are torn apart\n",
            "till another torment starts\n",
            "\n",
            "but before the world\n",
            "turns into a sun\n",
            "all cruelty and violence\n",
            "on earth will be dead and gone\n",
            "\n",
            "so stand up for our human rights\n",
            "push back this pest of hate\n",
            "raise you voice pass on the light\n",
            "unite! it's not too late\n",
            "\n"
          ]
        }
      ]
    },
    {
      "cell_type": "code",
      "source": [
        "import re\n",
        "# 데이터 받음\n",
        "word_list = data\n",
        "# 정규 표현식을 사용하여 모든 구두점을 제거하고 소문자로 변환\n",
        "word_list = re.sub(r'[,.!\\n\\']', '', word_list).lower()\n",
        "# 공백으로 단어 분리\n",
        "word_list = word_list.split()\n",
        "# 단어 리스트의 길이 출력\n",
        "print(len(word_list))"
      ],
      "metadata": {
        "colab": {
          "base_uri": "https://localhost:8080/"
        },
        "id": "dVYUexd0aki8",
        "outputId": "30922767-e778-455e-cdc7-be8fcb6cc6b5"
      },
      "execution_count": null,
      "outputs": [
        {
          "output_type": "stream",
          "name": "stdout",
          "text": [
            "178\n"
          ]
        }
      ]
    },
    {
      "cell_type": "markdown",
      "source": [
        "문제 1"
      ],
      "metadata": {
        "id": "0SPXkd_6aivV"
      }
    },
    {
      "cell_type": "markdown",
      "source": [
        "Task1_0509. 주어진 텍스트에서 문자 빈도를 아래와 같이 출력하세요.(사용자 함수 사용)"
      ],
      "metadata": {
        "id": "o6CKVt7PtAYt"
      }
    },
    {
      "cell_type": "code",
      "source": [
        "# 가장 많이 나온 문자 5개를 뽑아 봤습니다.\\\n",
        "# [e] -> [97]회 나타남\\\n",
        "# [t] -> [85]회 나타남\\\n",
        "# [a] -> [78]회 나타남\\\n",
        "# [o] -> [73]회 나타남\\\n",
        "# [s] -> [60]회 나타남"
      ],
      "metadata": {
        "id": "OSWym6Nns8Ql"
      },
      "execution_count": null,
      "outputs": []
    },
    {
      "cell_type": "code",
      "source": [
        "# 출력한 단어 리스트의 길이를 문자열로 변환\n",
        "# print(word_list)\n",
        "line = ''.join(word_list)\n",
        "# print(line)\n",
        "# 변환한 1개의 긴 문자열을 반복문으로 딕셔너리형태로 각 알파벳 세기\n",
        "alpha = {}\n",
        "\n",
        "for i in line:\n",
        "    if i in alpha:\n",
        "        alpha[i] += 1\n",
        "    else:\n",
        "        alpha[i] = 1\n",
        "# print(alpha)\n",
        "\n",
        "# 딕셔너리 형태의 알파벳을 내림차순으로 정렬\n",
        "from collections import Counter\n",
        "\n",
        "data = Counter(alpha)\n",
        "# print(data)\n",
        "\n",
        "# data = sorted(data.items(), key=lambda x: x[1], reverse=True)\n",
        "# print(data)\n",
        "item = 0\n",
        "print('가장 많은 문자를 뽑아보았습니다')\n",
        "for char, count in data.most_common():\n",
        "    print(f'[{char}] -> {count}회 나타남')\n",
        "    item += 1\n",
        "    if item == 5:\n",
        "        break"
      ],
      "metadata": {
        "colab": {
          "base_uri": "https://localhost:8080/"
        },
        "id": "kpZrrdNCtEEB",
        "outputId": "92987cb9-7354-4148-fd19-50fbec0d9e6d"
      },
      "execution_count": null,
      "outputs": [
        {
          "output_type": "stream",
          "name": "stdout",
          "text": [
            "가장 많은 문자를 뽑아보았습니다\n",
            "[e] -> 97회 나타남\n",
            "[t] -> 85회 나타남\n",
            "[a] -> 78회 나타남\n",
            "[o] -> 73회 나타남\n",
            "[n] -> 60회 나타남\n"
          ]
        }
      ]
    },
    {
      "cell_type": "markdown",
      "source": [
        "문제 2"
      ],
      "metadata": {
        "id": "0ME1uZMpagbl"
      }
    },
    {
      "cell_type": "code",
      "source": [
        "# Task2_0509.  람다함수와 적합한 내장함수를 사용하여 아래와 같이 출력하세요.\n",
        "\n",
        "# [1,2,3,4,5] -> [1,4,9,16,25]\\\n",
        "# [1,2,3,4,5] -> [1,2]\n",
        "list1 = [1, 2, 3, 4, 5]\n",
        "print([i*i for i in range(1, 6)])\n",
        "result1 = list(map(lambda x: x*x, list1))\n",
        "print(result1)\n",
        "\n",
        "print('')\n",
        "print(list1[0:2])\n",
        "print(list1[:-3])"
      ],
      "metadata": {
        "id": "Efk7MRVxzX3l",
        "colab": {
          "base_uri": "https://localhost:8080/"
        },
        "outputId": "f7ff48b4-294e-4242-9ed3-e93d63f3bd51"
      },
      "execution_count": null,
      "outputs": [
        {
          "output_type": "stream",
          "name": "stdout",
          "text": [
            "[1, 4, 9, 16, 25]\n",
            "[1, 4, 9, 16, 25]\n",
            "\n",
            "[1, 2]\n",
            "[1, 2]\n"
          ]
        }
      ]
    },
    {
      "cell_type": "markdown",
      "source": [
        "문제 3"
      ],
      "metadata": {
        "id": "yjFm677EafA9"
      }
    },
    {
      "cell_type": "code",
      "source": [
        "# Task3_0509. [1,-3,2,0,-5,6] 에서 양수만 필터링해서 출력하세요(내장함수, 사용자함수 각각 이용)\n",
        "list2 = [1, -3, 2, 0, -5, 6]\n",
        "\n",
        "# abs_list = []\n",
        "# for i in list2:\n",
        "#     abs_list.append(abs(i))\n",
        "#     # print(abs(i))\n",
        "# print(abs_list)\n",
        "\n",
        "p = []\n",
        "for num in filter(lambda x: x > 0, list2):\n",
        "    p.append(num)\n",
        "print(p)\n",
        "\n",
        "positive = list(filter(lambda x: x > 0, list2))\n",
        "print(positive)\n",
        "\n",
        "\n",
        "def pos_list(list):\n",
        "    p_list = []\n",
        "    for i in list2:\n",
        "        if i > 0:\n",
        "            p_list.append(i)\n",
        "    return print(p_list)\n",
        "\n",
        "pos_list(list2)"
      ],
      "metadata": {
        "id": "LoMcxPdJzZTl",
        "colab": {
          "base_uri": "https://localhost:8080/"
        },
        "outputId": "d12291f6-2063-444b-bcde-e0545a10d9ef"
      },
      "execution_count": null,
      "outputs": [
        {
          "output_type": "stream",
          "name": "stdout",
          "text": [
            "[1, 2, 6]\n",
            "[1, 2, 6]\n",
            "[1, 2, 6]\n"
          ]
        }
      ]
    },
    {
      "cell_type": "markdown",
      "source": [
        "문제 4"
      ],
      "metadata": {
        "id": "y_01eAgNadw5"
      }
    },
    {
      "cell_type": "code",
      "source": [
        "# Task4_0509. **args를 이용하여 아래와 같이 출력할 수 있는 사용자 함수 func2를 작성하세요.\n",
        "\n",
        "# Width: 100\\\n",
        "# Height: 200\\\n",
        "# Other arguments: {'color': 'red', 'thickness': 5}\n",
        "\n",
        "# Width: 100\\\n",
        "# Height: 200\\\n",
        "# Other arguments: {'color': 'red', 'thickness': 5, 'type': 'large'}\n",
        "\n",
        "def func2(width, height, **args):\n",
        "    print(f'Width : {width}')\n",
        "    print(f'Height : {height}')\n",
        "    print(f'Other arguments : {args}')\n",
        "\n",
        "func2(100, 200, color='red', thickness='5')\n",
        "print('')\n",
        "func2(100, 200, color='red', thickness='5', type='large')"
      ],
      "metadata": {
        "id": "8pnECYT28ENu",
        "colab": {
          "base_uri": "https://localhost:8080/"
        },
        "outputId": "e8b55285-cc2a-4e8c-f442-173de0475cc0"
      },
      "execution_count": null,
      "outputs": [
        {
          "output_type": "stream",
          "name": "stdout",
          "text": [
            "Width : 100\n",
            "Height : 200\n",
            "Other arguments : {'color': 'red', 'thickness': '5'}\n",
            "\n",
            "Width : 100\n",
            "Height : 200\n",
            "Other arguments : {'color': 'red', 'thickness': '5', 'type': 'large'}\n"
          ]
        }
      ]
    },
    {
      "cell_type": "markdown",
      "source": [
        "문제 5"
      ],
      "metadata": {
        "id": "Ajda3ZWracMT"
      }
    },
    {
      "cell_type": "code",
      "source": [
        "# Task5_0509. 아래와 같은 결과를 얻을 수 있도록 사용자 함수 func3를 작성하세요.\n",
        "\n",
        "# Width: 100, Height: 200, Color: blue, Thickness: 1\\\n",
        "# Width: 100, Height: 200, Color: red, Thickness: 15\n",
        "\n",
        "def func3(width, height, **kwargs):\n",
        "    print(f'Width : {width}, Height : {height}, {kwargs}')\n",
        "\n",
        "func3(100, 200, Color='blue', thickness='1')\n",
        "print('')\n",
        "func3(100, 200, Color='red', thickness='15')"
      ],
      "metadata": {
        "id": "CZOWW8hW8FlD",
        "colab": {
          "base_uri": "https://localhost:8080/"
        },
        "outputId": "1429aea2-b64f-49f6-c3d9-cce1132d65db"
      },
      "execution_count": null,
      "outputs": [
        {
          "output_type": "stream",
          "name": "stdout",
          "text": [
            "Width : 100, Height : 200, {'Color': 'blue', 'thickness': '1'}\n",
            "\n",
            "Width : 100, Height : 200, {'Color': 'red', 'thickness': '15'}\n"
          ]
        }
      ]
    },
    {
      "cell_type": "markdown",
      "source": [
        "문제 6"
      ],
      "metadata": {
        "id": "UltjcJYtabFi"
      }
    },
    {
      "cell_type": "code",
      "source": [
        "# Task6_0509. 입력으로 들어오는 모든 수의 평균 값을 계산해 주는 함수를 작성한 후 1,2,3을 입력한 결과를 출력하세요.\n",
        "def avg(*args):\n",
        "    sum = 0\n",
        "    for i in args:\n",
        "        sum += i\n",
        "    avg = sum / len(args)\n",
        "    return print(avg)\n",
        "\n",
        "avg(100, 80)\n",
        "avg(1, 2, 3, 4, 5, 6, 7, 8, 9, 10)\n",
        "avg(1, 2, 3)\n"
      ],
      "metadata": {
        "id": "JcWDD1Q78H0V",
        "colab": {
          "base_uri": "https://localhost:8080/"
        },
        "outputId": "4a50f2c3-974b-43d4-f962-8efc337ea4a2"
      },
      "execution_count": null,
      "outputs": [
        {
          "output_type": "stream",
          "name": "stdout",
          "text": [
            "90.0\n",
            "5.5\n",
            "2.0\n"
          ]
        }
      ]
    },
    {
      "cell_type": "markdown",
      "source": [
        "문제 7"
      ],
      "metadata": {
        "id": "JpOHhjSaaZ56"
      }
    },
    {
      "cell_type": "code",
      "source": [
        "# Task7_0509. 원의 면적과 둘레의 길이를 구하는 사용자 함수를 작성하여 반지름이 5와 10일때 면적과 둘레를 구하세요(반올림:round())\n",
        "import math\n",
        "\n",
        "def cal_circle(r):\n",
        "    circum = round(2 * r * math.pi, 2)\n",
        "    area = round(r*r*math.pi, 2)\n",
        "    return circum, area\n",
        "\n",
        "print(cal_circle(5))\n",
        "print(cal_circle(10))"
      ],
      "metadata": {
        "id": "bcSsC_Gv8JGm",
        "colab": {
          "base_uri": "https://localhost:8080/"
        },
        "outputId": "62a1f51e-d194-49f0-9b77-ad1ba8ff4cc3"
      },
      "execution_count": null,
      "outputs": [
        {
          "output_type": "stream",
          "name": "stdout",
          "text": [
            "(31.42, 78.54)\n",
            "(62.83, 314.16)\n"
          ]
        }
      ]
    },
    {
      "cell_type": "markdown",
      "source": [
        "문제 8"
      ],
      "metadata": {
        "id": "xHbDs96saYpR"
      }
    },
    {
      "cell_type": "code",
      "source": [
        "# Task8_0509. 게시물의 총 건수와 한 페이지에 보여 줄 게시물 수를 입력시 총 페이지 수를 출력하는 프로그램을 작성하세요.\n",
        "# thread = 100\n",
        "# one_pg = 10\n",
        "# page = (thread // one_pg) + 1\n",
        "\n",
        "def page(th, pg):\n",
        "    p = th // pg\n",
        "    # 나머지가 있으면 1장 더\n",
        "    if bool(th % pg) == True:\n",
        "        return print(p+1)\n",
        "    # 나머지 없으면 그 페이지로 끝\n",
        "    else:\n",
        "        return print(p)\n",
        "\n",
        "page(100, 30)\n",
        "page(300, 10)\n",
        "page(220, 50)"
      ],
      "metadata": {
        "id": "UXvqtDd28Jkc",
        "colab": {
          "base_uri": "https://localhost:8080/"
        },
        "outputId": "1fbafe5e-e3cf-4c6d-f0a1-f2fded1c66ab"
      },
      "execution_count": null,
      "outputs": [
        {
          "output_type": "stream",
          "name": "stdout",
          "text": [
            "4\n",
            "30\n",
            "5\n"
          ]
        }
      ]
    },
    {
      "cell_type": "markdown",
      "source": [
        "문제 9"
      ],
      "metadata": {
        "id": "MXGgpwJcaTTs"
      }
    },
    {
      "cell_type": "code",
      "source": [
        "# 입력값, 결과값도 있는 함수\n",
        "def max_num(a, b, c):\n",
        "    if a > b:\n",
        "        if a > c:\n",
        "            return a\n",
        "        elif a < c:\n",
        "            return c\n",
        "    if a < b:\n",
        "        if b > c:\n",
        "            return b\n",
        "        else:\n",
        "            return c\n",
        "\n",
        "print('가장 큰 수는 %d입니다' %(max_num(20, 1, 30)))\n",
        "a = max_num(3, 6, 9)\n",
        "b = max_num(20, 30, 10)\n",
        "print(a)\n",
        "print(b)"
      ],
      "metadata": {
        "id": "ISAeaiiE_TQ2"
      },
      "execution_count": null,
      "outputs": []
    },
    {
      "cell_type": "code",
      "source": [
        "# Task9_0509. 위의 문제를 *args를 사용한 사용자 함수 bignum을 작성하여 bignum(20,1,30)과 bignum(20,10,50,70, 100)의 결과를 출력하세요.\n",
        "\n",
        "def bignum(*args):\n",
        "    # print(args, type(args))\n",
        "    for i in args:\n",
        "        tmp = i\n",
        "        if tmp > i:\n",
        "            tmp = i\n",
        "        else:\n",
        "            tmp\n",
        "    return tmp\n",
        "\n",
        "# bignum(1, 2, 3, 6, 8, 2435)\n",
        "# print('가장 큰 수는 %d입니다' %(bignum(20, 1, 30)))\n",
        "print(bignum(20, 1, 30))\n",
        "print(bignum(20, 10, 50, 70, 100))"
      ],
      "metadata": {
        "id": "p9QPNun4_Qxt",
        "colab": {
          "base_uri": "https://localhost:8080/"
        },
        "outputId": "a72d8f48-f82a-41f6-ee6e-a36f9307fdfe"
      },
      "execution_count": null,
      "outputs": [
        {
          "output_type": "stream",
          "name": "stdout",
          "text": [
            "30\n",
            "100\n"
          ]
        }
      ]
    },
    {
      "cell_type": "markdown",
      "source": [
        "문제 10"
      ],
      "metadata": {
        "id": "fQ5K1pKoaVre"
      }
    },
    {
      "cell_type": "code",
      "source": [
        "def math(x, y, z):\n",
        "    if z == '*':\n",
        "        return x*y\n",
        "    elif z == '+':\n",
        "        return x+y\n",
        "    elif z == '-':\n",
        "        return x-y\n",
        "    elif z == '/':\n",
        "        return x/y\n",
        "    elif z == '%':\n",
        "        return x%y\n",
        "    elif z == '^':\n",
        "        return x**y\n",
        "    elif z == '//':\n",
        "        return x//y\n",
        "    else:\n",
        "        return\n",
        "\n",
        "print(math(int(input('숫자1 : ')), int(input('숫자2 : ')), input('기호 : ')))\n"
      ],
      "metadata": {
        "id": "wD7fNds_BbbP"
      },
      "execution_count": null,
      "outputs": []
    },
    {
      "cell_type": "code",
      "source": [
        "# Task10_0509. 위의 계산을 연산자를 choice로 가변적인 숫자들을 *args로 사용한 사용자 함수 cal을 이용하여 다음을 수행하세요.\n",
        "\n",
        "# cal('*',1,2,3,4,5)\n",
        "# cal('+',1,2,3,4,5,6,7)\n",
        "# cal('-',1,2,3,4,5,6,7)\n",
        "# cal('/',10, 3)\n",
        "\n",
        "import random\n",
        "\n",
        "def cal(choice, *args):\n",
        "    sum = 0\n",
        "    mul = 1\n",
        "    sub = args[0]\n",
        "    div = 0\n",
        "    # print(result)\n",
        "    if choice == '+':\n",
        "        for i in args:\n",
        "            sum += i\n",
        "        return print(sum)\n",
        "    elif choice == '-':\n",
        "        for i in args[1:]:\n",
        "            sub -= i\n",
        "        return print(sub)\n",
        "    elif choice == '*':\n",
        "        for i in args:\n",
        "            mul *= i\n",
        "        return print(mul)\n",
        "    elif choice == '/':\n",
        "        if args[1] == 0:\n",
        "            return print('ZeroDivisionError')\n",
        "        else:\n",
        "            div = args[0] / args[1]\n",
        "            # print(args[0])\n",
        "            return print(div)\n",
        "\n",
        "cal('*', 1, 2, 3, 4, 5)\n",
        "cal('+', 1, 2, 3, 4, 5, 6, 7)\n",
        "cal('-', 1, 2, 3, 4, 5, 6, 7)\n",
        "cal('/', 10, 3)"
      ],
      "metadata": {
        "id": "wysj4y4TBcD7",
        "colab": {
          "base_uri": "https://localhost:8080/"
        },
        "outputId": "eccbe07a-b742-4194-fa6e-24e1c08a84b4"
      },
      "execution_count": 44,
      "outputs": [
        {
          "output_type": "stream",
          "name": "stdout",
          "text": [
            "120\n",
            "28\n",
            "-26\n",
            "3.3333333333333335\n"
          ]
        }
      ]
    }
  ]
}