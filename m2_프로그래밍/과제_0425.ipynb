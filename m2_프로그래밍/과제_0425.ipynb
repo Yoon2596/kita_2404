{
  "nbformat": 4,
  "nbformat_minor": 0,
  "metadata": {
    "colab": {
      "provenance": []
    },
    "kernelspec": {
      "name": "python3",
      "display_name": "Python 3"
    },
    "language_info": {
      "name": "python"
    }
  },
  "cells": [
    {
      "cell_type": "code",
      "source": [
        "# Task1_0425. 주어진 숫자 리스트에서 최소값과 최대값을 찾아 출력하세요.\n",
        "\n",
        "numbers = [58, 45, 69, 19, 4, 87, 29, 13, 39, 15]\n",
        "\n",
        "max_num = max(numbers)\n",
        "print('최대값 : ',max_num)\n",
        "min_num = min(numbers)\n",
        "print('최소값 : ',min_num)"
      ],
      "metadata": {
        "id": "9DkK23QjG1jg",
        "colab": {
          "base_uri": "https://localhost:8080/"
        },
        "outputId": "a3a3d42a-81a3-419d-9529-21d4c1b0e319"
      },
      "execution_count": null,
      "outputs": [
        {
          "output_type": "stream",
          "name": "stdout",
          "text": [
            "최대값 :  87\n",
            "최소값 :  4\n"
          ]
        }
      ]
    },
    {
      "cell_type": "code",
      "source": [
        "# Task2_0425. 주어진 숫자 리스트의 모든 요소의 합계와 평균을 계산하고 출력하세요\n",
        "\n",
        "numbers = [58, 45, 69, 19, 4, 87, 29, 13, 39, 15]\n",
        "sum_num = 0\n",
        "for i in numbers:\n",
        "    # print(i)\n",
        "    sum_num += i\n",
        "    # print(sum_num)\n",
        "\n",
        "print('합계는 : ',sum_num)\n",
        "print('평균은 : ',sum_num / len(numbers))"
      ],
      "metadata": {
        "id": "7UEKcIr8G1T5",
        "colab": {
          "base_uri": "https://localhost:8080/"
        },
        "outputId": "48dc4763-ae97-4920-9e67-be4e53f9b0cd"
      },
      "execution_count": null,
      "outputs": [
        {
          "output_type": "stream",
          "name": "stdout",
          "text": [
            "합계는 :  378\n",
            "평균은 :  37.8\n"
          ]
        }
      ]
    },
    {
      "cell_type": "code",
      "source": [
        "# Task3_0425. 주어진 리스트에서 특정 요소가 등장하는 모든 인덱스를 리스트로 만들어 출력하세요.\n",
        "\n",
        "items = ['apple', 'banana', 'cherry', 'apple', 'cherry', 'apple']\n",
        "\n",
        "# target = 'apple' 특정요소\n",
        "\n",
        "target = []\n",
        "\n",
        "for i in range(len(items)):\n",
        "    # print(items[i], type(items[i]))\n",
        "    if items[i] == 'apple':\n",
        "        # print(i)\n",
        "        target.append(i)\n",
        "\n",
        "print(target)\n"
      ],
      "metadata": {
        "id": "BwS7sl_dIBev",
        "colab": {
          "base_uri": "https://localhost:8080/"
        },
        "outputId": "0c49116a-dec2-47d6-bb43-2bacfabaf3ab"
      },
      "execution_count": null,
      "outputs": [
        {
          "output_type": "stream",
          "name": "stdout",
          "text": [
            "[0, 3, 5]\n"
          ]
        }
      ]
    },
    {
      "cell_type": "code",
      "source": [
        "# Task4_0425. 주어진 리스트에서 연속해서 반복되는 요소만 제거하고, 결과 리스트를 반환하세요. 단, 처음 등장하는 요소는 유지해야 합니다.\n",
        "\n",
        "# 예를 들어, ['a', 'a', 'b', 'c', 'c', 'c', 'd', 'e', 'e']가 입력되면, ['a', 'b', 'c', 'd', 'e']를 출력해야 합니다.\n",
        "\n",
        "list4 = ['a', 'a', 'b', 'c', 'c', 'c', 'd', 'e', 'e']\n",
        "\n",
        "# # set은 중복값을 허용하지 않아 리스트를 set으로 변경\n",
        "# new_list4 = set(list4)\n",
        "# print(new_list4)\n",
        "# # 다시 리스트로 재변경\n",
        "# back_list4 = list(new_list4)\n",
        "# print(back_list4)\n",
        "# # 순서 재배열\n",
        "# print(sorted(back_list4))\n",
        "\n",
        "new_list4 = []\n",
        "overlap = []\n",
        "\n",
        "for i in list4:\n",
        "    # 없는 값 새로운 리스트에 넣기\n",
        "    if i not in new_list4:\n",
        "        new_list4.append(i)\n",
        "    else:\n",
        "    # 중복값 표시\n",
        "        overlap.append(i)\n",
        "\n",
        "print(new_list4)\n",
        "print(overlap)\n",
        "# print(list4)"
      ],
      "metadata": {
        "id": "v_n-dB3ZIDZl",
        "colab": {
          "base_uri": "https://localhost:8080/"
        },
        "outputId": "35114f72-d6ef-419f-db5d-e5f375c4516e"
      },
      "execution_count": 66,
      "outputs": [
        {
          "output_type": "stream",
          "name": "stdout",
          "text": [
            "['a', 'b', 'c', 'd', 'e']\n",
            "['a', 'c', 'c', 'e']\n"
          ]
        }
      ]
    },
    {
      "cell_type": "code",
      "source": [
        "# Task5_0425 주어진 정수 리스트와 회전 횟수 k에 대해 리스트를 오른쪽으로 k만큼 회전시킨 결과를 반환하세요. k가 리스트의 길이보다 클 수 있으며, 이 경우 k를 리스트 길이로 나눈 나머지만큼 실제 회전시키면 됩니다.\n",
        "\n",
        "# 예를 들어, [1, 2, 3, 4, 5]와 k=2가 주어지면, 결과는 [4, 5, 1, 2, 3]이 되어야 합니다.\n",
        "\n",
        "list5 = [1, 2, 3, 4, 5]\n",
        "# list5 = [3, 4, 5]\n",
        "# list5 = [1, 2, 3, 4, 5, 6, 7, 8]\n",
        "k = 2\n",
        "\n",
        "new_list5 = []\n",
        "\n",
        "\n",
        "# 회전 횟수가 리스트 길이를 넘었을 때\n",
        "if k > len(list5):\n",
        "    k = k % len(list5)\n",
        "\n",
        "for i in list5:\n",
        "    # 회전 횟수 만큼 i에서 뺀 숫자에서 시작하여 끝 결과를 맞춤\n",
        "    new_list5.append(i - k)\n",
        "    print(new_list5)\n",
        "\n",
        "# 그 후 k만큼 순회한 값을 나머지 값으로 차례대로 변환\n",
        "for j in range(k):\n",
        "    # 인덱스가 k = 1  /  k = 2      / k = 3    ... 뒤에서부터 차례대로 불러옴\n",
        "    # 인덱스가 j = 0  /  j = 0 ~ 1  / j = 0 ~ 2\n",
        "    new_list5[j] = list5[-k + j]\n",
        "\n",
        "\n",
        "print(new_list5)\n"
      ],
      "metadata": {
        "id": "p1e4B8CXIGDk",
        "colab": {
          "base_uri": "https://localhost:8080/"
        },
        "outputId": "437af0f6-f893-4355-cfff-335fa2d26373"
      },
      "execution_count": 114,
      "outputs": [
        {
          "output_type": "stream",
          "name": "stdout",
          "text": [
            "[-1]\n",
            "[-1, 0]\n",
            "[-1, 0, 1]\n",
            "[-1, 0, 1, 2]\n",
            "[-1, 0, 1, 2, 3]\n",
            "[4, 5, 1, 2, 3]\n"
          ]
        }
      ]
    }
  ]
}