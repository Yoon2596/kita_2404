{
  "nbformat": 4,
  "nbformat_minor": 0,
  "metadata": {
    "colab": {
      "provenance": [],
      "toc_visible": true,
      "authorship_tag": "ABX9TyPRhlC2un+TM9QQtiSQawfp",
      "include_colab_link": true
    },
    "kernelspec": {
      "name": "python3",
      "display_name": "Python 3"
    },
    "language_info": {
      "name": "python"
    }
  },
  "cells": [
    {
      "cell_type": "markdown",
      "metadata": {
        "id": "view-in-github",
        "colab_type": "text"
      },
      "source": [
        "<a href=\"https://colab.research.google.com/github/Yoon2596/kita_2404/blob/main/5_%ED%81%B4%EB%9E%98%EC%8A%A4.ipynb\" target=\"_parent\"><img src=\"https://colab.research.google.com/assets/colab-badge.svg\" alt=\"Open In Colab\"/></a>"
      ]
    },
    {
      "cell_type": "markdown",
      "source": [
        "#### 객체(object) 개념 정리 ( 신원/타입/속성/메소드/클래스/OOP)\n",
        "- 파이썬 프로그램에서 모든 데이터는 객체(object)라는 개념을 사용하여 저장됩니다.\n",
        "- 가장 기본이 되는 데이터 타입인 숫자, 문자열, 리스트, 사전은 다 객체입니다.\n",
        "- 클래스를 사용해서 사용자 정의 객체를 생성할 수도 있습니다.\n",
        "- 또한 프로그램의 구조와 인터프리터의 내부 동작과 관련된 객체들도 있습니다\n",
        "- 객체(object) : 프로그램에서 저장되는 모든 데이터는 객체입니다. 각 객체는 신원(identity), 타입(클래스라고도 함)과 값을 가집니다.\n",
        "  - 객체의 신원(identity) : 객체가 메모리에 저장된 위치를 가리키는 포인터\n",
        "  - 객체의 타입(클래스) : 객체의 내부적인 표현 형태와 객체가 지원하는 메서드 및 연산들을 설명, 특정 타입의 객체가 생성되면 그 객체를 그 타입의 인스턴스(instance)라고 부른다.\n",
        "  - 객체의 속성(attribute)와 메서드(method) : 속성(attribute)은 객체에 연결된 값이고 메서드(method)는 호출될 때 객체에 대해 특정 연산을 수행하는 함수\n",
        "  \n",
        "https://happy-obok.tistory.com/22"
      ],
      "metadata": {
        "id": "Jta0VfxnWH3v"
      }
    },
    {
      "cell_type": "markdown",
      "source": [
        "## 클래스\n",
        "\n",
        "클래스(class)란 똑같은 무엇인가를 계속해서 만들어 낼 수 있는 설계 도면이고(과자 틀),\n",
        "객체(object)란 클래스로 만든 피조물(과자 틀을 사용해 만든 과자)을 뜻한다.  \n",
        "과자 틀 → 클래스 (class)  \n",
        "과자 틀에 의해서 만들어진 과자 → 객체 (object)\n",
        "\n",
        "- class : 함수 + 변수 모아놓은 것\n",
        "- 오브젝트(object) : 클래스를 써서 만든 것\n",
        "- 오브젝트(object) == 인스턴스(instance)\n",
        "- 클래스를 정의한 후, 그 클래스를 사용해서 데이터 객체(인스턴스)를 만들 수 있다.\n",
        "- 동일한 클래스에 의해 만들어진 각 객체들은 유사한 특징을 공유한다.\n",
        "- 모든 인스턴스에서 메소드(=코드)는 동일하지만, 속성(데이터)는 다르다.\n",
        "  * 메소드 : 코드\n",
        "  * 속성 : 데이터\n",
        "  * 인스턴스 : 클래스에 의해 만들어진 데이터 객체\n",
        "  * a = 클래스() 이렇게 만든 a는 객체이다. 그리고 a 객체는 클래스의 인스턴스이다. 즉 인스턴스라는 말은 특정 객체(a)가 어떤 클래스의 객체인지를 관계 위주로 설명할 때 사용"
      ],
      "metadata": {
        "id": "6V2NzoqJWVM8"
      }
    },
    {
      "cell_type": "code",
      "execution_count": null,
      "metadata": {
        "colab": {
          "base_uri": "https://localhost:8080/"
        },
        "id": "gld3ZVs3WE43",
        "outputId": "81046287-d1e6-4c0b-ed18-6c915d1370bd"
      },
      "outputs": [
        {
          "output_type": "stream",
          "name": "stdout",
          "text": [
            "kita 과정입니다\n",
            "Kita\n"
          ]
        }
      ],
      "source": [
        "# 생성자(Constructor)란 객체가 생성될 떄  자동으로 호출되는 메서드를 의미\n",
        "# 파이썬 메서드 이름으로 __inti__를 사용하면 이 메서드는 생성자가 된다\n",
        "# 클래스 생성자(인자가 없는 경우)\n",
        "class Kita:\n",
        "    def __init__(self):\n",
        "        self.var = 'Kita'       # 인스턴스 멤버\n",
        "        print('kita 과정입니다')\n",
        "obj = Kita()\n",
        "print(obj.var)"
      ]
    },
    {
      "cell_type": "markdown",
      "source": [
        "#### self\n",
        "- Python에서 클래스 정의 시 self 키워드는 인스턴스 메서드의 첫 번째 매개변수로 사용\n",
        "- self의 사용법\n",
        "    - 클래스의 인스턴스 메서드를 정의할 때, 첫 번째 매개변수로 self를 사용\n",
        "    - self를 사용하여 인스턴스 속성에 접근하거나 설정\n",
        "    - self를 통해 같은 객체의 다른 메서드를 호출\n",
        "    - 클래스로부터 객체를 생성할 때, Python은 자동으로 self를 첫 번째 매개변수로 전달\n",
        "    - self는 객체의 속성과 메서드를 해당 객체에 속한 네임스페이스에 바인딩\n",
        "    - self는 해당 서브클래스의 인스턴스를 가리키며, 이를 통해 부모 클래스의 메서드와 속성에 접근"
      ],
      "metadata": {
        "id": "wjONH2xtcqYc"
      }
    },
    {
      "cell_type": "code",
      "source": [
        "# 인스턴스 메서드 정의\n",
        "class MyClass:\n",
        "    def method(self, arg1, arg2):\n",
        "        # 여기에서 self는 인스턴스 객체를 가리킵니다\n",
        "        # arg1과 arg2는 전달 된 인자입니다"
      ],
      "metadata": {
        "id": "sBcDgQv9cm34"
      },
      "execution_count": null,
      "outputs": []
    },
    {
      "cell_type": "code",
      "source": [
        "class MyClass:\n",
        "    def __init__(self, value):\n",
        "        self.instance_variable = value      # 인스턴스 변수 설정\n",
        "\n",
        "    def method(self):\n",
        "        return self.instance_variable       # 인스턴스 변수 접근"
      ],
      "metadata": {
        "id": "qcARxTSMdvYE"
      },
      "execution_count": null,
      "outputs": []
    },
    {
      "cell_type": "code",
      "source": [
        "# 객체 생성시 자동 사용\n",
        "obj = MyClass(20)\n",
        "# __init__메서드가 호출 되어 self는 여기서 obj입니다\n",
        "obj.method()"
      ],
      "metadata": {
        "colab": {
          "base_uri": "https://localhost:8080/"
        },
        "id": "anSrLWnjfe0t",
        "outputId": "3a80b698-d3a1-49d4-e7a3-8f022ecea209"
      },
      "execution_count": null,
      "outputs": [
        {
          "output_type": "execute_result",
          "data": {
            "text/plain": [
              "20"
            ]
          },
          "metadata": {},
          "execution_count": 4
        }
      ]
    },
    {
      "cell_type": "code",
      "source": [
        "# 클래스 생성자(인자가 있는 경우)\n",
        "class Kita:\n",
        "    def __init__(self, name, age, major):\n",
        "        self.name = name\n",
        "        self.age = age\n",
        "        self.major = major\n",
        "        print(f'{self.name}은 {self.age}세이며 {self.major}을 전공했습니다')\n",
        "\n",
        "a = Kita('홍길동', 25, 'computer')\n",
        "b = Kita('홀길순', 27, 'business')\n",
        "print(a.name)\n",
        "print(b.major)"
      ],
      "metadata": {
        "colab": {
          "base_uri": "https://localhost:8080/"
        },
        "id": "uPaynazTgHP2",
        "outputId": "ce9e76ff-c005-45db-f637-7e793eb01bb5"
      },
      "execution_count": null,
      "outputs": [
        {
          "output_type": "stream",
          "name": "stdout",
          "text": [
            "홍길동은 25세이며 computer을 전공했습니다\n",
            "홀길순은 27세이며 business을 전공했습니다\n",
            "홍길동\n",
            "business\n"
          ]
        }
      ]
    },
    {
      "cell_type": "markdown",
      "source": [
        "## 클래스를 구성하는 요소\n",
        "- 클래스 선언: class 키워드와 대문자로 시작하는 이름 사용.\n",
        "- 생성자: \\__init__ 메서드로 인스턴스 초기화, self를 첫 인자로 사용.\n",
        "- 속성(Attributes): self.변수명 형태의 인스턴스 변수로 각 객체의 상태 정의.\n",
        "- 메서드(Methods): 객체의 동작을 정의하는 함수, 첫 인자로 self를 사용.\n",
        "- 상속(Inheritance): 다른 클래스의 기능을 확장 또는 수정.\n",
        "- 인스턴스화: 클래스 이름에 괄호를 추가하여 객체 인스턴스 생성.\n",
        "- self: 메서드와 속성에서 객체 자신을 참조.\n",
        "- 클래스 변수: 클래스 내 정의되고 모든 인스턴스에 공유.\n",
        "- 인스턴스 변수: self로 접근, 각 인스턴스에 고유한 데이터 저장.\n",
        "- 매직 메서드(특수 메서드): __로 둘러싸인 메서드로 내장 연산/함수 커스터마이즈."
      ],
      "metadata": {
        "id": "GyivY3pTiDGi"
      }
    },
    {
      "cell_type": "code",
      "source": [
        "# 상속 : 기본 클래스 또는 부모 클래스\n",
        "class Animal:\n",
        "    def __init__(self, name):\n",
        "        self.name = name\n",
        "\n",
        "    def speak(self):\n",
        "        raise NotImplementedError(\"Subclass mush implement abstract method\")\n",
        "\n",
        "# 자식 클래스에서 Animal 클래스 상속\n",
        "class Dog(Animal):\n",
        "    def speak(self):\n",
        "        return(f'{self.name} says Woof!')\n",
        "\n",
        "class Cat(Animal):\n",
        "    def speak(self):\n",
        "        return(f'{self.name} says Meow!')"
      ],
      "metadata": {
        "id": "LI5nEYfVg8aT"
      },
      "execution_count": null,
      "outputs": []
    },
    {
      "cell_type": "code",
      "source": [
        "dog = Dog('Puppy')\n",
        "dog.speak()"
      ],
      "metadata": {
        "colab": {
          "base_uri": "https://localhost:8080/",
          "height": 35
        },
        "id": "4tFeor3dktf_",
        "outputId": "ea331fdb-48d7-4087-af80-72be6914664e"
      },
      "execution_count": null,
      "outputs": [
        {
          "output_type": "execute_result",
          "data": {
            "text/plain": [
              "'Puppy says Woof!'"
            ],
            "application/vnd.google.colaboratory.intrinsic+json": {
              "type": "string"
            }
          },
          "metadata": {},
          "execution_count": 11
        }
      ]
    },
    {
      "cell_type": "code",
      "source": [
        "cat = Cat('Kitty')\n",
        "cat.speak()"
      ],
      "metadata": {
        "colab": {
          "base_uri": "https://localhost:8080/",
          "height": 35
        },
        "id": "mLBK4Ox4l3dc",
        "outputId": "014e8888-2b64-42a1-8204-443d30c23abb"
      },
      "execution_count": null,
      "outputs": [
        {
          "output_type": "execute_result",
          "data": {
            "text/plain": [
              "'Kitty says Meow!'"
            ],
            "application/vnd.google.colaboratory.intrinsic+json": {
              "type": "string"
            }
          },
          "metadata": {},
          "execution_count": 12
        }
      ]
    },
    {
      "cell_type": "code",
      "source": [
        "# 클래스 변수 vs 인스턴스 변수\n",
        "# 클래스 변수 : 클래스의 모든 인스턴스에 공유되는 변수. 클래스 정의 내부에서 선언되고, 클래스 이름을 사용하여 접근\n",
        "class Car:\n",
        "    wheels = 4 # 클래스 변수\n",
        "\n",
        "    def __init__(self, brand, model):\n",
        "        self.brand = brand\n",
        "        self.model = model"
      ],
      "metadata": {
        "id": "st8tGpb0l5sv"
      },
      "execution_count": null,
      "outputs": []
    },
    {
      "cell_type": "markdown",
      "source": [
        "##매직 메서드(Magic Methods)\n",
        "- 파이썬에서 특별한 의미를 가지는 내장 메서드로, 더블 언더스코어(__)로 시작하고 끝나는 메서드 이름을 갖는다.\n",
        "- 파이썬의 데이터 모델을 구성하는 핵심적인 부분으로, 파이썬의 객체가 다양한 연산에서 어떻게 동작할지를 정의.\n",
        "- 사용자가 이러한 메서드를 직접 호출하기보다는, 파이썬의 내부적인 구조나 연산을 통해 자동으로 호출.\n",
        "\n",
        "[ 매직 메서드의 예 ]\n",
        "\n",
        "`__init__(self, [...])`: 객체가 생성될 때 초기화를 위해 호출. 생성자라고도 한다.\\\n",
        "`__str__(self)`: 객체를 인간이 읽을 수 있는 문자열 형태로 변환할 때 사용. print() 함수나 str() 내장 함수를 사용할 때 자동으로 호출.\\\n",
        "`__repr__(self)`: 객체의 공식적인 문자열 표현을 생성할 때 사용. 개발자가 이 객체를 어떻게 볼지를 정의. 보통 객체를 다시 해당 객체를 생성할 수 있는 코드 형태로 표현.\\\n",
        "`__eq__(self, other)`: 두 객체의 동등성을 비교할 때 사용 (== 연산자).\\\n",
        "`__add__(self, other)`: 두 객체를 더할 때 사용 (+ 연산자).\\\n",
        "`__len__(self)`: 객체의 길이를 반환할 때 사용, 예를 들어 len() 함수가 호출될 때 자동으로 이 메서드를 사용."
      ],
      "metadata": {
        "id": "rdu6MvV3nTS4"
      }
    },
    {
      "cell_type": "code",
      "source": [
        "# 매직 메서드\n",
        "# __str__ 메서드는 객체의 \"공식적인\" 문자열 표현을 제공하는 표준 방법\n",
        "# 이를 통해 print() 함수나 str() 함수와 같은 내장 함수에서 객체를 자동으로 문자열로 변환할 수 있다\n",
        "class Book:\n",
        "    def __init__(self, title, author):\n",
        "        self.title = title\n",
        "        self.author = author\n",
        "\n",
        "    def __str__(self):      # 객체를 문자열로 표현 할 때 사용\n",
        "        return f'{self.title} by {self.author}'\n",
        "\n",
        "obj = Book('삼국지', '나관중')\n",
        "obj.__str__()"
      ],
      "metadata": {
        "id": "RCEq3_j3nUCv",
        "colab": {
          "base_uri": "https://localhost:8080/",
          "height": 35
        },
        "outputId": "e66a1c3f-86df-4abb-ad27-07b7b512f0dd"
      },
      "execution_count": null,
      "outputs": [
        {
          "output_type": "execute_result",
          "data": {
            "text/plain": [
              "'삼국지 by 나관중'"
            ],
            "application/vnd.google.colaboratory.intrinsic+json": {
              "type": "string"
            }
          },
          "metadata": {},
          "execution_count": 2
        }
      ]
    },
    {
      "cell_type": "code",
      "source": [
        "class Book:\n",
        "    def __init__(self, title, author):\n",
        "        self.title = title\n",
        "        self.author = author\n",
        "\n",
        "    def describe(self):      # 객체를 문자열로 표현 할 때 사용\n",
        "        return f'{self.title} by {self.author}'\n",
        "\n",
        "obj = Book('삼국지', '나관중')\n",
        "# obj.__str__()\n",
        "print(obj)      # 작동 안항\n",
        "print(obj.describe())"
      ],
      "metadata": {
        "colab": {
          "base_uri": "https://localhost:8080/"
        },
        "id": "ZKI6h6ypgXtJ",
        "outputId": "940259a1-d009-4d5a-fa7d-9a6d19bea11c"
      },
      "execution_count": null,
      "outputs": [
        {
          "output_type": "stream",
          "name": "stdout",
          "text": [
            "<__main__.Book object at 0x7f584ecf4af0>\n",
            "삼국지 by 나관중\n"
          ]
        }
      ]
    },
    {
      "cell_type": "code",
      "source": [
        "\n",
        "from cryptography.fernet import Fernet\n",
        "import difflib\n",
        "\n",
        "class File:\n",
        "    def __init__(self, filename):\n",
        "        self.filename = filename\n",
        "\n",
        "class Encrypt(File):\n",
        "    def __init__(self, filename):\n",
        "        pass\n",
        "\n",
        "class Key(File):\n",
        "    def __init__(self, filename):\n",
        "        super().__init__(filename)\n",
        "        print(self.filename)\n",
        "\n",
        "class Decrypt(File):\n",
        "    def __init__(self, filename):\n",
        "        pass\n",
        "\n",
        "filename = 'test.txt'\n",
        "dataKey = Key(filename)\n",
        "print(dataKey)\n",
        "encryptedFile = Encrypt(filename)\n",
        "print(encryptedFile)\n",
        "decrypFile = Decrypt(filename)\n",
        "print(decrypFile)"
      ],
      "metadata": {
        "colab": {
          "base_uri": "https://localhost:8080/"
        },
        "id": "sWfUL690b3T7",
        "outputId": "aec52986-ce6d-47f3-96a5-c315e7275fc7"
      },
      "execution_count": null,
      "outputs": [
        {
          "output_type": "stream",
          "name": "stdout",
          "text": [
            "test.txt\n",
            "<__main__.Key object at 0x7f584e200ee0>\n",
            "<__main__.Encrypt object at 0x7f584e2002b0>\n",
            "<__main__.Decrypt object at 0x7f584e201420>\n"
          ]
        }
      ]
    },
    {
      "cell_type": "code",
      "source": [
        "# 클래스 변수는 모든 인스턴스에서 공유되며, 인스턴스 변수는 각 객체마다 독립적입니다.\n",
        "# 인스턴스 메서드는 해당 인스턴스의 데이터에 접근하고 조작 할 수있는 기능을 제공한다\n",
        "class MyClass:\n",
        "    var = '안녕하세요'  # 클래스 변수\n",
        "    def __init__(self): # 생성자는 객체 만들 때 자동으로 호출\n",
        "        self.name = 'kita'  # 지역변수, 인스턴스 변수\n",
        "        print(f'{self.name} 과정입니다')\n",
        "\n",
        "    def sayHello(self): # 인스턴스 메소드\n",
        "        return self.var\n",
        "\n",
        "# MyClass 클래스의 인스턴스인 obj를 생성. 이 과정에서 __init__ 생성자가 호출되고. 'kita 과정입니다.' 가 출력\n",
        "obj = MyClass()\n",
        "# obj 인스턴스를 통해 클래스 변수 var에 접근하여 그 값을 출력\n",
        "print(obj.var)\n",
        "# obj 인스턴스의 sayHello 메서드를 호출. 이 메서드는 클래스 변수 var를 반환하므로 결과적으로 '안녕하세요' 가 출력\n",
        "print(obj.sayHello())"
      ],
      "metadata": {
        "colab": {
          "base_uri": "https://localhost:8080/"
        },
        "id": "oe4-BkBLfSft",
        "outputId": "e8a77f61-dbdb-4879-9e6d-6ef2b6122124"
      },
      "execution_count": null,
      "outputs": [
        {
          "output_type": "stream",
          "name": "stdout",
          "text": [
            "kita 과정입니다\n",
            "안녕하세요\n",
            "안녕하세요\n"
          ]
        }
      ]
    },
    {
      "cell_type": "code",
      "source": [
        "class AutoEmail:\n",
        "    def __init__(self, name, time):\n",
        "        self.name = name\n",
        "        self.time = time\n",
        "\n",
        "    def send(self):\n",
        "        return f'안녕하세요 {self.name}님, 업무미팅은 {self.time}시 입니다'\n",
        "\n",
        "run1 = AutoEmail('Kevin', 2)\n",
        "run2 = AutoEmail('James', 5)\n",
        "\n",
        "print(run1.send())\n",
        "print(run2.send())"
      ],
      "metadata": {
        "colab": {
          "base_uri": "https://localhost:8080/"
        },
        "id": "pwfdTtiUi-gR",
        "outputId": "697bb715-1f1a-4720-ad59-5acefebd4351"
      },
      "execution_count": null,
      "outputs": [
        {
          "output_type": "stream",
          "name": "stdout",
          "text": [
            "안녕하세요 Kevin님, 업무미팅은 2시 입니다\n",
            "안녕하세요 James님, 업무미팅은 5시 입니다\n"
          ]
        }
      ]
    },
    {
      "cell_type": "code",
      "source": [
        "# Q. 기본가격 1000원인 2개의 상품에 대하여 임의의 추가 가격을 입력시 아래 두개의 방식으로 산출하세요.(class 이용)\n",
        "# - price1 : 기본가격 + 추가가격\n",
        "# - price2 : (기본가격 + 추가가격) * 90%\n",
        "\n",
        "\n",
        "class Product:\n",
        "    def __init__(self, name, price):\n",
        "        self.name = name\n",
        "        self.price = price\n",
        "\n",
        "    def price1(self):\n",
        "        return int(self.price + 1000)\n",
        "\n",
        "    def price2(self):\n",
        "        return int((self.price + 1000)* 0.9)\n",
        "\n",
        "p1 = Product('상품1', 1000)\n",
        "p2 = Product('상품2', 2000)\n",
        "\n",
        "print(p1.price1())\n",
        "print(p2.price2())\n",
        "\n",
        "\n",
        "# 강사님 버전\n",
        "class PlusPrice2:\n",
        "    def __init__(self, plus):\n",
        "        self.plus1 = plus + 1000\n",
        "        self.plus2 = 0.9 * (plus+1000)\n",
        "\n",
        "a = int(input('추가 가격을 입력 : '))\n",
        "result = PlusPrice2(a)\n",
        "print(result.plus1)\n",
        "print(result.plus2)\n",
        "print(f'- price1 : {result.plus1}\\n- price2 : {result.plus2 :.0f}')"
      ],
      "metadata": {
        "colab": {
          "base_uri": "https://localhost:8080/"
        },
        "id": "gscvnNQskOwe",
        "outputId": "e3269554-2155-413b-f715-5b68a6c239e7"
      },
      "execution_count": null,
      "outputs": [
        {
          "output_type": "stream",
          "name": "stdout",
          "text": [
            "2000\n",
            "2700\n",
            "추가 가격을 입력 : 2000\n",
            "3000\n",
            "2700.0\n",
            "- price1 : 3000\n",
            "- price2 : 2700\n"
          ]
        }
      ]
    },
    {
      "cell_type": "code",
      "source": [
        "# 메소드\n",
        "class Price:\n",
        "    p = int(input('추가 가격을 입력 : '))\n",
        "    # def setprice(self, p):\n",
        "    #     self.p = p\n",
        "    def sum(self):\n",
        "        b = 1000\n",
        "        b += self.p\n",
        "        return b\n",
        "    def discount(self):\n",
        "        b = 1000\n",
        "        b += self.p\n",
        "        b *= 0.9\n",
        "        return b\n",
        "\n",
        "price1 = Price()\n",
        "print(f'price1 : {price1.sum()}')\n",
        "price2 = Price()\n",
        "print(f'price2 : {price2.discount():.0f}')"
      ],
      "metadata": {
        "colab": {
          "base_uri": "https://localhost:8080/"
        },
        "id": "PoVlTp8plAT_",
        "outputId": "bc3360de-498e-46cb-f16a-a26dd24a4a5c"
      },
      "execution_count": null,
      "outputs": [
        {
          "output_type": "stream",
          "name": "stdout",
          "text": [
            "추가 가격을 입력 : 2000\n",
            "price1 : 3000\n",
            "price2 : 2700\n"
          ]
        }
      ]
    },
    {
      "cell_type": "markdown",
      "source": [
        "####오버라이딩(Overriding)\n",
        "- 부모 클래스에 정의된 메서드를 자식 클래스에서 재정의\n",
        "\n",
        "오버로딩(Overloading)\n",
        "- 오버로딩(Overloading)은 하나의 클래스 내에서 메서드 이름은 같지만 매개변수의 타입이나 개수가 다른 여러 메서드를 정의하는 것을 의미. 이를 통해 동일한 메서드 호출에 다양한 매개변수를 사용할 수 있다.\n",
        "- 파이썬은 기본적으로 오버로딩을 직접 지원하지 않지만,  기본값 인자(default arguments), 가변 인자(variable arguments), 키워드 인자(keyword arguments) 등을 사용하여 유사한 기능을 구현\n",
        "\n",
        "다형성(Polymorphism)\n",
        "- 서로 다른 클래스의 객체가 동일한 인터페이스를 공유할 수 있게 하는 개념\n",
        "-  다형성은 하나의 인터페이스가 다양한 형태의 객체에 적용될 수 있음을 의미\n",
        "- 예를 들어, 여러 동물 클래스가 모두 speak 메서드를 갖고 있을 때, 이 메서드는 각 동물에 맞게 다르게 구현"
      ],
      "metadata": {
        "id": "DNta1w9roS1X"
      }
    },
    {
      "cell_type": "code",
      "source": [
        "class Animal:\n",
        "    def speak(self):\n",
        "        return \"i'm an animal\"\n",
        "\n",
        "# 오버라이딩 : Dog와 Cat 클래스는 Animal 클래스의 speak 메서드를 오버라이딩\n",
        "class Dog(Animal):\n",
        "    def speak(self):\n",
        "        return \"Woof!\"\n",
        "\n",
        "class Cat(Animal):\n",
        "    def speak(self):\n",
        "        return \"Meow!\"\n",
        "\n",
        "dog = Dog()\n",
        "cat = Cat()\n",
        "\n",
        "a = Animal()\n",
        "print(a.speak())\n",
        "print(dog.speak())\n",
        "print(cat.speak())"
      ],
      "metadata": {
        "colab": {
          "base_uri": "https://localhost:8080/"
        },
        "id": "x4ZGZBaWoXvI",
        "outputId": "af2de910-8675-4e0c-d1e3-8aec1cb27ced"
      },
      "execution_count": null,
      "outputs": [
        {
          "output_type": "stream",
          "name": "stdout",
          "text": [
            "i'm an animal\n",
            "Woof!\n",
            "Meow!\n"
          ]
        }
      ]
    },
    {
      "cell_type": "code",
      "source": [
        "# 오버로딩 : 하나의 클래스 내에서 메서드 이름은 같지만 매개변수의 타입이나 개수가 다른 여러 메서드를 정의\n",
        "# 오버로딩 유사 구형 : Bird 클래스는 기본값 인자를 사용하여 오버로딩과 유사한 기능을 구형\n",
        "\n",
        "class Bird(Animal):\n",
        "    def speak(self, mood = 'happy'):\n",
        "        if mood == 'happy':\n",
        "            return \"Tweet!\"\n",
        "        else:\n",
        "            return \"Squawk!\"\n",
        "\n",
        "bird = Bird()\n",
        "# 오버로딩 유사 구현 사용\n",
        "print(bird.speak('angry'))"
      ],
      "metadata": {
        "colab": {
          "base_uri": "https://localhost:8080/"
        },
        "id": "rbI4QH88sCXt",
        "outputId": "2e566b62-b711-4673-b677-835d63b796f9"
      },
      "execution_count": null,
      "outputs": [
        {
          "output_type": "stream",
          "name": "stdout",
          "text": [
            "Squawk!\n"
          ]
        }
      ]
    },
    {
      "cell_type": "code",
      "source": [
        "# 다형성 : 하나의 인터페이스가 다양한 형태의 객체에 적용\n",
        "def animal_sound(animal):\n",
        "    print(animal.speak())\n",
        "\n",
        "# 다형성을 통한 메서드 호출\n",
        "animal_sound(dog)\n",
        "animal_sound(cat)\n",
        "animal_sound(bird)"
      ],
      "metadata": {
        "colab": {
          "base_uri": "https://localhost:8080/"
        },
        "id": "9ShyIzBtusxy",
        "outputId": "cba3c1a5-161f-4d1a-ddf8-d301fae362f5"
      },
      "execution_count": null,
      "outputs": [
        {
          "output_type": "stream",
          "name": "stdout",
          "text": [
            "Woof!\n",
            "Meow!\n",
            "Tweet!\n"
          ]
        }
      ]
    }
  ]
}